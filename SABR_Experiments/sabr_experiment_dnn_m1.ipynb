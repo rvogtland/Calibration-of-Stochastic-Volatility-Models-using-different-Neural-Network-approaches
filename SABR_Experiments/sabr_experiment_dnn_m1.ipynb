{
 "cells": [
  {
   "cell_type": "code",
   "execution_count": 111,
   "metadata": {},
   "outputs": [],
   "source": [
    "import pandas as pd\n",
    "import numpy as np\n",
    "import matplotlib.pyplot as plt\n",
    "import tensorflow as tf\n",
    "from tensorflow.contrib.layers import fully_connected\n",
    "from math import sqrt\n",
    "from scipy.stats import norm\n",
    "from scipy.stats import uniform\n",
    "import cmath #for complex numbers\n",
    "from scipy.integrate import quad #for numerical integration\n",
    "from sklearn.preprocessing import MinMaxScaler\n",
    "import scipy\n",
    "import time\n",
    "import multiprocessing\n",
    "from py_vollib.black_scholes.implied_volatility import implied_volatility"
   ]
  },
  {
   "cell_type": "markdown",
   "metadata": {},
   "source": [
    "## Define some Variables"
   ]
  },
  {
   "cell_type": "code",
   "execution_count": 120,
   "metadata": {},
   "outputs": [],
   "source": [
    "num_model_parameters = 3\n",
    "num_strikes = 8\n",
    "num_maturities = 8\n",
    "\n",
    "\n",
    "num_input_parameters = 3\n",
    "num_output_parameters = num_maturities*num_strikes\n",
    "learning_rate = 0.0001\n",
    "num_steps = 5\n",
    "batch_size = 10\n",
    "num_neurons = 40\n",
    "\n",
    "#initial values\n",
    "S0 = 1.0\n",
    "V0 = 0.3\n",
    "r = 0.01\n",
    "\n",
    "\n",
    "contract_bounds = np.array([[0.8*S0,1.2*S0],[5,10]]) #bounds for K,T\n",
    "model_bounds = np.array([[0.5,2],[0.2,0.8],[-1,0]]) #bounds for alpha,beta,rho, make sure alpha>0, beta,rho \\in [0,1]\n",
    "\n",
    "\"\"\"\n",
    "Note: The grid of stirkes and maturities is equidistant here put could be choosen differently for real world application.\n",
    "Note: For the code below to striktly follow the bounds specified above make sure that *_distance x num_* is less than half the distance from the highest to lowest * (* = strikes/maturities). \n",
    "\"\"\"\n",
    "maturities_distance = (contract_bounds[1,1]-contract_bounds[1,0])/(2*num_maturities) \n",
    "strikes_distance = (contract_bounds[0,1]-contract_bounds[0,0])/(2*num_strikes)\n",
    "\n",
    "strikes = np.linspace(contract_bounds[0,0],contract_bounds[0,0]+num_strikes*strikes_distance,num_strikes)\n",
    "maturities = np.linspace(contract_bounds[1,0],contract_bounds[1,0]+num_maturities*maturities_distance,num_maturities)"
   ]
  },
  {
   "cell_type": "code",
   "execution_count": 121,
   "metadata": {},
   "outputs": [],
   "source": [
    "X = tf.placeholder(tf.float32, [None, num_input_parameters])\n",
    "y = tf.placeholder(tf.float32, [None, num_output_parameters])"
   ]
  },
  {
   "cell_type": "markdown",
   "metadata": {},
   "source": [
    "## Some Helper Functions"
   ]
  },
  {
   "cell_type": "code",
   "execution_count": 129,
   "metadata": {},
   "outputs": [],
   "source": [
    "def corr_brownian_motion(n, T, dim, rho):\n",
    "    dt = T/n\n",
    "\n",
    "    dW1 = norm.rvs(size=(dim,n+1) , scale=sqrt(dt))\n",
    "    dW2 = rho * dW1 + np.sqrt(1 - np.power(rho ,2)) * norm.rvs(size=(dim,n+1) , scale=sqrt(dt))\n",
    "        \n",
    "    W1 = np.cumsum(dW1, axis=-1)\n",
    "    W2 = np.cumsum(dW2, axis=-1)\n",
    " \n",
    "    return W1,W2\n",
    "\n",
    "def euler_maruyama(mu,sigma,T,x0,W):\n",
    "    dim = W.shape[0]\n",
    "    n = W.shape[1]-1\n",
    "    Y = np.zeros((dim,n+1))\n",
    "    dt = T/n\n",
    "    sqrt_dt = np.sqrt(dt)\n",
    "    for l in range(dim):\n",
    "        Y[l,0] = x0\n",
    "        for i in range(n):\n",
    "            Y[l,i+1] = Y[l,i] + np.multiply(mu(Y[l,i],l,i),dt) + sigma(Y[l,i],l,i)*sqrt_dt*(W[l,i+1]-W[l,i])\n",
    "    \n",
    "    return Y\n",
    "\n",
    "def sabr(alpha,beta,T,W,Z,V0,S0):\n",
    "    \n",
    "    #assert(beta>0 and beta<1)\n",
    "\n",
    "    #def mu2(V,i,k):\n",
    "    #    return 0.0\n",
    "    \n",
    "    #def sigma2(V,i,k):\n",
    "    #    return np.multiply(alpha,V)\n",
    "    \n",
    "    #V = euler_maruyama(mu2,sigma2,T,V0,Z)\n",
    "    \n",
    "    def V(i,k):\n",
    "        n = W.shape[1]-1\n",
    "        t = k*T/n\n",
    "        return V0*np.exp(-alpha*alpha/2*t+alpha*Z[i,k])\n",
    "\n",
    "    def mu1(S,i,k):\n",
    "        return np.multiply(r,S)\n",
    "    \n",
    "    def sigma1(S,i,k):\n",
    "        return np.multiply(V(i,k),np.power(np.maximum(0.0,S),beta))\n",
    "    \n",
    "    S = euler_maruyama(mu1,sigma1,T,S0,W)\n",
    "    \n",
    "    return S,V\n",
    "\n",
    "def reverse_transform_X(X_scaled):\n",
    "    X = np.zeros(X_scaled.shape)\n",
    "    for i in range(num_input_parameters):\n",
    "        X[:,i] = X_scaled[:,i]*(model_bounds[i][1]-model_bounds[i][0]) + model_bounds[i][0]\n",
    "    return X\n",
    "\n",
    "def price_pred(alpha,beta,rho,n,dim,T,K,V0,S0):\n",
    "    W,Z = corr_brownian_motion(n,T,dim,rho)\n",
    "    S,V = sabr(alpha,beta,T,W,Z,V0,S0)\n",
    "    S_T = S[:,n]\n",
    "    P = np.exp(-r*T) * np.mean(np.maximum(S_T-K,np.zeros(dim)))\n",
    "    \n",
    "    return P\n",
    "\n",
    "def implied_vol(P,K,T):\n",
    "    if not P<S0:\n",
    "        print(\"P<S0= \",P<S0,\", abitrage!\")\n",
    "        return 0.0\n",
    "    if not P>S0-K*np.exp(-r*T):\n",
    "        print(\"P>S0-K*np.exp(-r*T)= \",P>S0-K*np.exp(-r*T),\", abitrage!\")\n",
    "        return 0.0\n",
    "    def f(sigma):\n",
    "        dplus = (np.log(S0 / K) + (r  + 0.5 * sigma ** 2) * T) / (sigma * np.sqrt(T))\n",
    "        dminus = (np.log(S0 / K) + (r  - 0.5 * sigma ** 2) * T) / (sigma * np.sqrt(T))\n",
    "        \n",
    "        return S0 * norm.cdf(dplus, 0.0, 1.0) - K * np.exp(-r * T) * norm.cdf(dminus, 0.0, 1.0) - P\n",
    "     \n",
    "    #return scipy.optimize.brentq(f, 0, 100000)\n",
    "    return implied_volatility(P, S0, K, T, r, 'c')\n",
    "\n",
    "def BS_call_price(sigma,K,T):\n",
    "    dplus = (np.log(S0 / K) + (r  + 0.5 * sigma ** 2) * T) / (sigma * np.sqrt(T))\n",
    "    dminus = (np.log(S0 / K) + (r  - 0.5 * sigma ** 2) * T) / (sigma * np.sqrt(T))\n",
    "\n",
    "    return S0 * norm.cdf(dplus, 0.0, 1.0) - K * np.exp(-r * T) * norm.cdf(dminus, 0.0, 1.0)\n",
    "\n",
    "\n",
    "def next_batch_sabr_EM_train(batch_size,contract_bounds,model_bounds):\n",
    "    X_scaled = np.zeros((batch_size,num_input_parameters))\n",
    "    y = np.zeros((batch_size,num_output_parameters))\n",
    "\n",
    "    X_scaled[:,0] = uniform.rvs(size=batch_size) #alpha\n",
    "    X_scaled[:,1] = uniform.rvs(size=batch_size) #beta\n",
    "    X_scaled[:,2] = uniform.rvs(size=batch_size) #rho\n",
    "\n",
    "    X = reverse_transform_X(X_scaled)\n",
    "\n",
    "    n = 100\n",
    "    dim = 10000\n",
    "    for i in range(batch_size):\n",
    "        W,Z = corr_brownian_motion(n,maturities[-1],dim,X[i,2])\n",
    "        S,V = sabr(X[i,0],X[i,1],maturities[-1],W,Z,V0,S0)\n",
    "        \n",
    "        for j in range(num_maturities):\n",
    "            n_current = int(maturities[j]/maturities[-1]*n)\n",
    "            S_T = S[:,n_current]\n",
    "            \n",
    "            for k in range(num_strikes):\n",
    "                P = np.mean(np.maximum(S_T-np.ones(dim)*strikes[k],np.zeros(dim)))*np.exp(-r*maturities[j])\n",
    "                \n",
    "                y[i,j*num_strikes+k] = implied_vol(P,strikes[k],maturities[j])\n",
    "\n",
    "                #y[i,j*num_strikes+k] = np.exp(-r*maturities[j])*np.mean(np.maximum(S_T-np.ones(dim)*strikes[k],np.zeros(dim)))\n",
    "    return X_scaled,y"
   ]
  },
  {
   "cell_type": "code",
   "execution_count": 131,
   "metadata": {
    "tags": []
   },
   "outputs": [
    {
     "output_type": "execute_result",
     "data": {
      "text/plain": "(array([[0.6687964 , 0.79266535, 0.07636311]]),\n array([[0.13831904, 0.12921636, 0.12016338, 0.11117405, 0.10218903,\n         0.09312564, 0.08393111, 0.07456378, 0.13581617, 0.12698094,\n         0.11819081, 0.1094692 , 0.10075326, 0.09199276, 0.0830972 ,\n         0.07403483, 0.13340194, 0.12479445, 0.11626504, 0.10778217,\n         0.09931556, 0.09077405, 0.08216723, 0.0733825 , 0.12973984,\n         0.1214818 , 0.11329847, 0.10512541, 0.09697519, 0.08876675,\n         0.08048133, 0.0720281 , 0.12756414, 0.11952226, 0.11154777,\n         0.10359582, 0.0956689 , 0.0876914 , 0.07963259, 0.07144782,\n         0.12549428, 0.11767417, 0.10992945, 0.10220015, 0.09448043,\n         0.08671882, 0.07887681, 0.07091807, 0.12362306, 0.1159778 ,\n         0.10840619, 0.10087603, 0.09336198, 0.08580192, 0.07816421,\n         0.07040782, 0.12198394, 0.11451515, 0.10710859, 0.09972577,\n         0.09237502, 0.08500692, 0.07756773, 0.07000509]]))"
     },
     "metadata": {},
     "execution_count": 131
    }
   ],
   "source": [
    "next_batch_sabr_EM_train(1,contract_bounds,model_bounds)"
   ]
  },
  {
   "cell_type": "code",
   "execution_count": 94,
   "metadata": {
    "tags": []
   },
   "outputs": [
    {
     "output_type": "stream",
     "name": "stdout",
     "text": "0.44996812403170117\n0.5\n"
    }
   ],
   "source": [
    "sigmaa = implied_vol(0.5,0.6,3)\n",
    "print(sigmaa)\n",
    "prizz = BS_call_price(sigmaa,0.6,3)\n",
    "print(prizz)"
   ]
  },
  {
   "cell_type": "markdown",
   "metadata": {},
   "source": [
    "## Design of the NN"
   ]
  },
  {
   "cell_type": "code",
   "execution_count": 6,
   "metadata": {
    "tags": []
   },
   "outputs": [
    {
     "output_type": "stream",
     "name": "stdout",
     "text": "WARNING:tensorflow:From /Users/robinvogtland/opt/anaconda3/lib/python3.7/site-packages/tensorflow_core/contrib/layers/python/layers/layers.py:1866: Layer.apply (from tensorflow.python.keras.engine.base_layer) is deprecated and will be removed in a future version.\nInstructions for updating:\nPlease use `layer.__call__` method instead.\n"
    }
   ],
   "source": [
    "#Layers\n",
    "hidden1 = fully_connected(X, num_neurons, activation_fn=tf.nn.elu)\n",
    "bn1 = tf.nn.batch_normalization(hidden1, 0, 1, 0, 1, 0.000001)\n",
    "hidden2 = fully_connected(bn1, num_neurons, activation_fn=tf.nn.elu)\n",
    "bn2 = tf.nn.batch_normalization(hidden2, 0, 1, 0, 1, 0.000001)\n",
    "hidden3 = fully_connected(bn2, num_neurons, activation_fn=tf.nn.elu)\n",
    "bn3 = tf.nn.batch_normalization(hidden3, 0, 1, 0, 1, 0.000001)\n",
    "hidden4 = fully_connected(hidden3, num_neurons, activation_fn=tf.nn.elu)\n",
    "bn4 = tf.nn.batch_normalization(hidden4, 0, 1, 0, 1, 0.000001)\n",
    "\n",
    "outputs = fully_connected(bn4, num_output_parameters, activation_fn=None)"
   ]
  },
  {
   "cell_type": "code",
   "execution_count": 7,
   "metadata": {},
   "outputs": [],
   "source": [
    "#Loss Function\n",
    "loss = tf.reduce_mean(tf.sqrt(tf.square(outputs - y)))  # MSE\n",
    "\n",
    "#Optimizer\n",
    "optimizer = tf.train.AdamOptimizer(learning_rate)\n",
    "train = optimizer.minimize(loss)\n",
    "\n",
    "init = tf.global_variables_initializer()\n",
    "\n",
    "saver = tf.train.Saver()"
   ]
  },
  {
   "cell_type": "code",
   "execution_count": 383,
   "metadata": {
    "tags": []
   },
   "outputs": [
    {
     "output_type": "error",
     "ename": "KeyboardInterrupt",
     "evalue": "",
     "traceback": [
      "\u001b[0;31m---------------------------------------------------------------------------\u001b[0m",
      "\u001b[0;31mKeyboardInterrupt\u001b[0m                         Traceback (most recent call last)",
      "\u001b[0;32m<ipython-input-383-eeed819e8cd2>\u001b[0m in \u001b[0;36m<module>\u001b[0;34m\u001b[0m\n\u001b[1;32m     10\u001b[0m     \u001b[0;32mfor\u001b[0m \u001b[0miteration\u001b[0m \u001b[0;32min\u001b[0m \u001b[0mrange\u001b[0m\u001b[0;34m(\u001b[0m\u001b[0mnum_steps\u001b[0m\u001b[0;34m)\u001b[0m\u001b[0;34m:\u001b[0m\u001b[0;34m\u001b[0m\u001b[0;34m\u001b[0m\u001b[0m\n\u001b[1;32m     11\u001b[0m \u001b[0;34m\u001b[0m\u001b[0m\n\u001b[0;32m---> 12\u001b[0;31m         \u001b[0mX_batch\u001b[0m\u001b[0;34m,\u001b[0m\u001b[0mY_batch\u001b[0m \u001b[0;34m=\u001b[0m \u001b[0mnext_batch_sabr_EM_train\u001b[0m\u001b[0;34m(\u001b[0m\u001b[0mbatch_size\u001b[0m\u001b[0;34m,\u001b[0m\u001b[0mcontract_bounds\u001b[0m\u001b[0;34m,\u001b[0m\u001b[0mmodel_bounds\u001b[0m\u001b[0;34m)\u001b[0m\u001b[0;34m\u001b[0m\u001b[0;34m\u001b[0m\u001b[0m\n\u001b[0m\u001b[1;32m     13\u001b[0m         \u001b[0msess\u001b[0m\u001b[0;34m.\u001b[0m\u001b[0mrun\u001b[0m\u001b[0;34m(\u001b[0m\u001b[0mtrain\u001b[0m\u001b[0;34m,\u001b[0m\u001b[0mfeed_dict\u001b[0m\u001b[0;34m=\u001b[0m\u001b[0;34m{\u001b[0m\u001b[0mX\u001b[0m\u001b[0;34m:\u001b[0m \u001b[0mX_batch\u001b[0m\u001b[0;34m,\u001b[0m \u001b[0my\u001b[0m\u001b[0;34m:\u001b[0m \u001b[0mY_batch\u001b[0m\u001b[0;34m}\u001b[0m\u001b[0;34m)\u001b[0m\u001b[0;34m\u001b[0m\u001b[0;34m\u001b[0m\u001b[0m\n\u001b[1;32m     14\u001b[0m \u001b[0;34m\u001b[0m\u001b[0m\n",
      "\u001b[0;32m<ipython-input-379-1cda1e16588e>\u001b[0m in \u001b[0;36mnext_batch_sabr_EM_train\u001b[0;34m(batch_size, contract_bounds, model_bounds)\u001b[0m\n\u001b[1;32m     89\u001b[0m     \u001b[0;32mfor\u001b[0m \u001b[0mi\u001b[0m \u001b[0;32min\u001b[0m \u001b[0mrange\u001b[0m\u001b[0;34m(\u001b[0m\u001b[0mbatch_size\u001b[0m\u001b[0;34m)\u001b[0m\u001b[0;34m:\u001b[0m\u001b[0;34m\u001b[0m\u001b[0;34m\u001b[0m\u001b[0m\n\u001b[1;32m     90\u001b[0m         \u001b[0mW\u001b[0m\u001b[0;34m,\u001b[0m\u001b[0mZ\u001b[0m \u001b[0;34m=\u001b[0m \u001b[0mcorr_brownian_motion\u001b[0m\u001b[0;34m(\u001b[0m\u001b[0mn\u001b[0m\u001b[0;34m,\u001b[0m\u001b[0mmaturities\u001b[0m\u001b[0;34m[\u001b[0m\u001b[0;34m-\u001b[0m\u001b[0;36m1\u001b[0m\u001b[0;34m]\u001b[0m\u001b[0;34m,\u001b[0m\u001b[0mdim\u001b[0m\u001b[0;34m,\u001b[0m\u001b[0mX\u001b[0m\u001b[0;34m[\u001b[0m\u001b[0mi\u001b[0m\u001b[0;34m,\u001b[0m\u001b[0;36m2\u001b[0m\u001b[0;34m]\u001b[0m\u001b[0;34m)\u001b[0m\u001b[0;34m\u001b[0m\u001b[0;34m\u001b[0m\u001b[0m\n\u001b[0;32m---> 91\u001b[0;31m         \u001b[0mS\u001b[0m\u001b[0;34m,\u001b[0m\u001b[0mV\u001b[0m \u001b[0;34m=\u001b[0m \u001b[0msabr\u001b[0m\u001b[0;34m(\u001b[0m\u001b[0mX\u001b[0m\u001b[0;34m[\u001b[0m\u001b[0mi\u001b[0m\u001b[0;34m,\u001b[0m\u001b[0;36m0\u001b[0m\u001b[0;34m]\u001b[0m\u001b[0;34m,\u001b[0m\u001b[0mX\u001b[0m\u001b[0;34m[\u001b[0m\u001b[0mi\u001b[0m\u001b[0;34m,\u001b[0m\u001b[0;36m1\u001b[0m\u001b[0;34m]\u001b[0m\u001b[0;34m,\u001b[0m\u001b[0mmaturities\u001b[0m\u001b[0;34m[\u001b[0m\u001b[0;34m-\u001b[0m\u001b[0;36m1\u001b[0m\u001b[0;34m]\u001b[0m\u001b[0;34m,\u001b[0m\u001b[0mW\u001b[0m\u001b[0;34m,\u001b[0m\u001b[0mZ\u001b[0m\u001b[0;34m,\u001b[0m\u001b[0mV0\u001b[0m\u001b[0;34m,\u001b[0m\u001b[0mS0\u001b[0m\u001b[0;34m)\u001b[0m\u001b[0;34m\u001b[0m\u001b[0;34m\u001b[0m\u001b[0m\n\u001b[0m\u001b[1;32m     92\u001b[0m \u001b[0;34m\u001b[0m\u001b[0m\n\u001b[1;32m     93\u001b[0m         \u001b[0;32mfor\u001b[0m \u001b[0mj\u001b[0m \u001b[0;32min\u001b[0m \u001b[0mrange\u001b[0m\u001b[0;34m(\u001b[0m\u001b[0mnum_maturities\u001b[0m\u001b[0;34m)\u001b[0m\u001b[0;34m:\u001b[0m\u001b[0;34m\u001b[0m\u001b[0;34m\u001b[0m\u001b[0m\n",
      "\u001b[0;32m<ipython-input-379-1cda1e16588e>\u001b[0m in \u001b[0;36msabr\u001b[0;34m(alpha, beta, T, W, Z, V0, S0)\u001b[0m\n\u001b[1;32m     33\u001b[0m         \u001b[0;32mreturn\u001b[0m \u001b[0mnp\u001b[0m\u001b[0;34m.\u001b[0m\u001b[0mmultiply\u001b[0m\u001b[0;34m(\u001b[0m\u001b[0malpha\u001b[0m\u001b[0;34m,\u001b[0m\u001b[0mV\u001b[0m\u001b[0;34m)\u001b[0m\u001b[0;34m\u001b[0m\u001b[0;34m\u001b[0m\u001b[0m\n\u001b[1;32m     34\u001b[0m \u001b[0;34m\u001b[0m\u001b[0m\n\u001b[0;32m---> 35\u001b[0;31m     \u001b[0mV\u001b[0m \u001b[0;34m=\u001b[0m \u001b[0meuler_maruyama\u001b[0m\u001b[0;34m(\u001b[0m\u001b[0mmu2\u001b[0m\u001b[0;34m,\u001b[0m\u001b[0msigma2\u001b[0m\u001b[0;34m,\u001b[0m\u001b[0mT\u001b[0m\u001b[0;34m,\u001b[0m\u001b[0mV0\u001b[0m\u001b[0;34m,\u001b[0m\u001b[0mZ\u001b[0m\u001b[0;34m)\u001b[0m\u001b[0;34m\u001b[0m\u001b[0;34m\u001b[0m\u001b[0m\n\u001b[0m\u001b[1;32m     36\u001b[0m \u001b[0;34m\u001b[0m\u001b[0m\n\u001b[1;32m     37\u001b[0m     \u001b[0;32mdef\u001b[0m \u001b[0mmu1\u001b[0m\u001b[0;34m(\u001b[0m\u001b[0mS\u001b[0m\u001b[0;34m,\u001b[0m\u001b[0mi\u001b[0m\u001b[0;34m,\u001b[0m\u001b[0mk\u001b[0m\u001b[0;34m)\u001b[0m\u001b[0;34m:\u001b[0m\u001b[0;34m\u001b[0m\u001b[0;34m\u001b[0m\u001b[0m\n",
      "\u001b[0;32m<ipython-input-379-1cda1e16588e>\u001b[0m in \u001b[0;36meuler_maruyama\u001b[0;34m(mu, sigma, T, x0, W)\u001b[0m\n\u001b[1;32m     19\u001b[0m         \u001b[0mY\u001b[0m\u001b[0;34m[\u001b[0m\u001b[0ml\u001b[0m\u001b[0;34m,\u001b[0m\u001b[0;36m0\u001b[0m\u001b[0;34m]\u001b[0m \u001b[0;34m=\u001b[0m \u001b[0mx0\u001b[0m\u001b[0;34m\u001b[0m\u001b[0;34m\u001b[0m\u001b[0m\n\u001b[1;32m     20\u001b[0m         \u001b[0;32mfor\u001b[0m \u001b[0mi\u001b[0m \u001b[0;32min\u001b[0m \u001b[0mrange\u001b[0m\u001b[0;34m(\u001b[0m\u001b[0mn\u001b[0m\u001b[0;34m)\u001b[0m\u001b[0;34m:\u001b[0m\u001b[0;34m\u001b[0m\u001b[0;34m\u001b[0m\u001b[0m\n\u001b[0;32m---> 21\u001b[0;31m             \u001b[0mY\u001b[0m\u001b[0;34m[\u001b[0m\u001b[0ml\u001b[0m\u001b[0;34m,\u001b[0m\u001b[0mi\u001b[0m\u001b[0;34m+\u001b[0m\u001b[0;36m1\u001b[0m\u001b[0;34m]\u001b[0m \u001b[0;34m=\u001b[0m \u001b[0mY\u001b[0m\u001b[0;34m[\u001b[0m\u001b[0ml\u001b[0m\u001b[0;34m,\u001b[0m\u001b[0mi\u001b[0m\u001b[0;34m]\u001b[0m \u001b[0;34m+\u001b[0m \u001b[0mnp\u001b[0m\u001b[0;34m.\u001b[0m\u001b[0mmultiply\u001b[0m\u001b[0;34m(\u001b[0m\u001b[0mmu\u001b[0m\u001b[0;34m(\u001b[0m\u001b[0mY\u001b[0m\u001b[0;34m[\u001b[0m\u001b[0ml\u001b[0m\u001b[0;34m,\u001b[0m\u001b[0mi\u001b[0m\u001b[0;34m]\u001b[0m\u001b[0;34m,\u001b[0m\u001b[0ml\u001b[0m\u001b[0;34m,\u001b[0m\u001b[0mi\u001b[0m\u001b[0;34m)\u001b[0m\u001b[0;34m,\u001b[0m\u001b[0mdt\u001b[0m\u001b[0;34m)\u001b[0m \u001b[0;34m+\u001b[0m \u001b[0msigma\u001b[0m\u001b[0;34m(\u001b[0m\u001b[0mY\u001b[0m\u001b[0;34m[\u001b[0m\u001b[0ml\u001b[0m\u001b[0;34m,\u001b[0m\u001b[0mi\u001b[0m\u001b[0;34m]\u001b[0m\u001b[0;34m,\u001b[0m\u001b[0ml\u001b[0m\u001b[0;34m,\u001b[0m\u001b[0mi\u001b[0m\u001b[0;34m)\u001b[0m\u001b[0;34m*\u001b[0m\u001b[0msqrt_dt\u001b[0m\u001b[0;34m*\u001b[0m\u001b[0;34m(\u001b[0m\u001b[0mW\u001b[0m\u001b[0;34m[\u001b[0m\u001b[0ml\u001b[0m\u001b[0;34m,\u001b[0m\u001b[0mi\u001b[0m\u001b[0;34m+\u001b[0m\u001b[0;36m1\u001b[0m\u001b[0;34m]\u001b[0m\u001b[0;34m-\u001b[0m\u001b[0mW\u001b[0m\u001b[0;34m[\u001b[0m\u001b[0ml\u001b[0m\u001b[0;34m,\u001b[0m\u001b[0mi\u001b[0m\u001b[0;34m]\u001b[0m\u001b[0;34m)\u001b[0m\u001b[0;34m\u001b[0m\u001b[0;34m\u001b[0m\u001b[0m\n\u001b[0m\u001b[1;32m     22\u001b[0m \u001b[0;34m\u001b[0m\u001b[0m\n\u001b[1;32m     23\u001b[0m     \u001b[0;32mreturn\u001b[0m \u001b[0mY\u001b[0m\u001b[0;34m\u001b[0m\u001b[0;34m\u001b[0m\u001b[0m\n",
      "\u001b[0;31mKeyboardInterrupt\u001b[0m: "
     ]
    }
   ],
   "source": [
    "num_cpu = multiprocessing.cpu_count()\n",
    "config = tf.ConfigProto(device_count={ \"CPU\": num_cpu },\n",
    "                                        inter_op_parallelism_threads=num_cpu,\n",
    "                                        intra_op_parallelism_threads=2,\n",
    "                                        )\n",
    "\n",
    "with tf.Session(config=config) as sess:\n",
    "    sess.run(init)\n",
    "    \n",
    "    for iteration in range(num_steps):\n",
    "        \n",
    "        X_batch,Y_batch = next_batch_sabr_EM_train(batch_size,contract_bounds,model_bounds)\n",
    "        sess.run(train,feed_dict={X: X_batch, y: Y_batch})\n",
    "        \n",
    "        if iteration % 1 == 0:\n",
    "            \n",
    "            rmse = loss.eval(feed_dict={X: X_batch, y: Y_batch})\n",
    "            print(iteration, \"\\tRMSE:\", rmse)\n",
    "    \n",
    "    saver.save(sess, \"./models/sabr_dnn\")"
   ]
  },
  {
   "cell_type": "markdown",
   "metadata": {},
   "source": [
    "## More Helper Functions\n",
    "### Note: You can choose which trained weights to use below"
   ]
  },
  {
   "cell_type": "code",
   "execution_count": 11,
   "metadata": {},
   "outputs": [],
   "source": [
    "def prices_grid(theta):\n",
    "    prices_true = np.zeros((1,num_output_parameters))\n",
    "    n = 100\n",
    "    dim = 10000\n",
    "    W,Z = corr_brownian_motion(n,maturities[-1],dim,theta[2])\n",
    "    S,V = sabr(theta[0],theta[1],maturities[-1],W,Z,V0,S0)\n",
    "    \n",
    "    for i in range(num_maturities):\n",
    "        n_current = int(maturities[i]/maturities[-1]*n)\n",
    "        S_T = S[:,n_current]\n",
    "        for j in range(num_strikes):        \n",
    "            prices_true[0,i*num_strikes+j] = np.exp(-r*maturities[i])*np.mean(np.maximum(S_T-np.ones(dim)*strikes[j],np.zeros(dim)))\n",
    "    return prices_true"
   ]
  },
  {
   "cell_type": "code",
   "execution_count": 123,
   "metadata": {},
   "outputs": [],
   "source": [
    "def predict_theta(prices_true):   \n",
    "    \n",
    "    def NNprediction(theta):\n",
    "        x = np.zeros((1,len(theta)))\n",
    "        x[0,:] = theta\n",
    "        return sess.run(outputs,feed_dict={X: x})\n",
    "    def NNgradientpred(x):\n",
    "        x = np.asarray(x)\n",
    "        grad = np.zeros((num_output_parameters,num_input_parameters))\n",
    "        \n",
    "        delta = 0.0000000001\n",
    "        for i in range(num_input_parameters):\n",
    "            h = np.zeros(x.shape)\n",
    "            h[0,i] = delta\n",
    "            \n",
    "            #two point gradient\n",
    "            #grad[i] = (sess.run(outputs,feed_dict={X: x+h}) - sess.run(outputs,feed_dict={X: x-h}))/2/delta\n",
    "\n",
    "            #four point gradient\n",
    "            grad[:,i] = (-sess.run(outputs,feed_dict={X: x+2*h})+8*sess.run(outputs,feed_dict={X: x+h})-8*sess.run(outputs,feed_dict={X: x-h}) +sess.run(outputs,feed_dict={X: x-2*h}))/12/delta\n",
    "\n",
    "        return np.mean(grad,axis=0)\n",
    "\n",
    "    def CostFuncLS(theta):\n",
    "        \n",
    "        return np.sqrt(np.mean(np.power((NNprediction(theta)-prices_true.flatten())[0],2),axis=0))\n",
    "\n",
    "\n",
    "    def JacobianLS(theta):\n",
    "        x = np.zeros((1,len(theta)))\n",
    "        x[0,:] = theta\n",
    "        return NNgradientpred(x).T\n",
    "\n",
    "    with tf.Session() as sess:                          \n",
    "        saver.restore(sess, \"./models/sabr_dnn\")  \n",
    "        #saver.restore(sess, \"./models/sabr_dnn_e\")    \n",
    "        \n",
    "        init = [model_bounds[0,0]+uniform.rvs()*(model_bounds[0,1]-model_bounds[0,0]),model_bounds[1,0]+uniform.rvs()*(model_bounds[1,1]-model_bounds[1,0]),model_bounds[2,0]+uniform.rvs()*(model_bounds[2,1]-model_bounds[2,0])]\n",
    "        bnds = ([model_bounds[0,0],model_bounds[1,0],model_bounds[2,0]],[model_bounds[0,1],model_bounds[1,1],model_bounds[2,1]])\n",
    "\n",
    "        \n",
    "        I=scipy.optimize.least_squares(CostFuncLS,init,JacobianLS,bounds=bnds,gtol=1E-15,tr_solver='exact',xtol=1E-15,ftol=1E-15,verbose=1)\n",
    "\n",
    "    theta_pred = I.x\n",
    "  \n",
    "    return theta_pred"
   ]
  },
  {
   "cell_type": "markdown",
   "metadata": {},
   "source": [
    "## Predict and Plot for one specific theta_true"
   ]
  },
  {
   "cell_type": "code",
   "execution_count": 9,
   "metadata": {},
   "outputs": [],
   "source": [
    "theta_true = [0.1,0.5,-0.5]\n",
    "prices_true = prices_grid(theta_true)"
   ]
  },
  {
   "cell_type": "code",
   "execution_count": 127,
   "metadata": {
    "tags": []
   },
   "outputs": [
    {
     "output_type": "stream",
     "name": "stdout",
     "text": "INFO:tensorflow:Restoring parameters from ./models/sabr_dnn\n`xtol` termination condition is satisfied.\nFunction evaluations 27, initial cost 4.0584e-03, final cost 4.0584e-03, first-order optimality 1.99e-02.\n"
    }
   ],
   "source": [
    "theta_pred = predict_theta(prices_true)"
   ]
  },
  {
   "cell_type": "code",
   "execution_count": 120,
   "metadata": {
    "tags": []
   },
   "outputs": [
    {
     "output_type": "stream",
     "name": "stdout",
     "text": "[0.1, 0.5, -0.5]\n[ 0.03558846  0.19237739 -0.89294346]\n"
    }
   ],
   "source": [
    "print(theta_true)\n",
    "print(theta_pred)"
   ]
  },
  {
   "cell_type": "code",
   "execution_count": null,
   "metadata": {},
   "outputs": [],
   "source": []
  },
  {
   "cell_type": "code",
   "execution_count": null,
   "metadata": {},
   "outputs": [],
   "source": [
    "prices_true = np.zeros((num_maturities,num_strikes))\n",
    "prices_pred = np.zeros((num_maturities,num_strikes))\n",
    "init = [model_bounds[0,0]+uniform.rvs()*(model_bounds[0,1]-model_bounds[0,0]),model_bounds[1,0]+uniform.rvs()*(model_bounds[1,1]-model_bounds[1,0]),model_bounds[2,0]+uniform.rvs()*(model_bounds[2,1]-model_bounds[2,0])]\n",
    "prices_trash = np.zeros((num_maturities,num_strikes))\n",
    "n = 100\n",
    "dim = 300\n",
    "for i in range(num_maturities):\n",
    "    for j in range(num_strikes):        \n",
    "        prices_true[i,j] = price_pred(theta_true[0],theta_true[1],theta_true[2],n,dim,maturities[i],strikes[j],V0,S0)\n",
    "        prices_pred[i,j] = price_pred(theta_pred[0],theta_pred[1],theta_pred[2],n,dim,maturities[i],strikes[j],V0,S0)\n",
    "        prices_trash[i,j] = price_pred(init[0],init[1],init[2],n,dim,maturities[i],strikes[j],V0,S0)"
   ]
  },
  {
   "cell_type": "code",
   "execution_count": null,
   "metadata": {},
   "outputs": [],
   "source": [
    "from mpl_toolkits.mplot3d import Axes3D\n",
    "from matplotlib import cm\n",
    "from matplotlib.ticker import LinearLocator, FormatStrFormatter\n",
    "import matplotlib.pyplot as plt\n",
    "import matplotlib.ticker as mtick\n",
    "\n",
    "fig = plt.figure(figsize=(20, 9))\n",
    "\n",
    "T_ = np.zeros((num_maturities,num_strikes))\n",
    "K_ = np.zeros((num_maturities,num_strikes))\n",
    "for i in range(num_strikes):\n",
    "    for j in range(num_maturities):\n",
    "        T_[j,i] = maturities[j]\n",
    "for j in range(num_maturities):   \n",
    "    for i in range(num_strikes):\n",
    "        K_[j,i] = strikes[i]\n",
    "\n",
    "ax1 = fig.add_subplot(131, projection='3d')\n",
    "ax1.plot_surface(X=K_, Y=T_, Z=prices_true, rstride=1, cstride=1, cmap='viridis', edgecolor='none')\n",
    "ax1.zaxis.set_major_locator(LinearLocator(10))\n",
    "ax1.zaxis.set_major_formatter(FormatStrFormatter('%.02f'))\n",
    "ax1.set_xlabel('Strike')\n",
    "ax1.set_ylabel('Maturity')\n",
    "ax1.set_zlabel('Price')\n",
    "ax1.set_title('True Prices')\n",
    "ax1.view_init(15, 45)\n",
    "\n",
    "ax2 = fig.add_subplot(132, projection='3d')\n",
    "ax2.plot_surface(X=K_, Y=T_, Z=prices_pred, rstride=1, cstride=1, cmap='viridis', edgecolor='none')\n",
    "ax2.zaxis.set_major_locator(LinearLocator(10))\n",
    "ax2.zaxis.set_major_formatter(FormatStrFormatter('%.02f'))\n",
    "ax2.set_xlabel('Strike')\n",
    "ax2.set_ylabel('Maturity')\n",
    "ax2.set_zlabel('Price')\n",
    "ax2.set_title('Predicted Prices (Method 1)')\n",
    "ax2.view_init(15, 45)\n",
    "\n",
    "\n",
    "ax3 = fig.add_subplot(133, projection='3d')\n",
    "ax3.plot_surface(X=K_, Y=T_, Z=prices_true-prices_pred, rstride=1, cstride=1, cmap='inferno', edgecolor='none')\n",
    "ax3.zaxis.set_major_locator(LinearLocator(10))\n",
    "ax3.zaxis.set_major_formatter(FormatStrFormatter('%.02f'))\n",
    "ax3.set_xlabel('Strike')\n",
    "ax3.set_ylabel('Maturity')\n",
    "ax3.set_zlabel('Price Diff')\n",
    "ax3.set_title('Difference')\n",
    "ax3.view_init(5, 45)\n",
    "\"\"\"\n",
    "ax3 = fig.add_subplot(133)\n",
    "ax3.imshow(prices_true-prices_pred,cmap='Blues_r')\n",
    "ax3.set_xticks(np.linspace(0,num_strikes-1,num_strikes))\n",
    "ax3.set_xticklabels(np.around(strikes,decimals=1))\n",
    "ax3.set_yticks(np.linspace(0,num_maturities-1,num_maturities))\n",
    "ax3.set_yticklabels(np.around(maturities,decimals=1))\n",
    "\"\"\"\n",
    "plt.savefig('prices_dnn.pdf') \n",
    "plt.show()\n"
   ]
  },
  {
   "cell_type": "code",
   "execution_count": null,
   "metadata": {},
   "outputs": [],
   "source": [
    "mean_err = np.mean(np.mean(np.abs(prices_true-prices_pred),axis=0),axis=0)\n",
    "mean_err_init = np.mean(np.mean(np.abs(prices_true-prices_trash),axis=0),axis=0)\n",
    "mean_true_price = np.mean(np.mean(np.abs(prices_true),axis=0),axis=0)\n",
    "print(\"MSE: \",mean_err)\n",
    "print(\"MSE Init: \",mean_err_init)\n",
    "print(\"Percent of avg True Price: \",mean_err/mean_true_price)"
   ]
  },
  {
   "cell_type": "markdown",
   "metadata": {},
   "source": [
    "### Create Grid of Model Parameters and corresponding Prices"
   ]
  },
  {
   "cell_type": "code",
   "execution_count": null,
   "metadata": {},
   "outputs": [],
   "source": [
    "bb = 2\n",
    "num_thetas = np.power(bb,num_model_parameters)\n",
    "thetas_true = np.zeros((num_thetas,num_model_parameters))\n",
    "\n",
    "for i in range(bb):\n",
    "    for j in range(bb):\n",
    "        for k in range(bb):\n",
    "            thetas_true[i*bb*bb+j*bb+k,0] = model_bounds[0,0]+ k *(model_bounds[0,1]-model_bounds[0,0])/(bb-1)\n",
    "            thetas_true[i*bb*bb+j*bb+k,1] = model_bounds[1,0]+ j *(model_bounds[1,1]-model_bounds[1,0])/(bb-1)\n",
    "            thetas_true[i*bb*bb+j*bb+k,2] = model_bounds[2,0]+ i *(model_bounds[2,1]-model_bounds[2,0])/(bb-1)\n"
   ]
  },
  {
   "cell_type": "code",
   "execution_count": null,
   "metadata": {},
   "outputs": [],
   "source": [
    "thetas_pred = np.zeros((num_thetas,num_model_parameters))\n",
    "for i in range(num_thetas):\n",
    "    thetas_pred[i,:] = predict_theta(prices_grid(thetas_true[i,:]).flatten())"
   ]
  },
  {
   "cell_type": "code",
   "execution_count": null,
   "metadata": {},
   "outputs": [],
   "source": [
    "diff = np.mean(np.mean(np.power(thetas_pred - thetas_true,2),axis=0),axis=0)\n",
    "print(thetas_true)\n",
    "print(np.around(thetas_pred,5))"
   ]
  },
  {
   "cell_type": "code",
   "execution_count": null,
   "metadata": {},
   "outputs": [],
   "source": [
    "rel_error = np.mean(np.abs(thetas_pred - thetas_true),axis=1)/np.abs(np.mean(thetas_true,axis=1))\n",
    "print(\"Relative Error: \",  rel_error )"
   ]
  },
  {
   "cell_type": "code",
   "execution_count": null,
   "metadata": {},
   "outputs": [],
   "source": [
    "prices_grid_true = np.zeros((num_thetas,num_maturities,num_strikes))\n",
    "prices_grid_pred = np.zeros((num_thetas,num_maturities,num_strikes))\n",
    "n = 100\n",
    "dim = 100\n",
    "for i in range(num_thetas):\n",
    "    for j in range(num_maturities):\n",
    "        for k in range(num_strikes):\n",
    "            prices_grid_true[i,j,k] = price_pred(thetas_true[i,0],thetas_true[i,1],thetas_true[i,2],n,dim,maturities[i],strikes[j],V0,S0)\n",
    "            prices_grid_pred[i,j,k] = price_pred(thetas_pred[i,0],thetas_pred[i,1],thetas_pred[i,2],n,dim,maturities[i],strikes[j],V0,S0)"
   ]
  },
  {
   "cell_type": "code",
   "execution_count": null,
   "metadata": {},
   "outputs": [],
   "source": [
    "fig = plt.figure(figsize=(9, 6))\n",
    "\n",
    "ax=plt.subplot(1,1,1)\n",
    "\n",
    "plt.imshow(np.mean(np.abs((prices_grid_true-prices_grid_pred)/prices_grid_true),axis=0))\n",
    "plt.title(\"Average Relative Errors in Prices\")\n",
    "\n",
    "ax.set_yticks(np.linspace(0,num_maturities-1,num_maturities))\n",
    "ax.set_yticklabels(np.around(maturities,1))\n",
    "ax.set_xticks(np.linspace(0,num_strikes-1,num_strikes))\n",
    "ax.set_xticklabels(np.around(strikes,2))\n",
    "\n",
    "\n",
    "plt.colorbar()\n",
    "\n",
    "plt.show()"
   ]
  },
  {
   "cell_type": "code",
   "execution_count": 56,
   "metadata": {},
   "outputs": [],
   "source": [
    "N = 10\n",
    "\n",
    "thetas_true_rand = reverse_transform_X(uniform.rvs(size=(N,num_model_parameters)))"
   ]
  },
  {
   "cell_type": "code",
   "execution_count": 57,
   "metadata": {
    "tags": []
   },
   "outputs": [
    {
     "output_type": "stream",
     "name": "stdout",
     "text": "INFO:tensorflow:Restoring parameters from ./models/sabr_dnn\n`xtol` termination condition is satisfied.\nFunction evaluations 26, initial cost 9.3160e-03, final cost 9.3160e-03, first-order optimality 1.83e-03.\nINFO:tensorflow:Restoring parameters from ./models/sabr_dnn\n`xtol` termination condition is satisfied.\nFunction evaluations 27, initial cost 9.1198e-03, final cost 5.0145e-03, first-order optimality 1.41e-02.\nINFO:tensorflow:Restoring parameters from ./models/sabr_dnn\n`xtol` termination condition is satisfied.\nFunction evaluations 27, initial cost 7.8589e-03, final cost 7.8589e-03, first-order optimality 1.35e-02.\nINFO:tensorflow:Restoring parameters from ./models/sabr_dnn\n`xtol` termination condition is satisfied.\nFunction evaluations 25, initial cost 8.3294e-03, final cost 8.3294e-03, first-order optimality 1.45e-03.\nINFO:tensorflow:Restoring parameters from ./models/sabr_dnn\n`xtol` termination condition is satisfied.\nFunction evaluations 25, initial cost 1.1984e-02, final cost 8.1517e-03, first-order optimality 1.41e-03.\nINFO:tensorflow:Restoring parameters from ./models/sabr_dnn\n`xtol` termination condition is satisfied.\nFunction evaluations 26, initial cost 1.3912e-03, final cost 1.3260e-03, first-order optimality 1.87e-02.\nINFO:tensorflow:Restoring parameters from ./models/sabr_dnn\n`xtol` termination condition is satisfied.\nFunction evaluations 28, initial cost 6.2722e-03, final cost 6.2722e-03, first-order optimality 2.36e-02.\nINFO:tensorflow:Restoring parameters from ./models/sabr_dnn\n`xtol` termination condition is satisfied.\nFunction evaluations 29, initial cost 5.0687e-03, final cost 4.8013e-03, first-order optimality 1.91e-02.\nINFO:tensorflow:Restoring parameters from ./models/sabr_dnn\n`xtol` termination condition is satisfied.\nFunction evaluations 26, initial cost 2.4555e-03, final cost 2.4555e-03, first-order optimality 3.42e-03.\nINFO:tensorflow:Restoring parameters from ./models/sabr_dnn\n`xtol` termination condition is satisfied.\nFunction evaluations 26, initial cost 2.1727e-03, final cost 2.1727e-03, first-order optimality 6.32e-03.\n"
    }
   ],
   "source": [
    "thetas_pred_rand = np.zeros((N,num_model_parameters))\n",
    "for i in range(N):\n",
    "    thetas_pred_rand[i,:] = predict_theta(prices_grid(thetas_true_rand[i,:]).flatten())"
   ]
  },
  {
   "cell_type": "code",
   "execution_count": 58,
   "metadata": {
    "tags": []
   },
   "outputs": [
    {
     "output_type": "stream",
     "name": "stdout",
     "text": "Relative Error:  [ 0.79659606  2.18507599  2.85105208  0.93721497  1.04846179  0.74343967\n  1.36184868  0.58499164 14.28484028  2.68906175]\n"
    }
   ],
   "source": [
    "rel_error_rand = np.mean(np.abs(thetas_pred_rand - thetas_true_rand),axis=1)/np.abs(np.mean(thetas_true_rand,axis=1))\n",
    "print(\"Relative Error: \",  rel_error_rand )"
   ]
  },
  {
   "cell_type": "code",
   "execution_count": 59,
   "metadata": {},
   "outputs": [],
   "source": [
    "prices_grid_true_2 = np.zeros((N,num_maturities,num_strikes))\n",
    "prices_grid_pred_2 = np.zeros((N,num_maturities,num_strikes))\n",
    "n = 100\n",
    "dim = 100\n",
    "for i in range(N):\n",
    "    for j in range(num_maturities):\n",
    "        for k in range(num_strikes):\n",
    "            prices_grid_true_2[i,j,k] = price_pred(thetas_true_rand[i,0],thetas_true_rand[i,1],thetas_true_rand[i,2],n,dim,maturities[i],strikes[j],V0,S0)\n",
    "            prices_grid_pred_2[i,j,k] = price_pred(thetas_pred_rand[i,0],thetas_pred_rand[i,1],thetas_pred_rand[i,2],n,dim,maturities[i],strikes[j],V0,S0)"
   ]
  },
  {
   "cell_type": "code",
   "execution_count": 60,
   "metadata": {},
   "outputs": [
    {
     "output_type": "display_data",
     "data": {
      "text/plain": "<Figure size 1296x432 with 4 Axes>",
      "image/svg+xml": "<?xml version=\"1.0\" encoding=\"utf-8\" standalone=\"no\"?>\n<!DOCTYPE svg PUBLIC \"-//W3C//DTD SVG 1.1//EN\"\n  \"http://www.w3.org/Graphics/SVG/1.1/DTD/svg11.dtd\">\n<!-- Created with matplotlib (https://matplotlib.org/) -->\n<svg height=\"372.35625pt\" version=\"1.1\" viewBox=\"0 0 1001.462568 372.35625\" width=\"1001.462568pt\" xmlns=\"http://www.w3.org/2000/svg\" xmlns:xlink=\"http://www.w3.org/1999/xlink\">\n <defs>\n  <style type=\"text/css\">\n*{stroke-linecap:butt;stroke-linejoin:round;}\n  </style>\n </defs>\n <g id=\"figure_1\">\n  <g id=\"patch_1\">\n   <path d=\"M 0 372.35625 \nL 1001.462568 372.35625 \nL 1001.462568 0 \nL 0 0 \nz\n\" style=\"fill:none;\"/>\n  </g>\n  <g id=\"axes_1\">\n   <g id=\"patch_2\">\n    <path d=\"M 30.103125 348.478125 \nL 378.007125 348.478125 \nL 378.007125 22.318125 \nL 30.103125 22.318125 \nz\n\" style=\"fill:#ffffff;\"/>\n   </g>\n   <g clip-path=\"url(#p073b81db15)\">\n    <image height=\"327\" id=\"image88bfa86019\" transform=\"scale(1 -1)translate(0 -327)\" width=\"348\" x=\"30.103125\" xlink:href=\"data:image/png;base64,\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\" y=\"-21.478125\"/>\n   </g>\n   <g id=\"matplotlib.axis_1\">\n    <g id=\"xtick_1\">\n     <g id=\"line2d_1\">\n      <defs>\n       <path d=\"M 0 0 \nL 0 3.5 \n\" id=\"m449b0a9ef9\" style=\"stroke:#000000;stroke-width:0.8;\"/>\n      </defs>\n      <g>\n       <use style=\"stroke:#000000;stroke-width:0.8;\" x=\"40.975125\" xlink:href=\"#m449b0a9ef9\" y=\"348.478125\"/>\n      </g>\n     </g>\n     <g id=\"text_1\">\n      <!-- 0.6 -->\n      <defs>\n       <path d=\"M 31.78125 66.40625 \nQ 24.171875 66.40625 20.328125 58.90625 \nQ 16.5 51.421875 16.5 36.375 \nQ 16.5 21.390625 20.328125 13.890625 \nQ 24.171875 6.390625 31.78125 6.390625 \nQ 39.453125 6.390625 43.28125 13.890625 \nQ 47.125 21.390625 47.125 36.375 \nQ 47.125 51.421875 43.28125 58.90625 \nQ 39.453125 66.40625 31.78125 66.40625 \nz\nM 31.78125 74.21875 \nQ 44.046875 74.21875 50.515625 64.515625 \nQ 56.984375 54.828125 56.984375 36.375 \nQ 56.984375 17.96875 50.515625 8.265625 \nQ 44.046875 -1.421875 31.78125 -1.421875 \nQ 19.53125 -1.421875 13.0625 8.265625 \nQ 6.59375 17.96875 6.59375 36.375 \nQ 6.59375 54.828125 13.0625 64.515625 \nQ 19.53125 74.21875 31.78125 74.21875 \nz\n\" id=\"DejaVuSans-48\"/>\n       <path d=\"M 10.6875 12.40625 \nL 21 12.40625 \nL 21 0 \nL 10.6875 0 \nz\n\" id=\"DejaVuSans-46\"/>\n       <path d=\"M 33.015625 40.375 \nQ 26.375 40.375 22.484375 35.828125 \nQ 18.609375 31.296875 18.609375 23.390625 \nQ 18.609375 15.53125 22.484375 10.953125 \nQ 26.375 6.390625 33.015625 6.390625 \nQ 39.65625 6.390625 43.53125 10.953125 \nQ 47.40625 15.53125 47.40625 23.390625 \nQ 47.40625 31.296875 43.53125 35.828125 \nQ 39.65625 40.375 33.015625 40.375 \nz\nM 52.59375 71.296875 \nL 52.59375 62.3125 \nQ 48.875 64.0625 45.09375 64.984375 \nQ 41.3125 65.921875 37.59375 65.921875 \nQ 27.828125 65.921875 22.671875 59.328125 \nQ 17.53125 52.734375 16.796875 39.40625 \nQ 19.671875 43.65625 24.015625 45.921875 \nQ 28.375 48.1875 33.59375 48.1875 \nQ 44.578125 48.1875 50.953125 41.515625 \nQ 57.328125 34.859375 57.328125 23.390625 \nQ 57.328125 12.15625 50.6875 5.359375 \nQ 44.046875 -1.421875 33.015625 -1.421875 \nQ 20.359375 -1.421875 13.671875 8.265625 \nQ 6.984375 17.96875 6.984375 36.375 \nQ 6.984375 53.65625 15.1875 63.9375 \nQ 23.390625 74.21875 37.203125 74.21875 \nQ 40.921875 74.21875 44.703125 73.484375 \nQ 48.484375 72.75 52.59375 71.296875 \nz\n\" id=\"DejaVuSans-54\"/>\n      </defs>\n      <g transform=\"translate(33.023563 363.076563)scale(0.1 -0.1)\">\n       <use xlink:href=\"#DejaVuSans-48\"/>\n       <use x=\"63.623047\" xlink:href=\"#DejaVuSans-46\"/>\n       <use x=\"95.410156\" xlink:href=\"#DejaVuSans-54\"/>\n      </g>\n     </g>\n    </g>\n    <g id=\"xtick_2\">\n     <g id=\"line2d_2\">\n      <g>\n       <use style=\"stroke:#000000;stroke-width:0.8;\" x=\"62.719125\" xlink:href=\"#m449b0a9ef9\" y=\"348.478125\"/>\n      </g>\n     </g>\n     <g id=\"text_2\">\n      <!-- 0.62 -->\n      <defs>\n       <path d=\"M 19.1875 8.296875 \nL 53.609375 8.296875 \nL 53.609375 0 \nL 7.328125 0 \nL 7.328125 8.296875 \nQ 12.9375 14.109375 22.625 23.890625 \nQ 32.328125 33.6875 34.8125 36.53125 \nQ 39.546875 41.84375 41.421875 45.53125 \nQ 43.3125 49.21875 43.3125 52.78125 \nQ 43.3125 58.59375 39.234375 62.25 \nQ 35.15625 65.921875 28.609375 65.921875 \nQ 23.96875 65.921875 18.8125 64.3125 \nQ 13.671875 62.703125 7.8125 59.421875 \nL 7.8125 69.390625 \nQ 13.765625 71.78125 18.9375 73 \nQ 24.125 74.21875 28.421875 74.21875 \nQ 39.75 74.21875 46.484375 68.546875 \nQ 53.21875 62.890625 53.21875 53.421875 \nQ 53.21875 48.921875 51.53125 44.890625 \nQ 49.859375 40.875 45.40625 35.40625 \nQ 44.1875 33.984375 37.640625 27.21875 \nQ 31.109375 20.453125 19.1875 8.296875 \nz\n\" id=\"DejaVuSans-50\"/>\n      </defs>\n      <g transform=\"translate(51.586313 363.076563)scale(0.1 -0.1)\">\n       <use xlink:href=\"#DejaVuSans-48\"/>\n       <use x=\"63.623047\" xlink:href=\"#DejaVuSans-46\"/>\n       <use x=\"95.410156\" xlink:href=\"#DejaVuSans-54\"/>\n       <use x=\"159.033203\" xlink:href=\"#DejaVuSans-50\"/>\n      </g>\n     </g>\n    </g>\n    <g id=\"xtick_3\">\n     <g id=\"line2d_3\">\n      <g>\n       <use style=\"stroke:#000000;stroke-width:0.8;\" x=\"84.463125\" xlink:href=\"#m449b0a9ef9\" y=\"348.478125\"/>\n      </g>\n     </g>\n     <g id=\"text_3\">\n      <!-- 0.64 -->\n      <defs>\n       <path d=\"M 37.796875 64.3125 \nL 12.890625 25.390625 \nL 37.796875 25.390625 \nz\nM 35.203125 72.90625 \nL 47.609375 72.90625 \nL 47.609375 25.390625 \nL 58.015625 25.390625 \nL 58.015625 17.1875 \nL 47.609375 17.1875 \nL 47.609375 0 \nL 37.796875 0 \nL 37.796875 17.1875 \nL 4.890625 17.1875 \nL 4.890625 26.703125 \nz\n\" id=\"DejaVuSans-52\"/>\n      </defs>\n      <g transform=\"translate(73.330313 363.076563)scale(0.1 -0.1)\">\n       <use xlink:href=\"#DejaVuSans-48\"/>\n       <use x=\"63.623047\" xlink:href=\"#DejaVuSans-46\"/>\n       <use x=\"95.410156\" xlink:href=\"#DejaVuSans-54\"/>\n       <use x=\"159.033203\" xlink:href=\"#DejaVuSans-52\"/>\n      </g>\n     </g>\n    </g>\n    <g id=\"xtick_4\">\n     <g id=\"line2d_4\">\n      <g>\n       <use style=\"stroke:#000000;stroke-width:0.8;\" x=\"106.207125\" xlink:href=\"#m449b0a9ef9\" y=\"348.478125\"/>\n      </g>\n     </g>\n     <g id=\"text_4\">\n      <!-- 0.66 -->\n      <g transform=\"translate(95.074313 363.076563)scale(0.1 -0.1)\">\n       <use xlink:href=\"#DejaVuSans-48\"/>\n       <use x=\"63.623047\" xlink:href=\"#DejaVuSans-46\"/>\n       <use x=\"95.410156\" xlink:href=\"#DejaVuSans-54\"/>\n       <use x=\"159.033203\" xlink:href=\"#DejaVuSans-54\"/>\n      </g>\n     </g>\n    </g>\n    <g id=\"xtick_5\">\n     <g id=\"line2d_5\">\n      <g>\n       <use style=\"stroke:#000000;stroke-width:0.8;\" x=\"127.951125\" xlink:href=\"#m449b0a9ef9\" y=\"348.478125\"/>\n      </g>\n     </g>\n     <g id=\"text_5\">\n      <!-- 0.68 -->\n      <defs>\n       <path d=\"M 31.78125 34.625 \nQ 24.75 34.625 20.71875 30.859375 \nQ 16.703125 27.09375 16.703125 20.515625 \nQ 16.703125 13.921875 20.71875 10.15625 \nQ 24.75 6.390625 31.78125 6.390625 \nQ 38.8125 6.390625 42.859375 10.171875 \nQ 46.921875 13.96875 46.921875 20.515625 \nQ 46.921875 27.09375 42.890625 30.859375 \nQ 38.875 34.625 31.78125 34.625 \nz\nM 21.921875 38.8125 \nQ 15.578125 40.375 12.03125 44.71875 \nQ 8.5 49.078125 8.5 55.328125 \nQ 8.5 64.0625 14.71875 69.140625 \nQ 20.953125 74.21875 31.78125 74.21875 \nQ 42.671875 74.21875 48.875 69.140625 \nQ 55.078125 64.0625 55.078125 55.328125 \nQ 55.078125 49.078125 51.53125 44.71875 \nQ 48 40.375 41.703125 38.8125 \nQ 48.828125 37.15625 52.796875 32.3125 \nQ 56.78125 27.484375 56.78125 20.515625 \nQ 56.78125 9.90625 50.3125 4.234375 \nQ 43.84375 -1.421875 31.78125 -1.421875 \nQ 19.734375 -1.421875 13.25 4.234375 \nQ 6.78125 9.90625 6.78125 20.515625 \nQ 6.78125 27.484375 10.78125 32.3125 \nQ 14.796875 37.15625 21.921875 38.8125 \nz\nM 18.3125 54.390625 \nQ 18.3125 48.734375 21.84375 45.5625 \nQ 25.390625 42.390625 31.78125 42.390625 \nQ 38.140625 42.390625 41.71875 45.5625 \nQ 45.3125 48.734375 45.3125 54.390625 \nQ 45.3125 60.0625 41.71875 63.234375 \nQ 38.140625 66.40625 31.78125 66.40625 \nQ 25.390625 66.40625 21.84375 63.234375 \nQ 18.3125 60.0625 18.3125 54.390625 \nz\n\" id=\"DejaVuSans-56\"/>\n      </defs>\n      <g transform=\"translate(116.818313 363.076563)scale(0.1 -0.1)\">\n       <use xlink:href=\"#DejaVuSans-48\"/>\n       <use x=\"63.623047\" xlink:href=\"#DejaVuSans-46\"/>\n       <use x=\"95.410156\" xlink:href=\"#DejaVuSans-54\"/>\n       <use x=\"159.033203\" xlink:href=\"#DejaVuSans-56\"/>\n      </g>\n     </g>\n    </g>\n    <g id=\"xtick_6\">\n     <g id=\"line2d_6\">\n      <g>\n       <use style=\"stroke:#000000;stroke-width:0.8;\" x=\"149.695125\" xlink:href=\"#m449b0a9ef9\" y=\"348.478125\"/>\n      </g>\n     </g>\n     <g id=\"text_6\">\n      <!-- 0.7 -->\n      <defs>\n       <path d=\"M 8.203125 72.90625 \nL 55.078125 72.90625 \nL 55.078125 68.703125 \nL 28.609375 0 \nL 18.3125 0 \nL 43.21875 64.59375 \nL 8.203125 64.59375 \nz\n\" id=\"DejaVuSans-55\"/>\n      </defs>\n      <g transform=\"translate(141.743563 363.076563)scale(0.1 -0.1)\">\n       <use xlink:href=\"#DejaVuSans-48\"/>\n       <use x=\"63.623047\" xlink:href=\"#DejaVuSans-46\"/>\n       <use x=\"95.410156\" xlink:href=\"#DejaVuSans-55\"/>\n      </g>\n     </g>\n    </g>\n    <g id=\"xtick_7\">\n     <g id=\"line2d_7\">\n      <g>\n       <use style=\"stroke:#000000;stroke-width:0.8;\" x=\"171.439125\" xlink:href=\"#m449b0a9ef9\" y=\"348.478125\"/>\n      </g>\n     </g>\n     <g id=\"text_7\">\n      <!-- 0.72 -->\n      <g transform=\"translate(160.306312 363.076563)scale(0.1 -0.1)\">\n       <use xlink:href=\"#DejaVuSans-48\"/>\n       <use x=\"63.623047\" xlink:href=\"#DejaVuSans-46\"/>\n       <use x=\"95.410156\" xlink:href=\"#DejaVuSans-55\"/>\n       <use x=\"159.033203\" xlink:href=\"#DejaVuSans-50\"/>\n      </g>\n     </g>\n    </g>\n    <g id=\"xtick_8\">\n     <g id=\"line2d_8\">\n      <g>\n       <use style=\"stroke:#000000;stroke-width:0.8;\" x=\"193.183125\" xlink:href=\"#m449b0a9ef9\" y=\"348.478125\"/>\n      </g>\n     </g>\n     <g id=\"text_8\">\n      <!-- 0.74 -->\n      <g transform=\"translate(182.050313 363.076563)scale(0.1 -0.1)\">\n       <use xlink:href=\"#DejaVuSans-48\"/>\n       <use x=\"63.623047\" xlink:href=\"#DejaVuSans-46\"/>\n       <use x=\"95.410156\" xlink:href=\"#DejaVuSans-55\"/>\n       <use x=\"159.033203\" xlink:href=\"#DejaVuSans-52\"/>\n      </g>\n     </g>\n    </g>\n    <g id=\"xtick_9\">\n     <g id=\"line2d_9\">\n      <g>\n       <use style=\"stroke:#000000;stroke-width:0.8;\" x=\"214.927125\" xlink:href=\"#m449b0a9ef9\" y=\"348.478125\"/>\n      </g>\n     </g>\n     <g id=\"text_9\">\n      <!-- 0.76 -->\n      <g transform=\"translate(203.794312 363.076563)scale(0.1 -0.1)\">\n       <use xlink:href=\"#DejaVuSans-48\"/>\n       <use x=\"63.623047\" xlink:href=\"#DejaVuSans-46\"/>\n       <use x=\"95.410156\" xlink:href=\"#DejaVuSans-55\"/>\n       <use x=\"159.033203\" xlink:href=\"#DejaVuSans-54\"/>\n      </g>\n     </g>\n    </g>\n    <g id=\"xtick_10\">\n     <g id=\"line2d_10\">\n      <g>\n       <use style=\"stroke:#000000;stroke-width:0.8;\" x=\"236.671125\" xlink:href=\"#m449b0a9ef9\" y=\"348.478125\"/>\n      </g>\n     </g>\n     <g id=\"text_10\">\n      <!-- 0.78 -->\n      <g transform=\"translate(225.538313 363.076563)scale(0.1 -0.1)\">\n       <use xlink:href=\"#DejaVuSans-48\"/>\n       <use x=\"63.623047\" xlink:href=\"#DejaVuSans-46\"/>\n       <use x=\"95.410156\" xlink:href=\"#DejaVuSans-55\"/>\n       <use x=\"159.033203\" xlink:href=\"#DejaVuSans-56\"/>\n      </g>\n     </g>\n    </g>\n    <g id=\"xtick_11\">\n     <g id=\"line2d_11\">\n      <g>\n       <use style=\"stroke:#000000;stroke-width:0.8;\" x=\"258.415125\" xlink:href=\"#m449b0a9ef9\" y=\"348.478125\"/>\n      </g>\n     </g>\n     <g id=\"text_11\">\n      <!-- 0.8 -->\n      <g transform=\"translate(250.463562 363.076563)scale(0.1 -0.1)\">\n       <use xlink:href=\"#DejaVuSans-48\"/>\n       <use x=\"63.623047\" xlink:href=\"#DejaVuSans-46\"/>\n       <use x=\"95.410156\" xlink:href=\"#DejaVuSans-56\"/>\n      </g>\n     </g>\n    </g>\n    <g id=\"xtick_12\">\n     <g id=\"line2d_12\">\n      <g>\n       <use style=\"stroke:#000000;stroke-width:0.8;\" x=\"280.159125\" xlink:href=\"#m449b0a9ef9\" y=\"348.478125\"/>\n      </g>\n     </g>\n     <g id=\"text_12\">\n      <!-- 0.82 -->\n      <g transform=\"translate(269.026313 363.076563)scale(0.1 -0.1)\">\n       <use xlink:href=\"#DejaVuSans-48\"/>\n       <use x=\"63.623047\" xlink:href=\"#DejaVuSans-46\"/>\n       <use x=\"95.410156\" xlink:href=\"#DejaVuSans-56\"/>\n       <use x=\"159.033203\" xlink:href=\"#DejaVuSans-50\"/>\n      </g>\n     </g>\n    </g>\n    <g id=\"xtick_13\">\n     <g id=\"line2d_13\">\n      <g>\n       <use style=\"stroke:#000000;stroke-width:0.8;\" x=\"301.903125\" xlink:href=\"#m449b0a9ef9\" y=\"348.478125\"/>\n      </g>\n     </g>\n     <g id=\"text_13\">\n      <!-- 0.84 -->\n      <g transform=\"translate(290.770312 363.076563)scale(0.1 -0.1)\">\n       <use xlink:href=\"#DejaVuSans-48\"/>\n       <use x=\"63.623047\" xlink:href=\"#DejaVuSans-46\"/>\n       <use x=\"95.410156\" xlink:href=\"#DejaVuSans-56\"/>\n       <use x=\"159.033203\" xlink:href=\"#DejaVuSans-52\"/>\n      </g>\n     </g>\n    </g>\n    <g id=\"xtick_14\">\n     <g id=\"line2d_14\">\n      <g>\n       <use style=\"stroke:#000000;stroke-width:0.8;\" x=\"323.647125\" xlink:href=\"#m449b0a9ef9\" y=\"348.478125\"/>\n      </g>\n     </g>\n     <g id=\"text_14\">\n      <!-- 0.86 -->\n      <g transform=\"translate(312.514313 363.076563)scale(0.1 -0.1)\">\n       <use xlink:href=\"#DejaVuSans-48\"/>\n       <use x=\"63.623047\" xlink:href=\"#DejaVuSans-46\"/>\n       <use x=\"95.410156\" xlink:href=\"#DejaVuSans-56\"/>\n       <use x=\"159.033203\" xlink:href=\"#DejaVuSans-54\"/>\n      </g>\n     </g>\n    </g>\n    <g id=\"xtick_15\">\n     <g id=\"line2d_15\">\n      <g>\n       <use style=\"stroke:#000000;stroke-width:0.8;\" x=\"345.391125\" xlink:href=\"#m449b0a9ef9\" y=\"348.478125\"/>\n      </g>\n     </g>\n     <g id=\"text_15\">\n      <!-- 0.88 -->\n      <g transform=\"translate(334.258312 363.076563)scale(0.1 -0.1)\">\n       <use xlink:href=\"#DejaVuSans-48\"/>\n       <use x=\"63.623047\" xlink:href=\"#DejaVuSans-46\"/>\n       <use x=\"95.410156\" xlink:href=\"#DejaVuSans-56\"/>\n       <use x=\"159.033203\" xlink:href=\"#DejaVuSans-56\"/>\n      </g>\n     </g>\n    </g>\n    <g id=\"xtick_16\">\n     <g id=\"line2d_16\">\n      <g>\n       <use style=\"stroke:#000000;stroke-width:0.8;\" x=\"367.135125\" xlink:href=\"#m449b0a9ef9\" y=\"348.478125\"/>\n      </g>\n     </g>\n     <g id=\"text_16\">\n      <!-- 0.9 -->\n      <defs>\n       <path d=\"M 10.984375 1.515625 \nL 10.984375 10.5 \nQ 14.703125 8.734375 18.5 7.8125 \nQ 22.3125 6.890625 25.984375 6.890625 \nQ 35.75 6.890625 40.890625 13.453125 \nQ 46.046875 20.015625 46.78125 33.40625 \nQ 43.953125 29.203125 39.59375 26.953125 \nQ 35.25 24.703125 29.984375 24.703125 \nQ 19.046875 24.703125 12.671875 31.3125 \nQ 6.296875 37.9375 6.296875 49.421875 \nQ 6.296875 60.640625 12.9375 67.421875 \nQ 19.578125 74.21875 30.609375 74.21875 \nQ 43.265625 74.21875 49.921875 64.515625 \nQ 56.59375 54.828125 56.59375 36.375 \nQ 56.59375 19.140625 48.40625 8.859375 \nQ 40.234375 -1.421875 26.421875 -1.421875 \nQ 22.703125 -1.421875 18.890625 -0.6875 \nQ 15.09375 0.046875 10.984375 1.515625 \nz\nM 30.609375 32.421875 \nQ 37.25 32.421875 41.125 36.953125 \nQ 45.015625 41.5 45.015625 49.421875 \nQ 45.015625 57.28125 41.125 61.84375 \nQ 37.25 66.40625 30.609375 66.40625 \nQ 23.96875 66.40625 20.09375 61.84375 \nQ 16.21875 57.28125 16.21875 49.421875 \nQ 16.21875 41.5 20.09375 36.953125 \nQ 23.96875 32.421875 30.609375 32.421875 \nz\n\" id=\"DejaVuSans-57\"/>\n      </defs>\n      <g transform=\"translate(359.183562 363.076563)scale(0.1 -0.1)\">\n       <use xlink:href=\"#DejaVuSans-48\"/>\n       <use x=\"63.623047\" xlink:href=\"#DejaVuSans-46\"/>\n       <use x=\"95.410156\" xlink:href=\"#DejaVuSans-57\"/>\n      </g>\n     </g>\n    </g>\n   </g>\n   <g id=\"matplotlib.axis_2\">\n    <g id=\"ytick_1\">\n     <g id=\"line2d_17\">\n      <defs>\n       <path d=\"M 0 0 \nL -3.5 0 \n\" id=\"me71bcd2fa5\" style=\"stroke:#000000;stroke-width:0.8;\"/>\n      </defs>\n      <g>\n       <use style=\"stroke:#000000;stroke-width:0.8;\" x=\"30.103125\" xlink:href=\"#me71bcd2fa5\" y=\"22.318125\"/>\n      </g>\n     </g>\n     <g id=\"text_17\">\n      <!-- 1.0 -->\n      <defs>\n       <path d=\"M 12.40625 8.296875 \nL 28.515625 8.296875 \nL 28.515625 63.921875 \nL 10.984375 60.40625 \nL 10.984375 69.390625 \nL 28.421875 72.90625 \nL 38.28125 72.90625 \nL 38.28125 8.296875 \nL 54.390625 8.296875 \nL 54.390625 0 \nL 12.40625 0 \nz\n\" id=\"DejaVuSans-49\"/>\n      </defs>\n      <g transform=\"translate(7.2 26.117344)scale(0.1 -0.1)\">\n       <use xlink:href=\"#DejaVuSans-49\"/>\n       <use x=\"63.623047\" xlink:href=\"#DejaVuSans-46\"/>\n       <use x=\"95.410156\" xlink:href=\"#DejaVuSans-48\"/>\n      </g>\n     </g>\n    </g>\n    <g id=\"ytick_2\">\n     <g id=\"line2d_18\">\n      <g>\n       <use style=\"stroke:#000000;stroke-width:0.8;\" x=\"30.103125\" xlink:href=\"#me71bcd2fa5\" y=\"44.062125\"/>\n      </g>\n     </g>\n     <g id=\"text_18\">\n      <!-- 1.3 -->\n      <defs>\n       <path d=\"M 40.578125 39.3125 \nQ 47.65625 37.796875 51.625 33 \nQ 55.609375 28.21875 55.609375 21.1875 \nQ 55.609375 10.40625 48.1875 4.484375 \nQ 40.765625 -1.421875 27.09375 -1.421875 \nQ 22.515625 -1.421875 17.65625 -0.515625 \nQ 12.796875 0.390625 7.625 2.203125 \nL 7.625 11.71875 \nQ 11.71875 9.328125 16.59375 8.109375 \nQ 21.484375 6.890625 26.8125 6.890625 \nQ 36.078125 6.890625 40.9375 10.546875 \nQ 45.796875 14.203125 45.796875 21.1875 \nQ 45.796875 27.640625 41.28125 31.265625 \nQ 36.765625 34.90625 28.71875 34.90625 \nL 20.21875 34.90625 \nL 20.21875 43.015625 \nL 29.109375 43.015625 \nQ 36.375 43.015625 40.234375 45.921875 \nQ 44.09375 48.828125 44.09375 54.296875 \nQ 44.09375 59.90625 40.109375 62.90625 \nQ 36.140625 65.921875 28.71875 65.921875 \nQ 24.65625 65.921875 20.015625 65.03125 \nQ 15.375 64.15625 9.8125 62.3125 \nL 9.8125 71.09375 \nQ 15.4375 72.65625 20.34375 73.4375 \nQ 25.25 74.21875 29.59375 74.21875 \nQ 40.828125 74.21875 47.359375 69.109375 \nQ 53.90625 64.015625 53.90625 55.328125 \nQ 53.90625 49.265625 50.4375 45.09375 \nQ 46.96875 40.921875 40.578125 39.3125 \nz\n\" id=\"DejaVuSans-51\"/>\n      </defs>\n      <g transform=\"translate(7.2 47.861344)scale(0.1 -0.1)\">\n       <use xlink:href=\"#DejaVuSans-49\"/>\n       <use x=\"63.623047\" xlink:href=\"#DejaVuSans-46\"/>\n       <use x=\"95.410156\" xlink:href=\"#DejaVuSans-51\"/>\n      </g>\n     </g>\n    </g>\n    <g id=\"ytick_3\">\n     <g id=\"line2d_19\">\n      <g>\n       <use style=\"stroke:#000000;stroke-width:0.8;\" x=\"30.103125\" xlink:href=\"#me71bcd2fa5\" y=\"65.806125\"/>\n      </g>\n     </g>\n     <g id=\"text_19\">\n      <!-- 1.6 -->\n      <g transform=\"translate(7.2 69.605344)scale(0.1 -0.1)\">\n       <use xlink:href=\"#DejaVuSans-49\"/>\n       <use x=\"63.623047\" xlink:href=\"#DejaVuSans-46\"/>\n       <use x=\"95.410156\" xlink:href=\"#DejaVuSans-54\"/>\n      </g>\n     </g>\n    </g>\n    <g id=\"ytick_4\">\n     <g id=\"line2d_20\">\n      <g>\n       <use style=\"stroke:#000000;stroke-width:0.8;\" x=\"30.103125\" xlink:href=\"#me71bcd2fa5\" y=\"87.550125\"/>\n      </g>\n     </g>\n     <g id=\"text_20\">\n      <!-- 1.9 -->\n      <g transform=\"translate(7.2 91.349344)scale(0.1 -0.1)\">\n       <use xlink:href=\"#DejaVuSans-49\"/>\n       <use x=\"63.623047\" xlink:href=\"#DejaVuSans-46\"/>\n       <use x=\"95.410156\" xlink:href=\"#DejaVuSans-57\"/>\n      </g>\n     </g>\n    </g>\n    <g id=\"ytick_5\">\n     <g id=\"line2d_21\">\n      <g>\n       <use style=\"stroke:#000000;stroke-width:0.8;\" x=\"30.103125\" xlink:href=\"#me71bcd2fa5\" y=\"109.294125\"/>\n      </g>\n     </g>\n     <g id=\"text_21\">\n      <!-- 2.2 -->\n      <g transform=\"translate(7.2 113.093344)scale(0.1 -0.1)\">\n       <use xlink:href=\"#DejaVuSans-50\"/>\n       <use x=\"63.623047\" xlink:href=\"#DejaVuSans-46\"/>\n       <use x=\"95.410156\" xlink:href=\"#DejaVuSans-50\"/>\n      </g>\n     </g>\n    </g>\n    <g id=\"ytick_6\">\n     <g id=\"line2d_22\">\n      <g>\n       <use style=\"stroke:#000000;stroke-width:0.8;\" x=\"30.103125\" xlink:href=\"#me71bcd2fa5\" y=\"131.038125\"/>\n      </g>\n     </g>\n     <g id=\"text_22\">\n      <!-- 2.5 -->\n      <defs>\n       <path d=\"M 10.796875 72.90625 \nL 49.515625 72.90625 \nL 49.515625 64.59375 \nL 19.828125 64.59375 \nL 19.828125 46.734375 \nQ 21.96875 47.46875 24.109375 47.828125 \nQ 26.265625 48.1875 28.421875 48.1875 \nQ 40.625 48.1875 47.75 41.5 \nQ 54.890625 34.8125 54.890625 23.390625 \nQ 54.890625 11.625 47.5625 5.09375 \nQ 40.234375 -1.421875 26.90625 -1.421875 \nQ 22.3125 -1.421875 17.546875 -0.640625 \nQ 12.796875 0.140625 7.71875 1.703125 \nL 7.71875 11.625 \nQ 12.109375 9.234375 16.796875 8.0625 \nQ 21.484375 6.890625 26.703125 6.890625 \nQ 35.15625 6.890625 40.078125 11.328125 \nQ 45.015625 15.765625 45.015625 23.390625 \nQ 45.015625 31 40.078125 35.4375 \nQ 35.15625 39.890625 26.703125 39.890625 \nQ 22.75 39.890625 18.8125 39.015625 \nQ 14.890625 38.140625 10.796875 36.28125 \nz\n\" id=\"DejaVuSans-53\"/>\n      </defs>\n      <g transform=\"translate(7.2 134.837344)scale(0.1 -0.1)\">\n       <use xlink:href=\"#DejaVuSans-50\"/>\n       <use x=\"63.623047\" xlink:href=\"#DejaVuSans-46\"/>\n       <use x=\"95.410156\" xlink:href=\"#DejaVuSans-53\"/>\n      </g>\n     </g>\n    </g>\n    <g id=\"ytick_7\">\n     <g id=\"line2d_23\">\n      <g>\n       <use style=\"stroke:#000000;stroke-width:0.8;\" x=\"30.103125\" xlink:href=\"#me71bcd2fa5\" y=\"152.782125\"/>\n      </g>\n     </g>\n     <g id=\"text_23\">\n      <!-- 2.8 -->\n      <g transform=\"translate(7.2 156.581344)scale(0.1 -0.1)\">\n       <use xlink:href=\"#DejaVuSans-50\"/>\n       <use x=\"63.623047\" xlink:href=\"#DejaVuSans-46\"/>\n       <use x=\"95.410156\" xlink:href=\"#DejaVuSans-56\"/>\n      </g>\n     </g>\n    </g>\n    <g id=\"ytick_8\">\n     <g id=\"line2d_24\">\n      <g>\n       <use style=\"stroke:#000000;stroke-width:0.8;\" x=\"30.103125\" xlink:href=\"#me71bcd2fa5\" y=\"174.526125\"/>\n      </g>\n     </g>\n     <g id=\"text_24\">\n      <!-- 3.1 -->\n      <g transform=\"translate(7.2 178.325344)scale(0.1 -0.1)\">\n       <use xlink:href=\"#DejaVuSans-51\"/>\n       <use x=\"63.623047\" xlink:href=\"#DejaVuSans-46\"/>\n       <use x=\"95.410156\" xlink:href=\"#DejaVuSans-49\"/>\n      </g>\n     </g>\n    </g>\n    <g id=\"ytick_9\">\n     <g id=\"line2d_25\">\n      <g>\n       <use style=\"stroke:#000000;stroke-width:0.8;\" x=\"30.103125\" xlink:href=\"#me71bcd2fa5\" y=\"196.270125\"/>\n      </g>\n     </g>\n     <g id=\"text_25\">\n      <!-- 3.4 -->\n      <g transform=\"translate(7.2 200.069344)scale(0.1 -0.1)\">\n       <use xlink:href=\"#DejaVuSans-51\"/>\n       <use x=\"63.623047\" xlink:href=\"#DejaVuSans-46\"/>\n       <use x=\"95.410156\" xlink:href=\"#DejaVuSans-52\"/>\n      </g>\n     </g>\n    </g>\n    <g id=\"ytick_10\">\n     <g id=\"line2d_26\">\n      <g>\n       <use style=\"stroke:#000000;stroke-width:0.8;\" x=\"30.103125\" xlink:href=\"#me71bcd2fa5\" y=\"218.014125\"/>\n      </g>\n     </g>\n     <g id=\"text_26\">\n      <!-- 3.7 -->\n      <g transform=\"translate(7.2 221.813344)scale(0.1 -0.1)\">\n       <use xlink:href=\"#DejaVuSans-51\"/>\n       <use x=\"63.623047\" xlink:href=\"#DejaVuSans-46\"/>\n       <use x=\"95.410156\" xlink:href=\"#DejaVuSans-55\"/>\n      </g>\n     </g>\n    </g>\n    <g id=\"ytick_11\">\n     <g id=\"line2d_27\">\n      <g>\n       <use style=\"stroke:#000000;stroke-width:0.8;\" x=\"30.103125\" xlink:href=\"#me71bcd2fa5\" y=\"239.758125\"/>\n      </g>\n     </g>\n     <g id=\"text_27\">\n      <!-- 4.0 -->\n      <g transform=\"translate(7.2 243.557344)scale(0.1 -0.1)\">\n       <use xlink:href=\"#DejaVuSans-52\"/>\n       <use x=\"63.623047\" xlink:href=\"#DejaVuSans-46\"/>\n       <use x=\"95.410156\" xlink:href=\"#DejaVuSans-48\"/>\n      </g>\n     </g>\n    </g>\n    <g id=\"ytick_12\">\n     <g id=\"line2d_28\">\n      <g>\n       <use style=\"stroke:#000000;stroke-width:0.8;\" x=\"30.103125\" xlink:href=\"#me71bcd2fa5\" y=\"261.502125\"/>\n      </g>\n     </g>\n     <g id=\"text_28\">\n      <!-- 4.3 -->\n      <g transform=\"translate(7.2 265.301344)scale(0.1 -0.1)\">\n       <use xlink:href=\"#DejaVuSans-52\"/>\n       <use x=\"63.623047\" xlink:href=\"#DejaVuSans-46\"/>\n       <use x=\"95.410156\" xlink:href=\"#DejaVuSans-51\"/>\n      </g>\n     </g>\n    </g>\n    <g id=\"ytick_13\">\n     <g id=\"line2d_29\">\n      <g>\n       <use style=\"stroke:#000000;stroke-width:0.8;\" x=\"30.103125\" xlink:href=\"#me71bcd2fa5\" y=\"283.246125\"/>\n      </g>\n     </g>\n     <g id=\"text_29\">\n      <!-- 4.6 -->\n      <g transform=\"translate(7.2 287.045344)scale(0.1 -0.1)\">\n       <use xlink:href=\"#DejaVuSans-52\"/>\n       <use x=\"63.623047\" xlink:href=\"#DejaVuSans-46\"/>\n       <use x=\"95.410156\" xlink:href=\"#DejaVuSans-54\"/>\n      </g>\n     </g>\n    </g>\n    <g id=\"ytick_14\">\n     <g id=\"line2d_30\">\n      <g>\n       <use style=\"stroke:#000000;stroke-width:0.8;\" x=\"30.103125\" xlink:href=\"#me71bcd2fa5\" y=\"304.990125\"/>\n      </g>\n     </g>\n     <g id=\"text_30\">\n      <!-- 4.9 -->\n      <g transform=\"translate(7.2 308.789344)scale(0.1 -0.1)\">\n       <use xlink:href=\"#DejaVuSans-52\"/>\n       <use x=\"63.623047\" xlink:href=\"#DejaVuSans-46\"/>\n       <use x=\"95.410156\" xlink:href=\"#DejaVuSans-57\"/>\n      </g>\n     </g>\n    </g>\n    <g id=\"ytick_15\">\n     <g id=\"line2d_31\">\n      <g>\n       <use style=\"stroke:#000000;stroke-width:0.8;\" x=\"30.103125\" xlink:href=\"#me71bcd2fa5\" y=\"326.734125\"/>\n      </g>\n     </g>\n     <g id=\"text_31\">\n      <!-- 5.2 -->\n      <g transform=\"translate(7.2 330.533344)scale(0.1 -0.1)\">\n       <use xlink:href=\"#DejaVuSans-53\"/>\n       <use x=\"63.623047\" xlink:href=\"#DejaVuSans-46\"/>\n       <use x=\"95.410156\" xlink:href=\"#DejaVuSans-50\"/>\n      </g>\n     </g>\n    </g>\n    <g id=\"ytick_16\">\n     <g id=\"line2d_32\">\n      <g>\n       <use style=\"stroke:#000000;stroke-width:0.8;\" x=\"30.103125\" xlink:href=\"#me71bcd2fa5\" y=\"348.478125\"/>\n      </g>\n     </g>\n     <g id=\"text_32\">\n      <!-- 5.5 -->\n      <g transform=\"translate(7.2 352.277344)scale(0.1 -0.1)\">\n       <use xlink:href=\"#DejaVuSans-53\"/>\n       <use x=\"63.623047\" xlink:href=\"#DejaVuSans-46\"/>\n       <use x=\"95.410156\" xlink:href=\"#DejaVuSans-53\"/>\n      </g>\n     </g>\n    </g>\n   </g>\n   <g id=\"patch_3\">\n    <path d=\"M 30.103125 348.478125 \nL 30.103125 22.318125 \n\" style=\"fill:none;stroke:#000000;stroke-linecap:square;stroke-linejoin:miter;stroke-width:0.8;\"/>\n   </g>\n   <g id=\"patch_4\">\n    <path d=\"M 378.007125 348.478125 \nL 378.007125 22.318125 \n\" style=\"fill:none;stroke:#000000;stroke-linecap:square;stroke-linejoin:miter;stroke-width:0.8;\"/>\n   </g>\n   <g id=\"patch_5\">\n    <path d=\"M 30.103125 348.478125 \nL 378.007125 348.478125 \n\" style=\"fill:none;stroke:#000000;stroke-linecap:square;stroke-linejoin:miter;stroke-width:0.8;\"/>\n   </g>\n   <g id=\"patch_6\">\n    <path d=\"M 30.103125 22.318125 \nL 378.007125 22.318125 \n\" style=\"fill:none;stroke:#000000;stroke-linecap:square;stroke-linejoin:miter;stroke-width:0.8;\"/>\n   </g>\n   <g id=\"text_33\">\n    <!-- Average Relative Errors in Prices -->\n    <defs>\n     <path d=\"M 34.1875 63.1875 \nL 20.796875 26.90625 \nL 47.609375 26.90625 \nz\nM 28.609375 72.90625 \nL 39.796875 72.90625 \nL 67.578125 0 \nL 57.328125 0 \nL 50.6875 18.703125 \nL 17.828125 18.703125 \nL 11.1875 0 \nL 0.78125 0 \nz\n\" id=\"DejaVuSans-65\"/>\n     <path d=\"M 2.984375 54.6875 \nL 12.5 54.6875 \nL 29.59375 8.796875 \nL 46.6875 54.6875 \nL 56.203125 54.6875 \nL 35.6875 0 \nL 23.484375 0 \nz\n\" id=\"DejaVuSans-118\"/>\n     <path d=\"M 56.203125 29.59375 \nL 56.203125 25.203125 \nL 14.890625 25.203125 \nQ 15.484375 15.921875 20.484375 11.0625 \nQ 25.484375 6.203125 34.421875 6.203125 \nQ 39.59375 6.203125 44.453125 7.46875 \nQ 49.3125 8.734375 54.109375 11.28125 \nL 54.109375 2.78125 \nQ 49.265625 0.734375 44.1875 -0.34375 \nQ 39.109375 -1.421875 33.890625 -1.421875 \nQ 20.796875 -1.421875 13.15625 6.1875 \nQ 5.515625 13.8125 5.515625 26.8125 \nQ 5.515625 40.234375 12.765625 48.109375 \nQ 20.015625 56 32.328125 56 \nQ 43.359375 56 49.78125 48.890625 \nQ 56.203125 41.796875 56.203125 29.59375 \nz\nM 47.21875 32.234375 \nQ 47.125 39.59375 43.09375 43.984375 \nQ 39.0625 48.390625 32.421875 48.390625 \nQ 24.90625 48.390625 20.390625 44.140625 \nQ 15.875 39.890625 15.1875 32.171875 \nz\n\" id=\"DejaVuSans-101\"/>\n     <path d=\"M 41.109375 46.296875 \nQ 39.59375 47.171875 37.8125 47.578125 \nQ 36.03125 48 33.890625 48 \nQ 26.265625 48 22.1875 43.046875 \nQ 18.109375 38.09375 18.109375 28.8125 \nL 18.109375 0 \nL 9.078125 0 \nL 9.078125 54.6875 \nL 18.109375 54.6875 \nL 18.109375 46.1875 \nQ 20.953125 51.171875 25.484375 53.578125 \nQ 30.03125 56 36.53125 56 \nQ 37.453125 56 38.578125 55.875 \nQ 39.703125 55.765625 41.0625 55.515625 \nz\n\" id=\"DejaVuSans-114\"/>\n     <path d=\"M 34.28125 27.484375 \nQ 23.390625 27.484375 19.1875 25 \nQ 14.984375 22.515625 14.984375 16.5 \nQ 14.984375 11.71875 18.140625 8.90625 \nQ 21.296875 6.109375 26.703125 6.109375 \nQ 34.1875 6.109375 38.703125 11.40625 \nQ 43.21875 16.703125 43.21875 25.484375 \nL 43.21875 27.484375 \nz\nM 52.203125 31.203125 \nL 52.203125 0 \nL 43.21875 0 \nL 43.21875 8.296875 \nQ 40.140625 3.328125 35.546875 0.953125 \nQ 30.953125 -1.421875 24.3125 -1.421875 \nQ 15.921875 -1.421875 10.953125 3.296875 \nQ 6 8.015625 6 15.921875 \nQ 6 25.140625 12.171875 29.828125 \nQ 18.359375 34.515625 30.609375 34.515625 \nL 43.21875 34.515625 \nL 43.21875 35.40625 \nQ 43.21875 41.609375 39.140625 45 \nQ 35.0625 48.390625 27.6875 48.390625 \nQ 23 48.390625 18.546875 47.265625 \nQ 14.109375 46.140625 10.015625 43.890625 \nL 10.015625 52.203125 \nQ 14.9375 54.109375 19.578125 55.046875 \nQ 24.21875 56 28.609375 56 \nQ 40.484375 56 46.34375 49.84375 \nQ 52.203125 43.703125 52.203125 31.203125 \nz\n\" id=\"DejaVuSans-97\"/>\n     <path d=\"M 45.40625 27.984375 \nQ 45.40625 37.75 41.375 43.109375 \nQ 37.359375 48.484375 30.078125 48.484375 \nQ 22.859375 48.484375 18.828125 43.109375 \nQ 14.796875 37.75 14.796875 27.984375 \nQ 14.796875 18.265625 18.828125 12.890625 \nQ 22.859375 7.515625 30.078125 7.515625 \nQ 37.359375 7.515625 41.375 12.890625 \nQ 45.40625 18.265625 45.40625 27.984375 \nz\nM 54.390625 6.78125 \nQ 54.390625 -7.171875 48.1875 -13.984375 \nQ 42 -20.796875 29.203125 -20.796875 \nQ 24.46875 -20.796875 20.265625 -20.09375 \nQ 16.0625 -19.390625 12.109375 -17.921875 \nL 12.109375 -9.1875 \nQ 16.0625 -11.328125 19.921875 -12.34375 \nQ 23.78125 -13.375 27.78125 -13.375 \nQ 36.625 -13.375 41.015625 -8.765625 \nQ 45.40625 -4.15625 45.40625 5.171875 \nL 45.40625 9.625 \nQ 42.625 4.78125 38.28125 2.390625 \nQ 33.9375 0 27.875 0 \nQ 17.828125 0 11.671875 7.65625 \nQ 5.515625 15.328125 5.515625 27.984375 \nQ 5.515625 40.671875 11.671875 48.328125 \nQ 17.828125 56 27.875 56 \nQ 33.9375 56 38.28125 53.609375 \nQ 42.625 51.21875 45.40625 46.390625 \nL 45.40625 54.6875 \nL 54.390625 54.6875 \nz\n\" id=\"DejaVuSans-103\"/>\n     <path id=\"DejaVuSans-32\"/>\n     <path d=\"M 44.390625 34.1875 \nQ 47.5625 33.109375 50.5625 29.59375 \nQ 53.5625 26.078125 56.59375 19.921875 \nL 66.609375 0 \nL 56 0 \nL 46.6875 18.703125 \nQ 43.0625 26.03125 39.671875 28.421875 \nQ 36.28125 30.8125 30.421875 30.8125 \nL 19.671875 30.8125 \nL 19.671875 0 \nL 9.8125 0 \nL 9.8125 72.90625 \nL 32.078125 72.90625 \nQ 44.578125 72.90625 50.734375 67.671875 \nQ 56.890625 62.453125 56.890625 51.90625 \nQ 56.890625 45.015625 53.6875 40.46875 \nQ 50.484375 35.9375 44.390625 34.1875 \nz\nM 19.671875 64.796875 \nL 19.671875 38.921875 \nL 32.078125 38.921875 \nQ 39.203125 38.921875 42.84375 42.21875 \nQ 46.484375 45.515625 46.484375 51.90625 \nQ 46.484375 58.296875 42.84375 61.546875 \nQ 39.203125 64.796875 32.078125 64.796875 \nz\n\" id=\"DejaVuSans-82\"/>\n     <path d=\"M 9.421875 75.984375 \nL 18.40625 75.984375 \nL 18.40625 0 \nL 9.421875 0 \nz\n\" id=\"DejaVuSans-108\"/>\n     <path d=\"M 18.3125 70.21875 \nL 18.3125 54.6875 \nL 36.8125 54.6875 \nL 36.8125 47.703125 \nL 18.3125 47.703125 \nL 18.3125 18.015625 \nQ 18.3125 11.328125 20.140625 9.421875 \nQ 21.96875 7.515625 27.59375 7.515625 \nL 36.8125 7.515625 \nL 36.8125 0 \nL 27.59375 0 \nQ 17.1875 0 13.234375 3.875 \nQ 9.28125 7.765625 9.28125 18.015625 \nL 9.28125 47.703125 \nL 2.6875 47.703125 \nL 2.6875 54.6875 \nL 9.28125 54.6875 \nL 9.28125 70.21875 \nz\n\" id=\"DejaVuSans-116\"/>\n     <path d=\"M 9.421875 54.6875 \nL 18.40625 54.6875 \nL 18.40625 0 \nL 9.421875 0 \nz\nM 9.421875 75.984375 \nL 18.40625 75.984375 \nL 18.40625 64.59375 \nL 9.421875 64.59375 \nz\n\" id=\"DejaVuSans-105\"/>\n     <path d=\"M 9.8125 72.90625 \nL 55.90625 72.90625 \nL 55.90625 64.59375 \nL 19.671875 64.59375 \nL 19.671875 43.015625 \nL 54.390625 43.015625 \nL 54.390625 34.71875 \nL 19.671875 34.71875 \nL 19.671875 8.296875 \nL 56.78125 8.296875 \nL 56.78125 0 \nL 9.8125 0 \nz\n\" id=\"DejaVuSans-69\"/>\n     <path d=\"M 30.609375 48.390625 \nQ 23.390625 48.390625 19.1875 42.75 \nQ 14.984375 37.109375 14.984375 27.296875 \nQ 14.984375 17.484375 19.15625 11.84375 \nQ 23.34375 6.203125 30.609375 6.203125 \nQ 37.796875 6.203125 41.984375 11.859375 \nQ 46.1875 17.53125 46.1875 27.296875 \nQ 46.1875 37.015625 41.984375 42.703125 \nQ 37.796875 48.390625 30.609375 48.390625 \nz\nM 30.609375 56 \nQ 42.328125 56 49.015625 48.375 \nQ 55.71875 40.765625 55.71875 27.296875 \nQ 55.71875 13.875 49.015625 6.21875 \nQ 42.328125 -1.421875 30.609375 -1.421875 \nQ 18.84375 -1.421875 12.171875 6.21875 \nQ 5.515625 13.875 5.515625 27.296875 \nQ 5.515625 40.765625 12.171875 48.375 \nQ 18.84375 56 30.609375 56 \nz\n\" id=\"DejaVuSans-111\"/>\n     <path d=\"M 44.28125 53.078125 \nL 44.28125 44.578125 \nQ 40.484375 46.53125 36.375 47.5 \nQ 32.28125 48.484375 27.875 48.484375 \nQ 21.1875 48.484375 17.84375 46.4375 \nQ 14.5 44.390625 14.5 40.28125 \nQ 14.5 37.15625 16.890625 35.375 \nQ 19.28125 33.59375 26.515625 31.984375 \nL 29.59375 31.296875 \nQ 39.15625 29.25 43.1875 25.515625 \nQ 47.21875 21.78125 47.21875 15.09375 \nQ 47.21875 7.46875 41.1875 3.015625 \nQ 35.15625 -1.421875 24.609375 -1.421875 \nQ 20.21875 -1.421875 15.453125 -0.5625 \nQ 10.6875 0.296875 5.421875 2 \nL 5.421875 11.28125 \nQ 10.40625 8.6875 15.234375 7.390625 \nQ 20.0625 6.109375 24.8125 6.109375 \nQ 31.15625 6.109375 34.5625 8.28125 \nQ 37.984375 10.453125 37.984375 14.40625 \nQ 37.984375 18.0625 35.515625 20.015625 \nQ 33.0625 21.96875 24.703125 23.78125 \nL 21.578125 24.515625 \nQ 13.234375 26.265625 9.515625 29.90625 \nQ 5.8125 33.546875 5.8125 39.890625 \nQ 5.8125 47.609375 11.28125 51.796875 \nQ 16.75 56 26.8125 56 \nQ 31.78125 56 36.171875 55.265625 \nQ 40.578125 54.546875 44.28125 53.078125 \nz\n\" id=\"DejaVuSans-115\"/>\n     <path d=\"M 54.890625 33.015625 \nL 54.890625 0 \nL 45.90625 0 \nL 45.90625 32.71875 \nQ 45.90625 40.484375 42.875 44.328125 \nQ 39.84375 48.1875 33.796875 48.1875 \nQ 26.515625 48.1875 22.3125 43.546875 \nQ 18.109375 38.921875 18.109375 30.90625 \nL 18.109375 0 \nL 9.078125 0 \nL 9.078125 54.6875 \nL 18.109375 54.6875 \nL 18.109375 46.1875 \nQ 21.34375 51.125 25.703125 53.5625 \nQ 30.078125 56 35.796875 56 \nQ 45.21875 56 50.046875 50.171875 \nQ 54.890625 44.34375 54.890625 33.015625 \nz\n\" id=\"DejaVuSans-110\"/>\n     <path d=\"M 19.671875 64.796875 \nL 19.671875 37.40625 \nL 32.078125 37.40625 \nQ 38.96875 37.40625 42.71875 40.96875 \nQ 46.484375 44.53125 46.484375 51.125 \nQ 46.484375 57.671875 42.71875 61.234375 \nQ 38.96875 64.796875 32.078125 64.796875 \nz\nM 9.8125 72.90625 \nL 32.078125 72.90625 \nQ 44.34375 72.90625 50.609375 67.359375 \nQ 56.890625 61.8125 56.890625 51.125 \nQ 56.890625 40.328125 50.609375 34.8125 \nQ 44.34375 29.296875 32.078125 29.296875 \nL 19.671875 29.296875 \nL 19.671875 0 \nL 9.8125 0 \nz\n\" id=\"DejaVuSans-80\"/>\n     <path d=\"M 48.78125 52.59375 \nL 48.78125 44.1875 \nQ 44.96875 46.296875 41.140625 47.34375 \nQ 37.3125 48.390625 33.40625 48.390625 \nQ 24.65625 48.390625 19.8125 42.84375 \nQ 14.984375 37.3125 14.984375 27.296875 \nQ 14.984375 17.28125 19.8125 11.734375 \nQ 24.65625 6.203125 33.40625 6.203125 \nQ 37.3125 6.203125 41.140625 7.25 \nQ 44.96875 8.296875 48.78125 10.40625 \nL 48.78125 2.09375 \nQ 45.015625 0.34375 40.984375 -0.53125 \nQ 36.96875 -1.421875 32.421875 -1.421875 \nQ 20.0625 -1.421875 12.78125 6.34375 \nQ 5.515625 14.109375 5.515625 27.296875 \nQ 5.515625 40.671875 12.859375 48.328125 \nQ 20.21875 56 33.015625 56 \nQ 37.15625 56 41.109375 55.140625 \nQ 45.0625 54.296875 48.78125 52.59375 \nz\n\" id=\"DejaVuSans-99\"/>\n    </defs>\n    <g transform=\"translate(105.656063 16.318125)scale(0.12 -0.12)\">\n     <use xlink:href=\"#DejaVuSans-65\"/>\n     <use x=\"68.330078\" xlink:href=\"#DejaVuSans-118\"/>\n     <use x=\"127.509766\" xlink:href=\"#DejaVuSans-101\"/>\n     <use x=\"189.033203\" xlink:href=\"#DejaVuSans-114\"/>\n     <use x=\"230.146484\" xlink:href=\"#DejaVuSans-97\"/>\n     <use x=\"291.425781\" xlink:href=\"#DejaVuSans-103\"/>\n     <use x=\"354.902344\" xlink:href=\"#DejaVuSans-101\"/>\n     <use x=\"416.425781\" xlink:href=\"#DejaVuSans-32\"/>\n     <use x=\"448.212891\" xlink:href=\"#DejaVuSans-82\"/>\n     <use x=\"517.632812\" xlink:href=\"#DejaVuSans-101\"/>\n     <use x=\"579.15625\" xlink:href=\"#DejaVuSans-108\"/>\n     <use x=\"606.939453\" xlink:href=\"#DejaVuSans-97\"/>\n     <use x=\"668.21875\" xlink:href=\"#DejaVuSans-116\"/>\n     <use x=\"707.427734\" xlink:href=\"#DejaVuSans-105\"/>\n     <use x=\"735.210938\" xlink:href=\"#DejaVuSans-118\"/>\n     <use x=\"794.390625\" xlink:href=\"#DejaVuSans-101\"/>\n     <use x=\"855.914062\" xlink:href=\"#DejaVuSans-32\"/>\n     <use x=\"887.701172\" xlink:href=\"#DejaVuSans-69\"/>\n     <use x=\"950.884766\" xlink:href=\"#DejaVuSans-114\"/>\n     <use x=\"991.982422\" xlink:href=\"#DejaVuSans-114\"/>\n     <use x=\"1033.064453\" xlink:href=\"#DejaVuSans-111\"/>\n     <use x=\"1094.246094\" xlink:href=\"#DejaVuSans-114\"/>\n     <use x=\"1135.359375\" xlink:href=\"#DejaVuSans-115\"/>\n     <use x=\"1187.458984\" xlink:href=\"#DejaVuSans-32\"/>\n     <use x=\"1219.246094\" xlink:href=\"#DejaVuSans-105\"/>\n     <use x=\"1247.029297\" xlink:href=\"#DejaVuSans-110\"/>\n     <use x=\"1310.408203\" xlink:href=\"#DejaVuSans-32\"/>\n     <use x=\"1342.195312\" xlink:href=\"#DejaVuSans-80\"/>\n     <use x=\"1402.482422\" xlink:href=\"#DejaVuSans-114\"/>\n     <use x=\"1443.595703\" xlink:href=\"#DejaVuSans-105\"/>\n     <use x=\"1471.378906\" xlink:href=\"#DejaVuSans-99\"/>\n     <use x=\"1526.359375\" xlink:href=\"#DejaVuSans-101\"/>\n     <use x=\"1587.882812\" xlink:href=\"#DejaVuSans-115\"/>\n    </g>\n   </g>\n  </g>\n  <g id=\"axes_2\">\n   <g id=\"patch_7\">\n    <path clip-path=\"url(#p265146e202)\" d=\"M 400.834398 348.478125 \nL 400.834398 347.204062 \nL 400.834398 23.592188 \nL 400.834398 22.318125 \nL 417.142398 22.318125 \nL 417.142398 23.592188 \nL 417.142398 347.204062 \nL 417.142398 348.478125 \nz\n\" style=\"fill:#ffffff;stroke:#ffffff;stroke-linejoin:miter;stroke-width:0.01;\"/>\n   </g>\n   <image height=\"326\" id=\"image1aa0238535\" transform=\"scale(1 -1)translate(0 -326)\" width=\"16\" x=\"401\" xlink:href=\"data:image/png;base64,\niVBORw0KGgoAAAANSUhEUgAAABAAAAFGCAYAAABjUx8/AAAABHNCSVQICAgIfAhkiAAAAa5JREFUeJztnMFtxDAMBCnZpaWE9F9KnCKGwKwE3t+69WiWFg7wrZ/1+xX4vLU2ub7etRdbQE/Avr46bqE4RJvB2pQBvIW37AQNIlEP1pg4IrUw4BAvEGnKNCI1QPw4A5hA38YAE/VdCGAwECMYsOsT2vjpE+mDEANEwh5c0Ea/TFSkhDbyW6AL6D/C+AxGpIFYGRD1sX6+BxEHDLhAgIkDESeYQ1YExPMZTBtHpKYE7PoEiPouBDDwRfLbeD6DMTFCpGEwbaxpY0uCDgbsjOIzCIB4PgPsgQ/Rnwc+A15n3UR/GwMgJnTBZgB/i7uCAV+g7LHe4IG9CzRBBEScwGaAPcAMdBMTINoJEhhQkTZPMBAvgLjh09mHGCCS7kEAxAaR7F0IgGjfAt7GKxjYCwS0sYHBn5tgIHYweOyBcoNIz/EMsAcdbdQZwAQBz8YHi0RVpgk6IEIGfp1pggiIF4x1ymDayMc6PqE0mGhDbDARH/N0Bv5EOr+N/NFmz8QEBvpESjgfYAb2AvA92QgTcYIABvCFqAYGOIH9nmsDRLhAA0SGoeOkihnAf6nSGfwDMlSNjhDdjCAAAAAASUVORK5CYII=\" y=\"-22\"/>\n   <g id=\"matplotlib.axis_3\"/>\n   <g id=\"matplotlib.axis_4\">\n    <g id=\"ytick_17\">\n     <g id=\"line2d_33\">\n      <defs>\n       <path d=\"M 0 0 \nL 3.5 0 \n\" id=\"mb6f20db6a9\" style=\"stroke:#000000;stroke-width:0.8;\"/>\n      </defs>\n      <g>\n       <use style=\"stroke:#000000;stroke-width:0.8;\" x=\"417.142398\" xlink:href=\"#mb6f20db6a9\" y=\"332.381563\"/>\n      </g>\n     </g>\n     <g id=\"text_34\">\n      <!-- 0.005 -->\n      <g transform=\"translate(424.142398 336.180782)scale(0.1 -0.1)\">\n       <use xlink:href=\"#DejaVuSans-48\"/>\n       <use x=\"63.623047\" xlink:href=\"#DejaVuSans-46\"/>\n       <use x=\"95.410156\" xlink:href=\"#DejaVuSans-48\"/>\n       <use x=\"159.033203\" xlink:href=\"#DejaVuSans-48\"/>\n       <use x=\"222.65625\" xlink:href=\"#DejaVuSans-53\"/>\n      </g>\n     </g>\n    </g>\n    <g id=\"ytick_18\">\n     <g id=\"line2d_34\">\n      <g>\n       <use style=\"stroke:#000000;stroke-width:0.8;\" x=\"417.142398\" xlink:href=\"#mb6f20db6a9\" y=\"285.756114\"/>\n      </g>\n     </g>\n     <g id=\"text_35\">\n      <!-- 0.010 -->\n      <g transform=\"translate(424.142398 289.555333)scale(0.1 -0.1)\">\n       <use xlink:href=\"#DejaVuSans-48\"/>\n       <use x=\"63.623047\" xlink:href=\"#DejaVuSans-46\"/>\n       <use x=\"95.410156\" xlink:href=\"#DejaVuSans-48\"/>\n       <use x=\"159.033203\" xlink:href=\"#DejaVuSans-49\"/>\n       <use x=\"222.65625\" xlink:href=\"#DejaVuSans-48\"/>\n      </g>\n     </g>\n    </g>\n    <g id=\"ytick_19\">\n     <g id=\"line2d_35\">\n      <g>\n       <use style=\"stroke:#000000;stroke-width:0.8;\" x=\"417.142398\" xlink:href=\"#mb6f20db6a9\" y=\"239.130666\"/>\n      </g>\n     </g>\n     <g id=\"text_36\">\n      <!-- 0.015 -->\n      <g transform=\"translate(424.142398 242.929884)scale(0.1 -0.1)\">\n       <use xlink:href=\"#DejaVuSans-48\"/>\n       <use x=\"63.623047\" xlink:href=\"#DejaVuSans-46\"/>\n       <use x=\"95.410156\" xlink:href=\"#DejaVuSans-48\"/>\n       <use x=\"159.033203\" xlink:href=\"#DejaVuSans-49\"/>\n       <use x=\"222.65625\" xlink:href=\"#DejaVuSans-53\"/>\n      </g>\n     </g>\n    </g>\n    <g id=\"ytick_20\">\n     <g id=\"line2d_36\">\n      <g>\n       <use style=\"stroke:#000000;stroke-width:0.8;\" x=\"417.142398\" xlink:href=\"#mb6f20db6a9\" y=\"192.505217\"/>\n      </g>\n     </g>\n     <g id=\"text_37\">\n      <!-- 0.020 -->\n      <g transform=\"translate(424.142398 196.304436)scale(0.1 -0.1)\">\n       <use xlink:href=\"#DejaVuSans-48\"/>\n       <use x=\"63.623047\" xlink:href=\"#DejaVuSans-46\"/>\n       <use x=\"95.410156\" xlink:href=\"#DejaVuSans-48\"/>\n       <use x=\"159.033203\" xlink:href=\"#DejaVuSans-50\"/>\n       <use x=\"222.65625\" xlink:href=\"#DejaVuSans-48\"/>\n      </g>\n     </g>\n    </g>\n    <g id=\"ytick_21\">\n     <g id=\"line2d_37\">\n      <g>\n       <use style=\"stroke:#000000;stroke-width:0.8;\" x=\"417.142398\" xlink:href=\"#mb6f20db6a9\" y=\"145.879768\"/>\n      </g>\n     </g>\n     <g id=\"text_38\">\n      <!-- 0.025 -->\n      <g transform=\"translate(424.142398 149.678987)scale(0.1 -0.1)\">\n       <use xlink:href=\"#DejaVuSans-48\"/>\n       <use x=\"63.623047\" xlink:href=\"#DejaVuSans-46\"/>\n       <use x=\"95.410156\" xlink:href=\"#DejaVuSans-48\"/>\n       <use x=\"159.033203\" xlink:href=\"#DejaVuSans-50\"/>\n       <use x=\"222.65625\" xlink:href=\"#DejaVuSans-53\"/>\n      </g>\n     </g>\n    </g>\n    <g id=\"ytick_22\">\n     <g id=\"line2d_38\">\n      <g>\n       <use style=\"stroke:#000000;stroke-width:0.8;\" x=\"417.142398\" xlink:href=\"#mb6f20db6a9\" y=\"99.254319\"/>\n      </g>\n     </g>\n     <g id=\"text_39\">\n      <!-- 0.030 -->\n      <g transform=\"translate(424.142398 103.053538)scale(0.1 -0.1)\">\n       <use xlink:href=\"#DejaVuSans-48\"/>\n       <use x=\"63.623047\" xlink:href=\"#DejaVuSans-46\"/>\n       <use x=\"95.410156\" xlink:href=\"#DejaVuSans-48\"/>\n       <use x=\"159.033203\" xlink:href=\"#DejaVuSans-51\"/>\n       <use x=\"222.65625\" xlink:href=\"#DejaVuSans-48\"/>\n      </g>\n     </g>\n    </g>\n    <g id=\"ytick_23\">\n     <g id=\"line2d_39\">\n      <g>\n       <use style=\"stroke:#000000;stroke-width:0.8;\" x=\"417.142398\" xlink:href=\"#mb6f20db6a9\" y=\"52.628871\"/>\n      </g>\n     </g>\n     <g id=\"text_40\">\n      <!-- 0.035 -->\n      <g transform=\"translate(424.142398 56.428089)scale(0.1 -0.1)\">\n       <use xlink:href=\"#DejaVuSans-48\"/>\n       <use x=\"63.623047\" xlink:href=\"#DejaVuSans-46\"/>\n       <use x=\"95.410156\" xlink:href=\"#DejaVuSans-48\"/>\n       <use x=\"159.033203\" xlink:href=\"#DejaVuSans-51\"/>\n       <use x=\"222.65625\" xlink:href=\"#DejaVuSans-53\"/>\n      </g>\n     </g>\n    </g>\n   </g>\n   <g id=\"patch_8\">\n    <path d=\"M 400.834398 348.478125 \nL 400.834398 347.204062 \nL 400.834398 23.592188 \nL 400.834398 22.318125 \nL 417.142398 22.318125 \nL 417.142398 23.592188 \nL 417.142398 347.204062 \nL 417.142398 348.478125 \nz\n\" style=\"fill:none;stroke:#000000;stroke-linejoin:miter;stroke-width:0.8;\"/>\n   </g>\n  </g>\n  <g id=\"axes_3\">\n   <g id=\"patch_9\">\n    <path d=\"M 577.95767 348.478125 \nL 925.86167 348.478125 \nL 925.86167 22.318125 \nL 577.95767 22.318125 \nz\n\" style=\"fill:#ffffff;\"/>\n   </g>\n   <g clip-path=\"url(#pf5de933a0d)\">\n    <image height=\"327\" id=\"image80e836dcc5\" transform=\"scale(1 -1)translate(0 -327)\" width=\"348\" x=\"577.95767\" xlink:href=\"data:image/png;base64,\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\" y=\"-21.478125\"/>\n   </g>\n   <g id=\"matplotlib.axis_5\">\n    <g id=\"xtick_17\">\n     <g id=\"line2d_40\">\n      <g>\n       <use style=\"stroke:#000000;stroke-width:0.8;\" x=\"588.82967\" xlink:href=\"#m449b0a9ef9\" y=\"348.478125\"/>\n      </g>\n     </g>\n     <g id=\"text_41\">\n      <!-- 0.6 -->\n      <g transform=\"translate(580.878108 363.076563)scale(0.1 -0.1)\">\n       <use xlink:href=\"#DejaVuSans-48\"/>\n       <use x=\"63.623047\" xlink:href=\"#DejaVuSans-46\"/>\n       <use x=\"95.410156\" xlink:href=\"#DejaVuSans-54\"/>\n      </g>\n     </g>\n    </g>\n    <g id=\"xtick_18\">\n     <g id=\"line2d_41\">\n      <g>\n       <use style=\"stroke:#000000;stroke-width:0.8;\" x=\"610.57367\" xlink:href=\"#m449b0a9ef9\" y=\"348.478125\"/>\n      </g>\n     </g>\n     <g id=\"text_42\">\n      <!-- 0.62 -->\n      <g transform=\"translate(599.440858 363.076563)scale(0.1 -0.1)\">\n       <use xlink:href=\"#DejaVuSans-48\"/>\n       <use x=\"63.623047\" xlink:href=\"#DejaVuSans-46\"/>\n       <use x=\"95.410156\" xlink:href=\"#DejaVuSans-54\"/>\n       <use x=\"159.033203\" xlink:href=\"#DejaVuSans-50\"/>\n      </g>\n     </g>\n    </g>\n    <g id=\"xtick_19\">\n     <g id=\"line2d_42\">\n      <g>\n       <use style=\"stroke:#000000;stroke-width:0.8;\" x=\"632.31767\" xlink:href=\"#m449b0a9ef9\" y=\"348.478125\"/>\n      </g>\n     </g>\n     <g id=\"text_43\">\n      <!-- 0.64 -->\n      <g transform=\"translate(621.184858 363.076563)scale(0.1 -0.1)\">\n       <use xlink:href=\"#DejaVuSans-48\"/>\n       <use x=\"63.623047\" xlink:href=\"#DejaVuSans-46\"/>\n       <use x=\"95.410156\" xlink:href=\"#DejaVuSans-54\"/>\n       <use x=\"159.033203\" xlink:href=\"#DejaVuSans-52\"/>\n      </g>\n     </g>\n    </g>\n    <g id=\"xtick_20\">\n     <g id=\"line2d_43\">\n      <g>\n       <use style=\"stroke:#000000;stroke-width:0.8;\" x=\"654.06167\" xlink:href=\"#m449b0a9ef9\" y=\"348.478125\"/>\n      </g>\n     </g>\n     <g id=\"text_44\">\n      <!-- 0.66 -->\n      <g transform=\"translate(642.928858 363.076563)scale(0.1 -0.1)\">\n       <use xlink:href=\"#DejaVuSans-48\"/>\n       <use x=\"63.623047\" xlink:href=\"#DejaVuSans-46\"/>\n       <use x=\"95.410156\" xlink:href=\"#DejaVuSans-54\"/>\n       <use x=\"159.033203\" xlink:href=\"#DejaVuSans-54\"/>\n      </g>\n     </g>\n    </g>\n    <g id=\"xtick_21\">\n     <g id=\"line2d_44\">\n      <g>\n       <use style=\"stroke:#000000;stroke-width:0.8;\" x=\"675.80567\" xlink:href=\"#m449b0a9ef9\" y=\"348.478125\"/>\n      </g>\n     </g>\n     <g id=\"text_45\">\n      <!-- 0.68 -->\n      <g transform=\"translate(664.672858 363.076563)scale(0.1 -0.1)\">\n       <use xlink:href=\"#DejaVuSans-48\"/>\n       <use x=\"63.623047\" xlink:href=\"#DejaVuSans-46\"/>\n       <use x=\"95.410156\" xlink:href=\"#DejaVuSans-54\"/>\n       <use x=\"159.033203\" xlink:href=\"#DejaVuSans-56\"/>\n      </g>\n     </g>\n    </g>\n    <g id=\"xtick_22\">\n     <g id=\"line2d_45\">\n      <g>\n       <use style=\"stroke:#000000;stroke-width:0.8;\" x=\"697.54967\" xlink:href=\"#m449b0a9ef9\" y=\"348.478125\"/>\n      </g>\n     </g>\n     <g id=\"text_46\">\n      <!-- 0.7 -->\n      <g transform=\"translate(689.598108 363.076563)scale(0.1 -0.1)\">\n       <use xlink:href=\"#DejaVuSans-48\"/>\n       <use x=\"63.623047\" xlink:href=\"#DejaVuSans-46\"/>\n       <use x=\"95.410156\" xlink:href=\"#DejaVuSans-55\"/>\n      </g>\n     </g>\n    </g>\n    <g id=\"xtick_23\">\n     <g id=\"line2d_46\">\n      <g>\n       <use style=\"stroke:#000000;stroke-width:0.8;\" x=\"719.29367\" xlink:href=\"#m449b0a9ef9\" y=\"348.478125\"/>\n      </g>\n     </g>\n     <g id=\"text_47\">\n      <!-- 0.72 -->\n      <g transform=\"translate(708.160858 363.076563)scale(0.1 -0.1)\">\n       <use xlink:href=\"#DejaVuSans-48\"/>\n       <use x=\"63.623047\" xlink:href=\"#DejaVuSans-46\"/>\n       <use x=\"95.410156\" xlink:href=\"#DejaVuSans-55\"/>\n       <use x=\"159.033203\" xlink:href=\"#DejaVuSans-50\"/>\n      </g>\n     </g>\n    </g>\n    <g id=\"xtick_24\">\n     <g id=\"line2d_47\">\n      <g>\n       <use style=\"stroke:#000000;stroke-width:0.8;\" x=\"741.03767\" xlink:href=\"#m449b0a9ef9\" y=\"348.478125\"/>\n      </g>\n     </g>\n     <g id=\"text_48\">\n      <!-- 0.74 -->\n      <g transform=\"translate(729.904858 363.076563)scale(0.1 -0.1)\">\n       <use xlink:href=\"#DejaVuSans-48\"/>\n       <use x=\"63.623047\" xlink:href=\"#DejaVuSans-46\"/>\n       <use x=\"95.410156\" xlink:href=\"#DejaVuSans-55\"/>\n       <use x=\"159.033203\" xlink:href=\"#DejaVuSans-52\"/>\n      </g>\n     </g>\n    </g>\n    <g id=\"xtick_25\">\n     <g id=\"line2d_48\">\n      <g>\n       <use style=\"stroke:#000000;stroke-width:0.8;\" x=\"762.78167\" xlink:href=\"#m449b0a9ef9\" y=\"348.478125\"/>\n      </g>\n     </g>\n     <g id=\"text_49\">\n      <!-- 0.76 -->\n      <g transform=\"translate(751.648858 363.076563)scale(0.1 -0.1)\">\n       <use xlink:href=\"#DejaVuSans-48\"/>\n       <use x=\"63.623047\" xlink:href=\"#DejaVuSans-46\"/>\n       <use x=\"95.410156\" xlink:href=\"#DejaVuSans-55\"/>\n       <use x=\"159.033203\" xlink:href=\"#DejaVuSans-54\"/>\n      </g>\n     </g>\n    </g>\n    <g id=\"xtick_26\">\n     <g id=\"line2d_49\">\n      <g>\n       <use style=\"stroke:#000000;stroke-width:0.8;\" x=\"784.52567\" xlink:href=\"#m449b0a9ef9\" y=\"348.478125\"/>\n      </g>\n     </g>\n     <g id=\"text_50\">\n      <!-- 0.78 -->\n      <g transform=\"translate(773.392858 363.076563)scale(0.1 -0.1)\">\n       <use xlink:href=\"#DejaVuSans-48\"/>\n       <use x=\"63.623047\" xlink:href=\"#DejaVuSans-46\"/>\n       <use x=\"95.410156\" xlink:href=\"#DejaVuSans-55\"/>\n       <use x=\"159.033203\" xlink:href=\"#DejaVuSans-56\"/>\n      </g>\n     </g>\n    </g>\n    <g id=\"xtick_27\">\n     <g id=\"line2d_50\">\n      <g>\n       <use style=\"stroke:#000000;stroke-width:0.8;\" x=\"806.26967\" xlink:href=\"#m449b0a9ef9\" y=\"348.478125\"/>\n      </g>\n     </g>\n     <g id=\"text_51\">\n      <!-- 0.8 -->\n      <g transform=\"translate(798.318108 363.076563)scale(0.1 -0.1)\">\n       <use xlink:href=\"#DejaVuSans-48\"/>\n       <use x=\"63.623047\" xlink:href=\"#DejaVuSans-46\"/>\n       <use x=\"95.410156\" xlink:href=\"#DejaVuSans-56\"/>\n      </g>\n     </g>\n    </g>\n    <g id=\"xtick_28\">\n     <g id=\"line2d_51\">\n      <g>\n       <use style=\"stroke:#000000;stroke-width:0.8;\" x=\"828.01367\" xlink:href=\"#m449b0a9ef9\" y=\"348.478125\"/>\n      </g>\n     </g>\n     <g id=\"text_52\">\n      <!-- 0.82 -->\n      <g transform=\"translate(816.880858 363.076563)scale(0.1 -0.1)\">\n       <use xlink:href=\"#DejaVuSans-48\"/>\n       <use x=\"63.623047\" xlink:href=\"#DejaVuSans-46\"/>\n       <use x=\"95.410156\" xlink:href=\"#DejaVuSans-56\"/>\n       <use x=\"159.033203\" xlink:href=\"#DejaVuSans-50\"/>\n      </g>\n     </g>\n    </g>\n    <g id=\"xtick_29\">\n     <g id=\"line2d_52\">\n      <g>\n       <use style=\"stroke:#000000;stroke-width:0.8;\" x=\"849.75767\" xlink:href=\"#m449b0a9ef9\" y=\"348.478125\"/>\n      </g>\n     </g>\n     <g id=\"text_53\">\n      <!-- 0.84 -->\n      <g transform=\"translate(838.624858 363.076563)scale(0.1 -0.1)\">\n       <use xlink:href=\"#DejaVuSans-48\"/>\n       <use x=\"63.623047\" xlink:href=\"#DejaVuSans-46\"/>\n       <use x=\"95.410156\" xlink:href=\"#DejaVuSans-56\"/>\n       <use x=\"159.033203\" xlink:href=\"#DejaVuSans-52\"/>\n      </g>\n     </g>\n    </g>\n    <g id=\"xtick_30\">\n     <g id=\"line2d_53\">\n      <g>\n       <use style=\"stroke:#000000;stroke-width:0.8;\" x=\"871.50167\" xlink:href=\"#m449b0a9ef9\" y=\"348.478125\"/>\n      </g>\n     </g>\n     <g id=\"text_54\">\n      <!-- 0.86 -->\n      <g transform=\"translate(860.368858 363.076563)scale(0.1 -0.1)\">\n       <use xlink:href=\"#DejaVuSans-48\"/>\n       <use x=\"63.623047\" xlink:href=\"#DejaVuSans-46\"/>\n       <use x=\"95.410156\" xlink:href=\"#DejaVuSans-56\"/>\n       <use x=\"159.033203\" xlink:href=\"#DejaVuSans-54\"/>\n      </g>\n     </g>\n    </g>\n    <g id=\"xtick_31\">\n     <g id=\"line2d_54\">\n      <g>\n       <use style=\"stroke:#000000;stroke-width:0.8;\" x=\"893.24567\" xlink:href=\"#m449b0a9ef9\" y=\"348.478125\"/>\n      </g>\n     </g>\n     <g id=\"text_55\">\n      <!-- 0.88 -->\n      <g transform=\"translate(882.112858 363.076563)scale(0.1 -0.1)\">\n       <use xlink:href=\"#DejaVuSans-48\"/>\n       <use x=\"63.623047\" xlink:href=\"#DejaVuSans-46\"/>\n       <use x=\"95.410156\" xlink:href=\"#DejaVuSans-56\"/>\n       <use x=\"159.033203\" xlink:href=\"#DejaVuSans-56\"/>\n      </g>\n     </g>\n    </g>\n    <g id=\"xtick_32\">\n     <g id=\"line2d_55\">\n      <g>\n       <use style=\"stroke:#000000;stroke-width:0.8;\" x=\"914.98967\" xlink:href=\"#m449b0a9ef9\" y=\"348.478125\"/>\n      </g>\n     </g>\n     <g id=\"text_56\">\n      <!-- 0.9 -->\n      <g transform=\"translate(907.038108 363.076563)scale(0.1 -0.1)\">\n       <use xlink:href=\"#DejaVuSans-48\"/>\n       <use x=\"63.623047\" xlink:href=\"#DejaVuSans-46\"/>\n       <use x=\"95.410156\" xlink:href=\"#DejaVuSans-57\"/>\n      </g>\n     </g>\n    </g>\n   </g>\n   <g id=\"matplotlib.axis_6\">\n    <g id=\"ytick_24\">\n     <g id=\"line2d_56\">\n      <g>\n       <use style=\"stroke:#000000;stroke-width:0.8;\" x=\"577.95767\" xlink:href=\"#me71bcd2fa5\" y=\"22.318125\"/>\n      </g>\n     </g>\n     <g id=\"text_57\">\n      <!-- 1.0 -->\n      <g transform=\"translate(555.054545 26.117344)scale(0.1 -0.1)\">\n       <use xlink:href=\"#DejaVuSans-49\"/>\n       <use x=\"63.623047\" xlink:href=\"#DejaVuSans-46\"/>\n       <use x=\"95.410156\" xlink:href=\"#DejaVuSans-48\"/>\n      </g>\n     </g>\n    </g>\n    <g id=\"ytick_25\">\n     <g id=\"line2d_57\">\n      <g>\n       <use style=\"stroke:#000000;stroke-width:0.8;\" x=\"577.95767\" xlink:href=\"#me71bcd2fa5\" y=\"44.062125\"/>\n      </g>\n     </g>\n     <g id=\"text_58\">\n      <!-- 1.3 -->\n      <g transform=\"translate(555.054545 47.861344)scale(0.1 -0.1)\">\n       <use xlink:href=\"#DejaVuSans-49\"/>\n       <use x=\"63.623047\" xlink:href=\"#DejaVuSans-46\"/>\n       <use x=\"95.410156\" xlink:href=\"#DejaVuSans-51\"/>\n      </g>\n     </g>\n    </g>\n    <g id=\"ytick_26\">\n     <g id=\"line2d_58\">\n      <g>\n       <use style=\"stroke:#000000;stroke-width:0.8;\" x=\"577.95767\" xlink:href=\"#me71bcd2fa5\" y=\"65.806125\"/>\n      </g>\n     </g>\n     <g id=\"text_59\">\n      <!-- 1.6 -->\n      <g transform=\"translate(555.054545 69.605344)scale(0.1 -0.1)\">\n       <use xlink:href=\"#DejaVuSans-49\"/>\n       <use x=\"63.623047\" xlink:href=\"#DejaVuSans-46\"/>\n       <use x=\"95.410156\" xlink:href=\"#DejaVuSans-54\"/>\n      </g>\n     </g>\n    </g>\n    <g id=\"ytick_27\">\n     <g id=\"line2d_59\">\n      <g>\n       <use style=\"stroke:#000000;stroke-width:0.8;\" x=\"577.95767\" xlink:href=\"#me71bcd2fa5\" y=\"87.550125\"/>\n      </g>\n     </g>\n     <g id=\"text_60\">\n      <!-- 1.9 -->\n      <g transform=\"translate(555.054545 91.349344)scale(0.1 -0.1)\">\n       <use xlink:href=\"#DejaVuSans-49\"/>\n       <use x=\"63.623047\" xlink:href=\"#DejaVuSans-46\"/>\n       <use x=\"95.410156\" xlink:href=\"#DejaVuSans-57\"/>\n      </g>\n     </g>\n    </g>\n    <g id=\"ytick_28\">\n     <g id=\"line2d_60\">\n      <g>\n       <use style=\"stroke:#000000;stroke-width:0.8;\" x=\"577.95767\" xlink:href=\"#me71bcd2fa5\" y=\"109.294125\"/>\n      </g>\n     </g>\n     <g id=\"text_61\">\n      <!-- 2.2 -->\n      <g transform=\"translate(555.054545 113.093344)scale(0.1 -0.1)\">\n       <use xlink:href=\"#DejaVuSans-50\"/>\n       <use x=\"63.623047\" xlink:href=\"#DejaVuSans-46\"/>\n       <use x=\"95.410156\" xlink:href=\"#DejaVuSans-50\"/>\n      </g>\n     </g>\n    </g>\n    <g id=\"ytick_29\">\n     <g id=\"line2d_61\">\n      <g>\n       <use style=\"stroke:#000000;stroke-width:0.8;\" x=\"577.95767\" xlink:href=\"#me71bcd2fa5\" y=\"131.038125\"/>\n      </g>\n     </g>\n     <g id=\"text_62\">\n      <!-- 2.5 -->\n      <g transform=\"translate(555.054545 134.837344)scale(0.1 -0.1)\">\n       <use xlink:href=\"#DejaVuSans-50\"/>\n       <use x=\"63.623047\" xlink:href=\"#DejaVuSans-46\"/>\n       <use x=\"95.410156\" xlink:href=\"#DejaVuSans-53\"/>\n      </g>\n     </g>\n    </g>\n    <g id=\"ytick_30\">\n     <g id=\"line2d_62\">\n      <g>\n       <use style=\"stroke:#000000;stroke-width:0.8;\" x=\"577.95767\" xlink:href=\"#me71bcd2fa5\" y=\"152.782125\"/>\n      </g>\n     </g>\n     <g id=\"text_63\">\n      <!-- 2.8 -->\n      <g transform=\"translate(555.054545 156.581344)scale(0.1 -0.1)\">\n       <use xlink:href=\"#DejaVuSans-50\"/>\n       <use x=\"63.623047\" xlink:href=\"#DejaVuSans-46\"/>\n       <use x=\"95.410156\" xlink:href=\"#DejaVuSans-56\"/>\n      </g>\n     </g>\n    </g>\n    <g id=\"ytick_31\">\n     <g id=\"line2d_63\">\n      <g>\n       <use style=\"stroke:#000000;stroke-width:0.8;\" x=\"577.95767\" xlink:href=\"#me71bcd2fa5\" y=\"174.526125\"/>\n      </g>\n     </g>\n     <g id=\"text_64\">\n      <!-- 3.1 -->\n      <g transform=\"translate(555.054545 178.325344)scale(0.1 -0.1)\">\n       <use xlink:href=\"#DejaVuSans-51\"/>\n       <use x=\"63.623047\" xlink:href=\"#DejaVuSans-46\"/>\n       <use x=\"95.410156\" xlink:href=\"#DejaVuSans-49\"/>\n      </g>\n     </g>\n    </g>\n    <g id=\"ytick_32\">\n     <g id=\"line2d_64\">\n      <g>\n       <use style=\"stroke:#000000;stroke-width:0.8;\" x=\"577.95767\" xlink:href=\"#me71bcd2fa5\" y=\"196.270125\"/>\n      </g>\n     </g>\n     <g id=\"text_65\">\n      <!-- 3.4 -->\n      <g transform=\"translate(555.054545 200.069344)scale(0.1 -0.1)\">\n       <use xlink:href=\"#DejaVuSans-51\"/>\n       <use x=\"63.623047\" xlink:href=\"#DejaVuSans-46\"/>\n       <use x=\"95.410156\" xlink:href=\"#DejaVuSans-52\"/>\n      </g>\n     </g>\n    </g>\n    <g id=\"ytick_33\">\n     <g id=\"line2d_65\">\n      <g>\n       <use style=\"stroke:#000000;stroke-width:0.8;\" x=\"577.95767\" xlink:href=\"#me71bcd2fa5\" y=\"218.014125\"/>\n      </g>\n     </g>\n     <g id=\"text_66\">\n      <!-- 3.7 -->\n      <g transform=\"translate(555.054545 221.813344)scale(0.1 -0.1)\">\n       <use xlink:href=\"#DejaVuSans-51\"/>\n       <use x=\"63.623047\" xlink:href=\"#DejaVuSans-46\"/>\n       <use x=\"95.410156\" xlink:href=\"#DejaVuSans-55\"/>\n      </g>\n     </g>\n    </g>\n    <g id=\"ytick_34\">\n     <g id=\"line2d_66\">\n      <g>\n       <use style=\"stroke:#000000;stroke-width:0.8;\" x=\"577.95767\" xlink:href=\"#me71bcd2fa5\" y=\"239.758125\"/>\n      </g>\n     </g>\n     <g id=\"text_67\">\n      <!-- 4.0 -->\n      <g transform=\"translate(555.054545 243.557344)scale(0.1 -0.1)\">\n       <use xlink:href=\"#DejaVuSans-52\"/>\n       <use x=\"63.623047\" xlink:href=\"#DejaVuSans-46\"/>\n       <use x=\"95.410156\" xlink:href=\"#DejaVuSans-48\"/>\n      </g>\n     </g>\n    </g>\n    <g id=\"ytick_35\">\n     <g id=\"line2d_67\">\n      <g>\n       <use style=\"stroke:#000000;stroke-width:0.8;\" x=\"577.95767\" xlink:href=\"#me71bcd2fa5\" y=\"261.502125\"/>\n      </g>\n     </g>\n     <g id=\"text_68\">\n      <!-- 4.3 -->\n      <g transform=\"translate(555.054545 265.301344)scale(0.1 -0.1)\">\n       <use xlink:href=\"#DejaVuSans-52\"/>\n       <use x=\"63.623047\" xlink:href=\"#DejaVuSans-46\"/>\n       <use x=\"95.410156\" xlink:href=\"#DejaVuSans-51\"/>\n      </g>\n     </g>\n    </g>\n    <g id=\"ytick_36\">\n     <g id=\"line2d_68\">\n      <g>\n       <use style=\"stroke:#000000;stroke-width:0.8;\" x=\"577.95767\" xlink:href=\"#me71bcd2fa5\" y=\"283.246125\"/>\n      </g>\n     </g>\n     <g id=\"text_69\">\n      <!-- 4.6 -->\n      <g transform=\"translate(555.054545 287.045344)scale(0.1 -0.1)\">\n       <use xlink:href=\"#DejaVuSans-52\"/>\n       <use x=\"63.623047\" xlink:href=\"#DejaVuSans-46\"/>\n       <use x=\"95.410156\" xlink:href=\"#DejaVuSans-54\"/>\n      </g>\n     </g>\n    </g>\n    <g id=\"ytick_37\">\n     <g id=\"line2d_69\">\n      <g>\n       <use style=\"stroke:#000000;stroke-width:0.8;\" x=\"577.95767\" xlink:href=\"#me71bcd2fa5\" y=\"304.990125\"/>\n      </g>\n     </g>\n     <g id=\"text_70\">\n      <!-- 4.9 -->\n      <g transform=\"translate(555.054545 308.789344)scale(0.1 -0.1)\">\n       <use xlink:href=\"#DejaVuSans-52\"/>\n       <use x=\"63.623047\" xlink:href=\"#DejaVuSans-46\"/>\n       <use x=\"95.410156\" xlink:href=\"#DejaVuSans-57\"/>\n      </g>\n     </g>\n    </g>\n    <g id=\"ytick_38\">\n     <g id=\"line2d_70\">\n      <g>\n       <use style=\"stroke:#000000;stroke-width:0.8;\" x=\"577.95767\" xlink:href=\"#me71bcd2fa5\" y=\"326.734125\"/>\n      </g>\n     </g>\n     <g id=\"text_71\">\n      <!-- 5.2 -->\n      <g transform=\"translate(555.054545 330.533344)scale(0.1 -0.1)\">\n       <use xlink:href=\"#DejaVuSans-53\"/>\n       <use x=\"63.623047\" xlink:href=\"#DejaVuSans-46\"/>\n       <use x=\"95.410156\" xlink:href=\"#DejaVuSans-50\"/>\n      </g>\n     </g>\n    </g>\n    <g id=\"ytick_39\">\n     <g id=\"line2d_71\">\n      <g>\n       <use style=\"stroke:#000000;stroke-width:0.8;\" x=\"577.95767\" xlink:href=\"#me71bcd2fa5\" y=\"348.478125\"/>\n      </g>\n     </g>\n     <g id=\"text_72\">\n      <!-- 5.5 -->\n      <g transform=\"translate(555.054545 352.277344)scale(0.1 -0.1)\">\n       <use xlink:href=\"#DejaVuSans-53\"/>\n       <use x=\"63.623047\" xlink:href=\"#DejaVuSans-46\"/>\n       <use x=\"95.410156\" xlink:href=\"#DejaVuSans-53\"/>\n      </g>\n     </g>\n    </g>\n   </g>\n   <g id=\"patch_10\">\n    <path d=\"M 577.95767 348.478125 \nL 577.95767 22.318125 \n\" style=\"fill:none;stroke:#000000;stroke-linecap:square;stroke-linejoin:miter;stroke-width:0.8;\"/>\n   </g>\n   <g id=\"patch_11\">\n    <path d=\"M 925.86167 348.478125 \nL 925.86167 22.318125 \n\" style=\"fill:none;stroke:#000000;stroke-linecap:square;stroke-linejoin:miter;stroke-width:0.8;\"/>\n   </g>\n   <g id=\"patch_12\">\n    <path d=\"M 577.95767 348.478125 \nL 925.86167 348.478125 \n\" style=\"fill:none;stroke:#000000;stroke-linecap:square;stroke-linejoin:miter;stroke-width:0.8;\"/>\n   </g>\n   <g id=\"patch_13\">\n    <path d=\"M 577.95767 22.318125 \nL 925.86167 22.318125 \n\" style=\"fill:none;stroke:#000000;stroke-linecap:square;stroke-linejoin:miter;stroke-width:0.8;\"/>\n   </g>\n   <g id=\"text_73\">\n    <!-- Max Relative Errors in Prices -->\n    <defs>\n     <path d=\"M 9.8125 72.90625 \nL 24.515625 72.90625 \nL 43.109375 23.296875 \nL 61.8125 72.90625 \nL 76.515625 72.90625 \nL 76.515625 0 \nL 66.890625 0 \nL 66.890625 64.015625 \nL 48.09375 14.015625 \nL 38.1875 14.015625 \nL 19.390625 64.015625 \nL 19.390625 0 \nL 9.8125 0 \nz\n\" id=\"DejaVuSans-77\"/>\n     <path d=\"M 54.890625 54.6875 \nL 35.109375 28.078125 \nL 55.90625 0 \nL 45.3125 0 \nL 29.390625 21.484375 \nL 13.484375 0 \nL 2.875 0 \nL 24.125 28.609375 \nL 4.6875 54.6875 \nL 15.28125 54.6875 \nL 29.78125 35.203125 \nL 44.28125 54.6875 \nz\n\" id=\"DejaVuSans-120\"/>\n    </defs>\n    <g transform=\"translate(666.092795 16.318125)scale(0.12 -0.12)\">\n     <use xlink:href=\"#DejaVuSans-77\"/>\n     <use x=\"86.279297\" xlink:href=\"#DejaVuSans-97\"/>\n     <use x=\"147.558594\" xlink:href=\"#DejaVuSans-120\"/>\n     <use x=\"206.738281\" xlink:href=\"#DejaVuSans-32\"/>\n     <use x=\"238.525391\" xlink:href=\"#DejaVuSans-82\"/>\n     <use x=\"307.945312\" xlink:href=\"#DejaVuSans-101\"/>\n     <use x=\"369.46875\" xlink:href=\"#DejaVuSans-108\"/>\n     <use x=\"397.251953\" xlink:href=\"#DejaVuSans-97\"/>\n     <use x=\"458.53125\" xlink:href=\"#DejaVuSans-116\"/>\n     <use x=\"497.740234\" xlink:href=\"#DejaVuSans-105\"/>\n     <use x=\"525.523438\" xlink:href=\"#DejaVuSans-118\"/>\n     <use x=\"584.703125\" xlink:href=\"#DejaVuSans-101\"/>\n     <use x=\"646.226562\" xlink:href=\"#DejaVuSans-32\"/>\n     <use x=\"678.013672\" xlink:href=\"#DejaVuSans-69\"/>\n     <use x=\"741.197266\" xlink:href=\"#DejaVuSans-114\"/>\n     <use x=\"782.294922\" xlink:href=\"#DejaVuSans-114\"/>\n     <use x=\"823.376953\" xlink:href=\"#DejaVuSans-111\"/>\n     <use x=\"884.558594\" xlink:href=\"#DejaVuSans-114\"/>\n     <use x=\"925.671875\" xlink:href=\"#DejaVuSans-115\"/>\n     <use x=\"977.771484\" xlink:href=\"#DejaVuSans-32\"/>\n     <use x=\"1009.558594\" xlink:href=\"#DejaVuSans-105\"/>\n     <use x=\"1037.341797\" xlink:href=\"#DejaVuSans-110\"/>\n     <use x=\"1100.720703\" xlink:href=\"#DejaVuSans-32\"/>\n     <use x=\"1132.507812\" xlink:href=\"#DejaVuSans-80\"/>\n     <use x=\"1192.794922\" xlink:href=\"#DejaVuSans-114\"/>\n     <use x=\"1233.908203\" xlink:href=\"#DejaVuSans-105\"/>\n     <use x=\"1261.691406\" xlink:href=\"#DejaVuSans-99\"/>\n     <use x=\"1316.671875\" xlink:href=\"#DejaVuSans-101\"/>\n     <use x=\"1378.195312\" xlink:href=\"#DejaVuSans-115\"/>\n    </g>\n   </g>\n  </g>\n  <g id=\"axes_4\">\n   <g id=\"patch_14\">\n    <path clip-path=\"url(#pb7bec89cd6)\" d=\"M 948.688943 348.478125 \nL 948.688943 347.204062 \nL 948.688943 23.592188 \nL 948.688943 22.318125 \nL 964.996943 22.318125 \nL 964.996943 23.592188 \nL 964.996943 347.204062 \nL 964.996943 348.478125 \nz\n\" style=\"fill:#ffffff;stroke:#ffffff;stroke-linejoin:miter;stroke-width:0.01;\"/>\n   </g>\n   <image height=\"326\" id=\"imaged1bde0fa59\" transform=\"scale(1 -1)translate(0 -326)\" width=\"16\" x=\"949\" xlink:href=\"data:image/png;base64,\niVBORw0KGgoAAAANSUhEUgAAABAAAAFGCAYAAABjUx8/AAAABHNCSVQICAgIfAhkiAAAAa5JREFUeJztnMFtxDAMBCnZpaWE9F9KnCKGwKwE3t+69WiWFg7wrZ/1+xX4vLU2ub7etRdbQE/Avr46bqE4RJvB2pQBvIW37AQNIlEP1pg4IrUw4BAvEGnKNCI1QPw4A5hA38YAE/VdCGAwECMYsOsT2vjpE+mDEANEwh5c0Ea/TFSkhDbyW6AL6D/C+AxGpIFYGRD1sX6+BxEHDLhAgIkDESeYQ1YExPMZTBtHpKYE7PoEiPouBDDwRfLbeD6DMTFCpGEwbaxpY0uCDgbsjOIzCIB4PgPsgQ/Rnwc+A15n3UR/GwMgJnTBZgB/i7uCAV+g7LHe4IG9CzRBBEScwGaAPcAMdBMTINoJEhhQkTZPMBAvgLjh09mHGCCS7kEAxAaR7F0IgGjfAt7GKxjYCwS0sYHBn5tgIHYweOyBcoNIz/EMsAcdbdQZwAQBz8YHi0RVpgk6IEIGfp1pggiIF4x1ymDayMc6PqE0mGhDbDARH/N0Bv5EOr+N/NFmz8QEBvpESjgfYAb2AvA92QgTcYIABvCFqAYGOIH9nmsDRLhAA0SGoeOkihnAf6nSGfwDMlSNjhDdjCAAAAAASUVORK5CYII=\" y=\"-22\"/>\n   <g id=\"matplotlib.axis_7\"/>\n   <g id=\"matplotlib.axis_8\">\n    <g id=\"ytick_40\">\n     <g id=\"line2d_72\">\n      <g>\n       <use style=\"stroke:#000000;stroke-width:0.8;\" x=\"964.996943\" xlink:href=\"#mb6f20db6a9\" y=\"321.544889\"/>\n      </g>\n     </g>\n     <g id=\"text_74\">\n      <!-- 0.02 -->\n      <g transform=\"translate(971.996943 325.344108)scale(0.1 -0.1)\">\n       <use xlink:href=\"#DejaVuSans-48\"/>\n       <use x=\"63.623047\" xlink:href=\"#DejaVuSans-46\"/>\n       <use x=\"95.410156\" xlink:href=\"#DejaVuSans-48\"/>\n       <use x=\"159.033203\" xlink:href=\"#DejaVuSans-50\"/>\n      </g>\n     </g>\n    </g>\n    <g id=\"ytick_41\">\n     <g id=\"line2d_73\">\n      <g>\n       <use style=\"stroke:#000000;stroke-width:0.8;\" x=\"964.996943\" xlink:href=\"#mb6f20db6a9\" y=\"274.586126\"/>\n      </g>\n     </g>\n     <g id=\"text_75\">\n      <!-- 0.04 -->\n      <g transform=\"translate(971.996943 278.385345)scale(0.1 -0.1)\">\n       <use xlink:href=\"#DejaVuSans-48\"/>\n       <use x=\"63.623047\" xlink:href=\"#DejaVuSans-46\"/>\n       <use x=\"95.410156\" xlink:href=\"#DejaVuSans-48\"/>\n       <use x=\"159.033203\" xlink:href=\"#DejaVuSans-52\"/>\n      </g>\n     </g>\n    </g>\n    <g id=\"ytick_42\">\n     <g id=\"line2d_74\">\n      <g>\n       <use style=\"stroke:#000000;stroke-width:0.8;\" x=\"964.996943\" xlink:href=\"#mb6f20db6a9\" y=\"227.627363\"/>\n      </g>\n     </g>\n     <g id=\"text_76\">\n      <!-- 0.06 -->\n      <g transform=\"translate(971.996943 231.426581)scale(0.1 -0.1)\">\n       <use xlink:href=\"#DejaVuSans-48\"/>\n       <use x=\"63.623047\" xlink:href=\"#DejaVuSans-46\"/>\n       <use x=\"95.410156\" xlink:href=\"#DejaVuSans-48\"/>\n       <use x=\"159.033203\" xlink:href=\"#DejaVuSans-54\"/>\n      </g>\n     </g>\n    </g>\n    <g id=\"ytick_43\">\n     <g id=\"line2d_75\">\n      <g>\n       <use style=\"stroke:#000000;stroke-width:0.8;\" x=\"964.996943\" xlink:href=\"#mb6f20db6a9\" y=\"180.668599\"/>\n      </g>\n     </g>\n     <g id=\"text_77\">\n      <!-- 0.08 -->\n      <g transform=\"translate(971.996943 184.467818)scale(0.1 -0.1)\">\n       <use xlink:href=\"#DejaVuSans-48\"/>\n       <use x=\"63.623047\" xlink:href=\"#DejaVuSans-46\"/>\n       <use x=\"95.410156\" xlink:href=\"#DejaVuSans-48\"/>\n       <use x=\"159.033203\" xlink:href=\"#DejaVuSans-56\"/>\n      </g>\n     </g>\n    </g>\n    <g id=\"ytick_44\">\n     <g id=\"line2d_76\">\n      <g>\n       <use style=\"stroke:#000000;stroke-width:0.8;\" x=\"964.996943\" xlink:href=\"#mb6f20db6a9\" y=\"133.709836\"/>\n      </g>\n     </g>\n     <g id=\"text_78\">\n      <!-- 0.10 -->\n      <g transform=\"translate(971.996943 137.509055)scale(0.1 -0.1)\">\n       <use xlink:href=\"#DejaVuSans-48\"/>\n       <use x=\"63.623047\" xlink:href=\"#DejaVuSans-46\"/>\n       <use x=\"95.410156\" xlink:href=\"#DejaVuSans-49\"/>\n       <use x=\"159.033203\" xlink:href=\"#DejaVuSans-48\"/>\n      </g>\n     </g>\n    </g>\n    <g id=\"ytick_45\">\n     <g id=\"line2d_77\">\n      <g>\n       <use style=\"stroke:#000000;stroke-width:0.8;\" x=\"964.996943\" xlink:href=\"#mb6f20db6a9\" y=\"86.751073\"/>\n      </g>\n     </g>\n     <g id=\"text_79\">\n      <!-- 0.12 -->\n      <g transform=\"translate(971.996943 90.550291)scale(0.1 -0.1)\">\n       <use xlink:href=\"#DejaVuSans-48\"/>\n       <use x=\"63.623047\" xlink:href=\"#DejaVuSans-46\"/>\n       <use x=\"95.410156\" xlink:href=\"#DejaVuSans-49\"/>\n       <use x=\"159.033203\" xlink:href=\"#DejaVuSans-50\"/>\n      </g>\n     </g>\n    </g>\n    <g id=\"ytick_46\">\n     <g id=\"line2d_78\">\n      <g>\n       <use style=\"stroke:#000000;stroke-width:0.8;\" x=\"964.996943\" xlink:href=\"#mb6f20db6a9\" y=\"39.792309\"/>\n      </g>\n     </g>\n     <g id=\"text_80\">\n      <!-- 0.14 -->\n      <g transform=\"translate(971.996943 43.591528)scale(0.1 -0.1)\">\n       <use xlink:href=\"#DejaVuSans-48\"/>\n       <use x=\"63.623047\" xlink:href=\"#DejaVuSans-46\"/>\n       <use x=\"95.410156\" xlink:href=\"#DejaVuSans-49\"/>\n       <use x=\"159.033203\" xlink:href=\"#DejaVuSans-52\"/>\n      </g>\n     </g>\n    </g>\n   </g>\n   <g id=\"patch_15\">\n    <path d=\"M 948.688943 348.478125 \nL 948.688943 347.204062 \nL 948.688943 23.592188 \nL 948.688943 22.318125 \nL 964.996943 22.318125 \nL 964.996943 23.592188 \nL 964.996943 347.204062 \nL 964.996943 348.478125 \nz\n\" style=\"fill:none;stroke:#000000;stroke-linejoin:miter;stroke-width:0.8;\"/>\n   </g>\n  </g>\n </g>\n <defs>\n  <clipPath id=\"p073b81db15\">\n   <rect height=\"326.16\" width=\"347.904\" x=\"30.103125\" y=\"22.318125\"/>\n  </clipPath>\n  <clipPath id=\"p265146e202\">\n   <rect height=\"326.16\" width=\"16.308\" x=\"400.834398\" y=\"22.318125\"/>\n  </clipPath>\n  <clipPath id=\"pf5de933a0d\">\n   <rect height=\"326.16\" width=\"347.904\" x=\"577.95767\" y=\"22.318125\"/>\n  </clipPath>\n  <clipPath id=\"pb7bec89cd6\">\n   <rect height=\"326.16\" width=\"16.308\" x=\"948.688943\" y=\"22.318125\"/>\n  </clipPath>\n </defs>\n</svg>\n",
      "image/png": "[encoded data removed]"
     },
     "metadata": {
      "needs_background": "light"
     }
    }
   ],
   "source": [
    "fig = plt.figure(figsize=(18, 6))\n",
    "\n",
    "ax1=fig.add_subplot(121)\n",
    "\n",
    "plt.imshow(np.mean(np.abs((prices_grid_true_2-prices_grid_pred_2)/prices_grid_true_2),axis=0))\n",
    "plt.title(\"Average Relative Errors in Prices\")\n",
    "\n",
    "ax1.set_yticks(np.linspace(0,num_maturities-1,num_maturities))\n",
    "ax1.set_yticklabels(np.around(maturities,1))\n",
    "ax1.set_xticks(np.linspace(0,num_strikes-1,num_strikes))\n",
    "ax1.set_xticklabels(np.around(strikes,2))\n",
    "plt.colorbar()\n",
    "ax2=fig.add_subplot(122)\n",
    "\n",
    "plt.imshow(np.max(np.abs((prices_grid_true_2-prices_grid_pred_2)/prices_grid_true_2),axis=0))\n",
    "plt.title(\"Max Relative Errors in Prices\")\n",
    "\n",
    "ax2.set_yticks(np.linspace(0,num_maturities-1,num_maturities))\n",
    "ax2.set_yticklabels(np.around(maturities,1))\n",
    "ax2.set_xticks(np.linspace(0,num_strikes-1,num_strikes))\n",
    "ax2.set_xticklabels(np.around(strikes,2))\n",
    "\n",
    "\n",
    "plt.colorbar()\n",
    "plt.savefig('errors_dnn_m1_e.pdf') \n",
    "plt.show()\n"
   ]
  },
  {
   "cell_type": "code",
   "execution_count": 115,
   "metadata": {},
   "outputs": [
    {
     "output_type": "execute_result",
     "data": {
      "text/plain": "158.7401051968199"
     },
     "metadata": {},
     "execution_count": 115
    }
   ],
   "source": [
    "2000**(2/3)"
   ]
  },
  {
   "cell_type": "code",
   "execution_count": 13,
   "metadata": {
    "tags": []
   },
   "outputs": [
    {
     "output_type": "stream",
     "name": "stdout",
     "text": "INFO:tensorflow:Restoring parameters from ./models/sabr_dnn\n173 µs ± 2.23 µs per loop (mean ± std. dev. of 7 runs, 10000 loops each)\n"
    }
   ],
   "source": [
    "with tf.Session() as sess:                          \n",
    "        saver.restore(sess, \"./models/sabr_dnn\")\n",
    "        x = uniform.rvs(size=(1,3))\n",
    "        %timeit sess.run(outputs,feed_dict={X: x})"
   ]
  },
  {
   "cell_type": "code",
   "execution_count": 12,
   "metadata": {
    "tags": []
   },
   "outputs": [
    {
     "output_type": "stream",
     "name": "stdout",
     "text": "15.2 s ± 73.3 ms per loop (mean ± std. dev. of 7 runs, 1 loop each)\n"
    }
   ],
   "source": [
    "theta= reverse_transform_X(uniform.rvs(size=(1,num_model_parameters)))\n",
    "\n",
    "%timeit prices_grid(theta[0,:])"
   ]
  },
  {
   "cell_type": "code",
   "execution_count": 13,
   "metadata": {
    "tags": []
   },
   "outputs": [
    {
     "output_type": "stream",
     "name": "stdout",
     "text": "77.5 ms ± 377 µs per loop (mean ± std. dev. of 7 runs, 10 loops each)\n"
    }
   ],
   "source": [
    "%timeit corr_brownian_motion(100,1,10000,0)"
   ]
  },
  {
   "cell_type": "code",
   "execution_count": 14,
   "metadata": {
    "tags": []
   },
   "outputs": [
    {
     "output_type": "stream",
     "name": "stdout",
     "text": "15.3 s ± 288 ms per loop (mean ± std. dev. of 7 runs, 1 loop each)\n"
    }
   ],
   "source": [
    "W,Z=corr_brownian_motion(100,1,10000,0)\n",
    "%timeit sabr(theta[0,0],theta[0,1],maturities[-1],W,Z,V0,S0)"
   ]
  },
  {
   "cell_type": "code",
   "execution_count": 18,
   "metadata": {
    "tags": []
   },
   "outputs": [
    {
     "output_type": "stream",
     "name": "stdout",
     "text": "15.4 s ± 77.8 ms per loop (mean ± std. dev. of 7 runs, 1 loop each)\n"
    }
   ],
   "source": [
    "%timeit next_batch_sabr_EM_train(1,contract_bounds,model_bounds)"
   ]
  },
  {
   "cell_type": "code",
   "execution_count": 22,
   "metadata": {
    "tags": []
   },
   "outputs": [
    {
     "output_type": "stream",
     "name": "stdout",
     "text": "INFO:tensorflow:Restoring parameters from ./models/sabr_dnn\n2.5 ms ± 71 µs per loop (mean ± std. dev. of 7 runs, 100 loops each)\n"
    }
   ],
   "source": [
    "def NNgradientpred(x):\n",
    "    x = np.asarray(x)\n",
    "    grad = np.zeros((num_output_parameters,num_input_parameters))\n",
    "        \n",
    "    delta = 0.0000000001\n",
    "    for i in range(num_input_parameters):\n",
    "        h = np.zeros(x.shape)\n",
    "        h[0,i] = delta\n",
    "        \n",
    "        #two point gradient\n",
    "        #grad[i] = (sess.run(outputs,feed_dict={X: x+h}) - sess.run(outputs,feed_dict={X: x-h}))/2/delta\n",
    "\n",
    "        #four point gradient\n",
    "        grad[:,i] = (-sess.run(outputs,feed_dict={X: x+2*h})+8*sess.run(outputs,feed_dict={X: x+h})-8*sess.run(outputs,feed_dict={X: x-h}) +sess.run(outputs,feed_dict={X: x-2*h}))/12/delta\n",
    "\n",
    "    return np.mean(grad,axis=0)\n",
    "\n",
    "with tf.Session() as sess:                          \n",
    "        saver.restore(sess, \"./models/sabr_dnn\")\n",
    "        theta = uniform.rvs(size=(1,3))\n",
    "        x = np.zeros((1,3))\n",
    "        \n",
    "        x[0,:] = theta\n",
    "        %timeit NNgradientpred(x).T"
   ]
  },
  {
   "cell_type": "code",
   "execution_count": null,
   "metadata": {},
   "outputs": [],
   "source": []
  }
 ],
 "metadata": {
  "language_info": {
   "codemirror_mode": {
    "name": "ipython",
    "version": 3
   },
   "file_extension": ".py",
   "mimetype": "text/x-python",
   "name": "python",
   "nbconvert_exporter": "python",
   "pygments_lexer": "ipython3",
   "version": "3.5.4-final"
  },
  "orig_nbformat": 2,
  "kernelspec": {
   "name": "python3",
   "display_name": "Python 3"
  }
 },
 "nbformat": 4,
 "nbformat_minor": 2
}