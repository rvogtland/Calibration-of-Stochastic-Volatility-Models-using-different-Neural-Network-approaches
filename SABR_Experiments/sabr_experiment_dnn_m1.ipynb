{
 "cells": [
  {
   "cell_type": "code",
   "execution_count": 1,
   "metadata": {},
   "outputs": [],
   "source": [
    "import pandas as pd\n",
    "import numpy as np\n",
    "import matplotlib.pyplot as plt\n",
    "import tensorflow as tf\n",
    "from tensorflow.contrib.layers import fully_connected\n",
    "from math import sqrt\n",
    "from scipy.stats import norm\n",
    "from scipy.stats import uniform\n",
    "import cmath #for complex numbers\n",
    "from scipy.integrate import quad #for numerical integration\n",
    "from sklearn.preprocessing import MinMaxScaler\n",
    "import scipy\n",
    "import time\n",
    "import multiprocessing"
   ]
  },
  {
   "cell_type": "markdown",
   "metadata": {},
   "source": [
    "## Define some Variables"
   ]
  },
  {
   "cell_type": "code",
   "execution_count": 2,
   "metadata": {},
   "outputs": [],
   "source": [
    "num_model_parameters = 3\n",
    "num_strikes = 16\n",
    "num_maturities = 16\n",
    "\n",
    "\n",
    "num_input_parameters = 3\n",
    "num_output_parameters = num_maturities*num_strikes\n",
    "learning_rate = 0.001\n",
    "num_steps = 50\n",
    "batch_size = 10\n",
    "num_neurons = 40\n",
    "\n",
    "#initial values\n",
    "S0 = 1.0\n",
    "V0 = 0.1\n",
    "r = 0.05\n",
    "\n",
    "\n",
    "contract_bounds = np.array([[0.6*S0,1.2*S0],[1,10]]) #bounds for K,T\n",
    "model_bounds = np.array([[0.01,0.15],[0,1],[-1,0]]) #bounds for alpha,beta,rho, make sure alpha>0, beta,rho \\in [0,1]\n",
    "\n",
    "\"\"\"\n",
    "Note: The grid of stirkes and maturities is equidistant here put could be choosen differently for real world application.\n",
    "Note: For the code below to striktly follow the bounds specified above make sure that *_distance x num_* is less than half the distance from the highest to lowest * (* = strikes/maturities). \n",
    "\"\"\"\n",
    "maturities_distance = (contract_bounds[1,1]-contract_bounds[1,0])/(2*num_maturities) \n",
    "strikes_distance = (contract_bounds[0,1]-contract_bounds[0,0])/(2*num_strikes)\n",
    "\n",
    "strikes = np.linspace(contract_bounds[0,0],contract_bounds[0,0]+num_strikes*strikes_distance,num_strikes)\n",
    "maturities = np.linspace(contract_bounds[1,0],contract_bounds[1,0]+num_maturities*maturities_distance,num_maturities)"
   ]
  },
  {
   "cell_type": "code",
   "execution_count": 3,
   "metadata": {},
   "outputs": [],
   "source": [
    "X = tf.placeholder(tf.float32, [None, num_input_parameters])\n",
    "y = tf.placeholder(tf.float32, [None, num_output_parameters])"
   ]
  },
  {
   "cell_type": "markdown",
   "metadata": {},
   "source": [
    "## Some Helper Functions"
   ]
  },
  {
   "cell_type": "code",
   "execution_count": 4,
   "metadata": {},
   "outputs": [],
   "source": [
    "def corr_brownian_motion(n, T, dim, rho):\n",
    "    dt = T/n\n",
    "\n",
    "    dW1 = norm.rvs(size=(dim,n+1) , scale=sqrt(dt))\n",
    "    dW2 = rho * dW1 + np.sqrt(1 - np.power(rho ,2)) * norm.rvs(size=(dim,n+1) , scale=sqrt(dt))\n",
    "        \n",
    "    W1 = np.cumsum(dW1, axis=-1)\n",
    "    W2 = np.cumsum(dW2, axis=-1)\n",
    " \n",
    "    return W1,W2\n",
    "\n",
    "def euler_maruyama(mu,sigma,T,x0,W):\n",
    "    dim = W.shape[0]\n",
    "    n = W.shape[1]-1\n",
    "    Y = np.zeros((dim,n+1))\n",
    "    dt = T/n\n",
    "    sqrt_dt = np.sqrt(dt)\n",
    "    for l in range(dim):\n",
    "        Y[l,0] = x0\n",
    "        for i in range(n):\n",
    "            Y[l,i+1] = Y[l,i] + np.multiply(mu(Y[l,i],l,i),dt) + sigma(Y[l,i],l,i)*sqrt_dt*(W[l,i+1]-W[l,i])\n",
    "    \n",
    "    return Y\n",
    "\n",
    "def sabr(alpha,beta,T,W,Z,V0,S0):\n",
    "    #print(beta)\n",
    "    #assert(beta>0 and beta<1)\n",
    "\n",
    "    def mu2(V,i,k):\n",
    "        return 0.0\n",
    "    \n",
    "    def sigma2(V,i,k):\n",
    "        return np.multiply(alpha,V)\n",
    "    \n",
    "    V = euler_maruyama(mu2,sigma2,T,V0,Z)\n",
    "    \n",
    "    def mu1(S,i,k):\n",
    "        return 0.0\n",
    "    \n",
    "    def sigma1(S,i,k):\n",
    "        return np.multiply(V[i,k],np.power(np.maximum(0.0,S),beta))\n",
    "    \n",
    "    S = euler_maruyama(mu1,sigma1,T,S0,W)\n",
    "    \n",
    "    return S,V\n",
    "\n",
    "def reverse_transform_X(X_scaled):\n",
    "    X = np.zeros(X_scaled.shape)\n",
    "    for i in range(num_input_parameters):\n",
    "        X[:,i] = X_scaled[:,i]*(model_bounds[i][1]-model_bounds[i][0]) + model_bounds[i][0]\n",
    "    return X\n",
    "\n",
    "def price_pred(alpha,beta,rho,n,dim,T,K,V0,S0):\n",
    "    W,Z = corr_brownian_motion(n,T,dim,rho)\n",
    "    S,V = sabr(alpha,beta,T,W,Z,V0,S0)\n",
    "    S_T = S[:,n]\n",
    "    P = np.exp(-r*T) * np.mean(np.maximum(S_T-K,np.zeros(dim)))\n",
    "    \n",
    "    return P\n",
    "\n",
    "def next_batch_sabr_EM_train(batch_size,contract_bounds,model_bounds):\n",
    "    X_scaled = np.zeros((batch_size,num_input_parameters))\n",
    "    y = np.zeros((batch_size,num_output_parameters))\n",
    "\n",
    "    X_scaled[:,0] = uniform.rvs(size=batch_size) #alpha\n",
    "    X_scaled[:,1] = uniform.rvs(size=batch_size) #beta\n",
    "    X_scaled[:,2] = uniform.rvs(size=batch_size) #rho\n",
    "\n",
    "    X = reverse_transform_X(X_scaled)\n",
    "\n",
    "    n = 100\n",
    "    dim = 50\n",
    "    for i in range(batch_size):\n",
    "        for j in range(num_maturities):\n",
    "            for k in range(num_strikes):\n",
    "                y[i,j*num_strikes+k] = price_pred(X[i,0],X[i,1],X[i,2],n,dim,maturities[j],strikes[k],V0,S0)\n",
    "\n",
    "    return X_scaled,y"
   ]
  },
  {
   "cell_type": "markdown",
   "metadata": {},
   "source": [
    "## Design of the NN"
   ]
  },
  {
   "cell_type": "code",
   "execution_count": 5,
   "metadata": {
    "tags": []
   },
   "outputs": [
    {
     "output_type": "stream",
     "name": "stdout",
     "text": "WARNING:tensorflow:From /Users/robinvogtland/opt/anaconda3/lib/python3.7/site-packages/tensorflow_core/contrib/layers/python/layers/layers.py:1866: Layer.apply (from tensorflow.python.keras.engine.base_layer) is deprecated and will be removed in a future version.\nInstructions for updating:\nPlease use `layer.__call__` method instead.\n"
    }
   ],
   "source": [
    "#Layers\n",
    "hidden1 = fully_connected(X, num_neurons, activation_fn=tf.nn.elu)\n",
    "bn1 = tf.nn.batch_normalization(hidden1, 0, 1, 0, 1, 0.000001)\n",
    "hidden2 = fully_connected(bn1, num_neurons, activation_fn=tf.nn.elu)\n",
    "bn2 = tf.nn.batch_normalization(hidden2, 0, 1, 0, 1, 0.000001)\n",
    "hidden3 = fully_connected(bn2, num_neurons, activation_fn=tf.nn.elu)\n",
    "bn3 = tf.nn.batch_normalization(hidden3, 0, 1, 0, 1, 0.000001)\n",
    "hidden4 = fully_connected(hidden3, num_neurons, activation_fn=tf.nn.elu)\n",
    "bn4 = tf.nn.batch_normalization(hidden4, 0, 1, 0, 1, 0.000001)\n",
    "\n",
    "outputs = fully_connected(bn4, num_output_parameters, activation_fn=None)"
   ]
  },
  {
   "cell_type": "code",
   "execution_count": 6,
   "metadata": {},
   "outputs": [],
   "source": [
    "#Loss Function\n",
    "loss = tf.reduce_mean(tf.sqrt(tf.square(outputs - y)))  # MSE\n",
    "\n",
    "#Optimizer\n",
    "optimizer = tf.train.AdamOptimizer(learning_rate)\n",
    "train = optimizer.minimize(loss)\n",
    "\n",
    "init = tf.global_variables_initializer()\n",
    "\n",
    "saver = tf.train.Saver()"
   ]
  },
  {
   "cell_type": "code",
   "execution_count": 8,
   "metadata": {},
   "outputs": [
    {
     "output_type": "error",
     "ename": "KeyboardInterrupt",
     "evalue": "",
     "traceback": [
      "\u001b[0;31m---------------------------------------------------------------------------\u001b[0m",
      "\u001b[0;31mKeyboardInterrupt\u001b[0m                         Traceback (most recent call last)",
      "\u001b[0;32m<ipython-input-8-eeed819e8cd2>\u001b[0m in \u001b[0;36m<module>\u001b[0;34m\u001b[0m\n\u001b[1;32m     10\u001b[0m     \u001b[0;32mfor\u001b[0m \u001b[0miteration\u001b[0m \u001b[0;32min\u001b[0m \u001b[0mrange\u001b[0m\u001b[0;34m(\u001b[0m\u001b[0mnum_steps\u001b[0m\u001b[0;34m)\u001b[0m\u001b[0;34m:\u001b[0m\u001b[0;34m\u001b[0m\u001b[0;34m\u001b[0m\u001b[0m\n\u001b[1;32m     11\u001b[0m \u001b[0;34m\u001b[0m\u001b[0m\n\u001b[0;32m---> 12\u001b[0;31m         \u001b[0mX_batch\u001b[0m\u001b[0;34m,\u001b[0m\u001b[0mY_batch\u001b[0m \u001b[0;34m=\u001b[0m \u001b[0mnext_batch_sabr_EM_train\u001b[0m\u001b[0;34m(\u001b[0m\u001b[0mbatch_size\u001b[0m\u001b[0;34m,\u001b[0m\u001b[0mcontract_bounds\u001b[0m\u001b[0;34m,\u001b[0m\u001b[0mmodel_bounds\u001b[0m\u001b[0;34m)\u001b[0m\u001b[0;34m\u001b[0m\u001b[0;34m\u001b[0m\u001b[0m\n\u001b[0m\u001b[1;32m     13\u001b[0m         \u001b[0msess\u001b[0m\u001b[0;34m.\u001b[0m\u001b[0mrun\u001b[0m\u001b[0;34m(\u001b[0m\u001b[0mtrain\u001b[0m\u001b[0;34m,\u001b[0m\u001b[0mfeed_dict\u001b[0m\u001b[0;34m=\u001b[0m\u001b[0;34m{\u001b[0m\u001b[0mX\u001b[0m\u001b[0;34m:\u001b[0m \u001b[0mX_batch\u001b[0m\u001b[0;34m,\u001b[0m \u001b[0my\u001b[0m\u001b[0;34m:\u001b[0m \u001b[0mY_batch\u001b[0m\u001b[0;34m}\u001b[0m\u001b[0;34m)\u001b[0m\u001b[0;34m\u001b[0m\u001b[0;34m\u001b[0m\u001b[0m\n\u001b[1;32m     14\u001b[0m \u001b[0;34m\u001b[0m\u001b[0m\n",
      "\u001b[0;32m<ipython-input-5-1103876ce0cf>\u001b[0m in \u001b[0;36mnext_batch_sabr_EM_train\u001b[0;34m(batch_size, contract_bounds, model_bounds)\u001b[0m\n\u001b[1;32m     74\u001b[0m         \u001b[0;32mfor\u001b[0m \u001b[0mj\u001b[0m \u001b[0;32min\u001b[0m \u001b[0mrange\u001b[0m\u001b[0;34m(\u001b[0m\u001b[0mnum_maturities\u001b[0m\u001b[0;34m)\u001b[0m\u001b[0;34m:\u001b[0m\u001b[0;34m\u001b[0m\u001b[0;34m\u001b[0m\u001b[0m\n\u001b[1;32m     75\u001b[0m             \u001b[0;32mfor\u001b[0m \u001b[0mk\u001b[0m \u001b[0;32min\u001b[0m \u001b[0mrange\u001b[0m\u001b[0;34m(\u001b[0m\u001b[0mnum_strikes\u001b[0m\u001b[0;34m)\u001b[0m\u001b[0;34m:\u001b[0m\u001b[0;34m\u001b[0m\u001b[0;34m\u001b[0m\u001b[0m\n\u001b[0;32m---> 76\u001b[0;31m                 \u001b[0my\u001b[0m\u001b[0;34m[\u001b[0m\u001b[0mi\u001b[0m\u001b[0;34m,\u001b[0m\u001b[0mj\u001b[0m\u001b[0;34m*\u001b[0m\u001b[0mnum_strikes\u001b[0m\u001b[0;34m+\u001b[0m\u001b[0mk\u001b[0m\u001b[0;34m]\u001b[0m \u001b[0;34m=\u001b[0m \u001b[0mprice_pred\u001b[0m\u001b[0;34m(\u001b[0m\u001b[0mX\u001b[0m\u001b[0;34m[\u001b[0m\u001b[0mi\u001b[0m\u001b[0;34m,\u001b[0m\u001b[0;36m0\u001b[0m\u001b[0;34m]\u001b[0m\u001b[0;34m,\u001b[0m\u001b[0mX\u001b[0m\u001b[0;34m[\u001b[0m\u001b[0mi\u001b[0m\u001b[0;34m,\u001b[0m\u001b[0;36m1\u001b[0m\u001b[0;34m]\u001b[0m\u001b[0;34m,\u001b[0m\u001b[0mX\u001b[0m\u001b[0;34m[\u001b[0m\u001b[0mi\u001b[0m\u001b[0;34m,\u001b[0m\u001b[0;36m2\u001b[0m\u001b[0;34m]\u001b[0m\u001b[0;34m,\u001b[0m\u001b[0mn\u001b[0m\u001b[0;34m,\u001b[0m\u001b[0mdim\u001b[0m\u001b[0;34m,\u001b[0m\u001b[0mmaturities\u001b[0m\u001b[0;34m[\u001b[0m\u001b[0mj\u001b[0m\u001b[0;34m]\u001b[0m\u001b[0;34m,\u001b[0m\u001b[0mstrikes\u001b[0m\u001b[0;34m[\u001b[0m\u001b[0mk\u001b[0m\u001b[0;34m]\u001b[0m\u001b[0;34m,\u001b[0m\u001b[0mV0\u001b[0m\u001b[0;34m,\u001b[0m\u001b[0mS0\u001b[0m\u001b[0;34m)\u001b[0m\u001b[0;34m\u001b[0m\u001b[0;34m\u001b[0m\u001b[0m\n\u001b[0m\u001b[1;32m     77\u001b[0m \u001b[0;34m\u001b[0m\u001b[0m\n\u001b[1;32m     78\u001b[0m     \u001b[0;32mreturn\u001b[0m \u001b[0mX_scaled\u001b[0m\u001b[0;34m,\u001b[0m\u001b[0my\u001b[0m\u001b[0;34m\u001b[0m\u001b[0;34m\u001b[0m\u001b[0m\n",
      "\u001b[0;32m<ipython-input-5-1103876ce0cf>\u001b[0m in \u001b[0;36mprice_pred\u001b[0;34m(alpha, beta, rho, n, dim, T, K, V0, S0)\u001b[0m\n\u001b[1;32m     53\u001b[0m \u001b[0;32mdef\u001b[0m \u001b[0mprice_pred\u001b[0m\u001b[0;34m(\u001b[0m\u001b[0malpha\u001b[0m\u001b[0;34m,\u001b[0m\u001b[0mbeta\u001b[0m\u001b[0;34m,\u001b[0m\u001b[0mrho\u001b[0m\u001b[0;34m,\u001b[0m\u001b[0mn\u001b[0m\u001b[0;34m,\u001b[0m\u001b[0mdim\u001b[0m\u001b[0;34m,\u001b[0m\u001b[0mT\u001b[0m\u001b[0;34m,\u001b[0m\u001b[0mK\u001b[0m\u001b[0;34m,\u001b[0m\u001b[0mV0\u001b[0m\u001b[0;34m,\u001b[0m\u001b[0mS0\u001b[0m\u001b[0;34m)\u001b[0m\u001b[0;34m:\u001b[0m\u001b[0;34m\u001b[0m\u001b[0;34m\u001b[0m\u001b[0m\n\u001b[1;32m     54\u001b[0m     \u001b[0mW\u001b[0m\u001b[0;34m,\u001b[0m\u001b[0mZ\u001b[0m \u001b[0;34m=\u001b[0m \u001b[0mcorr_brownian_motion\u001b[0m\u001b[0;34m(\u001b[0m\u001b[0mn\u001b[0m\u001b[0;34m,\u001b[0m\u001b[0mT\u001b[0m\u001b[0;34m,\u001b[0m\u001b[0mdim\u001b[0m\u001b[0;34m,\u001b[0m\u001b[0mrho\u001b[0m\u001b[0;34m)\u001b[0m\u001b[0;34m\u001b[0m\u001b[0;34m\u001b[0m\u001b[0m\n\u001b[0;32m---> 55\u001b[0;31m     \u001b[0mS\u001b[0m\u001b[0;34m,\u001b[0m\u001b[0mV\u001b[0m \u001b[0;34m=\u001b[0m \u001b[0msabr\u001b[0m\u001b[0;34m(\u001b[0m\u001b[0malpha\u001b[0m\u001b[0;34m,\u001b[0m\u001b[0mbeta\u001b[0m\u001b[0;34m,\u001b[0m\u001b[0mT\u001b[0m\u001b[0;34m,\u001b[0m\u001b[0mW\u001b[0m\u001b[0;34m,\u001b[0m\u001b[0mZ\u001b[0m\u001b[0;34m,\u001b[0m\u001b[0mV0\u001b[0m\u001b[0;34m,\u001b[0m\u001b[0mS0\u001b[0m\u001b[0;34m)\u001b[0m\u001b[0;34m\u001b[0m\u001b[0;34m\u001b[0m\u001b[0m\n\u001b[0m\u001b[1;32m     56\u001b[0m     \u001b[0mS_T\u001b[0m \u001b[0;34m=\u001b[0m \u001b[0mS\u001b[0m\u001b[0;34m[\u001b[0m\u001b[0;34m:\u001b[0m\u001b[0;34m,\u001b[0m\u001b[0mn\u001b[0m\u001b[0;34m]\u001b[0m\u001b[0;34m\u001b[0m\u001b[0;34m\u001b[0m\u001b[0m\n\u001b[1;32m     57\u001b[0m     \u001b[0mP\u001b[0m \u001b[0;34m=\u001b[0m \u001b[0mnp\u001b[0m\u001b[0;34m.\u001b[0m\u001b[0mexp\u001b[0m\u001b[0;34m(\u001b[0m\u001b[0;34m-\u001b[0m\u001b[0mr\u001b[0m\u001b[0;34m*\u001b[0m\u001b[0mT\u001b[0m\u001b[0;34m)\u001b[0m \u001b[0;34m*\u001b[0m \u001b[0mnp\u001b[0m\u001b[0;34m.\u001b[0m\u001b[0mmean\u001b[0m\u001b[0;34m(\u001b[0m\u001b[0mnp\u001b[0m\u001b[0;34m.\u001b[0m\u001b[0mmaximum\u001b[0m\u001b[0;34m(\u001b[0m\u001b[0mS_T\u001b[0m\u001b[0;34m-\u001b[0m\u001b[0mK\u001b[0m\u001b[0;34m,\u001b[0m\u001b[0mnp\u001b[0m\u001b[0;34m.\u001b[0m\u001b[0mzeros\u001b[0m\u001b[0;34m(\u001b[0m\u001b[0mdim\u001b[0m\u001b[0;34m)\u001b[0m\u001b[0;34m)\u001b[0m\u001b[0;34m)\u001b[0m\u001b[0;34m\u001b[0m\u001b[0;34m\u001b[0m\u001b[0m\n",
      "\u001b[0;32m<ipython-input-5-1103876ce0cf>\u001b[0m in \u001b[0;36msabr\u001b[0;34m(alpha, beta, T, W, Z, V0, S0)\u001b[0m\n\u001b[1;32m     41\u001b[0m         \u001b[0;32mreturn\u001b[0m \u001b[0mnp\u001b[0m\u001b[0;34m.\u001b[0m\u001b[0mmultiply\u001b[0m\u001b[0;34m(\u001b[0m\u001b[0mV\u001b[0m\u001b[0;34m[\u001b[0m\u001b[0mi\u001b[0m\u001b[0;34m,\u001b[0m\u001b[0mk\u001b[0m\u001b[0;34m]\u001b[0m\u001b[0;34m,\u001b[0m\u001b[0mnp\u001b[0m\u001b[0;34m.\u001b[0m\u001b[0mpower\u001b[0m\u001b[0;34m(\u001b[0m\u001b[0mnp\u001b[0m\u001b[0;34m.\u001b[0m\u001b[0mmaximum\u001b[0m\u001b[0;34m(\u001b[0m\u001b[0;36m0.0\u001b[0m\u001b[0;34m,\u001b[0m\u001b[0mS\u001b[0m\u001b[0;34m)\u001b[0m\u001b[0;34m,\u001b[0m\u001b[0mbeta\u001b[0m\u001b[0;34m)\u001b[0m\u001b[0;34m)\u001b[0m\u001b[0;34m\u001b[0m\u001b[0;34m\u001b[0m\u001b[0m\n\u001b[1;32m     42\u001b[0m \u001b[0;34m\u001b[0m\u001b[0m\n\u001b[0;32m---> 43\u001b[0;31m     \u001b[0mS\u001b[0m \u001b[0;34m=\u001b[0m \u001b[0meuler_maruyama\u001b[0m\u001b[0;34m(\u001b[0m\u001b[0mmu1\u001b[0m\u001b[0;34m,\u001b[0m\u001b[0msigma1\u001b[0m\u001b[0;34m,\u001b[0m\u001b[0mT\u001b[0m\u001b[0;34m,\u001b[0m\u001b[0mS0\u001b[0m\u001b[0;34m,\u001b[0m\u001b[0mW\u001b[0m\u001b[0;34m)\u001b[0m\u001b[0;34m\u001b[0m\u001b[0;34m\u001b[0m\u001b[0m\n\u001b[0m\u001b[1;32m     44\u001b[0m \u001b[0;34m\u001b[0m\u001b[0m\n\u001b[1;32m     45\u001b[0m     \u001b[0;32mreturn\u001b[0m \u001b[0mS\u001b[0m\u001b[0;34m,\u001b[0m\u001b[0mV\u001b[0m\u001b[0;34m\u001b[0m\u001b[0;34m\u001b[0m\u001b[0m\n",
      "\u001b[0;32m<ipython-input-5-1103876ce0cf>\u001b[0m in \u001b[0;36meuler_maruyama\u001b[0;34m(mu, sigma, T, x0, W)\u001b[0m\n\u001b[1;32m     19\u001b[0m         \u001b[0mY\u001b[0m\u001b[0;34m[\u001b[0m\u001b[0ml\u001b[0m\u001b[0;34m,\u001b[0m\u001b[0;36m0\u001b[0m\u001b[0;34m]\u001b[0m \u001b[0;34m=\u001b[0m \u001b[0mx0\u001b[0m\u001b[0;34m\u001b[0m\u001b[0;34m\u001b[0m\u001b[0m\n\u001b[1;32m     20\u001b[0m         \u001b[0;32mfor\u001b[0m \u001b[0mi\u001b[0m \u001b[0;32min\u001b[0m \u001b[0mrange\u001b[0m\u001b[0;34m(\u001b[0m\u001b[0mn\u001b[0m\u001b[0;34m)\u001b[0m\u001b[0;34m:\u001b[0m\u001b[0;34m\u001b[0m\u001b[0;34m\u001b[0m\u001b[0m\n\u001b[0;32m---> 21\u001b[0;31m             \u001b[0mY\u001b[0m\u001b[0;34m[\u001b[0m\u001b[0ml\u001b[0m\u001b[0;34m,\u001b[0m\u001b[0mi\u001b[0m\u001b[0;34m+\u001b[0m\u001b[0;36m1\u001b[0m\u001b[0;34m]\u001b[0m \u001b[0;34m=\u001b[0m \u001b[0mY\u001b[0m\u001b[0;34m[\u001b[0m\u001b[0ml\u001b[0m\u001b[0;34m,\u001b[0m\u001b[0mi\u001b[0m\u001b[0;34m]\u001b[0m \u001b[0;34m+\u001b[0m \u001b[0mnp\u001b[0m\u001b[0;34m.\u001b[0m\u001b[0mmultiply\u001b[0m\u001b[0;34m(\u001b[0m\u001b[0mmu\u001b[0m\u001b[0;34m(\u001b[0m\u001b[0mY\u001b[0m\u001b[0;34m[\u001b[0m\u001b[0ml\u001b[0m\u001b[0;34m,\u001b[0m\u001b[0mi\u001b[0m\u001b[0;34m]\u001b[0m\u001b[0;34m,\u001b[0m\u001b[0ml\u001b[0m\u001b[0;34m,\u001b[0m\u001b[0mi\u001b[0m\u001b[0;34m)\u001b[0m\u001b[0;34m,\u001b[0m\u001b[0mdt\u001b[0m\u001b[0;34m)\u001b[0m \u001b[0;34m+\u001b[0m \u001b[0msigma\u001b[0m\u001b[0;34m(\u001b[0m\u001b[0mY\u001b[0m\u001b[0;34m[\u001b[0m\u001b[0ml\u001b[0m\u001b[0;34m,\u001b[0m\u001b[0mi\u001b[0m\u001b[0;34m]\u001b[0m\u001b[0;34m,\u001b[0m\u001b[0ml\u001b[0m\u001b[0;34m,\u001b[0m\u001b[0mi\u001b[0m\u001b[0;34m)\u001b[0m\u001b[0;34m*\u001b[0m\u001b[0msqrt_dt\u001b[0m\u001b[0;34m*\u001b[0m\u001b[0;34m(\u001b[0m\u001b[0mW\u001b[0m\u001b[0;34m[\u001b[0m\u001b[0ml\u001b[0m\u001b[0;34m,\u001b[0m\u001b[0mi\u001b[0m\u001b[0;34m+\u001b[0m\u001b[0;36m1\u001b[0m\u001b[0;34m]\u001b[0m\u001b[0;34m-\u001b[0m\u001b[0mW\u001b[0m\u001b[0;34m[\u001b[0m\u001b[0ml\u001b[0m\u001b[0;34m,\u001b[0m\u001b[0mi\u001b[0m\u001b[0;34m]\u001b[0m\u001b[0;34m)\u001b[0m\u001b[0;34m\u001b[0m\u001b[0;34m\u001b[0m\u001b[0m\n\u001b[0m\u001b[1;32m     22\u001b[0m \u001b[0;34m\u001b[0m\u001b[0m\n\u001b[1;32m     23\u001b[0m     \u001b[0;32mreturn\u001b[0m \u001b[0mY\u001b[0m\u001b[0;34m\u001b[0m\u001b[0;34m\u001b[0m\u001b[0m\n",
      "\u001b[0;31mKeyboardInterrupt\u001b[0m: "
     ]
    }
   ],
   "source": [
    "num_cpu = multiprocessing.cpu_count()\n",
    "config = tf.ConfigProto(device_count={ \"CPU\": num_cpu },\n",
    "                                        inter_op_parallelism_threads=num_cpu,\n",
    "                                        intra_op_parallelism_threads=2,\n",
    "                                        )\n",
    "\n",
    "with tf.Session(config=config) as sess:\n",
    "    sess.run(init)\n",
    "    \n",
    "    for iteration in range(num_steps):\n",
    "        \n",
    "        X_batch,Y_batch = next_batch_sabr_EM_train(batch_size,contract_bounds,model_bounds)\n",
    "        sess.run(train,feed_dict={X: X_batch, y: Y_batch})\n",
    "        \n",
    "        if iteration % 1 == 0:\n",
    "            \n",
    "            rmse = loss.eval(feed_dict={X: X_batch, y: Y_batch})\n",
    "            print(iteration, \"\\tRMSE:\", rmse)\n",
    "    \n",
    "    saver.save(sess, \"./models/sabr_dnn\")"
   ]
  },
  {
   "cell_type": "markdown",
   "metadata": {},
   "source": [
    "## More Helper Functions\n",
    "### Note: You can choose which trained weights to use below"
   ]
  },
  {
   "cell_type": "code",
   "execution_count": 7,
   "metadata": {},
   "outputs": [],
   "source": [
    "def prices_grid(theta):\n",
    "    prices_true = np.zeros((1,num_output_parameters))\n",
    "    n = 100\n",
    "    dim = 200\n",
    "    for i in range(num_maturities):\n",
    "        for j in range(num_strikes):        \n",
    "            prices_true[0,i*num_strikes+j] = price_pred(theta[0],theta[1],theta[2],n,dim,maturities[i],strikes[j],V0,S0)\n",
    "    return prices_true"
   ]
  },
  {
   "cell_type": "code",
   "execution_count": 8,
   "metadata": {},
   "outputs": [],
   "source": [
    "def predict_theta(prices_ture):   \n",
    "    \n",
    "    def NNprediction(theta):\n",
    "        x = np.zeros((1,len(theta)))\n",
    "        x[0,:] = theta\n",
    "        return sess.run(outputs,feed_dict={X: x})\n",
    "    def NNgradientpred(x):\n",
    "        x = np.asarray(x)\n",
    "        grad = np.zeros((num_output_parameters,num_input_parameters))\n",
    "        \n",
    "        delta = 0.000001\n",
    "        for i in range(num_input_parameters):\n",
    "            h = np.zeros(x.shape)\n",
    "            h[0,i] = delta\n",
    "            \n",
    "            #two point gradient\n",
    "            #grad[i] = (sess.run(outputs,feed_dict={X: x+h}) - sess.run(outputs,feed_dict={X: x-h}))/2/delta\n",
    "\n",
    "            #four point gradient\n",
    "            grad[:,i] = (-sess.run(outputs,feed_dict={X: x+2*h})+8*sess.run(outputs,feed_dict={X: x+h})-8*sess.run(outputs,feed_dict={X: x-h}) +sess.run(outputs,feed_dict={X: x-2*h}))/12/delta\n",
    "\n",
    "        return np.mean(grad,axis=0)\n",
    "\n",
    "    def CostFuncLS(theta):\n",
    "        \n",
    "        return np.sqrt(np.mean(np.power((NNprediction(theta)-prices_true.flatten())[0],2),axis=0))\n",
    "\n",
    "\n",
    "    def JacobianLS(theta):\n",
    "        x = np.zeros((1,len(theta)))\n",
    "        x[0,:] = theta\n",
    "        return NNgradientpred(x).T\n",
    "\n",
    "    with tf.Session() as sess:                          \n",
    "        saver.restore(sess, \"./models/sabr_dnn\")  \n",
    "        #saver.restore(sess, \"./models/sabr_dnn_e\")    \n",
    "        \n",
    "        init = [model_bounds[0,0]+uniform.rvs()*(model_bounds[0,1]-model_bounds[0,0]),model_bounds[1,0]+uniform.rvs()*(model_bounds[1,1]-model_bounds[1,0]),model_bounds[2,0]+uniform.rvs()*(model_bounds[2,1]-model_bounds[2,0])]\n",
    "        bnds = ([model_bounds[0,0],model_bounds[1,0],model_bounds[2,0]],[model_bounds[0,1],model_bounds[1,1],model_bounds[2,1]])\n",
    "\n",
    "\n",
    "        I=scipy.optimize.least_squares(CostFuncLS,init,JacobianLS,bounds=bnds,gtol=1E-15,xtol=1E-15,verbose=1)\n",
    "\n",
    "    theta_pred = I.x\n",
    "    \n",
    "    return theta_pred"
   ]
  },
  {
   "cell_type": "markdown",
   "metadata": {},
   "source": [
    "## Predict and Plot for one specific theta_true"
   ]
  },
  {
   "cell_type": "code",
   "execution_count": 9,
   "metadata": {},
   "outputs": [],
   "source": [
    "theta_true = [0.1,0.5,-0.5]\n",
    "prices_true = prices_grid(theta_true)"
   ]
  },
  {
   "cell_type": "code",
   "execution_count": 10,
   "metadata": {
    "tags": []
   },
   "outputs": [
    {
     "output_type": "stream",
     "name": "stdout",
     "text": "INFO:tensorflow:Restoring parameters from ./models/sabr_dnn\n`xtol` termination condition is satisfied.\nFunction evaluations 27, initial cost 2.4558e-03, final cost 2.4558e-03, first-order optimality 4.62e-03.\n"
    }
   ],
   "source": [
    "theta_pred = predict_theta(prices_true)"
   ]
  },
  {
   "cell_type": "code",
   "execution_count": 11,
   "metadata": {
    "tags": []
   },
   "outputs": [
    {
     "output_type": "stream",
     "name": "stdout",
     "text": "[0.1, 0.5, -0.5]\n[ 0.09877573  0.53494656 -0.01687752]\n"
    }
   ],
   "source": [
    "print(theta_true)\n",
    "print(theta_pred)"
   ]
  },
  {
   "cell_type": "code",
   "execution_count": null,
   "metadata": {},
   "outputs": [],
   "source": []
  },
  {
   "cell_type": "code",
   "execution_count": null,
   "metadata": {},
   "outputs": [],
   "source": [
    "prices_true = np.zeros((num_maturities,num_strikes))\n",
    "prices_pred = np.zeros((num_maturities,num_strikes))\n",
    "init = [model_bounds[0,0]+uniform.rvs()*(model_bounds[0,1]-model_bounds[0,0]),model_bounds[1,0]+uniform.rvs()*(model_bounds[1,1]-model_bounds[1,0]),model_bounds[2,0]+uniform.rvs()*(model_bounds[2,1]-model_bounds[2,0])]\n",
    "prices_trash = np.zeros((num_maturities,num_strikes))\n",
    "n = 100\n",
    "dim = 300\n",
    "for i in range(num_maturities):\n",
    "    for j in range(num_strikes):        \n",
    "        prices_true[i,j] = price_pred(theta_true[0],theta_true[1],theta_true[2],n,dim,maturities[i],strikes[j],V0,S0)\n",
    "        prices_pred[i,j] = price_pred(theta_pred[0],theta_pred[1],theta_pred[2],n,dim,maturities[i],strikes[j],V0,S0)\n",
    "        prices_trash[i,j] = price_pred(init[0],init[1],init[2],n,dim,maturities[i],strikes[j],V0,S0)"
   ]
  },
  {
   "cell_type": "code",
   "execution_count": null,
   "metadata": {},
   "outputs": [],
   "source": [
    "from mpl_toolkits.mplot3d import Axes3D\n",
    "from matplotlib import cm\n",
    "from matplotlib.ticker import LinearLocator, FormatStrFormatter\n",
    "import matplotlib.pyplot as plt\n",
    "import matplotlib.ticker as mtick\n",
    "\n",
    "fig = plt.figure(figsize=(20, 9))\n",
    "\n",
    "T_ = np.zeros((num_maturities,num_strikes))\n",
    "K_ = np.zeros((num_maturities,num_strikes))\n",
    "for i in range(num_strikes):\n",
    "    for j in range(num_maturities):\n",
    "        T_[j,i] = maturities[j]\n",
    "for j in range(num_maturities):   \n",
    "    for i in range(num_strikes):\n",
    "        K_[j,i] = strikes[i]\n",
    "\n",
    "ax1 = fig.add_subplot(131, projection='3d')\n",
    "ax1.plot_surface(X=K_, Y=T_, Z=prices_true, rstride=1, cstride=1, cmap='viridis', edgecolor='none')\n",
    "ax1.zaxis.set_major_locator(LinearLocator(10))\n",
    "ax1.zaxis.set_major_formatter(FormatStrFormatter('%.02f'))\n",
    "ax1.set_xlabel('Strike')\n",
    "ax1.set_ylabel('Maturity')\n",
    "ax1.set_zlabel('Price')\n",
    "ax1.set_title('True Prices')\n",
    "ax1.view_init(15, 45)\n",
    "\n",
    "ax2 = fig.add_subplot(132, projection='3d')\n",
    "ax2.plot_surface(X=K_, Y=T_, Z=prices_pred, rstride=1, cstride=1, cmap='viridis', edgecolor='none')\n",
    "ax2.zaxis.set_major_locator(LinearLocator(10))\n",
    "ax2.zaxis.set_major_formatter(FormatStrFormatter('%.02f'))\n",
    "ax2.set_xlabel('Strike')\n",
    "ax2.set_ylabel('Maturity')\n",
    "ax2.set_zlabel('Price')\n",
    "ax2.set_title('Predicted Prices (Method 1)')\n",
    "ax2.view_init(15, 45)\n",
    "\n",
    "\n",
    "ax3 = fig.add_subplot(133, projection='3d')\n",
    "ax3.plot_surface(X=K_, Y=T_, Z=prices_true-prices_pred, rstride=1, cstride=1, cmap='inferno', edgecolor='none')\n",
    "ax3.zaxis.set_major_locator(LinearLocator(10))\n",
    "ax3.zaxis.set_major_formatter(FormatStrFormatter('%.02f'))\n",
    "ax3.set_xlabel('Strike')\n",
    "ax3.set_ylabel('Maturity')\n",
    "ax3.set_zlabel('Price Diff')\n",
    "ax3.set_title('Difference')\n",
    "ax3.view_init(5, 45)\n",
    "\"\"\"\n",
    "ax3 = fig.add_subplot(133)\n",
    "ax3.imshow(prices_true-prices_pred,cmap='Blues_r')\n",
    "ax3.set_xticks(np.linspace(0,num_strikes-1,num_strikes))\n",
    "ax3.set_xticklabels(np.around(strikes,decimals=1))\n",
    "ax3.set_yticks(np.linspace(0,num_maturities-1,num_maturities))\n",
    "ax3.set_yticklabels(np.around(maturities,decimals=1))\n",
    "\"\"\"\n",
    "plt.savefig('prices_dnn.pdf') \n",
    "plt.show()\n"
   ]
  },
  {
   "cell_type": "code",
   "execution_count": null,
   "metadata": {},
   "outputs": [],
   "source": [
    "mean_err = np.mean(np.mean(np.abs(prices_true-prices_pred),axis=0),axis=0)\n",
    "mean_err_init = np.mean(np.mean(np.abs(prices_true-prices_trash),axis=0),axis=0)\n",
    "mean_true_price = np.mean(np.mean(np.abs(prices_true),axis=0),axis=0)\n",
    "print(\"MSE: \",mean_err)\n",
    "print(\"MSE Init: \",mean_err_init)\n",
    "print(\"Percent of avg True Price: \",mean_err/mean_true_price)"
   ]
  },
  {
   "cell_type": "markdown",
   "metadata": {},
   "source": [
    "### Create Grid of Model Parameters and corresponding Prices"
   ]
  },
  {
   "cell_type": "code",
   "execution_count": null,
   "metadata": {},
   "outputs": [],
   "source": [
    "bb = 2\n",
    "num_thetas = np.power(bb,num_model_parameters)\n",
    "thetas_true = np.zeros((num_thetas,num_model_parameters))\n",
    "\n",
    "for i in range(bb):\n",
    "    for j in range(bb):\n",
    "        for k in range(bb):\n",
    "            thetas_true[i*bb*bb+j*bb+k,0] = model_bounds[0,0]+ k *(model_bounds[0,1]-model_bounds[0,0])/(bb-1)\n",
    "            thetas_true[i*bb*bb+j*bb+k,1] = model_bounds[1,0]+ j *(model_bounds[1,1]-model_bounds[1,0])/(bb-1)\n",
    "            thetas_true[i*bb*bb+j*bb+k,2] = model_bounds[2,0]+ i *(model_bounds[2,1]-model_bounds[2,0])/(bb-1)\n"
   ]
  },
  {
   "cell_type": "code",
   "execution_count": null,
   "metadata": {},
   "outputs": [],
   "source": [
    "thetas_pred = np.zeros((num_thetas,num_model_parameters))\n",
    "for i in range(num_thetas):\n",
    "    thetas_pred[i,:] = predict_theta(prices_grid(thetas_true[i,:]).flatten())"
   ]
  },
  {
   "cell_type": "code",
   "execution_count": null,
   "metadata": {},
   "outputs": [],
   "source": [
    "diff = np.mean(np.mean(np.power(thetas_pred - thetas_true,2),axis=0),axis=0)\n",
    "print(thetas_true)\n",
    "print(np.around(thetas_pred,5))"
   ]
  },
  {
   "cell_type": "code",
   "execution_count": null,
   "metadata": {},
   "outputs": [],
   "source": [
    "rel_error = np.mean(np.abs(thetas_pred - thetas_true),axis=1)/np.abs(np.mean(thetas_true,axis=1))\n",
    "print(\"Relative Error: \",  rel_error )"
   ]
  },
  {
   "cell_type": "code",
   "execution_count": null,
   "metadata": {},
   "outputs": [],
   "source": [
    "prices_grid_true = np.zeros((num_thetas,num_maturities,num_strikes))\n",
    "prices_grid_pred = np.zeros((num_thetas,num_maturities,num_strikes))\n",
    "n = 100\n",
    "dim = 100\n",
    "for i in range(num_thetas):\n",
    "    for j in range(num_maturities):\n",
    "        for k in range(num_strikes):\n",
    "            prices_grid_true[i,j,k] = price_pred(thetas_true[i,0],thetas_true[i,1],thetas_true[i,2],n,dim,maturities[i],strikes[j],V0,S0)\n",
    "            prices_grid_pred[i,j,k] = price_pred(thetas_pred[i,0],thetas_pred[i,1],thetas_pred[i,2],n,dim,maturities[i],strikes[j],V0,S0)"
   ]
  },
  {
   "cell_type": "code",
   "execution_count": null,
   "metadata": {},
   "outputs": [],
   "source": [
    "fig = plt.figure(figsize=(9, 6))\n",
    "\n",
    "ax=plt.subplot(1,1,1)\n",
    "\n",
    "plt.imshow(np.mean(np.abs((prices_grid_true-prices_grid_pred)/prices_grid_true),axis=0))\n",
    "plt.title(\"Average Relative Errors in Prices\")\n",
    "\n",
    "ax.set_yticks(np.linspace(0,num_maturities-1,num_maturities))\n",
    "ax.set_yticklabels(np.around(maturities,1))\n",
    "ax.set_xticks(np.linspace(0,num_strikes-1,num_strikes))\n",
    "ax.set_xticklabels(np.around(strikes,2))\n",
    "\n",
    "\n",
    "plt.colorbar()\n",
    "\n",
    "plt.show()"
   ]
  },
  {
   "cell_type": "code",
   "execution_count": 12,
   "metadata": {},
   "outputs": [],
   "source": [
    "N = 10\n",
    "\n",
    "thetas_true_rand = reverse_transform_X(uniform.rvs(size=(N,num_model_parameters)))"
   ]
  },
  {
   "cell_type": "code",
   "execution_count": 13,
   "metadata": {
    "tags": []
   },
   "outputs": [
    {
     "output_type": "stream",
     "name": "stdout",
     "text": "INFO:tensorflow:Restoring parameters from ./models/sabr_dnn\n`xtol` termination condition is satisfied.\nFunction evaluations 28, initial cost 1.3205e-02, final cost 1.3205e-02, first-order optimality 4.09e-03.\nINFO:tensorflow:Restoring parameters from ./models/sabr_dnn\n`xtol` termination condition is satisfied.\nFunction evaluations 27, initial cost 4.5361e-03, final cost 4.5361e-03, first-order optimality 5.07e-03.\nINFO:tensorflow:Restoring parameters from ./models/sabr_dnn\n`xtol` termination condition is satisfied.\nFunction evaluations 27, initial cost 7.4634e-03, final cost 7.4634e-03, first-order optimality 5.37e-03.\nINFO:tensorflow:Restoring parameters from ./models/sabr_dnn\n`xtol` termination condition is satisfied.\nFunction evaluations 27, initial cost 7.2305e-03, final cost 7.2305e-03, first-order optimality 6.31e-03.\nINFO:tensorflow:Restoring parameters from ./models/sabr_dnn\n`xtol` termination condition is satisfied.\nFunction evaluations 27, initial cost 9.4759e-03, final cost 9.4759e-03, first-order optimality 4.92e-03.\nINFO:tensorflow:Restoring parameters from ./models/sabr_dnn\n`xtol` termination condition is satisfied.\nFunction evaluations 27, initial cost 1.1390e-02, final cost 1.1390e-02, first-order optimality 4.31e-03.\nINFO:tensorflow:Restoring parameters from ./models/sabr_dnn\n`xtol` termination condition is satisfied.\nFunction evaluations 28, initial cost 8.0472e-03, final cost 8.0472e-03, first-order optimality 7.46e-03.\nINFO:tensorflow:Restoring parameters from ./models/sabr_dnn\n`xtol` termination condition is satisfied.\nFunction evaluations 27, initial cost 9.9184e-03, final cost 9.9184e-03, first-order optimality 5.65e-03.\nINFO:tensorflow:Restoring parameters from ./models/sabr_dnn\n`xtol` termination condition is satisfied.\nFunction evaluations 27, initial cost 4.0389e-03, final cost 4.0389e-03, first-order optimality 5.16e-03.\nINFO:tensorflow:Restoring parameters from ./models/sabr_dnn\n`xtol` termination condition is satisfied.\nFunction evaluations 28, initial cost 3.7164e-03, final cost 3.7164e-03, first-order optimality 6.24e-03.\n"
    }
   ],
   "source": [
    "thetas_pred_rand = np.zeros((N,num_model_parameters))\n",
    "for i in range(N):\n",
    "    thetas_pred_rand[i,:] = predict_theta(prices_grid(thetas_true_rand[i,:]).flatten())"
   ]
  },
  {
   "cell_type": "code",
   "execution_count": 14,
   "metadata": {
    "tags": []
   },
   "outputs": [
    {
     "output_type": "stream",
     "name": "stdout",
     "text": "Relative Error:  [ 2.74781359  0.51692085  9.5455001   0.98680519  3.63882062  1.3398945\n  1.39350497  1.3051966   1.80883119 14.60728244]\n"
    }
   ],
   "source": [
    "rel_error_rand = np.mean(np.abs(thetas_pred_rand - thetas_true_rand),axis=1)/np.abs(np.mean(thetas_true_rand,axis=1))\n",
    "print(\"Relative Error: \",  rel_error_rand )"
   ]
  },
  {
   "cell_type": "code",
   "execution_count": 17,
   "metadata": {},
   "outputs": [],
   "source": [
    "prices_grid_true_2 = np.zeros((N,num_maturities,num_strikes))\n",
    "prices_grid_pred_2 = np.zeros((N,num_maturities,num_strikes))\n",
    "n = 100\n",
    "dim = 100\n",
    "for i in range(N):\n",
    "    for j in range(num_maturities):\n",
    "        for k in range(num_strikes):\n",
    "            prices_grid_true_2[i,j,k] = price_pred(thetas_true_rand[i,0],thetas_true_rand[i,1],thetas_true_rand[i,2],n,dim,maturities[i],strikes[j],V0,S0)\n",
    "            prices_grid_pred_2[i,j,k] = price_pred(thetas_pred_rand[i,0],thetas_pred_rand[i,1],thetas_pred_rand[i,2],n,dim,maturities[i],strikes[j],V0,S0)"
   ]
  },
  {
   "cell_type": "code",
   "execution_count": 18,
   "metadata": {},
   "outputs": [
    {
     "output_type": "error",
     "ename": "NameError",
     "evalue": "name 'prices_grid_true' is not defined",
     "traceback": [
      "\u001b[0;31m---------------------------------------------------------------------------\u001b[0m",
      "\u001b[0;31mNameError\u001b[0m                                 Traceback (most recent call last)",
      "\u001b[0;32m<ipython-input-18-e9f88ee657a6>\u001b[0m in \u001b[0;36m<module>\u001b[0;34m\u001b[0m\n\u001b[1;32m      3\u001b[0m \u001b[0max1\u001b[0m\u001b[0;34m=\u001b[0m\u001b[0mfig\u001b[0m\u001b[0;34m.\u001b[0m\u001b[0madd_subplot\u001b[0m\u001b[0;34m(\u001b[0m\u001b[0;36m121\u001b[0m\u001b[0;34m)\u001b[0m\u001b[0;34m\u001b[0m\u001b[0;34m\u001b[0m\u001b[0m\n\u001b[1;32m      4\u001b[0m \u001b[0;34m\u001b[0m\u001b[0m\n\u001b[0;32m----> 5\u001b[0;31m \u001b[0mplt\u001b[0m\u001b[0;34m.\u001b[0m\u001b[0mimshow\u001b[0m\u001b[0;34m(\u001b[0m\u001b[0mnp\u001b[0m\u001b[0;34m.\u001b[0m\u001b[0mmean\u001b[0m\u001b[0;34m(\u001b[0m\u001b[0mnp\u001b[0m\u001b[0;34m.\u001b[0m\u001b[0mabs\u001b[0m\u001b[0;34m(\u001b[0m\u001b[0;34m(\u001b[0m\u001b[0mprices_grid_true\u001b[0m\u001b[0;34m-\u001b[0m\u001b[0mprices_grid_pred\u001b[0m\u001b[0;34m)\u001b[0m\u001b[0;34m/\u001b[0m\u001b[0mprices_grid_true\u001b[0m\u001b[0;34m)\u001b[0m\u001b[0;34m,\u001b[0m\u001b[0maxis\u001b[0m\u001b[0;34m=\u001b[0m\u001b[0;36m0\u001b[0m\u001b[0;34m)\u001b[0m\u001b[0;34m)\u001b[0m\u001b[0;34m\u001b[0m\u001b[0;34m\u001b[0m\u001b[0m\n\u001b[0m\u001b[1;32m      6\u001b[0m \u001b[0mplt\u001b[0m\u001b[0;34m.\u001b[0m\u001b[0mtitle\u001b[0m\u001b[0;34m(\u001b[0m\u001b[0;34m\"Average Relative Errors in Prices\"\u001b[0m\u001b[0;34m)\u001b[0m\u001b[0;34m\u001b[0m\u001b[0;34m\u001b[0m\u001b[0m\n\u001b[1;32m      7\u001b[0m \u001b[0;34m\u001b[0m\u001b[0m\n",
      "\u001b[0;31mNameError\u001b[0m: name 'prices_grid_true' is not defined"
     ]
    }
   ],
   "source": [
    "fig = plt.figure(figsize=(18, 6))\n",
    "\n",
    "ax1=fig.add_subplot(121)\n",
    "\n",
    "plt.imshow(np.mean(np.abs((prices_grid_true-prices_grid_pred)/prices_grid_true),axis=0))\n",
    "plt.title(\"Average Relative Errors in Prices\")\n",
    "\n",
    "ax1.set_yticks(np.linspace(0,num_maturities-1,num_maturities))\n",
    "ax1.set_yticklabels(np.around(maturities,1))\n",
    "ax1.set_xticks(np.linspace(0,num_strikes-1,num_strikes))\n",
    "ax1.set_xticklabels(np.around(strikes,2))\n",
    "plt.colorbar()\n",
    "ax2=fig.add_subplot(122)\n",
    "\n",
    "plt.imshow(np.max(np.abs((prices_grid_true-prices_grid_pred)/prices_grid_true),axis=0))\n",
    "plt.title(\"Max Relative Errors in Prices\")\n",
    "\n",
    "ax2.set_yticks(np.linspace(0,num_maturities-1,num_maturities))\n",
    "ax2.set_yticklabels(np.around(maturities,1))\n",
    "ax2.set_xticks(np.linspace(0,num_strikes-1,num_strikes))\n",
    "ax2.set_xticklabels(np.around(strikes,2))\n",
    "\n",
    "\n",
    "plt.colorbar()\n",
    "plt.savefig('errors_dnn_m1_e.pdf') \n",
    "plt.show()\n"
   ]
  },
  {
   "cell_type": "code",
   "execution_count": null,
   "metadata": {},
   "outputs": [],
   "source": []
  },
  {
   "cell_type": "code",
   "execution_count": null,
   "metadata": {},
   "outputs": [],
   "source": []
  }
 ],
 "metadata": {
  "language_info": {
   "codemirror_mode": {
    "name": "ipython",
    "version": 3
   },
   "file_extension": ".py",
   "mimetype": "text/x-python",
   "name": "python",
   "nbconvert_exporter": "python",
   "pygments_lexer": "ipython3",
   "version": "3.5.4-final"
  },
  "orig_nbformat": 2,
  "kernelspec": {
   "name": "python3",
   "display_name": "Python 3"
  }
 },
 "nbformat": 4,
 "nbformat_minor": 2
}