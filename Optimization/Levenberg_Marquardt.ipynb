{
 "cells": [
  {
   "cell_type": "markdown",
   "metadata": {},
   "source": [
    "We want to find $$ \\hat{\\theta} \\in \\underset{\\theta \\in \\Theta}{\\arg\\min} \\sum_{\\xi} (\\hat{F}(\\theta, \\xi)-P^{MKT}(\\xi))^{2}$$\n",
    "and we use Levenberg-Marquardt (following ideas of http://people.duke.edu/~hpgavin/ce281/lm.pdf)\n",
    "$$(J_{i}^{T}WJ_{i} + \\lambda I)(\\theta_{i+1}-\\theta_{i}) = J_{i}^{T}W(\\hat{F}(\\theta_{i})-P^{MKT}) $$\n",
    "where $J_{i}(.)= \\frac{\\partial \\hat{F}(\\theta_{i},.)}{\\partial \\theta} $ , $W = diag(1/\\sigma_{i}) $ , where $\\sigma_{i}$ is the measurment error of $\\hat{F}$, $\\lambda$ is a adaptive parameter "
   ]
  },
  {
   "cell_type": "code",
   "execution_count": 61,
   "metadata": {},
   "outputs": [],
   "source": [
    "import numpy as np\n",
    "import tensorflow as tf"
   ]
  },
  {
   "cell_type": "code",
   "execution_count": 44,
   "metadata": {},
   "outputs": [],
   "source": [
    "def derivative_approx(f, x, eps):\n",
    "    dim = x.shape[0]\n",
    "    \n",
    "    res = np.zeros((dim,1))\n",
    "    for i in range(dim):\n",
    "        e = np.zeros(dim)\n",
    "        e[i] = eps/2\n",
    "         \n",
    "        res[i,0] = (f(x+e)-f(x-e))/eps\n",
    "    return res"
   ]
  },
  {
   "cell_type": "code",
   "execution_count": 56,
   "metadata": {},
   "outputs": [],
   "source": [
    "def f(x):\n",
    "    dim = x.shape[0]\n",
    "    res = 0\n",
    "    for i in range(dim):\n",
    "        res += x[i]*x[i]*x[i]\n",
    "    return res"
   ]
  },
  {
   "cell_type": "code",
   "execution_count": 59,
   "metadata": {},
   "outputs": [
    {
     "name": "stdout",
     "output_type": "stream",
     "text": [
      "[[12.]\n",
      " [12.]]\n"
     ]
    }
   ],
   "source": [
    "x = np.ones(2)*2\n",
    "eps = 0.0001\n",
    "f_prime = derivative_approx(f,x,eps)\n",
    "print(f_prime)"
   ]
  },
  {
   "cell_type": "code",
   "execution_count": null,
   "metadata": {},
   "outputs": [],
   "source": []
  },
  {
   "cell_type": "code",
   "execution_count": null,
   "metadata": {},
   "outputs": [],
   "source": []
  }
 ],
 "metadata": {
  "kernelspec": {
   "display_name": "Python 3",
   "language": "python",
   "name": "python3"
  },
  "language_info": {
   "codemirror_mode": {
    "name": "ipython",
    "version": 3
   },
   "file_extension": ".py",
   "mimetype": "text/x-python",
   "name": "python",
   "nbconvert_exporter": "python",
   "pygments_lexer": "ipython3",
   "version": "3.7.4"
  }
 },
 "nbformat": 4,
 "nbformat_minor": 2
}
