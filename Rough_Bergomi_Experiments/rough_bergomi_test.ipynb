{
 "cells": [
  {
   "cell_type": "code",
   "execution_count": 1,
   "metadata": {},
   "outputs": [],
   "source": [
    "import pandas as pd\n",
    "import numpy as np\n",
    "import matplotlib.pyplot as plt\n",
    "import tensorflow as tf\n",
    "from tensorflow.contrib.layers import fully_connected\n",
    "from math import sqrt\n",
    "from scipy.stats import norm\n",
    "from scipy.stats import uniform\n",
    "from sklearn.preprocessing import MinMaxScaler\n",
    "import scipy\n",
    "import time\n",
    "import multiprocessing\n",
    "\n",
    "import os\n",
    "#change this to your own path\n",
    "os.chdir('/Users/robinvogtland/Documents/RV_ETH_CSE_Bachelor/3_Jahr/FS/Bachelor_Thesis/rv_bachelor_thesis/Rough_Bergomi_Experiments/rbergomi')\n",
    "\n",
    "import numpy as np\n",
    "from matplotlib import pyplot as plt\n",
    "from rbergomi import rBergomi \n",
    "from utils import bsinv\n",
    "vec_bsinv = np.vectorize(bsinv)"
   ]
  },
  {
   "cell_type": "code",
   "execution_count": 29,
   "metadata": {},
   "outputs": [],
   "source": [
    "num_forward_var = 1\n",
    "num_model_parameters = 3 + num_forward_var\n",
    "num_strikes = 8\n",
    "num_maturities = 8\n",
    "\n",
    "\n",
    "num_input_parameters = num_model_parameters\n",
    "num_output_parameters = num_maturities*num_strikes\n",
    "learning_rate = 0.0001\n",
    "num_steps = 5\n",
    "batch_size = 10\n",
    "num_neurons = 40\n",
    "\n",
    "#initial values\n",
    "S0 = 1.0\n",
    "r = 0.00\n",
    "\n",
    "\n",
    "contract_bounds = np.array([[0.8*S0,1.2*S0],[1,10]]) #bounds for K,T\n",
    "model_bounds = np.array([[0.1,0.5],[0.5,3],[-0.9,-0.1],[0.01,0.15]]) #bounds for H,eta,rho,lambdas\n",
    "\n",
    "\"\"\"\n",
    "Note: The grid of stirkes and maturities is equidistant here put could be choosen differently for real world application.\n",
    "Note: For the code below to striktly follow the bounds specified above make sure that *_distance x num_* is less than half the distance from the highest to lowest * (* = strikes/maturities). \n",
    "\"\"\"\n",
    "maturities_distance = (contract_bounds[1,1]-contract_bounds[1,0])/(2*num_maturities) \n",
    "strikes_distance = (contract_bounds[0,1]-contract_bounds[0,0])/(2*num_strikes)\n",
    "\n",
    "strikes = np.linspace(contract_bounds[0,0],contract_bounds[0,0]+num_strikes*strikes_distance,num_strikes)\n",
    "maturities = np.linspace(contract_bounds[1,0],contract_bounds[1,0]+num_maturities*maturities_distance,num_maturities)"
   ]
  },
  {
   "cell_type": "code",
   "execution_count": 30,
   "metadata": {},
   "outputs": [],
   "source": [
    "np.random.seed(42)"
   ]
  },
  {
   "cell_type": "code",
   "execution_count": 45,
   "metadata": {},
   "outputs": [],
   "source": [
    "def reverse_transform_X(X_scaled):\n",
    "    X = np.zeros(X_scaled.shape)\n",
    "    for i in range(num_model_parameters):\n",
    "        X[:,i] = X_scaled[:,i]*(model_bounds[i][1]-model_bounds[i][0]) + model_bounds[i][0]\n",
    "    for i in range(num_forward_var):\n",
    "        X[:,i+3] = X_scaled[:,i+3]*(model_bounds[3][1]-model_bounds[3][0]) + model_bounds[3][0]\n",
    "    return X\n",
    "\n",
    "\n",
    "def next_batch_rBergomi(batch_size,contract_bounds,model_bounds):\n",
    "    X_scaled = np.zeros((batch_size,num_input_parameters))\n",
    "    y = np.zeros((batch_size,num_output_parameters))\n",
    "\n",
    "    X_scaled[:,0] = uniform.rvs(size=batch_size) #H\n",
    "    X_scaled[:,1] = uniform.rvs(size=batch_size) #eta\n",
    "    X_scaled[:,2] = uniform.rvs(size=batch_size) #rho\n",
    "    lambdas = uniform.rvs(size=(batch_size,num_forward_var))\n",
    "    for i in range(num_forward_var):\n",
    "        X_scaled[:,i+3] = lambdas[:,i]\n",
    "\n",
    "    X = reverse_transform_X(X_scaled)\n",
    "\n",
    "    for i in range(batch_size):\n",
    "        for j in range(num_maturities):\n",
    "            rB = rBergomi.rBergomi(n = 100, N = 30000, T = maturities[j], a = X[i,0]-0.5)\n",
    "\n",
    "            dW1 = rB.dW1()\n",
    "            dW2 = rB.dW2()\n",
    "\n",
    "            Y = rB.Y(dW1)\n",
    "\n",
    "            dB = rB.dB(dW1, dW2, rho = X[i,2])\n",
    "\n",
    "            V = rB.V(Y, xi = X[i,3], eta = X[i,1])\n",
    "\n",
    "            S = rB.S(V, dB) \n",
    "\n",
    "            ST = S[:,-1][:,np.newaxis]\n",
    "            call_payoffs = np.maximum(ST - strikes,0)\n",
    "            \n",
    "            call_prices = np.mean(call_payoffs, axis = 0)[:,np.newaxis]\n",
    "            K = strikes[np.newaxis,:]\n",
    "            implied_vols = vec_bsinv(call_prices, S0, np.transpose(K), maturities[j])\n",
    "            \n",
    "            y[i,j*num_maturities:j*num_maturities+num_strikes] = implied_vols[:,0]\n",
    "    \n",
    "    return X_scaled,y"
   ]
  },
  {
   "cell_type": "code",
   "execution_count": 47,
   "metadata": {
    "tags": []
   },
   "outputs": [
    {
     "output_type": "execute_result",
     "data": {
      "text/plain": "(array([[0.4305529 , 0.00928633, 0.7288886 , 0.40693851]]),\n array([[0.26487127, 0.2629347 , 0.26110934, 0.25948396, 0.25802195,\n         0.25680358, 0.25574312, 0.25469034, 0.26991092, 0.26708768,\n         0.26462763, 0.26245175, 0.26046486, 0.25866673, 0.25702863,\n         0.25550665, 0.25877998, 0.25743541, 0.25616266, 0.25495321,\n         0.25380417, 0.25266579, 0.25160516, 0.25061003, 0.26068976,\n         0.25897342, 0.25741383, 0.25596733, 0.25468088, 0.25346721,\n         0.25230529, 0.25117332, 0.25325768, 0.25204843, 0.25084567,\n         0.24976327, 0.24876223, 0.24776613, 0.24682467, 0.24597366,\n         0.25039922, 0.24922903, 0.24807051, 0.24697773, 0.24589111,\n         0.24485945, 0.24388415, 0.24293259, 0.25179631, 0.25066305,\n         0.24958135, 0.24853441, 0.24755091, 0.24662665, 0.24577843,\n         0.24500428, 0.26162057, 0.25991405, 0.25830877, 0.2568002 ,\n         0.25537058, 0.25409673, 0.25292246, 0.25181221]]))"
     },
     "metadata": {},
     "execution_count": 47
    }
   ],
   "source": [
    "next_batch_rBergomi(1,contract_bounds,model_bounds)"
   ]
  },
  {
   "cell_type": "code",
   "execution_count": null,
   "metadata": {},
   "outputs": [],
   "source": []
  },
  {
   "cell_type": "code",
   "execution_count": null,
   "metadata": {},
   "outputs": [],
   "source": []
  }
 ],
 "metadata": {
  "language_info": {
   "codemirror_mode": {
    "name": "ipython",
    "version": 3
   },
   "file_extension": ".py",
   "mimetype": "text/x-python",
   "name": "python",
   "nbconvert_exporter": "python",
   "pygments_lexer": "ipython3",
   "version": "3.7.4-final"
  },
  "orig_nbformat": 2,
  "kernelspec": {
   "name": "python3",
   "display_name": "Python 3"
  }
 },
 "nbformat": 4,
 "nbformat_minor": 2
}