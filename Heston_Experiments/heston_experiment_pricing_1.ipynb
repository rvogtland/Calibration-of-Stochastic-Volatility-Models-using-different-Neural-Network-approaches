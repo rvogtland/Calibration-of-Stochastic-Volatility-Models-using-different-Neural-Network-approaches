{
 "cells": [
  {
   "cell_type": "code",
   "execution_count": 1,
   "metadata": {},
   "outputs": [],
   "source": [
    "import pandas as pd\n",
    "import numpy as np\n",
    "import matplotlib.pyplot as plt\n",
    "import tensorflow as tf\n",
    "from tensorflow.contrib.layers import fully_connected\n",
    "from math import sqrt\n",
    "from scipy.stats import norm\n",
    "from scipy.stats import uniform\n",
    "import cmath #for complex numbers\n",
    "from scipy.integrate import quad #for numerical integration\n",
    "from sklearn.preprocessing import MinMaxScaler\n",
    "import scipy\n"
   ]
  },
  {
   "cell_type": "markdown",
   "metadata": {},
   "source": [
    "## Define some variables and set constants"
   ]
  },
  {
   "cell_type": "code",
   "execution_count": 2,
   "metadata": {},
   "outputs": [],
   "source": [
    "num_input_parameters = 6\n",
    "num_output_parameters = 1\n",
    "learning_rate = 0.001\n",
    "num_steps = 20\n",
    "batch_size = 10\n",
    "num_neurons = 6\n",
    "\n",
    "#initial values\n",
    "S0 = 1\n",
    "V0 = 0.2\n",
    "r = 0.25\n",
    "\n",
    "#bounds for a,b,c,rho,T,K\n",
    "bounds = np.array([[1,3],[0.1,0.6],[0,0.1],[0,1],[1,2],[0.6,1.3]])\n",
    "\n",
    "scaler = MinMaxScaler()\n",
    "\n",
    "X = tf.placeholder(tf.float32, [None, num_input_parameters])\n",
    "y = tf.placeholder(tf.float32, [None, num_output_parameters])"
   ]
  },
  {
   "cell_type": "markdown",
   "metadata": {},
   "source": [
    "## Next Batch using Heston \"closed form\""
   ]
  },
  {
   "cell_type": "code",
   "execution_count": 3,
   "metadata": {},
   "outputs": [],
   "source": [
    "#input:\n",
    "#output: Call option price with strike K and Maturity T\n",
    "def heston_closed(a,b,c,T,K,rho,V0,S0,r=0):\n",
    "    \n",
    "    def char_f(w,a,b,c,T,K,rho,V0,S0,r):\n",
    "        alpha = -0.5*w*(w+complex(0,1))\n",
    "        beta = a - rho*c*w*complex(0,1)\n",
    "        gamma = c*c/2\n",
    "        h = cmath.sqrt(beta*beta-4*alpha*gamma)\n",
    "        rplus = (beta + h)/c/c\n",
    "        rminus = (beta - h)/c/c\n",
    "        g = rminus/rplus\n",
    "        D =  rminus*(1-cmath.exp(-h*T))/(1-g*cmath.exp(-h*T))\n",
    "        C = a*(rminus*T-2/c/c*cmath.log((1-g*cmath.exp(-h*T))/(1-g)))\n",
    "        return cmath.exp(C*b+D*V0+complex(0,1)*w*cmath.log(S0*cmath.exp(r*T)))\n",
    "\n",
    "    def integrand1(w):\n",
    "        i = complex(0,1)\n",
    "        return (cmath.exp(-i*w*cmath.log(K))*char_f(w-i,a,b,c,T,K,rho,V0,S0,r)/i/w/char_f(-i,a,b,c,T,K,rho,V0,S0,r)).real\n",
    "    \n",
    "    def integrand2(w):\n",
    "        i = complex(0,1)\n",
    "        return (cmath.exp(-i*w*cmath.log(K))*char_f(w,a,b,c,T,K,rho,V0,S0,r)/i/w).real\n",
    "    \n",
    "    pi1 = 0.5 + quad(integrand1,0,np.inf)[0]/np.pi\n",
    "    pi2 = 0.5 + quad(integrand2,0,np.inf)[0]/np.pi\n",
    "    \n",
    "    return (S0*pi1 + cmath.exp(-r*T)*K*pi2).real"
   ]
  },
  {
   "cell_type": "code",
   "execution_count": 4,
   "metadata": {},
   "outputs": [],
   "source": [
    "#input: batch_size, bounds for a,b,c,rho in that order \n",
    "#output: X_batch,y_batch\n",
    "def next_batch_heston_train(batch_size,bounds):\n",
    "    #for heston X contains values for a,b,c,rho,T,K and S0,V0 are kept fixed for now\n",
    "    X = np.zeros((batch_size,num_input_parameters))\n",
    "    y = np.zeros((batch_size,num_output_parameters))\n",
    "    \n",
    "    X[:,0] = uniform.rvs(size=batch_size)*(bounds[0][1]-bounds[0][0]) + bounds[0][0]#a\n",
    "    X[:,1] = uniform.rvs(size=batch_size)*(bounds[1][1]-bounds[1][0]) + bounds[1][0] #b\n",
    "    X[:,2] = uniform.rvs(size=batch_size)*(bounds[2][1]-bounds[2][0]) + bounds[2][0] #c\n",
    "    X[:,3] = uniform.rvs(size=batch_size)*(bounds[3][1]-bounds[3][0]) + bounds[3][0] #rho\n",
    "    X[:,4] = uniform.rvs(size=batch_size)*(bounds[4][1]-bounds[4][0]) + bounds[4][0] #maturities T \n",
    "    X[:,5] = uniform.rvs(size=batch_size)*(bounds[5][1]-bounds[5][0]) + bounds[5][0] #strikes K\n",
    "\n",
    "    \n",
    "    for i in range(batch_size):\n",
    "        y[i,0] = heston_closed(X[i,0],X[i,1],X[i,2],X[i,4],X[i,5],X[i,3],V0,S0,r)\n",
    "    \n",
    "    #X = scaler.fit_transform(X)\n",
    "    #y = scaler.fit_transform(y)\n",
    "    \n",
    "    return X,y"
   ]
  },
  {
   "cell_type": "markdown",
   "metadata": {},
   "source": [
    "## Next Batch using Euler Maruyama MC"
   ]
  },
  {
   "cell_type": "code",
   "execution_count": 5,
   "metadata": {},
   "outputs": [],
   "source": [
    "def corr_brownian_motion(n, T, dim, rho):\n",
    "    dt = T/n\n",
    "\n",
    "    dW1 = norm.rvs(size=(dim,n+1) , scale=sqrt(dt))\n",
    "    dW2 = rho * dW1 + np.sqrt(1 - np.power(rho ,2)) * norm.rvs(size=(dim,n+1) , scale=sqrt(dt))\n",
    "        \n",
    "    W1 = np.cumsum(dW1, axis=-1)\n",
    "    W2 = np.cumsum(dW2, axis=-1)\n",
    " \n",
    "    return W1,W2"
   ]
  },
  {
   "cell_type": "code",
   "execution_count": 7,
   "metadata": {},
   "outputs": [
    {
     "output_type": "stream",
     "name": "stdout",
     "text": "180 µs ± 1.44 µs per loop (mean ± std. dev. of 7 runs, 10000 loops each)\n66.9 µs ± 410 ns per loop (mean ± std. dev. of 7 runs, 10000 loops each)\n"
    }
   ],
   "source": [
    "import time\n",
    "%timeit corr_brownian_motion(1000,1,1,0.4)\n",
    "%timeit np.cumsum(np.random.normal(0,np.sqrt(1/(1000-1)),[2,1000-1]),axis=1)"
   ]
  },
  {
   "cell_type": "code",
   "execution_count": 9,
   "metadata": {},
   "outputs": [],
   "source": [
    "def euler_maruyama(mu,sigma,T,x0,W):\n",
    "    dim = W.shape[0]\n",
    "    n = W.shape[1]-1\n",
    "    Y = np.zeros((dim,n+1))\n",
    "    dt = T/n\n",
    "    sqrt_dt = np.sqrt(dt)\n",
    "    for l in range(dim):\n",
    "        Y[l,0] = x0\n",
    "        for i in range(n):\n",
    "            Y[l,i+1] = Y[l,i] + np.multiply(mu(Y[l,i],l,i),dt) + sigma(Y[l,i],l,i)*sqrt_dt*(W[l,i+1]-W[l,i])\n",
    "    \n",
    "    return Y"
   ]
  },
  {
   "cell_type": "code",
   "execution_count": 10,
   "metadata": {},
   "outputs": [],
   "source": [
    "#work in progress\n",
    "def heston(a,b,c,T,W,Z,V0,S0):\n",
    "    #assert(2*a*b > c*c) \n",
    "    \n",
    "    def mu2(V,i,k):\n",
    "        return np.multiply(a,(b-V))\n",
    "    \n",
    "    def sigma2(V,i,k):\n",
    "        return np.multiply(c,np.sqrt(np.maximum(0.0,V)))\n",
    "    \n",
    "    V = euler_maruyama(mu2,sigma2,T,V0,Z)\n",
    "    \n",
    "    def mu1(S,i,k):\n",
    "        return 0.0\n",
    "    \n",
    "    def sigma1(S,i,k):\n",
    "        return np.multiply(np.sqrt(np.maximum(0.0,V[i,k])),S)\n",
    "    \n",
    "    S = euler_maruyama(mu1,sigma1,T,S0,W)\n",
    "    \n",
    "    return S,V"
   ]
  },
  {
   "cell_type": "code",
   "execution_count": 11,
   "metadata": {},
   "outputs": [],
   "source": [
    "#input: batch_size, bounds for a,b,c,rho in that order \n",
    "#output: X_batch,y_batch\n",
    "def next_batch_heston_EM_train(batch_size,bounds):\n",
    "    X = np.zeros((batch_size,num_input_parameters))\n",
    "    X_scaled = np.zeros((batch_size,num_input_parameters))\n",
    "    y = np.zeros((batch_size,num_output_parameters))\n",
    "\n",
    "    X_scaled = uniform.rvs(size=(batch_size,num_input_parameters))\n",
    "    \n",
    "    X = reverse_transform_tuple(X_scaled,num_input_parameters)\n",
    "\n",
    "    n = 500\n",
    "    dim = 100\n",
    "        \n",
    "    for i in range(batch_size):\n",
    "        W,Z = corr_brownian_motion(n,X[i,4],dim,X[i,3])\n",
    "        S,V = heston(X[i,0],X[i,1],X[i,2],X[i,4],W,Z,V0,S0)\n",
    "        S_T = S[:,n]\n",
    "        \n",
    "        y[i,0] = np.exp(-r*X[i,4])*np.mean(np.maximum(S_T-X[i,5],np.zeros(dim)))\n",
    "    \n",
    "    #X = scaler.fit_transform(X)\n",
    "    #y = scaler.fit_transform(y)\n",
    "    \n",
    "    return X_scaled,y"
   ]
  },
  {
   "cell_type": "code",
   "execution_count": 12,
   "metadata": {},
   "outputs": [],
   "source": [
    "def reverse_transform(X,n):\n",
    "    res = np.zeros(len(X))\n",
    "    for i in range(n):\n",
    "        res[i] = X[i]*(bounds[i][1]-bounds[i][0]) + bounds[i][0]\n",
    "    return res\n",
    "\n",
    "def reverse_transform_tuple(X,n):\n",
    "    res = np.zeros(X.shape)\n",
    "    for i in range(n):\n",
    "        res[:,i] = X[:,i]*(bounds[i][1]-bounds[i][0]) + bounds[i][0]\n",
    "    return res"
   ]
  },
  {
   "cell_type": "code",
   "execution_count": 13,
   "metadata": {},
   "outputs": [],
   "source": [
    "def transform(X,n):\n",
    "    res = np.zeros(len(X))\n",
    "    for i in range(n):\n",
    "        res[i] = (X[i] - bounds[i][0])/(bounds[i][1]-bounds[i][0])\n",
    "    return res\n",
    "\n",
    "def transform_tuple(X,n):\n",
    "    res = np.zeros(X.shape)\n",
    "    for i in range(n):\n",
    "        res[:,i] = (X[:,i] - bounds[i][0])/(bounds[i][1]-bounds[i][0])\n",
    "    return res"
   ]
  },
  {
   "cell_type": "markdown",
   "metadata": {},
   "source": [
    "## Design Neural Network and Train"
   ]
  },
  {
   "cell_type": "code",
   "execution_count": 14,
   "metadata": {},
   "outputs": [],
   "source": [
    "#Layers\n",
    "num_layers = 3\n",
    "hidden1 = fully_connected(X, num_neurons, activation_fn=tf.nn.elu)\n",
    "hidden2 = fully_connected(hidden1, num_neurons, activation_fn=tf.nn.elu)\n",
    "hidden3 = fully_connected(hidden2, num_neurons, activation_fn=tf.nn.elu)\n",
    "\n",
    "outputs = fully_connected(hidden3, num_output_parameters, activation_fn=None)"
   ]
  },
  {
   "cell_type": "code",
   "execution_count": 15,
   "metadata": {},
   "outputs": [],
   "source": [
    "#Loss Function\n",
    "loss = tf.reduce_mean(tf.sqrt(tf.square(outputs - y)))  # MSE"
   ]
  },
  {
   "cell_type": "code",
   "execution_count": 16,
   "metadata": {},
   "outputs": [],
   "source": [
    "#Optimizer\n",
    "optimizer = tf.train.AdamOptimizer(learning_rate)\n",
    "train = optimizer.minimize(loss)"
   ]
  },
  {
   "cell_type": "code",
   "execution_count": 17,
   "metadata": {},
   "outputs": [],
   "source": [
    "init = tf.global_variables_initializer()"
   ]
  },
  {
   "cell_type": "code",
   "execution_count": 18,
   "metadata": {},
   "outputs": [],
   "source": [
    "saver = tf.train.Saver()"
   ]
  },
  {
   "cell_type": "code",
   "execution_count": 26,
   "metadata": {},
   "outputs": [
    {
     "output_type": "stream",
     "name": "stdout",
     "text": "0 \tRMSE: 0.30756837\n5 \tRMSE: 0.10214035\n10 \tRMSE: 0.090650305\n15 \tRMSE: 0.14566329\n"
    }
   ],
   "source": [
    "with tf.Session() as sess:\n",
    "    sess.run(init)\n",
    "    \n",
    "    for iteration in range(num_steps):\n",
    "        \n",
    "        #X_batch,Y_batch = next_batch_heston_train(batch_size,bounds)\n",
    "        X_batch,Y_batch = next_batch_heston_EM_train(batch_size,bounds)\n",
    "\n",
    "        sess.run(train,feed_dict={X: X_batch, y: Y_batch})\n",
    "        \n",
    "        if iteration % 5 == 0:\n",
    "            \n",
    "            rmse = loss.eval(feed_dict={X: X_batch, y: Y_batch})\n",
    "            print(iteration, \"\\tRMSE:\", rmse)\n",
    "    \n",
    "    #saver.save(sess, \"./models/heston_closed_nn\")\n",
    "    saver.save(sess, \"./models/heston_closed_EM_nn\")"
   ]
  },
  {
   "cell_type": "markdown",
   "metadata": {},
   "source": [
    "## Optimze for Market Parameter"
   ]
  },
  {
   "cell_type": "code",
   "execution_count": 27,
   "metadata": {},
   "outputs": [],
   "source": [
    "theta_true = [1.1,0.2,0.25,0.4]\n",
    "T = [1.1,1.15,1.2,1.25,1.3,1.35,1.4,1.45,1.5,1.6,1.7]\n",
    "K = [0.6,0.65,0.7,0.75,0.8,0.85,0.9,0.95,1,1.05,1.1,1.15,1.2]"
   ]
  },
  {
   "cell_type": "markdown",
   "metadata": {},
   "source": []
  },
  {
   "cell_type": "code",
   "execution_count": 28,
   "metadata": {},
   "outputs": [],
   "source": [
    "def NNprediction(x):\n",
    "    x = transform(x.T,4)\n",
    "    tmp = np.zeros((1,6))\n",
    "    tmp[0,:] = x\n",
    "\n",
    "    return sess.run(outputs,feed_dict={X: tmp})\n",
    "\n",
    "def NNgradientpred(x):\n",
    "    x = np.asarray(x)\n",
    "    x = transform(x.T,4)\n",
    "    tmp = np.zeros((1,6))\n",
    "    tmp[0,:] = x\n",
    "    num_parameters = num_input_parameters-2\n",
    "    grad = np.zeros(num_parameters)\n",
    "    \n",
    "    delta = 0.00000001\n",
    "    for i in range(num_parameters):\n",
    "        h = np.zeros(tmp.shape)\n",
    "        h[0,i] = delta\n",
    "        \n",
    "        #two point gradient\n",
    "        #grad[i] = (sess.run(outputs,feed_dict={X: x+h}) - sess.run(outputs,feed_dict={X: x-h}))/2/delta\n",
    "\n",
    "        #four point gradient\n",
    "        grad[i] = (-sess.run(outputs,feed_dict={X: tmp+2*h})+8*sess.run(outputs,feed_dict={X: tmp+h})-8*sess.run(outputs,feed_dict={X: tmp-h}) +sess.run(outputs,feed_dict={X: tmp-2*h}))/12/delta\n",
    "\n",
    "    return grad"
   ]
  },
  {
   "cell_type": "code",
   "execution_count": 29,
   "metadata": {},
   "outputs": [],
   "source": [
    "#input: theta in order a,b,c,rho\n",
    "def CostFuncLS(theta,i,j):\n",
    "    #set T,K here\n",
    "    T_ = T[i]\n",
    "    K_ = K[j]\n",
    "\n",
    "    if theta[3]<=0:\n",
    "        theta[3] = 0.01\n",
    "    if theta[3]>=1:\n",
    "        theta[3] = 0.99\n",
    "    if theta[2]<=0:\n",
    "        theta[2] = 0.1\n",
    "    if 2*theta[0]*theta[1]<=theta[2]*theta[2]:\n",
    "        theta[0] += theta[2]\n",
    "        theta[1] += theta[2]\n",
    "   \n",
    "    x = np.zeros((1,6))\n",
    "    x[0,0:4] = theta\n",
    "    x[0,4] = T_\n",
    "    x[0,5] = K_\n",
    "\n",
    "\n",
    "    n = 32\n",
    "    dim = 1024\n",
    "    W,Z = corr_brownian_motion(n,T_,dim,theta_true[3])\n",
    "    S,V = heston(theta_true[0],theta_true[1],theta_true[2],K_,W,Z,V0,S0)\n",
    "    S_T = S[:,n]\n",
    "        \n",
    "    heston_= np.exp(-r*T_)*np.mean(np.maximum(S_T-K_,np.zeros(dim)))\n",
    "\n",
    "    return np.abs(NNprediction(x)-heston_)[0,:]\n",
    "\n",
    "\n",
    "def JacobianLS(theta,i,j):\n",
    "    #set T,K here\n",
    "    T_ = T[i]\n",
    "    K_ = K[j]\n",
    "    if theta[3]<=0:\n",
    "        theta[3] = 0.01\n",
    "    if theta[3]>=1:\n",
    "        theta[3] = 0.99\n",
    "    if theta[2]<=0:\n",
    "        theta[2] = 0.1\n",
    "    if 2*theta[0]*theta[1]<=theta[2]*theta[2]:\n",
    "        theta[0] += theta[2]\n",
    "        theta[1] += theta[2]\n",
    "\n",
    "    x = np.zeros((1,6))\n",
    "    x[0,0:4] = theta\n",
    "    x[0,4] = T_\n",
    "    x[0,5] = K_\n",
    "\n",
    "    return NNgradientpred(x).T"
   ]
  },
  {
   "cell_type": "code",
   "execution_count": 30,
   "metadata": {},
   "outputs": [
    {
     "output_type": "stream",
     "name": "stdout",
     "text": "INFO:tensorflow:Restoring parameters from ./models/heston_closed_EM_nn\n[1.4, 0.5, 0.08000000000000002, 0.8]\n"
    }
   ],
   "source": [
    "with tf.Session() as sess:                          \n",
    "    #saver.restore(sess, \"./models/heston_closed_nn\") \n",
    "    saver.restore(sess, \"./models/heston_closed_EM_nn\")   \n",
    "\n",
    "    init = [bounds[0,0],bounds[1,0],bounds[2,0],bounds[3,0]]\n",
    "    init_best = init\n",
    "    \n",
    "    cost_old = 1000000\n",
    "    n = 4\n",
    "    for a in range(n):\n",
    "        init_new = [bounds[0,0],bounds[1,0],bounds[2,0],bounds[3,0]]\n",
    "        init_new[0] += 1/(n+1)*(bounds[0,1]-bounds[0,0])\n",
    "        for b in range(n):\n",
    "            init_new[1] += 1/(n+1)*(bounds[1,1]-bounds[1,0])\n",
    "            init_new[2] = bounds[2,0]\n",
    "            init_new[3] = bounds[3,0]\n",
    "            for c in range(n):\n",
    "                init_new[2] += 1/(n+1)*(bounds[2,1]-bounds[2,0])\n",
    "                init_new[3] = bounds[3,0]\n",
    "                for d in range(n):\n",
    "                    init_new[3] += 1/(n+1)*(bounds[3,1]-bounds[3,0])\n",
    "                    \n",
    "                    cost_new = CostFuncLS(init_new,0,0)\n",
    "                    if cost_new < cost_old:\n",
    "                        init_best = init_new \n",
    "                    cost_old = cost_new\n",
    "\n",
    "    init = init_best\n",
    "print(init)"
   ]
  },
  {
   "cell_type": "code",
   "execution_count": 31,
   "metadata": {},
   "outputs": [
    {
     "output_type": "stream",
     "name": "stdout",
     "text": "[0.2 0.8 0.8 0.8]\n"
    }
   ],
   "source": [
    "init_transformed = transform(init,4)\n",
    "print(init_transformed)"
   ]
  },
  {
   "cell_type": "code",
   "execution_count": 32,
   "metadata": {
    "tags": [
     "outputPrepend",
     "outputPrepend",
     "outputPrepend",
     "outputPrepend",
     "outputPrepend",
     "outputPrepend",
     "outputPrepend",
     "outputPrepend"
    ]
   },
   "outputs": [
    {
     "output_type": "stream",
     "name": "stdout",
     "text": "INFO:tensorflow:Restoring parameters from ./models/heston_closed_EM_nn\n"
    },
    {
     "output_type": "error",
     "ename": "KeyboardInterrupt",
     "evalue": "",
     "traceback": [
      "\u001b[0;31m---------------------------------------------------------------------------\u001b[0m",
      "\u001b[0;31mKeyboardInterrupt\u001b[0m                         Traceback (most recent call last)",
      "\u001b[0;32m<ipython-input-32-8c49200a4001>\u001b[0m in \u001b[0;36m<module>\u001b[0;34m()\u001b[0m\n\u001b[1;32m      9\u001b[0m     \u001b[0;32mfor\u001b[0m \u001b[0mi\u001b[0m \u001b[0;32min\u001b[0m \u001b[0mrange\u001b[0m\u001b[0;34m(\u001b[0m\u001b[0mlen\u001b[0m\u001b[0;34m(\u001b[0m\u001b[0mT\u001b[0m\u001b[0;34m)\u001b[0m\u001b[0;34m)\u001b[0m\u001b[0;34m:\u001b[0m\u001b[0;34m\u001b[0m\u001b[0m\n\u001b[1;32m     10\u001b[0m         \u001b[0;32mfor\u001b[0m \u001b[0mj\u001b[0m \u001b[0;32min\u001b[0m \u001b[0mrange\u001b[0m\u001b[0;34m(\u001b[0m\u001b[0mlen\u001b[0m\u001b[0;34m(\u001b[0m\u001b[0mK\u001b[0m\u001b[0;34m)\u001b[0m\u001b[0;34m)\u001b[0m\u001b[0;34m:\u001b[0m\u001b[0;34m\u001b[0m\u001b[0m\n\u001b[0;32m---> 11\u001b[0;31m             \u001b[0mI\u001b[0m\u001b[0;34m=\u001b[0m\u001b[0mscipy\u001b[0m\u001b[0;34m.\u001b[0m\u001b[0moptimize\u001b[0m\u001b[0;34m.\u001b[0m\u001b[0mleast_squares\u001b[0m\u001b[0;34m(\u001b[0m\u001b[0mCostFuncLS\u001b[0m\u001b[0;34m,\u001b[0m\u001b[0minit\u001b[0m\u001b[0;34m,\u001b[0m\u001b[0mJacobianLS\u001b[0m\u001b[0;34m,\u001b[0m\u001b[0mbounds\u001b[0m\u001b[0;34m=\u001b[0m\u001b[0mbnds\u001b[0m\u001b[0;34m,\u001b[0m\u001b[0margs\u001b[0m\u001b[0;34m=\u001b[0m\u001b[0;34m(\u001b[0m\u001b[0mi\u001b[0m\u001b[0;34m,\u001b[0m\u001b[0mj\u001b[0m\u001b[0;34m)\u001b[0m\u001b[0;34m,\u001b[0m\u001b[0mverbose\u001b[0m\u001b[0;34m=\u001b[0m\u001b[0;36m0\u001b[0m\u001b[0;34m)\u001b[0m\u001b[0;34m\u001b[0m\u001b[0m\n\u001b[0m\u001b[1;32m     12\u001b[0m             \u001b[0mTheta\u001b[0m\u001b[0;34m[\u001b[0m\u001b[0mi\u001b[0m\u001b[0;34m,\u001b[0m\u001b[0mj\u001b[0m\u001b[0;34m,\u001b[0m\u001b[0;34m:\u001b[0m\u001b[0;34m]\u001b[0m \u001b[0;34m=\u001b[0m \u001b[0mI\u001b[0m\u001b[0;34m.\u001b[0m\u001b[0mx\u001b[0m\u001b[0;34m\u001b[0m\u001b[0m\n\u001b[1;32m     13\u001b[0m \u001b[0;34m\u001b[0m\u001b[0m\n",
      "\u001b[0;32m~/opt/anaconda3/envs/slt-ce/lib/python3.5/site-packages/scipy/optimize/_lsq/least_squares.py\u001b[0m in \u001b[0;36mleast_squares\u001b[0;34m(fun, x0, jac, bounds, method, ftol, xtol, gtol, x_scale, loss, f_scale, diff_step, tr_solver, tr_options, jac_sparsity, max_nfev, verbose, args, kwargs)\u001b[0m\n\u001b[1;32m    906\u001b[0m         result = trf(fun_wrapped, jac_wrapped, x0, f0, J0, lb, ub, ftol, xtol,\n\u001b[1;32m    907\u001b[0m                      \u001b[0mgtol\u001b[0m\u001b[0;34m,\u001b[0m \u001b[0mmax_nfev\u001b[0m\u001b[0;34m,\u001b[0m \u001b[0mx_scale\u001b[0m\u001b[0;34m,\u001b[0m \u001b[0mloss_function\u001b[0m\u001b[0;34m,\u001b[0m \u001b[0mtr_solver\u001b[0m\u001b[0;34m,\u001b[0m\u001b[0;34m\u001b[0m\u001b[0m\n\u001b[0;32m--> 908\u001b[0;31m                      tr_options.copy(), verbose)\n\u001b[0m\u001b[1;32m    909\u001b[0m \u001b[0;34m\u001b[0m\u001b[0m\n\u001b[1;32m    910\u001b[0m     \u001b[0;32melif\u001b[0m \u001b[0mmethod\u001b[0m \u001b[0;34m==\u001b[0m \u001b[0;34m'dogbox'\u001b[0m\u001b[0;34m:\u001b[0m\u001b[0;34m\u001b[0m\u001b[0m\n",
      "\u001b[0;32m~/opt/anaconda3/envs/slt-ce/lib/python3.5/site-packages/scipy/optimize/_lsq/trf.py\u001b[0m in \u001b[0;36mtrf\u001b[0;34m(fun, jac, x0, f0, J0, lb, ub, ftol, xtol, gtol, max_nfev, x_scale, loss_function, tr_solver, tr_options, verbose)\u001b[0m\n\u001b[1;32m    126\u001b[0m         return trf_bounds(\n\u001b[1;32m    127\u001b[0m             \u001b[0mfun\u001b[0m\u001b[0;34m,\u001b[0m \u001b[0mjac\u001b[0m\u001b[0;34m,\u001b[0m \u001b[0mx0\u001b[0m\u001b[0;34m,\u001b[0m \u001b[0mf0\u001b[0m\u001b[0;34m,\u001b[0m \u001b[0mJ0\u001b[0m\u001b[0;34m,\u001b[0m \u001b[0mlb\u001b[0m\u001b[0;34m,\u001b[0m \u001b[0mub\u001b[0m\u001b[0;34m,\u001b[0m \u001b[0mftol\u001b[0m\u001b[0;34m,\u001b[0m \u001b[0mxtol\u001b[0m\u001b[0;34m,\u001b[0m \u001b[0mgtol\u001b[0m\u001b[0;34m,\u001b[0m \u001b[0mmax_nfev\u001b[0m\u001b[0;34m,\u001b[0m \u001b[0mx_scale\u001b[0m\u001b[0;34m,\u001b[0m\u001b[0;34m\u001b[0m\u001b[0m\n\u001b[0;32m--> 128\u001b[0;31m             loss_function, tr_solver, tr_options, verbose)\n\u001b[0m\u001b[1;32m    129\u001b[0m \u001b[0;34m\u001b[0m\u001b[0m\n\u001b[1;32m    130\u001b[0m \u001b[0;34m\u001b[0m\u001b[0m\n",
      "\u001b[0;32m~/opt/anaconda3/envs/slt-ce/lib/python3.5/site-packages/scipy/optimize/_lsq/trf.py\u001b[0m in \u001b[0;36mtrf_bounds\u001b[0;34m(fun, jac, x0, f0, J0, lb, ub, ftol, xtol, gtol, max_nfev, x_scale, loss_function, tr_solver, tr_options, verbose)\u001b[0m\n\u001b[1;32m    339\u001b[0m \u001b[0;34m\u001b[0m\u001b[0m\n\u001b[1;32m    340\u001b[0m             \u001b[0mx_new\u001b[0m \u001b[0;34m=\u001b[0m \u001b[0mmake_strictly_feasible\u001b[0m\u001b[0;34m(\u001b[0m\u001b[0mx\u001b[0m \u001b[0;34m+\u001b[0m \u001b[0mstep\u001b[0m\u001b[0;34m,\u001b[0m \u001b[0mlb\u001b[0m\u001b[0;34m,\u001b[0m \u001b[0mub\u001b[0m\u001b[0;34m,\u001b[0m \u001b[0mrstep\u001b[0m\u001b[0;34m=\u001b[0m\u001b[0;36m0\u001b[0m\u001b[0;34m)\u001b[0m\u001b[0;34m\u001b[0m\u001b[0m\n\u001b[0;32m--> 341\u001b[0;31m             \u001b[0mf_new\u001b[0m \u001b[0;34m=\u001b[0m \u001b[0mfun\u001b[0m\u001b[0;34m(\u001b[0m\u001b[0mx_new\u001b[0m\u001b[0;34m)\u001b[0m\u001b[0;34m\u001b[0m\u001b[0m\n\u001b[0m\u001b[1;32m    342\u001b[0m             \u001b[0mnfev\u001b[0m \u001b[0;34m+=\u001b[0m \u001b[0;36m1\u001b[0m\u001b[0;34m\u001b[0m\u001b[0m\n\u001b[1;32m    343\u001b[0m \u001b[0;34m\u001b[0m\u001b[0m\n",
      "\u001b[0;32m~/opt/anaconda3/envs/slt-ce/lib/python3.5/site-packages/scipy/optimize/_lsq/least_squares.py\u001b[0m in \u001b[0;36mfun_wrapped\u001b[0;34m(x)\u001b[0m\n\u001b[1;32m    792\u001b[0m \u001b[0;34m\u001b[0m\u001b[0m\n\u001b[1;32m    793\u001b[0m     \u001b[0;32mdef\u001b[0m \u001b[0mfun_wrapped\u001b[0m\u001b[0;34m(\u001b[0m\u001b[0mx\u001b[0m\u001b[0;34m)\u001b[0m\u001b[0;34m:\u001b[0m\u001b[0;34m\u001b[0m\u001b[0m\n\u001b[0;32m--> 794\u001b[0;31m         \u001b[0;32mreturn\u001b[0m \u001b[0mnp\u001b[0m\u001b[0;34m.\u001b[0m\u001b[0matleast_1d\u001b[0m\u001b[0;34m(\u001b[0m\u001b[0mfun\u001b[0m\u001b[0;34m(\u001b[0m\u001b[0mx\u001b[0m\u001b[0;34m,\u001b[0m \u001b[0;34m*\u001b[0m\u001b[0margs\u001b[0m\u001b[0;34m,\u001b[0m \u001b[0;34m**\u001b[0m\u001b[0mkwargs\u001b[0m\u001b[0;34m)\u001b[0m\u001b[0;34m)\u001b[0m\u001b[0;34m\u001b[0m\u001b[0m\n\u001b[0m\u001b[1;32m    795\u001b[0m \u001b[0;34m\u001b[0m\u001b[0m\n\u001b[1;32m    796\u001b[0m     \u001b[0;32mif\u001b[0m \u001b[0mmethod\u001b[0m \u001b[0;34m==\u001b[0m \u001b[0;34m'trf'\u001b[0m\u001b[0;34m:\u001b[0m\u001b[0;34m\u001b[0m\u001b[0m\n",
      "\u001b[0;32m<ipython-input-29-c3815121b601>\u001b[0m in \u001b[0;36mCostFuncLS\u001b[0;34m(theta, i, j)\u001b[0m\n\u001b[1;32m     24\u001b[0m     \u001b[0mdim\u001b[0m \u001b[0;34m=\u001b[0m \u001b[0;36m1024\u001b[0m\u001b[0;34m\u001b[0m\u001b[0m\n\u001b[1;32m     25\u001b[0m     \u001b[0mW\u001b[0m\u001b[0;34m,\u001b[0m\u001b[0mZ\u001b[0m \u001b[0;34m=\u001b[0m \u001b[0mcorr_brownian_motion\u001b[0m\u001b[0;34m(\u001b[0m\u001b[0mn\u001b[0m\u001b[0;34m,\u001b[0m\u001b[0mT_\u001b[0m\u001b[0;34m,\u001b[0m\u001b[0mdim\u001b[0m\u001b[0;34m,\u001b[0m\u001b[0mtheta_true\u001b[0m\u001b[0;34m[\u001b[0m\u001b[0;36m3\u001b[0m\u001b[0;34m]\u001b[0m\u001b[0;34m)\u001b[0m\u001b[0;34m\u001b[0m\u001b[0m\n\u001b[0;32m---> 26\u001b[0;31m     \u001b[0mS\u001b[0m\u001b[0;34m,\u001b[0m\u001b[0mV\u001b[0m \u001b[0;34m=\u001b[0m \u001b[0mheston\u001b[0m\u001b[0;34m(\u001b[0m\u001b[0mtheta_true\u001b[0m\u001b[0;34m[\u001b[0m\u001b[0;36m0\u001b[0m\u001b[0;34m]\u001b[0m\u001b[0;34m,\u001b[0m\u001b[0mtheta_true\u001b[0m\u001b[0;34m[\u001b[0m\u001b[0;36m1\u001b[0m\u001b[0;34m]\u001b[0m\u001b[0;34m,\u001b[0m\u001b[0mtheta_true\u001b[0m\u001b[0;34m[\u001b[0m\u001b[0;36m2\u001b[0m\u001b[0;34m]\u001b[0m\u001b[0;34m,\u001b[0m\u001b[0mK_\u001b[0m\u001b[0;34m,\u001b[0m\u001b[0mW\u001b[0m\u001b[0;34m,\u001b[0m\u001b[0mZ\u001b[0m\u001b[0;34m,\u001b[0m\u001b[0mV0\u001b[0m\u001b[0;34m,\u001b[0m\u001b[0mS0\u001b[0m\u001b[0;34m)\u001b[0m\u001b[0;34m\u001b[0m\u001b[0m\n\u001b[0m\u001b[1;32m     27\u001b[0m     \u001b[0mS_T\u001b[0m \u001b[0;34m=\u001b[0m \u001b[0mS\u001b[0m\u001b[0;34m[\u001b[0m\u001b[0;34m:\u001b[0m\u001b[0;34m,\u001b[0m\u001b[0mn\u001b[0m\u001b[0;34m]\u001b[0m\u001b[0;34m\u001b[0m\u001b[0m\n\u001b[1;32m     28\u001b[0m \u001b[0;34m\u001b[0m\u001b[0m\n",
      "\u001b[0;32m<ipython-input-10-774409e3b1da>\u001b[0m in \u001b[0;36mheston\u001b[0;34m(a, b, c, T, W, Z, V0, S0)\u001b[0m\n\u001b[1;32m      9\u001b[0m         \u001b[0;32mreturn\u001b[0m \u001b[0mnp\u001b[0m\u001b[0;34m.\u001b[0m\u001b[0mmultiply\u001b[0m\u001b[0;34m(\u001b[0m\u001b[0mc\u001b[0m\u001b[0;34m,\u001b[0m\u001b[0mnp\u001b[0m\u001b[0;34m.\u001b[0m\u001b[0msqrt\u001b[0m\u001b[0;34m(\u001b[0m\u001b[0mnp\u001b[0m\u001b[0;34m.\u001b[0m\u001b[0mmaximum\u001b[0m\u001b[0;34m(\u001b[0m\u001b[0;36m0.0\u001b[0m\u001b[0;34m,\u001b[0m\u001b[0mV\u001b[0m\u001b[0;34m)\u001b[0m\u001b[0;34m)\u001b[0m\u001b[0;34m)\u001b[0m\u001b[0;34m\u001b[0m\u001b[0m\n\u001b[1;32m     10\u001b[0m \u001b[0;34m\u001b[0m\u001b[0m\n\u001b[0;32m---> 11\u001b[0;31m     \u001b[0mV\u001b[0m \u001b[0;34m=\u001b[0m \u001b[0meuler_maruyama\u001b[0m\u001b[0;34m(\u001b[0m\u001b[0mmu2\u001b[0m\u001b[0;34m,\u001b[0m\u001b[0msigma2\u001b[0m\u001b[0;34m,\u001b[0m\u001b[0mT\u001b[0m\u001b[0;34m,\u001b[0m\u001b[0mV0\u001b[0m\u001b[0;34m,\u001b[0m\u001b[0mZ\u001b[0m\u001b[0;34m)\u001b[0m\u001b[0;34m\u001b[0m\u001b[0m\n\u001b[0m\u001b[1;32m     12\u001b[0m \u001b[0;34m\u001b[0m\u001b[0m\n\u001b[1;32m     13\u001b[0m     \u001b[0;32mdef\u001b[0m \u001b[0mmu1\u001b[0m\u001b[0;34m(\u001b[0m\u001b[0mS\u001b[0m\u001b[0;34m,\u001b[0m\u001b[0mi\u001b[0m\u001b[0;34m,\u001b[0m\u001b[0mk\u001b[0m\u001b[0;34m)\u001b[0m\u001b[0;34m:\u001b[0m\u001b[0;34m\u001b[0m\u001b[0m\n",
      "\u001b[0;32m<ipython-input-9-f03e88fbb973>\u001b[0m in \u001b[0;36meuler_maruyama\u001b[0;34m(mu, sigma, T, x0, W)\u001b[0m\n\u001b[1;32m      8\u001b[0m         \u001b[0mY\u001b[0m\u001b[0;34m[\u001b[0m\u001b[0ml\u001b[0m\u001b[0;34m,\u001b[0m\u001b[0;36m0\u001b[0m\u001b[0;34m]\u001b[0m \u001b[0;34m=\u001b[0m \u001b[0mx0\u001b[0m\u001b[0;34m\u001b[0m\u001b[0m\n\u001b[1;32m      9\u001b[0m         \u001b[0;32mfor\u001b[0m \u001b[0mi\u001b[0m \u001b[0;32min\u001b[0m \u001b[0mrange\u001b[0m\u001b[0;34m(\u001b[0m\u001b[0mn\u001b[0m\u001b[0;34m)\u001b[0m\u001b[0;34m:\u001b[0m\u001b[0;34m\u001b[0m\u001b[0m\n\u001b[0;32m---> 10\u001b[0;31m             \u001b[0mY\u001b[0m\u001b[0;34m[\u001b[0m\u001b[0ml\u001b[0m\u001b[0;34m,\u001b[0m\u001b[0mi\u001b[0m\u001b[0;34m+\u001b[0m\u001b[0;36m1\u001b[0m\u001b[0;34m]\u001b[0m \u001b[0;34m=\u001b[0m \u001b[0mY\u001b[0m\u001b[0;34m[\u001b[0m\u001b[0ml\u001b[0m\u001b[0;34m,\u001b[0m\u001b[0mi\u001b[0m\u001b[0;34m]\u001b[0m \u001b[0;34m+\u001b[0m \u001b[0mnp\u001b[0m\u001b[0;34m.\u001b[0m\u001b[0mmultiply\u001b[0m\u001b[0;34m(\u001b[0m\u001b[0mmu\u001b[0m\u001b[0;34m(\u001b[0m\u001b[0mY\u001b[0m\u001b[0;34m[\u001b[0m\u001b[0ml\u001b[0m\u001b[0;34m,\u001b[0m\u001b[0mi\u001b[0m\u001b[0;34m]\u001b[0m\u001b[0;34m,\u001b[0m\u001b[0ml\u001b[0m\u001b[0;34m,\u001b[0m\u001b[0mi\u001b[0m\u001b[0;34m)\u001b[0m\u001b[0;34m,\u001b[0m\u001b[0mdt\u001b[0m\u001b[0;34m)\u001b[0m \u001b[0;34m+\u001b[0m \u001b[0msigma\u001b[0m\u001b[0;34m(\u001b[0m\u001b[0mY\u001b[0m\u001b[0;34m[\u001b[0m\u001b[0ml\u001b[0m\u001b[0;34m,\u001b[0m\u001b[0mi\u001b[0m\u001b[0;34m]\u001b[0m\u001b[0;34m,\u001b[0m\u001b[0ml\u001b[0m\u001b[0;34m,\u001b[0m\u001b[0mi\u001b[0m\u001b[0;34m)\u001b[0m\u001b[0;34m*\u001b[0m\u001b[0msqrt_dt\u001b[0m\u001b[0;34m*\u001b[0m\u001b[0;34m(\u001b[0m\u001b[0mW\u001b[0m\u001b[0;34m[\u001b[0m\u001b[0ml\u001b[0m\u001b[0;34m,\u001b[0m\u001b[0mi\u001b[0m\u001b[0;34m+\u001b[0m\u001b[0;36m1\u001b[0m\u001b[0;34m]\u001b[0m\u001b[0;34m-\u001b[0m\u001b[0mW\u001b[0m\u001b[0;34m[\u001b[0m\u001b[0ml\u001b[0m\u001b[0;34m,\u001b[0m\u001b[0mi\u001b[0m\u001b[0;34m]\u001b[0m\u001b[0;34m)\u001b[0m\u001b[0;34m\u001b[0m\u001b[0m\n\u001b[0m\u001b[1;32m     11\u001b[0m \u001b[0;34m\u001b[0m\u001b[0m\n\u001b[1;32m     12\u001b[0m     \u001b[0;32mreturn\u001b[0m \u001b[0mY\u001b[0m\u001b[0;34m\u001b[0m\u001b[0m\n",
      "\u001b[0;32m<ipython-input-10-774409e3b1da>\u001b[0m in \u001b[0;36msigma2\u001b[0;34m(V, i, k)\u001b[0m\n\u001b[1;32m      7\u001b[0m \u001b[0;34m\u001b[0m\u001b[0m\n\u001b[1;32m      8\u001b[0m     \u001b[0;32mdef\u001b[0m \u001b[0msigma2\u001b[0m\u001b[0;34m(\u001b[0m\u001b[0mV\u001b[0m\u001b[0;34m,\u001b[0m\u001b[0mi\u001b[0m\u001b[0;34m,\u001b[0m\u001b[0mk\u001b[0m\u001b[0;34m)\u001b[0m\u001b[0;34m:\u001b[0m\u001b[0;34m\u001b[0m\u001b[0m\n\u001b[0;32m----> 9\u001b[0;31m         \u001b[0;32mreturn\u001b[0m \u001b[0mnp\u001b[0m\u001b[0;34m.\u001b[0m\u001b[0mmultiply\u001b[0m\u001b[0;34m(\u001b[0m\u001b[0mc\u001b[0m\u001b[0;34m,\u001b[0m\u001b[0mnp\u001b[0m\u001b[0;34m.\u001b[0m\u001b[0msqrt\u001b[0m\u001b[0;34m(\u001b[0m\u001b[0mnp\u001b[0m\u001b[0;34m.\u001b[0m\u001b[0mmaximum\u001b[0m\u001b[0;34m(\u001b[0m\u001b[0;36m0.0\u001b[0m\u001b[0;34m,\u001b[0m\u001b[0mV\u001b[0m\u001b[0;34m)\u001b[0m\u001b[0;34m)\u001b[0m\u001b[0;34m)\u001b[0m\u001b[0;34m\u001b[0m\u001b[0m\n\u001b[0m\u001b[1;32m     10\u001b[0m \u001b[0;34m\u001b[0m\u001b[0m\n\u001b[1;32m     11\u001b[0m     \u001b[0mV\u001b[0m \u001b[0;34m=\u001b[0m \u001b[0meuler_maruyama\u001b[0m\u001b[0;34m(\u001b[0m\u001b[0mmu2\u001b[0m\u001b[0;34m,\u001b[0m\u001b[0msigma2\u001b[0m\u001b[0;34m,\u001b[0m\u001b[0mT\u001b[0m\u001b[0;34m,\u001b[0m\u001b[0mV0\u001b[0m\u001b[0;34m,\u001b[0m\u001b[0mZ\u001b[0m\u001b[0;34m)\u001b[0m\u001b[0;34m\u001b[0m\u001b[0m\n",
      "\u001b[0;31mKeyboardInterrupt\u001b[0m: "
     ]
    }
   ],
   "source": [
    "bnds = ([bounds[0,0],bounds[1,0],bounds[2,0],bounds[3,0]],[bounds[0,1],bounds[1,1],bounds[2,1],bounds[3,1]])\n",
    "\n",
    "\n",
    "with tf.Session() as sess:                          \n",
    "    #saver.restore(sess, \"./models/heston_closed_nn\") \n",
    "    saver.restore(sess, \"./models/heston_closed_EM_nn\")   \n",
    " \n",
    "    Theta = np.zeros((len(T),len(K),len(init)))\n",
    "    for i in range(len(T)):\n",
    "        for j in range(len(K)):\n",
    "            I=scipy.optimize.least_squares(CostFuncLS,init,JacobianLS,bounds=bnds,args=(i,j),verbose=0)\n",
    "            Theta[i,j,:] = I.x\n",
    "          "
   ]
  },
  {
   "cell_type": "code",
   "execution_count": null,
   "metadata": {},
   "outputs": [],
   "source": [
    "#print(Theta)"
   ]
  },
  {
   "cell_type": "code",
   "execution_count": null,
   "metadata": {},
   "outputs": [],
   "source": [
    "print(\"Mean of Predicted Theta: \",np.mean(np.mean(Theta,axis=0),axis=0))\n",
    "print(\"True Theata: \",theta_true) "
   ]
  },
  {
   "cell_type": "code",
   "execution_count": null,
   "metadata": {},
   "outputs": [],
   "source": [
    "RMSE = 0\n",
    "price_true = np.zeros((len(T),len(K)))\n",
    "price_opt_params = np.zeros((len(T),len(K)))\n",
    "for i in range(len(T)):\n",
    "    for j in range(len(K)):\n",
    "        #price_true = heston_closed(theta_true[0],theta_true[1],theta_true[2],T[i],K[j],theta_true[3],V0,S0)\n",
    "        n = 100\n",
    "        dim = 20\n",
    "        W,Z = corr_brownian_motion(n,T[i],dim,theta_true[3])\n",
    "        S,V = heston(theta_true[0],theta_true[1],theta_true[2],T[i],W,Z,V0,S0)\n",
    "        S_T = S[:,n]\n",
    "        price_true[i,j] = np.exp(-r*T[i])*np.mean(np.maximum(S_T-K[j],np.zeros(dim)))\n",
    "        \n",
    "        #price_opt_params = heston_closed(Theta[i,j,0],Theta[i,j,1],Theta[i,j,2],T[i],K[j],Theta[i,j,3],V0,S0)\n",
    "        W,Z = corr_brownian_motion(n,T[i],dim,Theta[i,j,3])\n",
    "        S,V = heston(Theta[i,j,0],Theta[i,j,1],Theta[i,j,2],T[i],W,Z,V0,S0)\n",
    "        S_T = S[:,n]\n",
    "        price_opt_params[i,j] = np.exp(-r*T[i])*np.mean(np.maximum(S_T-K[j],np.zeros(dim)))\n",
    "        RMSE += np.power(price_true[i,j]-price_opt_params[i,j],2)\n",
    "RMSE = np.sqrt(RMSE/(len(T)*len(K)))\n",
    "print(\"RMSE: \", RMSE)"
   ]
  },
  {
   "cell_type": "code",
   "execution_count": null,
   "metadata": {},
   "outputs": [],
   "source": [
    "import matplotlib.pyplot as plt\n",
    "import matplotlib.ticker as mtick\n",
    "\n",
    "\n",
    "err = np.mean((100*np.abs((theta_true-Theta)/theta_true)),axis=2)\n",
    "#print(\"Relative error in percent: \",err)\n",
    "plt.figure(1,figsize=(10,6))\n",
    "ax=plt.subplot(1,1,1)\n",
    "plt.imshow(err.reshape(len(T),len(K)))\n",
    "plt.colorbar(format=mtick.PercentFormatter())\n",
    "\n",
    "ax.set_yticks(np.linspace(0,len(T)-1,len(T)))\n",
    "ax.set_yticklabels(T)\n",
    "ax.set_xticks(np.linspace(0,len(K)-1,len(K)))\n",
    "ax.set_xticklabels(K)\n",
    "\n",
    "plt.xlabel(\"Strike\",fontsize=15,labelpad=5)\n",
    "plt.ylabel(\"Maturity\",fontsize=15,labelpad=5)\n",
    "\n",
    "\n",
    "\n",
    "plt.show()"
   ]
  },
  {
   "cell_type": "code",
   "execution_count": null,
   "metadata": {},
   "outputs": [],
   "source": [
    "from mpl_toolkits.mplot3d import Axes3D\n",
    "from matplotlib import cm\n",
    "from matplotlib.ticker import LinearLocator, FormatStrFormatter\n",
    "fig = plt.figure(figsize=(15, 8))\n",
    "\n",
    "T_ = np.zeros((len(T),len(K)))\n",
    "K_ = np.zeros((len(T),len(K)))\n",
    "for i in range(len(K)):\n",
    "    for j in range(len(T)):\n",
    "        T_[j,i] = T[j]\n",
    "for j in range(len(T)):   \n",
    "    for i in range(len(K)):\n",
    "        K_[j,i] = K[i]\n",
    "\n",
    "ax1 = fig.add_subplot(131, projection='3d')\n",
    "ax1.plot_surface(X=K_, Y=T_, Z=price_true, rstride=1, cstride=1, cmap='viridis', edgecolor='none')\n",
    "ax1.zaxis.set_major_locator(LinearLocator(10))\n",
    "ax1.zaxis.set_major_formatter(FormatStrFormatter('%.02f'))\n",
    "ax1.set_xlabel('Strike')\n",
    "ax1.set_ylabel('Maturity')\n",
    "ax1.set_zlabel('Price')\n",
    "ax1.set_title('True Prices')\n",
    "ax1.view_init(15, 45)\n",
    "\n",
    "ax2 = fig.add_subplot(132, projection='3d')\n",
    "ax2.plot_surface(X=K_, Y=T_, Z=price_opt_params, rstride=1, cstride=1, cmap='viridis', edgecolor='none')\n",
    "ax2.zaxis.set_major_locator(LinearLocator(10))\n",
    "ax2.zaxis.set_major_formatter(FormatStrFormatter('%.02f'))\n",
    "ax2.set_xlabel('Strike')\n",
    "ax2.set_ylabel('Maturity')\n",
    "ax2.set_zlabel('Price')\n",
    "ax2.set_title('Predicted Prices')\n",
    "ax2.view_init(15, 45)\n",
    "\n",
    "\n",
    "ax3 = fig.add_subplot(133, projection='3d')\n",
    "ax3.plot_surface(X=K_, Y=T_, Z=price_true-price_opt_params, rstride=1, cstride=1, cmap='inferno', edgecolor='none')\n",
    "ax3.zaxis.set_major_locator(LinearLocator(10))\n",
    "ax3.zaxis.set_major_formatter(FormatStrFormatter('%.02f'))\n",
    "ax3.set_xlabel('Strike')\n",
    "ax3.set_ylabel('Maturity')\n",
    "ax3.set_zlabel('Price')\n",
    "ax3.set_title('Diff')\n",
    "ax3.view_init(90, 45)\n",
    "\n",
    "\n",
    "\n",
    "\n",
    "plt.show()"
   ]
  },
  {
   "cell_type": "code",
   "execution_count": null,
   "metadata": {},
   "outputs": [],
   "source": [
    "import time\n",
    "n1 = 1000\n",
    "dim1 = 1000"
   ]
  },
  {
   "cell_type": "code",
   "execution_count": null,
   "metadata": {},
   "outputs": [],
   "source": [
    "%timeit W1,Z1 = corr_brownian_motion(n1,T[0],dim1,theta_true[3])\n",
    "W1,Z1 = corr_brownian_motion(n1,T[0],dim1,theta_true[3])"
   ]
  },
  {
   "cell_type": "code",
   "execution_count": null,
   "metadata": {},
   "outputs": [],
   "source": [
    "%timeit S,V = heston(theta_true[0],theta_true[1],theta_true[2],T[0],W1,Z1,V0,S0)\n",
    "S,V = heston(theta_true[0],theta_true[1],theta_true[2],T[0],W1,Z1,V0,S0)"
   ]
  },
  {
   "cell_type": "code",
   "execution_count": 41,
   "metadata": {},
   "outputs": [
    {
     "output_type": "stream",
     "name": "stdout",
     "text": "258 ns ± 2.24 ns per loop (mean ± std. dev. of 7 runs, 1000000 loops each)\n"
    }
   ],
   "source": [
    "%timeit S_T = S[:,n]\n",
    "S_T = S[:,n]"
   ]
  },
  {
   "cell_type": "code",
   "execution_count": 42,
   "metadata": {},
   "outputs": [
    {
     "output_type": "stream",
     "name": "stdout",
     "text": "19.1 µs ± 398 ns per loop (mean ± std. dev. of 7 runs, 10000 loops each)\n"
    }
   ],
   "source": [
    "%timeit P = np.exp(-r*T[0])*np.mean(np.maximum(S_T-K[0],np.zeros(dim1)))"
   ]
  },
  {
   "cell_type": "code",
   "execution_count": 43,
   "metadata": {},
   "outputs": [
    {
     "output_type": "stream",
     "name": "stdout",
     "text": "INFO:tensorflow:Restoring parameters from ./models/heston_closed_EM_nn\n18.6 ms ± 21.4 µs per loop (mean ± std. dev. of 7 runs, 100 loops each)\n"
    }
   ],
   "source": [
    "with tf.Session() as sess:                          \n",
    "    #saver.restore(sess, \"./models/heston_closed_nn\") \n",
    "    saver.restore(sess, \"./models/heston_closed_EM_nn\") \n",
    "    %timeit CostFuncLS(theta_true,0,0)"
   ]
  },
  {
   "cell_type": "code",
   "execution_count": 44,
   "metadata": {},
   "outputs": [
    {
     "output_type": "stream",
     "name": "stdout",
     "text": "INFO:tensorflow:Restoring parameters from ./models/heston_closed_EM_nn\nvar: fully_connected/weights:0, value: [[ 0.2067037   0.10437585  0.687487   -0.5964494  -0.1532594  -0.13160439]\n [ 0.4338354   0.4886962  -0.64667946 -0.58101416  0.31853834  0.1455273 ]\n [-0.17508794  0.45294148 -0.0857895   0.394677   -0.40991253 -0.05256541]\n [ 0.0934782   0.4303566  -0.67706466  0.4722827  -0.34686732 -0.5283211 ]\n [-0.41948918 -0.6972124  -0.38819638 -0.10973481  0.14080405 -0.342603  ]\n [ 0.01656147 -0.7089594  -0.5578374   0.67949003 -0.16328694  0.27454436]]\nvar: fully_connected/biases:0, value: [ 0.0134428  -0.01388204  0.00590973  0.01465144  0.01265836 -0.01775118]\nvar: fully_connected_1/weights:0, value: [[ 0.53936535 -0.15559746 -0.13386692  0.60027206 -0.07597145  0.5469473 ]\n [-0.25332218 -0.2672753   0.5116703  -0.17183849  0.4278372   0.03334348]\n [ 0.47144067  0.46458593 -0.2175097   0.20180354 -0.27497852 -0.44642895]\n [-0.4827839   0.09197397  0.40720254 -0.4587346   0.02394506  0.611673  ]\n [ 0.26846123  0.17421472  0.21492599  0.54280126  0.05613187  0.26299945]\n [ 0.6956328   0.3911615  -0.6343604  -0.15084752 -0.26184654 -0.6642031 ]]\nvar: fully_connected_1/biases:0, value: [-0.01458798  0.01200209 -0.00839736  0.0132674  -0.01390776  0.01406184]\nvar: fully_connected_2/weights:0, value: [[ 0.45533696  0.6666394   0.16932501 -0.4481967  -0.59439975  0.15586594]\n [-0.42337918  0.18089515  0.5461892   0.66101986  0.18963945  0.07532199]\n [-0.0769121   0.10534222 -0.6764885   0.5117375  -0.16505629 -0.40125248]\n [ 0.3671908   0.22104068  0.3169493   0.6086764   0.2789654   0.234954  ]\n [ 0.5905051  -0.4718459  -0.6644218   0.03559995  0.38326615 -0.20914753]\n [-0.29133397  0.42912522 -0.38696307 -0.1989253   0.19939657  0.48352274]]\nvar: fully_connected_2/biases:0, value: [-0.01467855  0.013057    0.01086707  0.01378363  0.01360974  0.01309655]\nvar: fully_connected_3/weights:0, value: [[ 0.896997  ]\n [-0.21493782]\n [-0.41598776]\n [-0.655725  ]\n [-0.62002313]\n [-0.720172  ]]\nvar: fully_connected_3/biases:0, value: [-0.01359038]\n"
    }
   ],
   "source": [
    "NNweights = []\n",
    "with tf.Session() as sess:                          \n",
    "    #saver.restore(sess, \"./models/heston_closed_nn\") \n",
    "    saver.restore(sess, \"./models/heston_closed_EM_nn\") \n",
    "    vars = [v for v in tf.trainable_variables()]\n",
    "    vars_vals = sess.run(vars)\n",
    "    for var, val in zip(vars, vars_vals):\n",
    "        print(\"var: {}, value: {}\".format(var.name, val))   \n",
    "\n",
    "    \n",
    "\n"
   ]
  },
  {
   "cell_type": "code",
   "execution_count": 45,
   "metadata": {},
   "outputs": [
    {
     "output_type": "error",
     "ename": "TypeError",
     "evalue": "only integer scalar arrays can be converted to a scalar index",
     "traceback": [
      "\u001b[0;31m---------------------------------------------------------------------------\u001b[0m",
      "\u001b[0;31mTypeError\u001b[0m                                 Traceback (most recent call last)",
      "\u001b[0;32m<ipython-input-45-77d4ef428a9a>\u001b[0m in \u001b[0;36m<module>\u001b[0;34m\u001b[0m\n\u001b[0;32m----> 1\u001b[0;31m \u001b[0mprint\u001b[0m\u001b[0;34m(\u001b[0m\u001b[0mnp\u001b[0m\u001b[0;34m.\u001b[0m\u001b[0mndarray\u001b[0m\u001b[0;34m(\u001b[0m\u001b[0mvars_vals\u001b[0m\u001b[0;34m)\u001b[0m\u001b[0;34m.\u001b[0m\u001b[0mshape\u001b[0m\u001b[0;34m)\u001b[0m\u001b[0;34m\u001b[0m\u001b[0;34m\u001b[0m\u001b[0m\n\u001b[0m",
      "\u001b[0;31mTypeError\u001b[0m: only integer scalar arrays can be converted to a scalar index"
     ]
    }
   ],
   "source": [
    "print(np.ndarray(vars_vals).shape)"
   ]
  },
  {
   "cell_type": "code",
   "execution_count": null,
   "metadata": {},
   "outputs": [],
   "source": []
  }
 ],
 "metadata": {
  "kernelspec": {
   "display_name": "Python 3",
   "language": "python",
   "name": "python3"
  },
  "language_info": {
   "codemirror_mode": {
    "name": "ipython",
    "version": 3
   },
   "file_extension": ".py",
   "mimetype": "text/x-python",
   "name": "python",
   "nbconvert_exporter": "python",
   "pygments_lexer": "ipython3",
   "version": "3.7.4-final"
  }
 },
 "nbformat": 4,
 "nbformat_minor": 2
}