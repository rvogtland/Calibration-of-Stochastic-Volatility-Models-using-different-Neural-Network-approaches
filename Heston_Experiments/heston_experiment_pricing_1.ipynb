{
 "cells": [
  {
   "cell_type": "code",
   "execution_count": 244,
   "metadata": {},
   "outputs": [],
   "source": [
    "import pandas as pd\n",
    "import numpy as np\n",
    "import matplotlib.pyplot as plt\n",
    "import tensorflow as tf\n",
    "from tensorflow.contrib.layers import fully_connected\n",
    "from math import sqrt\n",
    "from scipy.stats import norm\n",
    "from scipy.stats import uniform\n",
    "import cmath #for complex numbers\n",
    "from scipy.integrate import quad #for numerical integration\n",
    "from sklearn.preprocessing import MinMaxScaler\n",
    "import scipy\n"
   ]
  },
  {
   "cell_type": "markdown",
   "metadata": {},
   "source": [
    "## Define some variables and set constants"
   ]
  },
  {
   "cell_type": "code",
   "execution_count": 70,
   "metadata": {},
   "outputs": [],
   "source": [
    "num_input_parameters = 6\n",
    "num_output_parameters = 1\n",
    "learning_rate = 0.1\n",
    "num_steps = 2000\n",
    "batch_size = 10\n",
    "num_neurons = 6\n",
    "\n",
    "#initial values\n",
    "S0 = 1\n",
    "V0 = 0.2\n",
    "\n",
    "#bounds for a,b,c,rho,T,K\n",
    "bounds = np.array([[1,3],[0.1,0.6],[0,0.1],[0,1],[1,2],[0.6,1.3]])\n",
    "\n",
    "scaler = MinMaxScaler()\n",
    "\n",
    "X = tf.placeholder(tf.float32, [None, num_input_parameters])\n",
    "y = tf.placeholder(tf.float32, [None, num_output_parameters])"
   ]
  },
  {
   "cell_type": "markdown",
   "metadata": {},
   "source": [
    "## Next Batch using Heston \"closed form\""
   ]
  },
  {
   "cell_type": "code",
   "execution_count": 71,
   "metadata": {},
   "outputs": [],
   "source": [
    "#input:\n",
    "#output: Call option price with strike K and Maturity T\n",
    "def heston_closed(a,b,c,T,K,rho,V0,S0,r=0):\n",
    "    \n",
    "    def char_f(w,a,b,c,T,K,rho,V0,S0,r):\n",
    "        alpha = -0.5*w*(w+complex(0,1))\n",
    "        beta = a - rho*c*w*complex(0,1)\n",
    "        gamma = c*c/2\n",
    "        h = cmath.sqrt(beta*beta-4*alpha*gamma)\n",
    "        rplus = (beta + h)/c/c\n",
    "        rminus = (beta - h)/c/c\n",
    "        g = rminus/rplus\n",
    "        D =  rminus*(1-cmath.exp(-h*T))/(1-g*cmath.exp(-h*T))\n",
    "        C = a*(rminus*T-2/c/c*cmath.log((1-g*cmath.exp(-h*T))/(1-g)))\n",
    "        return cmath.exp(C*b+D*V0+complex(0,1)*w*cmath.log(S0*cmath.exp(r*T)))\n",
    "\n",
    "    def integrand1(w):\n",
    "        i = complex(0,1)\n",
    "        return (cmath.exp(-i*w*cmath.log(K))*char_f(w-i,a,b,c,T,K,rho,V0,S0,r)/i/w/char_f(-i,a,b,c,T,K,rho,V0,S0,r)).real\n",
    "    \n",
    "    def integrand2(w):\n",
    "        i = complex(0,1)\n",
    "        return (cmath.exp(-i*w*cmath.log(K))*char_f(w,a,b,c,T,K,rho,V0,S0,r)/i/w).real\n",
    "    \n",
    "    pi1 = 0.5 + quad(integrand1,0,np.inf)[0]/np.pi\n",
    "    pi2 = 0.5 + quad(integrand2,0,np.inf)[0]/np.pi\n",
    "    \n",
    "    return (S0*pi1 + cmath.exp(-r*T)*K*pi2).real"
   ]
  },
  {
   "cell_type": "code",
   "execution_count": 72,
   "metadata": {},
   "outputs": [],
   "source": [
    "#input: batch_size, bounds for a,b,c,rho in that order \n",
    "#output: X_batch,y_batch\n",
    "def next_batch_heston_train(batch_size,bounds):\n",
    "    #for heston X contains values for a,b,c,rho,T,K and S0,V0 are kept fixed for now\n",
    "    X = np.zeros((batch_size,num_input_parameters))\n",
    "    y = np.zeros((batch_size,num_output_parameters))\n",
    "    \n",
    "    X[:,0] = uniform.rvs(size=batch_size)*(bounds[0][1]-bounds[0][0]) + bounds[0][0]#a\n",
    "    X[:,1] = uniform.rvs(size=batch_size)*(bounds[1][1]-bounds[1][0]) + bounds[1][0] #b\n",
    "    X[:,2] = uniform.rvs(size=batch_size)*(bounds[2][1]-bounds[2][0]) + bounds[2][0] #c\n",
    "    X[:,3] = uniform.rvs(size=batch_size)*(bounds[3][1]-bounds[3][0]) + bounds[3][0] #rho\n",
    "    X[:,4] = uniform.rvs(size=batch_size)*(bounds[4][1]-bounds[4][0]) + bounds[4][0] #maturities T \n",
    "    X[:,5] = uniform.rvs(size=batch_size)*(bounds[5][1]-bounds[5][0]) + bounds[5][0] #strikes K\n",
    "\n",
    "    \n",
    "    for i in range(batch_size):\n",
    "        y[i,0] = heston_closed(X[i,0],X[i,1],X[i,2],X[i,4],X[i,5],X[i,3],V0,S0)\n",
    "    \n",
    "    #X = scaler.fit_transform(X)\n",
    "    #y = scaler.fit_transform(y)\n",
    "    \n",
    "    return X,y"
   ]
  },
  {
   "cell_type": "markdown",
   "metadata": {},
   "source": [
    "## Next Batch using Euler Maruyama MC"
   ]
  },
  {
   "cell_type": "code",
   "execution_count": 73,
   "metadata": {},
   "outputs": [],
   "source": [
    "def corr_brownian_motion(n, T, dim, rho):\n",
    "    dt = T/n\n",
    "\n",
    "    dW1 = norm.rvs(size=(dim,n+1) , scale=sqrt(dt))\n",
    "    dW2 = rho * dW1 + np.sqrt(1 - np.power(rho ,2)) * norm.rvs(size=(dim,n+1) , scale=sqrt(dt))\n",
    "        \n",
    "    W1 = np.cumsum(dW1, axis=-1)\n",
    "    W2 = np.cumsum(dW2, axis=-1)\n",
    " \n",
    "    return W1,W2"
   ]
  },
  {
   "cell_type": "code",
   "execution_count": 74,
   "metadata": {},
   "outputs": [],
   "source": [
    "def euler_maruyama(mu,sigma,T,x0,W):\n",
    "    dim = W.shape[0]\n",
    "    n = W.shape[1]-1\n",
    "    Y = np.zeros((dim,n+1))\n",
    "    dt = T/n\n",
    "    sqrt_dt = np.sqrt(dt)\n",
    "    for l in range(dim):\n",
    "        Y[l,0] = x0\n",
    "        for i in range(n):\n",
    "            Y[l,i+1] = Y[l,i] + np.multiply(mu(Y[l,i],l,i),dt) + sigma(Y[l,i],l,i)*sqrt_dt*(W[l,i+1]-W[l,i])\n",
    "    \n",
    "    return Y"
   ]
  },
  {
   "cell_type": "code",
   "execution_count": 75,
   "metadata": {},
   "outputs": [],
   "source": [
    "#work in progress\n",
    "def heston(a,b,c,T,W,Z,V0,S0):\n",
    "    #assert(2*a*b > c*c) \n",
    "    \n",
    "    def mu2(V,i,k):\n",
    "        return np.multiply(a,(b-V))\n",
    "    \n",
    "    def sigma2(V,i,k):\n",
    "        return np.multiply(c,np.sqrt(np.maximum(0.0,V)))\n",
    "    \n",
    "    V = euler_maruyama(mu2,sigma2,T,V0,Z)\n",
    "    \n",
    "    def mu1(S,i,k):\n",
    "        return 0.0\n",
    "    \n",
    "    def sigma1(S,i,k):\n",
    "        return np.multiply(np.sqrt(np.maximum(0.0,V[i,k])),S)\n",
    "    \n",
    "    S = euler_maruyama(mu1,sigma1,T,S0,W)\n",
    "    \n",
    "    return S,V"
   ]
  },
  {
   "cell_type": "code",
   "execution_count": 102,
   "metadata": {},
   "outputs": [],
   "source": [
    "#input: batch_size, bounds for a,b,c,rho in that order \n",
    "#output: X_batch,y_batch\n",
    "def next_batch_heston_EM_train(batch_size,bounds):\n",
    "    X = np.zeros((batch_size,num_input_parameters))\n",
    "    X_scaled = np.zeros((batch_size,num_input_parameters))\n",
    "    y = np.zeros((batch_size,num_output_parameters))\n",
    "\n",
    "    X_scaled = uniform.rvs(size=(batch_size,num_input_parameters))\n",
    "    \n",
    "    X = reverse_transform_tuple(X_scaled,num_input_parameters)\n",
    "\n",
    "    n = 100\n",
    "    dim = 10\n",
    "        \n",
    "    for i in range(batch_size):\n",
    "        W,Z = corr_brownian_motion(n,X[i,4],dim,X[i,3])\n",
    "        S,V = heston(X[i,0],X[i,1],X[i,2],X[i,4],W,Z,V0,S0)\n",
    "        S_T = S[:,n]\n",
    "        \n",
    "        y[i,0] = np.mean(np.max(S_T-X[i,5],0))\n",
    "    \n",
    "    #X = scaler.fit_transform(X)\n",
    "    #y = scaler.fit_transform(y)\n",
    "    \n",
    "    return X_scaled,y"
   ]
  },
  {
   "cell_type": "code",
   "execution_count": 127,
   "metadata": {},
   "outputs": [],
   "source": [
    "def reverse_transform(X,n):\n",
    "    res = np.zeros(len(X))\n",
    "    for i in range(n):\n",
    "        res[i] = X[i]*(bounds[i][1]-bounds[i][0]) + bounds[i][0]\n",
    "    return res\n",
    "\n",
    "def reverse_transform_tuple(X,n):\n",
    "    res = np.zeros(X.shape)\n",
    "    for i in range(n):\n",
    "        res[:,i] = X[:,i]*(bounds[i][1]-bounds[i][0]) + bounds[i][0]\n",
    "    return res"
   ]
  },
  {
   "cell_type": "code",
   "execution_count": 128,
   "metadata": {},
   "outputs": [],
   "source": [
    "def transform(X,n):\n",
    "    res = np.zeros(len(X))\n",
    "    for i in range(n):\n",
    "        res[i] = (X[i] - bounds[i][0])/(bounds[i][1]-bounds[i][0])\n",
    "    return res\n",
    "\n",
    "def transform_tuple(X,n):\n",
    "    res = np.zeros(X.shape)\n",
    "    for i in range(n):\n",
    "        res[:,i] = (X[:,i] - bounds[i][0])/(bounds[i][1]-bounds[i][0])\n",
    "    return res"
   ]
  },
  {
   "cell_type": "markdown",
   "metadata": {},
   "source": [
    "## Design Neural Network and Train"
   ]
  },
  {
   "cell_type": "code",
   "execution_count": 77,
   "metadata": {},
   "outputs": [],
   "source": [
    "#Layers\n",
    "hidden1 = fully_connected(X, num_neurons, activation_fn=tf.nn.elu)\n",
    "hidden2 = fully_connected(hidden1, num_neurons, activation_fn=tf.nn.elu)\n",
    "hidden3 = fully_connected(hidden2, num_neurons, activation_fn=tf.nn.elu)\n",
    "hidden4 = fully_connected(hidden3, num_neurons, activation_fn=tf.nn.elu)\n",
    "\n",
    "outputs = fully_connected(hidden4, num_output_parameters, activation_fn=None)"
   ]
  },
  {
   "cell_type": "code",
   "execution_count": 78,
   "metadata": {},
   "outputs": [],
   "source": [
    "#Loss Function\n",
    "loss = tf.reduce_mean(tf.sqrt(tf.square(outputs - y)))  # MSE"
   ]
  },
  {
   "cell_type": "code",
   "execution_count": 79,
   "metadata": {},
   "outputs": [],
   "source": [
    "#Optimizer\n",
    "optimizer = tf.train.AdamOptimizer(learning_rate)\n",
    "train = optimizer.minimize(loss)"
   ]
  },
  {
   "cell_type": "code",
   "execution_count": 80,
   "metadata": {},
   "outputs": [],
   "source": [
    "init = tf.global_variables_initializer()"
   ]
  },
  {
   "cell_type": "code",
   "execution_count": 81,
   "metadata": {},
   "outputs": [],
   "source": [
    "saver = tf.train.Saver()"
   ]
  },
  {
   "cell_type": "code",
   "execution_count": 82,
   "metadata": {},
   "outputs": [
    {
     "output_type": "stream",
     "name": "stdout",
     "text": "0 \tRMSE: 1.4215474\n200 \tRMSE: 0.08097215\n400 \tRMSE: 0.053782184\n600 \tRMSE: 0.06548596\n800 \tRMSE: 0.049660496\n1000 \tRMSE: 0.06005157\n1200 \tRMSE: 0.033914845\n1400 \tRMSE: 0.08694996\n1600 \tRMSE: 0.15403658\n1800 \tRMSE: 0.053994954\n"
    }
   ],
   "source": [
    "with tf.Session() as sess:\n",
    "    sess.run(init)\n",
    "    \n",
    "    for iteration in range(num_steps):\n",
    "        \n",
    "        #X_batch,Y_batch = next_batch_heston_train(batch_size,bounds)\n",
    "        X_batch,Y_batch = next_batch_heston_EM_train(batch_size,bounds)\n",
    "\n",
    "        sess.run(train,feed_dict={X: X_batch, y: Y_batch})\n",
    "        \n",
    "        if iteration % 200 == 0:\n",
    "            \n",
    "            rmse = loss.eval(feed_dict={X: X_batch, y: Y_batch})\n",
    "            print(iteration, \"\\tRMSE:\", rmse)\n",
    "    \n",
    "    #saver.save(sess, \"./models/heston_closed_nn\")\n",
    "    saver.save(sess, \"./models/heston_closed_EM_nn\")"
   ]
  },
  {
   "cell_type": "markdown",
   "metadata": {},
   "source": [
    "## Optimze for Market Parameter"
   ]
  },
  {
   "cell_type": "code",
   "execution_count": 255,
   "metadata": {},
   "outputs": [],
   "source": [
    "theta_true = [1.2,0.2,0.25,0.4]\n",
    "T = [1.1,1.2,1.3,1.4,1.5,1.6,1.7]\n",
    "K = [0.7,0.8,0.9,1,1.1,1.2,1.3]"
   ]
  },
  {
   "cell_type": "markdown",
   "metadata": {},
   "source": []
  },
  {
   "cell_type": "code",
   "execution_count": 256,
   "metadata": {},
   "outputs": [],
   "source": [
    "def NNprediction(x):\n",
    "    x = transform(x.T,4)\n",
    "    tmp = np.zeros((1,6))\n",
    "    tmp[0,:] = x\n",
    "\n",
    "    return sess.run(outputs,feed_dict={X: tmp})\n",
    "\n",
    "def NNgradientpred(x):\n",
    "    x = np.asarray(x)\n",
    "    x = transform(x.T,4)\n",
    "    tmp = np.zeros((1,6))\n",
    "    tmp[0,:] = x\n",
    "    num_parameters = num_input_parameters-2\n",
    "    grad = np.zeros(num_parameters)\n",
    "    \n",
    "    delta = 0.00000001\n",
    "    for i in range(num_parameters):\n",
    "        h = np.zeros(tmp.shape)\n",
    "        h[0,i] = delta\n",
    "        \n",
    "        #two point gradient\n",
    "        #grad[i] = (sess.run(outputs,feed_dict={X: x+h}) - sess.run(outputs,feed_dict={X: x-h}))/2/delta\n",
    "\n",
    "        #four point gradient\n",
    "        grad[i] = (-sess.run(outputs,feed_dict={X: tmp+2*h})+8*sess.run(outputs,feed_dict={X: tmp+h})-8*sess.run(outputs,feed_dict={X: tmp-h}) +sess.run(outputs,feed_dict={X: tmp-2*h}))/12/delta\n",
    "\n",
    "    return grad"
   ]
  },
  {
   "cell_type": "code",
   "execution_count": 257,
   "metadata": {},
   "outputs": [],
   "source": [
    "#input: theta in order a,b,c,rho\n",
    "def CostFuncLS(theta,i,j):\n",
    "    #set T,K here\n",
    "    T_ = T[i]\n",
    "    K_ = K[j]\n",
    "\n",
    "    if theta[3]<=0:\n",
    "        theta[3] = 0.01\n",
    "    if theta[3]>=1:\n",
    "        theta[3] = 0.99\n",
    "    if theta[2]<=0:\n",
    "        theta[2] = 0.1\n",
    "    if 2*theta[0]*theta[1]<=theta[2]*theta[2]:\n",
    "        theta[0] += theta[2]\n",
    "        theta[1] += theta[2]\n",
    "   \n",
    "    x = np.zeros((1,6))\n",
    "    x[0,0:4] = theta\n",
    "    x[0,4] = T_\n",
    "    x[0,5] = K_\n",
    "\n",
    "    return np.abs((NNprediction(x)-heston_closed(theta_true[0],theta_true[1],theta_true[2],x[0,4],x[0,5],theta_true[3],V0,S0))[0,:])\n",
    "\n",
    "\n",
    "def JacobianLS(theta,i,j):\n",
    "    #set T,K here\n",
    "    T_ = T[i]\n",
    "    K_ = K[j]\n",
    "    if theta[3]<=0:\n",
    "        theta[3] = 0.01\n",
    "    if theta[3]>=1:\n",
    "        theta[3] = 0.99\n",
    "    if theta[2]<=0:\n",
    "        theta[2] = 0.1\n",
    "    if 2*theta[0]*theta[1]<=theta[2]*theta[2]:\n",
    "        theta[0] += theta[2]\n",
    "        theta[1] += theta[2]\n",
    "\n",
    "    x = np.zeros((1,6))\n",
    "    x[0,0:4] = theta\n",
    "    x[0,4] = T_\n",
    "    x[0,5] = K_\n",
    "\n",
    "    return NNgradientpred(x).T"
   ]
  },
  {
   "cell_type": "code",
   "execution_count": 258,
   "metadata": {},
   "outputs": [
    {
     "output_type": "stream",
     "name": "stdout",
     "text": "INFO:tensorflow:Restoring parameters from ./models/heston_closed_EM_nn\n[1.4, 0.5, 0.08000000000000002, 0.8]\n"
    }
   ],
   "source": [
    "with tf.Session() as sess:                          \n",
    "    #saver.restore(sess, \"./models/heston_closed_nn\") \n",
    "    saver.restore(sess, \"./models/heston_closed_EM_nn\")   \n",
    "\n",
    "    init = [bounds[0,0],bounds[1,0],bounds[2,0],bounds[3,0]]\n",
    "    init_best = init\n",
    "\n",
    "    cost_old = 1000000\n",
    "    n = 4\n",
    "    for a in range(n):\n",
    "        init_new = [bounds[0,0],bounds[1,0],bounds[2,0],bounds[3,0]]\n",
    "        init_new[0] += 1/(n+1)*(bounds[0,1]-bounds[0,0])\n",
    "        for b in range(n):\n",
    "            init_new[1] += 1/(n+1)*(bounds[1,1]-bounds[1,0])\n",
    "            init_new[2] = bounds[2,0]\n",
    "            init_new[3] = bounds[3,0]\n",
    "            for c in range(n):\n",
    "                init_new[2] += 1/(n+1)*(bounds[2,1]-bounds[2,0])\n",
    "                init_new[3] = bounds[3,0]\n",
    "                for d in range(n):\n",
    "                    init_new[3] += 1/(n+1)*(bounds[3,1]-bounds[3,0])\n",
    "                    \n",
    "                    cost_new = CostFuncLS(init_new,0,0)\n",
    "                    if cost_new < cost_old:\n",
    "                        init_best = init_new \n",
    "                    cost_old = cost_new\n",
    "\n",
    "    init = init_best\n",
    "print(init)"
   ]
  },
  {
   "cell_type": "code",
   "execution_count": 259,
   "metadata": {},
   "outputs": [
    {
     "output_type": "stream",
     "name": "stdout",
     "text": "[0.2 0.8 0.8 0.8]\n"
    }
   ],
   "source": [
    "init_transformed = transform(init,4)\n",
    "print(init_transformed)"
   ]
  },
  {
   "cell_type": "code",
   "execution_count": 260,
   "metadata": {
    "tags": [
     "outputPrepend",
     "outputPrepend",
     "outputPrepend",
     "outputPrepend",
     "outputPrepend",
     "outputPrepend",
     "outputPrepend",
     "outputPrepend"
    ]
   },
   "outputs": [
    {
     "output_type": "stream",
     "name": "stdout",
     "text": "INFO:tensorflow:Restoring parameters from ./models/heston_closed_EM_nn\n`xtol` termination condition is satisfied.\nFunction evaluations 15, initial cost 3.9989e-01, final cost 3.8826e-01, first-order optimality 1.16e+00.\n`xtol` termination condition is satisfied.\nFunction evaluations 15, initial cost 3.1215e-01, final cost 3.0280e-01, first-order optimality 1.02e+00.\n`xtol` termination condition is satisfied.\nFunction evaluations 15, initial cost 2.2262e-01, final cost 2.1571e-01, first-order optimality 1.95e+00.\n`xtol` termination condition is satisfied.\nFunction evaluations 15, initial cost 1.4543e-01, final cost 1.4074e-01, first-order optimality 6.80e-01.\n`xtol` termination condition is satisfied.\nFunction evaluations 15, initial cost 8.6303e-02, final cost 8.3407e-02, first-order optimality 1.72e-01.\n`xtol` termination condition is satisfied.\nFunction evaluations 15, initial cost 4.5296e-02, final cost 4.3316e-02, first-order optimality 1.24e-01.\n`xtol` termination condition is satisfied.\nFunction evaluations 14, initial cost 1.9674e-02, final cost 1.8962e-02, first-order optimality 8.00e-02.\n`xtol` termination condition is satisfied.\nFunction evaluations 15, initial cost 3.8462e-01, final cost 3.7338e-01, first-order optimality 3.79e-01.\n`xtol` termination condition is satisfied.\nFunction evaluations 15, initial cost 3.0154e-01, final cost 2.9247e-01, first-order optimality 3.33e-01.\n`xtol` termination condition is satisfied.\nFunction evaluations 15, initial cost 2.1775e-01, final cost 2.1097e-01, first-order optimality 8.41e-01.\n`xtol` termination condition is satisfied.\nFunction evaluations 14, initial cost 1.4529e-01, final cost 1.4060e-01, first-order optimality 6.26e-01.\n`xtol` termination condition is satisfied.\nFunction evaluations 15, initial cost 8.9036e-02, final cost 8.6054e-02, first-order optimality 1.75e-01.\n`xtol` termination condition is satisfied.\nFunction evaluations 15, initial cost 4.9095e-02, final cost 4.7389e-02, first-order optimality 3.85e-01.\n`xtol` termination condition is satisfied.\nFunction evaluations 14, initial cost 2.3186e-02, final cost 2.2143e-02, first-order optimality 2.62e-01.\n`xtol` termination condition is satisfied.\nFunction evaluations 15, initial cost 3.7112e-01, final cost 3.5824e-01, first-order optimality 4.66e+00.\n`xtol` termination condition is satisfied.\nFunction evaluations 15, initial cost 2.9230e-01, final cost 2.8120e-01, first-order optimality 9.95e-01.\n`xtol` termination condition is satisfied.\nFunction evaluations 15, initial cost 2.1352e-01, final cost 2.0515e-01, first-order optimality 4.22e-01.\n`xtol` termination condition is satisfied.\nFunction evaluations 15, initial cost 1.4519e-01, final cost 1.3930e-01, first-order optimality 2.29e-01.\n`xtol` termination condition is satisfied.\nFunction evaluations 15, initial cost 9.1507e-02, final cost 8.7668e-02, first-order optimality 5.38e-01.\n`xtol` termination condition is satisfied.\nFunction evaluations 15, initial cost 5.2608e-02, final cost 5.0788e-02, first-order optimality 1.33e-01.\n`xtol` termination condition is satisfied.\nFunction evaluations 14, initial cost 2.6573e-02, final cost 2.5623e-02, first-order optimality 9.35e-02.\n`xtol` termination condition is satisfied.\nFunction evaluations 15, initial cost 3.5912e-01, final cost 3.4853e-01, first-order optimality 3.65e-01.\n`xtol` termination condition is satisfied.\nFunction evaluations 15, initial cost 2.8417e-01, final cost 2.7280e-01, first-order optimality 9.83e-01.\n`xtol` termination condition is satisfied.\nFunction evaluations 15, initial cost 2.0982e-01, final cost 2.0158e-01, first-order optimality 2.78e-01.\n`xtol` termination condition is satisfied.\nFunction evaluations 15, initial cost 1.4513e-01, final cost 1.3924e-01, first-order optimality 2.29e-01.\n`xtol` termination condition is satisfied.\nFunction evaluations 15, initial cost 9.3761e-02, final cost 9.0632e-02, first-order optimality 1.80e-01.\n`xtol` termination condition is satisfied.\nFunction evaluations 15, initial cost 5.5871e-02, final cost 5.3289e-02, first-order optimality 1.39e-01.\n`xtol` termination condition is satisfied.\nFunction evaluations 14, initial cost 2.9829e-02, final cost 2.8500e-02, first-order optimality 9.96e-02.\n`xtol` termination condition is satisfied.\nFunction evaluations 15, initial cost 3.4836e-01, final cost 3.3540e-01, first-order optimality 3.64e-01.\n`xtol` termination condition is satisfied.\nFunction evaluations 15, initial cost 2.7696e-01, final cost 2.6856e-01, first-order optimality 9.55e-01.\n`xtol` termination condition is satisfied.\nFunction evaluations 15, initial cost 2.0655e-01, final cost 2.0009e-01, first-order optimality 2.73e-01.\n`xtol` termination condition is satisfied.\nFunction evaluations 15, initial cost 1.4510e-01, final cost 1.3891e-01, first-order optimality 2.29e-01.\n`xtol` termination condition is satisfied.\nFunction evaluations 14, initial cost 9.5830e-02, final cost 9.2637e-02, first-order optimality 3.48e-01.\n`xtol` termination condition is satisfied.\nFunction evaluations 15, initial cost 5.8913e-02, final cost 5.6213e-02, first-order optimality 1.42e-01.\n`xtol` termination condition is satisfied.\nFunction evaluations 14, initial cost 3.2951e-02, final cost 3.1783e-02, first-order optimality 3.13e-01.\n`xtol` termination condition is satisfied.\nFunction evaluations 15, initial cost 3.3868e-01, final cost 3.2603e-01, first-order optimality 3.59e-01.\n`xtol` termination condition is satisfied.\nFunction evaluations 15, initial cost 2.7053e-01, final cost 2.6230e-01, first-order optimality 9.43e-01.\n`xtol` termination condition is satisfied.\nFunction evaluations 15, initial cost 2.0364e-01, final cost 1.9727e-01, first-order optimality 2.71e-01.\n`xtol` termination condition is satisfied.\nFunction evaluations 15, initial cost 1.4510e-01, final cost 1.3921e-01, first-order optimality 2.29e-01.\n`xtol` termination condition is satisfied.\nFunction evaluations 15, initial cost 9.7742e-02, final cost 9.3660e-02, first-order optimality 1.86e-01.\n`xtol` termination condition is satisfied.\nFunction evaluations 15, initial cost 6.1759e-02, final cost 5.9104e-02, first-order optimality 1.46e-01.\n`xtol` termination condition is satisfied.\nFunction evaluations 15, initial cost 3.5941e-02, final cost 3.4673e-02, first-order optimality 1.09e-01.\n`xtol` termination condition is satisfied.\nFunction evaluations 15, initial cost 3.2991e-01, final cost 3.1676e-01, first-order optimality 1.07e+00.\n`xtol` termination condition is satisfied.\nFunction evaluations 15, initial cost 2.6474e-01, final cost 2.5459e-01, first-order optimality 3.15e-01.\n`xtol` termination condition is satisfied.\nFunction evaluations 15, initial cost 2.0105e-01, final cost 1.9261e-01, first-order optimality 2.73e-01.\n`xtol` termination condition is satisfied.\nFunction evaluations 15, initial cost 1.4512e-01, final cost 1.3923e-01, first-order optimality 6.86e-01.\n`xtol` termination condition is satisfied.\nFunction evaluations 15, initial cost 9.9518e-02, final cost 9.6211e-02, first-order optimality 1.86e-01.\n`xtol` termination condition is satisfied.\nFunction evaluations 15, initial cost 6.4429e-02, final cost 6.2225e-02, first-order optimality 1.48e-01.\n`xtol` termination condition is satisfied.\nFunction evaluations 15, initial cost 3.8805e-02, final cost 3.7096e-02, first-order optimality 1.14e-01.\n"
    }
   ],
   "source": [
    "bnds = ([bounds[0,0],bounds[1,0],bounds[2,0],bounds[3,0]],[bounds[0,1],bounds[1,1],bounds[2,1],bounds[3,1]])\n",
    "\n",
    "\n",
    "with tf.Session() as sess:                          \n",
    "    #saver.restore(sess, \"./models/heston_closed_nn\") \n",
    "    saver.restore(sess, \"./models/heston_closed_EM_nn\")   \n",
    " \n",
    "    Theta = np.zeros((len(T),len(K),len(init)))\n",
    "    for i in range(len(T)):\n",
    "        for j in range(len(K)):\n",
    "            I=scipy.optimize.least_squares(CostFuncLS,init,JacobianLS,bounds=bnds,args=(i,j),verbose=1)\n",
    "            Theta[i,j,:] = I.x\n",
    "          "
   ]
  },
  {
   "cell_type": "code",
   "execution_count": 261,
   "metadata": {},
   "outputs": [
    {
     "output_type": "stream",
     "name": "stdout",
     "text": "[[[1.23330751 0.33330751 0.0466615  0.46661503]\n  [1.24521166 0.34521166 0.04904233 0.49042332]\n  [1.2609112  0.36091079 0.05218216 0.52182158]\n  [1.27955002 0.37955002 0.05591    0.55910004]\n  [1.30031905 0.40031905 0.06006381 0.6006381 ]\n  [1.30505587 0.40505587 0.06101117 0.61011175]\n  [1.34528139 0.44528139 0.06905628 0.69056278]]\n\n [[1.23519769 0.33519769 0.04703954 0.47039539]\n  [1.24684894 0.34684894 0.04936979 0.49369789]\n  [1.26191421 0.36191421 0.05238284 0.52382842]\n  [1.27959232 0.37959232 0.05591846 0.55918463]\n  [1.2991481  0.3991481  0.05982962 0.59829619]\n  [1.31991272 0.41991272 0.06398254 0.63982544]\n  [1.32772713 0.42772713 0.06554543 0.65545426]]\n\n [[1.29298832 0.34529067 0.04905813 0.38856526]\n  [1.21843936 0.31843936 0.04368787 0.43687873]\n  [1.23499727 0.33499727 0.04699945 0.46999455]\n  [1.25445913 0.35445913 0.05089183 0.50891825]\n  [1.27612222 0.37612222 0.05522444 0.55224444]\n  [1.317676   0.417676   0.0635352  0.63535199]\n  [1.33778682 0.43778682 0.06755736 0.67557364]]\n\n [[1.23851121 0.33851121 0.04770224 0.47702243]\n  [1.21297851 0.31297851 0.0425957  0.42595702]\n  [1.23590235 0.33590235 0.04718047 0.47180469]\n  [1.25447956 0.35447956 0.05089591 0.50895912]\n  [1.29718558 0.39718558 0.05943712 0.59437117]\n  [1.29115724 0.39296795 0.05859359 0.58231449]\n  [1.31975522 0.41975522 0.06395104 0.63951044]]\n\n [[1.20898538 0.30898538 0.04179708 0.41797077]\n  [1.25084596 0.35084596 0.05016919 0.50169193]\n  [1.26429075 0.36429075 0.05285815 0.5285815 ]\n  [1.24848923 0.34848923 0.04969785 0.49697845]\n  [1.29634951 0.39634951 0.0592699  0.59269902]\n  [1.28908345 0.38908345 0.05781669 0.5781669 ]\n  [1.33192507 0.43192507 0.06638501 0.66385014]]\n\n [[1.21051248 0.31051248 0.0421025  0.42102496]\n  [1.25194396 0.35194396 0.05038879 0.50388792]\n  [1.26492492 0.36492492 0.05298498 0.52984985]\n  [1.25448945 0.35448945 0.05089789 0.50897889]\n  [1.27315039 0.37315039 0.05463008 0.54630077]\n  [1.29293895 0.39293895 0.05858779 0.5858779 ]\n  [1.32943614 0.42943614 0.06588723 0.65887227]]\n\n [[1.20300949 0.30300949 0.0406019  0.40601897]\n  [1.22371612 0.32371612 0.04474322 0.44743224]\n  [1.23001917 0.33001917 0.04600383 0.46003835]\n  [1.25448214 0.35448214 0.05089643 0.50896428]\n  [1.29489317 0.39489317 0.05897863 0.58978634]\n  [1.31085237 0.41085237 0.06217047 0.62170475]\n  [1.31071608 0.41071608 0.06214322 0.62143216]]]\n"
    }
   ],
   "source": [
    "print(Theta)"
   ]
  },
  {
   "cell_type": "code",
   "execution_count": 262,
   "metadata": {},
   "outputs": [
    {
     "output_type": "stream",
     "name": "stdout",
     "text": "Mean of Predicted Theta:  [1.27178512 0.37084864 0.05416973 0.53954142]\nTrue Theata:  [1.2, 0.2, 0.25, 0.4]\n"
    }
   ],
   "source": [
    "print(\"Mean of Predicted Theta: \",np.mean(np.mean(Theta,axis=0),axis=0))\n",
    "print(\"True Theata: \",theta_true) "
   ]
  },
  {
   "cell_type": "code",
   "execution_count": 263,
   "metadata": {},
   "outputs": [
    {
     "output_type": "stream",
     "name": "stdout",
     "text": "RMSE:  0.0553136740077087\n"
    }
   ],
   "source": [
    "RMSE = 0\n",
    "for i in range(len(T)):\n",
    "    for j in range(len(K)):\n",
    "        price_true = heston_closed(theta_true[0],theta_true[1],theta_true[2],T[i],K[j],theta_true[3],V0,S0)\n",
    "        price_opt_params = heston_closed(Theta[i,j,0],Theta[i,j,1],Theta[i,j,2],T[i],K[j],Theta[i,j,3],V0,S0)\n",
    "        RMSE += np.power(price_true-price_opt_params,2)\n",
    "RMSE = np.sqrt(RMSE/(len(T)*len(K)))\n",
    "print(\"RMSE: \", RMSE)"
   ]
  },
  {
   "cell_type": "code",
   "execution_count": 264,
   "metadata": {},
   "outputs": [
    {
     "output_type": "display_data",
     "data": {
      "text/plain": "<Figure size 720x432 with 2 Axes>",
      "image/svg+xml": "<?xml version=\"1.0\" encoding=\"utf-8\" standalone=\"no\"?>\n<!DOCTYPE svg PUBLIC \"-//W3C//DTD SVG 1.1//EN\"\n  \"http://www.w3.org/Graphics/SVG/1.1/DTD/svg11.dtd\">\n<!-- Created with matplotlib (https://matplotlib.org/) -->\n<svg height=\"380.554531pt\" version=\"1.1\" viewBox=\"0 0 520.3155 380.554531\" width=\"520.3155pt\" xmlns=\"http://www.w3.org/2000/svg\" xmlns:xlink=\"http://www.w3.org/1999/xlink\">\n <defs>\n  <style type=\"text/css\">\n*{stroke-linecap:butt;stroke-linejoin:round;}\n  </style>\n </defs>\n <g id=\"figure_1\">\n  <g id=\"patch_1\">\n   <path d=\"M 0 380.554531 \nL 520.3155 380.554531 \nL 520.3155 0 \nL 0 0 \nz\n\" style=\"fill:none;\"/>\n  </g>\n  <g id=\"axes_1\">\n   <g id=\"patch_2\">\n    <path d=\"M 49.620312 337.159219 \nL 430.140312 337.159219 \nL 430.140312 10.999219 \nL 49.620312 10.999219 \nz\n\" style=\"fill:#ffffff;\"/>\n   </g>\n   <g clip-path=\"url(#pc667a7df6c)\">\n    <image height=\"327\" id=\"image84a2a6ab21\" transform=\"scale(1 -1)translate(0 -327)\" width=\"381\" x=\"49.620312\" xlink:href=\"data:image/png;base64,\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\" y=\"-10.159219\"/>\n   </g>\n   <g id=\"matplotlib.axis_1\">\n    <g id=\"xtick_1\">\n     <g id=\"line2d_1\">\n      <defs>\n       <path d=\"M 0 0 \nL 0 3.5 \n\" id=\"m1445ce4ac9\" style=\"stroke:#000000;stroke-width:0.8;\"/>\n      </defs>\n      <g>\n       <use style=\"stroke:#000000;stroke-width:0.8;\" x=\"76.800312\" xlink:href=\"#m1445ce4ac9\" y=\"337.159219\"/>\n      </g>\n     </g>\n     <g id=\"text_1\">\n      <!-- 0.7 -->\n      <defs>\n       <path d=\"M 31.78125 66.40625 \nQ 24.171875 66.40625 20.328125 58.90625 \nQ 16.5 51.421875 16.5 36.375 \nQ 16.5 21.390625 20.328125 13.890625 \nQ 24.171875 6.390625 31.78125 6.390625 \nQ 39.453125 6.390625 43.28125 13.890625 \nQ 47.125 21.390625 47.125 36.375 \nQ 47.125 51.421875 43.28125 58.90625 \nQ 39.453125 66.40625 31.78125 66.40625 \nz\nM 31.78125 74.21875 \nQ 44.046875 74.21875 50.515625 64.515625 \nQ 56.984375 54.828125 56.984375 36.375 \nQ 56.984375 17.96875 50.515625 8.265625 \nQ 44.046875 -1.421875 31.78125 -1.421875 \nQ 19.53125 -1.421875 13.0625 8.265625 \nQ 6.59375 17.96875 6.59375 36.375 \nQ 6.59375 54.828125 13.0625 64.515625 \nQ 19.53125 74.21875 31.78125 74.21875 \nz\n\" id=\"DejaVuSans-48\"/>\n       <path d=\"M 10.6875 12.40625 \nL 21 12.40625 \nL 21 0 \nL 10.6875 0 \nz\n\" id=\"DejaVuSans-46\"/>\n       <path d=\"M 8.203125 72.90625 \nL 55.078125 72.90625 \nL 55.078125 68.703125 \nL 28.609375 0 \nL 18.3125 0 \nL 43.21875 64.59375 \nL 8.203125 64.59375 \nz\n\" id=\"DejaVuSans-55\"/>\n      </defs>\n      <g transform=\"translate(68.84875 351.757656)scale(0.1 -0.1)\">\n       <use xlink:href=\"#DejaVuSans-48\"/>\n       <use x=\"63.623047\" xlink:href=\"#DejaVuSans-46\"/>\n       <use x=\"95.410156\" xlink:href=\"#DejaVuSans-55\"/>\n      </g>\n     </g>\n    </g>\n    <g id=\"xtick_2\">\n     <g id=\"line2d_2\">\n      <g>\n       <use style=\"stroke:#000000;stroke-width:0.8;\" x=\"131.160312\" xlink:href=\"#m1445ce4ac9\" y=\"337.159219\"/>\n      </g>\n     </g>\n     <g id=\"text_2\">\n      <!-- 0.8 -->\n      <defs>\n       <path d=\"M 31.78125 34.625 \nQ 24.75 34.625 20.71875 30.859375 \nQ 16.703125 27.09375 16.703125 20.515625 \nQ 16.703125 13.921875 20.71875 10.15625 \nQ 24.75 6.390625 31.78125 6.390625 \nQ 38.8125 6.390625 42.859375 10.171875 \nQ 46.921875 13.96875 46.921875 20.515625 \nQ 46.921875 27.09375 42.890625 30.859375 \nQ 38.875 34.625 31.78125 34.625 \nz\nM 21.921875 38.8125 \nQ 15.578125 40.375 12.03125 44.71875 \nQ 8.5 49.078125 8.5 55.328125 \nQ 8.5 64.0625 14.71875 69.140625 \nQ 20.953125 74.21875 31.78125 74.21875 \nQ 42.671875 74.21875 48.875 69.140625 \nQ 55.078125 64.0625 55.078125 55.328125 \nQ 55.078125 49.078125 51.53125 44.71875 \nQ 48 40.375 41.703125 38.8125 \nQ 48.828125 37.15625 52.796875 32.3125 \nQ 56.78125 27.484375 56.78125 20.515625 \nQ 56.78125 9.90625 50.3125 4.234375 \nQ 43.84375 -1.421875 31.78125 -1.421875 \nQ 19.734375 -1.421875 13.25 4.234375 \nQ 6.78125 9.90625 6.78125 20.515625 \nQ 6.78125 27.484375 10.78125 32.3125 \nQ 14.796875 37.15625 21.921875 38.8125 \nz\nM 18.3125 54.390625 \nQ 18.3125 48.734375 21.84375 45.5625 \nQ 25.390625 42.390625 31.78125 42.390625 \nQ 38.140625 42.390625 41.71875 45.5625 \nQ 45.3125 48.734375 45.3125 54.390625 \nQ 45.3125 60.0625 41.71875 63.234375 \nQ 38.140625 66.40625 31.78125 66.40625 \nQ 25.390625 66.40625 21.84375 63.234375 \nQ 18.3125 60.0625 18.3125 54.390625 \nz\n\" id=\"DejaVuSans-56\"/>\n      </defs>\n      <g transform=\"translate(123.20875 351.757656)scale(0.1 -0.1)\">\n       <use xlink:href=\"#DejaVuSans-48\"/>\n       <use x=\"63.623047\" xlink:href=\"#DejaVuSans-46\"/>\n       <use x=\"95.410156\" xlink:href=\"#DejaVuSans-56\"/>\n      </g>\n     </g>\n    </g>\n    <g id=\"xtick_3\">\n     <g id=\"line2d_3\">\n      <g>\n       <use style=\"stroke:#000000;stroke-width:0.8;\" x=\"185.520312\" xlink:href=\"#m1445ce4ac9\" y=\"337.159219\"/>\n      </g>\n     </g>\n     <g id=\"text_3\">\n      <!-- 0.9 -->\n      <defs>\n       <path d=\"M 10.984375 1.515625 \nL 10.984375 10.5 \nQ 14.703125 8.734375 18.5 7.8125 \nQ 22.3125 6.890625 25.984375 6.890625 \nQ 35.75 6.890625 40.890625 13.453125 \nQ 46.046875 20.015625 46.78125 33.40625 \nQ 43.953125 29.203125 39.59375 26.953125 \nQ 35.25 24.703125 29.984375 24.703125 \nQ 19.046875 24.703125 12.671875 31.3125 \nQ 6.296875 37.9375 6.296875 49.421875 \nQ 6.296875 60.640625 12.9375 67.421875 \nQ 19.578125 74.21875 30.609375 74.21875 \nQ 43.265625 74.21875 49.921875 64.515625 \nQ 56.59375 54.828125 56.59375 36.375 \nQ 56.59375 19.140625 48.40625 8.859375 \nQ 40.234375 -1.421875 26.421875 -1.421875 \nQ 22.703125 -1.421875 18.890625 -0.6875 \nQ 15.09375 0.046875 10.984375 1.515625 \nz\nM 30.609375 32.421875 \nQ 37.25 32.421875 41.125 36.953125 \nQ 45.015625 41.5 45.015625 49.421875 \nQ 45.015625 57.28125 41.125 61.84375 \nQ 37.25 66.40625 30.609375 66.40625 \nQ 23.96875 66.40625 20.09375 61.84375 \nQ 16.21875 57.28125 16.21875 49.421875 \nQ 16.21875 41.5 20.09375 36.953125 \nQ 23.96875 32.421875 30.609375 32.421875 \nz\n\" id=\"DejaVuSans-57\"/>\n      </defs>\n      <g transform=\"translate(177.56875 351.757656)scale(0.1 -0.1)\">\n       <use xlink:href=\"#DejaVuSans-48\"/>\n       <use x=\"63.623047\" xlink:href=\"#DejaVuSans-46\"/>\n       <use x=\"95.410156\" xlink:href=\"#DejaVuSans-57\"/>\n      </g>\n     </g>\n    </g>\n    <g id=\"xtick_4\">\n     <g id=\"line2d_4\">\n      <g>\n       <use style=\"stroke:#000000;stroke-width:0.8;\" x=\"239.880312\" xlink:href=\"#m1445ce4ac9\" y=\"337.159219\"/>\n      </g>\n     </g>\n     <g id=\"text_4\">\n      <!-- 1 -->\n      <defs>\n       <path d=\"M 12.40625 8.296875 \nL 28.515625 8.296875 \nL 28.515625 63.921875 \nL 10.984375 60.40625 \nL 10.984375 69.390625 \nL 28.421875 72.90625 \nL 38.28125 72.90625 \nL 38.28125 8.296875 \nL 54.390625 8.296875 \nL 54.390625 0 \nL 12.40625 0 \nz\n\" id=\"DejaVuSans-49\"/>\n      </defs>\n      <g transform=\"translate(236.699062 351.757656)scale(0.1 -0.1)\">\n       <use xlink:href=\"#DejaVuSans-49\"/>\n      </g>\n     </g>\n    </g>\n    <g id=\"xtick_5\">\n     <g id=\"line2d_5\">\n      <g>\n       <use style=\"stroke:#000000;stroke-width:0.8;\" x=\"294.240312\" xlink:href=\"#m1445ce4ac9\" y=\"337.159219\"/>\n      </g>\n     </g>\n     <g id=\"text_5\">\n      <!-- 1.1 -->\n      <g transform=\"translate(286.28875 351.757656)scale(0.1 -0.1)\">\n       <use xlink:href=\"#DejaVuSans-49\"/>\n       <use x=\"63.623047\" xlink:href=\"#DejaVuSans-46\"/>\n       <use x=\"95.410156\" xlink:href=\"#DejaVuSans-49\"/>\n      </g>\n     </g>\n    </g>\n    <g id=\"xtick_6\">\n     <g id=\"line2d_6\">\n      <g>\n       <use style=\"stroke:#000000;stroke-width:0.8;\" x=\"348.600312\" xlink:href=\"#m1445ce4ac9\" y=\"337.159219\"/>\n      </g>\n     </g>\n     <g id=\"text_6\">\n      <!-- 1.2 -->\n      <defs>\n       <path d=\"M 19.1875 8.296875 \nL 53.609375 8.296875 \nL 53.609375 0 \nL 7.328125 0 \nL 7.328125 8.296875 \nQ 12.9375 14.109375 22.625 23.890625 \nQ 32.328125 33.6875 34.8125 36.53125 \nQ 39.546875 41.84375 41.421875 45.53125 \nQ 43.3125 49.21875 43.3125 52.78125 \nQ 43.3125 58.59375 39.234375 62.25 \nQ 35.15625 65.921875 28.609375 65.921875 \nQ 23.96875 65.921875 18.8125 64.3125 \nQ 13.671875 62.703125 7.8125 59.421875 \nL 7.8125 69.390625 \nQ 13.765625 71.78125 18.9375 73 \nQ 24.125 74.21875 28.421875 74.21875 \nQ 39.75 74.21875 46.484375 68.546875 \nQ 53.21875 62.890625 53.21875 53.421875 \nQ 53.21875 48.921875 51.53125 44.890625 \nQ 49.859375 40.875 45.40625 35.40625 \nQ 44.1875 33.984375 37.640625 27.21875 \nQ 31.109375 20.453125 19.1875 8.296875 \nz\n\" id=\"DejaVuSans-50\"/>\n      </defs>\n      <g transform=\"translate(340.64875 351.757656)scale(0.1 -0.1)\">\n       <use xlink:href=\"#DejaVuSans-49\"/>\n       <use x=\"63.623047\" xlink:href=\"#DejaVuSans-46\"/>\n       <use x=\"95.410156\" xlink:href=\"#DejaVuSans-50\"/>\n      </g>\n     </g>\n    </g>\n    <g id=\"xtick_7\">\n     <g id=\"line2d_7\">\n      <g>\n       <use style=\"stroke:#000000;stroke-width:0.8;\" x=\"402.960312\" xlink:href=\"#m1445ce4ac9\" y=\"337.159219\"/>\n      </g>\n     </g>\n     <g id=\"text_7\">\n      <!-- 1.3 -->\n      <defs>\n       <path d=\"M 40.578125 39.3125 \nQ 47.65625 37.796875 51.625 33 \nQ 55.609375 28.21875 55.609375 21.1875 \nQ 55.609375 10.40625 48.1875 4.484375 \nQ 40.765625 -1.421875 27.09375 -1.421875 \nQ 22.515625 -1.421875 17.65625 -0.515625 \nQ 12.796875 0.390625 7.625 2.203125 \nL 7.625 11.71875 \nQ 11.71875 9.328125 16.59375 8.109375 \nQ 21.484375 6.890625 26.8125 6.890625 \nQ 36.078125 6.890625 40.9375 10.546875 \nQ 45.796875 14.203125 45.796875 21.1875 \nQ 45.796875 27.640625 41.28125 31.265625 \nQ 36.765625 34.90625 28.71875 34.90625 \nL 20.21875 34.90625 \nL 20.21875 43.015625 \nL 29.109375 43.015625 \nQ 36.375 43.015625 40.234375 45.921875 \nQ 44.09375 48.828125 44.09375 54.296875 \nQ 44.09375 59.90625 40.109375 62.90625 \nQ 36.140625 65.921875 28.71875 65.921875 \nQ 24.65625 65.921875 20.015625 65.03125 \nQ 15.375 64.15625 9.8125 62.3125 \nL 9.8125 71.09375 \nQ 15.4375 72.65625 20.34375 73.4375 \nQ 25.25 74.21875 29.59375 74.21875 \nQ 40.828125 74.21875 47.359375 69.109375 \nQ 53.90625 64.015625 53.90625 55.328125 \nQ 53.90625 49.265625 50.4375 45.09375 \nQ 46.96875 40.921875 40.578125 39.3125 \nz\n\" id=\"DejaVuSans-51\"/>\n      </defs>\n      <g transform=\"translate(395.00875 351.757656)scale(0.1 -0.1)\">\n       <use xlink:href=\"#DejaVuSans-49\"/>\n       <use x=\"63.623047\" xlink:href=\"#DejaVuSans-46\"/>\n       <use x=\"95.410156\" xlink:href=\"#DejaVuSans-51\"/>\n      </g>\n     </g>\n    </g>\n    <g id=\"text_8\">\n     <!-- Strike -->\n     <defs>\n      <path d=\"M 53.515625 70.515625 \nL 53.515625 60.890625 \nQ 47.90625 63.578125 42.921875 64.890625 \nQ 37.9375 66.21875 33.296875 66.21875 \nQ 25.25 66.21875 20.875 63.09375 \nQ 16.5 59.96875 16.5 54.203125 \nQ 16.5 49.359375 19.40625 46.890625 \nQ 22.3125 44.4375 30.421875 42.921875 \nL 36.375 41.703125 \nQ 47.40625 39.59375 52.65625 34.296875 \nQ 57.90625 29 57.90625 20.125 \nQ 57.90625 9.515625 50.796875 4.046875 \nQ 43.703125 -1.421875 29.984375 -1.421875 \nQ 24.8125 -1.421875 18.96875 -0.25 \nQ 13.140625 0.921875 6.890625 3.21875 \nL 6.890625 13.375 \nQ 12.890625 10.015625 18.65625 8.296875 \nQ 24.421875 6.59375 29.984375 6.59375 \nQ 38.421875 6.59375 43.015625 9.90625 \nQ 47.609375 13.234375 47.609375 19.390625 \nQ 47.609375 24.75 44.3125 27.78125 \nQ 41.015625 30.8125 33.5 32.328125 \nL 27.484375 33.5 \nQ 16.453125 35.6875 11.515625 40.375 \nQ 6.59375 45.0625 6.59375 53.421875 \nQ 6.59375 63.09375 13.40625 68.65625 \nQ 20.21875 74.21875 32.171875 74.21875 \nQ 37.3125 74.21875 42.625 73.28125 \nQ 47.953125 72.359375 53.515625 70.515625 \nz\n\" id=\"DejaVuSans-83\"/>\n      <path d=\"M 18.3125 70.21875 \nL 18.3125 54.6875 \nL 36.8125 54.6875 \nL 36.8125 47.703125 \nL 18.3125 47.703125 \nL 18.3125 18.015625 \nQ 18.3125 11.328125 20.140625 9.421875 \nQ 21.96875 7.515625 27.59375 7.515625 \nL 36.8125 7.515625 \nL 36.8125 0 \nL 27.59375 0 \nQ 17.1875 0 13.234375 3.875 \nQ 9.28125 7.765625 9.28125 18.015625 \nL 9.28125 47.703125 \nL 2.6875 47.703125 \nL 2.6875 54.6875 \nL 9.28125 54.6875 \nL 9.28125 70.21875 \nz\n\" id=\"DejaVuSans-116\"/>\n      <path d=\"M 41.109375 46.296875 \nQ 39.59375 47.171875 37.8125 47.578125 \nQ 36.03125 48 33.890625 48 \nQ 26.265625 48 22.1875 43.046875 \nQ 18.109375 38.09375 18.109375 28.8125 \nL 18.109375 0 \nL 9.078125 0 \nL 9.078125 54.6875 \nL 18.109375 54.6875 \nL 18.109375 46.1875 \nQ 20.953125 51.171875 25.484375 53.578125 \nQ 30.03125 56 36.53125 56 \nQ 37.453125 56 38.578125 55.875 \nQ 39.703125 55.765625 41.0625 55.515625 \nz\n\" id=\"DejaVuSans-114\"/>\n      <path d=\"M 9.421875 54.6875 \nL 18.40625 54.6875 \nL 18.40625 0 \nL 9.421875 0 \nz\nM 9.421875 75.984375 \nL 18.40625 75.984375 \nL 18.40625 64.59375 \nL 9.421875 64.59375 \nz\n\" id=\"DejaVuSans-105\"/>\n      <path d=\"M 9.078125 75.984375 \nL 18.109375 75.984375 \nL 18.109375 31.109375 \nL 44.921875 54.6875 \nL 56.390625 54.6875 \nL 27.390625 29.109375 \nL 57.625 0 \nL 45.90625 0 \nL 18.109375 26.703125 \nL 18.109375 0 \nL 9.078125 0 \nz\n\" id=\"DejaVuSans-107\"/>\n      <path d=\"M 56.203125 29.59375 \nL 56.203125 25.203125 \nL 14.890625 25.203125 \nQ 15.484375 15.921875 20.484375 11.0625 \nQ 25.484375 6.203125 34.421875 6.203125 \nQ 39.59375 6.203125 44.453125 7.46875 \nQ 49.3125 8.734375 54.109375 11.28125 \nL 54.109375 2.78125 \nQ 49.265625 0.734375 44.1875 -0.34375 \nQ 39.109375 -1.421875 33.890625 -1.421875 \nQ 20.796875 -1.421875 13.15625 6.1875 \nQ 5.515625 13.8125 5.515625 26.8125 \nQ 5.515625 40.234375 12.765625 48.109375 \nQ 20.015625 56 32.328125 56 \nQ 43.359375 56 49.78125 48.890625 \nQ 56.203125 41.796875 56.203125 29.59375 \nz\nM 47.21875 32.234375 \nQ 47.125 39.59375 43.09375 43.984375 \nQ 39.0625 48.390625 32.421875 48.390625 \nQ 24.90625 48.390625 20.390625 44.140625 \nQ 15.875 39.890625 15.1875 32.171875 \nz\n\" id=\"DejaVuSans-101\"/>\n     </defs>\n     <g transform=\"translate(218.057656 370.235)scale(0.15 -0.15)\">\n      <use xlink:href=\"#DejaVuSans-83\"/>\n      <use x=\"63.476562\" xlink:href=\"#DejaVuSans-116\"/>\n      <use x=\"102.685547\" xlink:href=\"#DejaVuSans-114\"/>\n      <use x=\"143.798828\" xlink:href=\"#DejaVuSans-105\"/>\n      <use x=\"171.582031\" xlink:href=\"#DejaVuSans-107\"/>\n      <use x=\"229.445312\" xlink:href=\"#DejaVuSans-101\"/>\n     </g>\n    </g>\n   </g>\n   <g id=\"matplotlib.axis_2\">\n    <g id=\"ytick_1\">\n     <g id=\"line2d_8\">\n      <defs>\n       <path d=\"M 0 0 \nL -3.5 0 \n\" id=\"m53a404051c\" style=\"stroke:#000000;stroke-width:0.8;\"/>\n      </defs>\n      <g>\n       <use style=\"stroke:#000000;stroke-width:0.8;\" x=\"49.620312\" xlink:href=\"#m53a404051c\" y=\"10.999219\"/>\n      </g>\n     </g>\n     <g id=\"text_9\">\n      <!-- 1.1 -->\n      <g transform=\"translate(26.717187 14.798438)scale(0.1 -0.1)\">\n       <use xlink:href=\"#DejaVuSans-49\"/>\n       <use x=\"63.623047\" xlink:href=\"#DejaVuSans-46\"/>\n       <use x=\"95.410156\" xlink:href=\"#DejaVuSans-49\"/>\n      </g>\n     </g>\n    </g>\n    <g id=\"ytick_2\">\n     <g id=\"line2d_9\">\n      <g>\n       <use style=\"stroke:#000000;stroke-width:0.8;\" x=\"49.620312\" xlink:href=\"#m53a404051c\" y=\"65.359219\"/>\n      </g>\n     </g>\n     <g id=\"text_10\">\n      <!-- 1.2 -->\n      <g transform=\"translate(26.717187 69.158438)scale(0.1 -0.1)\">\n       <use xlink:href=\"#DejaVuSans-49\"/>\n       <use x=\"63.623047\" xlink:href=\"#DejaVuSans-46\"/>\n       <use x=\"95.410156\" xlink:href=\"#DejaVuSans-50\"/>\n      </g>\n     </g>\n    </g>\n    <g id=\"ytick_3\">\n     <g id=\"line2d_10\">\n      <g>\n       <use style=\"stroke:#000000;stroke-width:0.8;\" x=\"49.620312\" xlink:href=\"#m53a404051c\" y=\"119.719219\"/>\n      </g>\n     </g>\n     <g id=\"text_11\">\n      <!-- 1.3 -->\n      <g transform=\"translate(26.717187 123.518438)scale(0.1 -0.1)\">\n       <use xlink:href=\"#DejaVuSans-49\"/>\n       <use x=\"63.623047\" xlink:href=\"#DejaVuSans-46\"/>\n       <use x=\"95.410156\" xlink:href=\"#DejaVuSans-51\"/>\n      </g>\n     </g>\n    </g>\n    <g id=\"ytick_4\">\n     <g id=\"line2d_11\">\n      <g>\n       <use style=\"stroke:#000000;stroke-width:0.8;\" x=\"49.620312\" xlink:href=\"#m53a404051c\" y=\"174.079219\"/>\n      </g>\n     </g>\n     <g id=\"text_12\">\n      <!-- 1.4 -->\n      <defs>\n       <path d=\"M 37.796875 64.3125 \nL 12.890625 25.390625 \nL 37.796875 25.390625 \nz\nM 35.203125 72.90625 \nL 47.609375 72.90625 \nL 47.609375 25.390625 \nL 58.015625 25.390625 \nL 58.015625 17.1875 \nL 47.609375 17.1875 \nL 47.609375 0 \nL 37.796875 0 \nL 37.796875 17.1875 \nL 4.890625 17.1875 \nL 4.890625 26.703125 \nz\n\" id=\"DejaVuSans-52\"/>\n      </defs>\n      <g transform=\"translate(26.717187 177.878437)scale(0.1 -0.1)\">\n       <use xlink:href=\"#DejaVuSans-49\"/>\n       <use x=\"63.623047\" xlink:href=\"#DejaVuSans-46\"/>\n       <use x=\"95.410156\" xlink:href=\"#DejaVuSans-52\"/>\n      </g>\n     </g>\n    </g>\n    <g id=\"ytick_5\">\n     <g id=\"line2d_12\">\n      <g>\n       <use style=\"stroke:#000000;stroke-width:0.8;\" x=\"49.620312\" xlink:href=\"#m53a404051c\" y=\"228.439219\"/>\n      </g>\n     </g>\n     <g id=\"text_13\">\n      <!-- 1.5 -->\n      <defs>\n       <path d=\"M 10.796875 72.90625 \nL 49.515625 72.90625 \nL 49.515625 64.59375 \nL 19.828125 64.59375 \nL 19.828125 46.734375 \nQ 21.96875 47.46875 24.109375 47.828125 \nQ 26.265625 48.1875 28.421875 48.1875 \nQ 40.625 48.1875 47.75 41.5 \nQ 54.890625 34.8125 54.890625 23.390625 \nQ 54.890625 11.625 47.5625 5.09375 \nQ 40.234375 -1.421875 26.90625 -1.421875 \nQ 22.3125 -1.421875 17.546875 -0.640625 \nQ 12.796875 0.140625 7.71875 1.703125 \nL 7.71875 11.625 \nQ 12.109375 9.234375 16.796875 8.0625 \nQ 21.484375 6.890625 26.703125 6.890625 \nQ 35.15625 6.890625 40.078125 11.328125 \nQ 45.015625 15.765625 45.015625 23.390625 \nQ 45.015625 31 40.078125 35.4375 \nQ 35.15625 39.890625 26.703125 39.890625 \nQ 22.75 39.890625 18.8125 39.015625 \nQ 14.890625 38.140625 10.796875 36.28125 \nz\n\" id=\"DejaVuSans-53\"/>\n      </defs>\n      <g transform=\"translate(26.717187 232.238438)scale(0.1 -0.1)\">\n       <use xlink:href=\"#DejaVuSans-49\"/>\n       <use x=\"63.623047\" xlink:href=\"#DejaVuSans-46\"/>\n       <use x=\"95.410156\" xlink:href=\"#DejaVuSans-53\"/>\n      </g>\n     </g>\n    </g>\n    <g id=\"ytick_6\">\n     <g id=\"line2d_13\">\n      <g>\n       <use style=\"stroke:#000000;stroke-width:0.8;\" x=\"49.620312\" xlink:href=\"#m53a404051c\" y=\"282.799219\"/>\n      </g>\n     </g>\n     <g id=\"text_14\">\n      <!-- 1.6 -->\n      <defs>\n       <path d=\"M 33.015625 40.375 \nQ 26.375 40.375 22.484375 35.828125 \nQ 18.609375 31.296875 18.609375 23.390625 \nQ 18.609375 15.53125 22.484375 10.953125 \nQ 26.375 6.390625 33.015625 6.390625 \nQ 39.65625 6.390625 43.53125 10.953125 \nQ 47.40625 15.53125 47.40625 23.390625 \nQ 47.40625 31.296875 43.53125 35.828125 \nQ 39.65625 40.375 33.015625 40.375 \nz\nM 52.59375 71.296875 \nL 52.59375 62.3125 \nQ 48.875 64.0625 45.09375 64.984375 \nQ 41.3125 65.921875 37.59375 65.921875 \nQ 27.828125 65.921875 22.671875 59.328125 \nQ 17.53125 52.734375 16.796875 39.40625 \nQ 19.671875 43.65625 24.015625 45.921875 \nQ 28.375 48.1875 33.59375 48.1875 \nQ 44.578125 48.1875 50.953125 41.515625 \nQ 57.328125 34.859375 57.328125 23.390625 \nQ 57.328125 12.15625 50.6875 5.359375 \nQ 44.046875 -1.421875 33.015625 -1.421875 \nQ 20.359375 -1.421875 13.671875 8.265625 \nQ 6.984375 17.96875 6.984375 36.375 \nQ 6.984375 53.65625 15.1875 63.9375 \nQ 23.390625 74.21875 37.203125 74.21875 \nQ 40.921875 74.21875 44.703125 73.484375 \nQ 48.484375 72.75 52.59375 71.296875 \nz\n\" id=\"DejaVuSans-54\"/>\n      </defs>\n      <g transform=\"translate(26.717187 286.598438)scale(0.1 -0.1)\">\n       <use xlink:href=\"#DejaVuSans-49\"/>\n       <use x=\"63.623047\" xlink:href=\"#DejaVuSans-46\"/>\n       <use x=\"95.410156\" xlink:href=\"#DejaVuSans-54\"/>\n      </g>\n     </g>\n    </g>\n    <g id=\"ytick_7\">\n     <g id=\"line2d_14\">\n      <g>\n       <use style=\"stroke:#000000;stroke-width:0.8;\" x=\"49.620312\" xlink:href=\"#m53a404051c\" y=\"337.159219\"/>\n      </g>\n     </g>\n     <g id=\"text_15\">\n      <!-- 1.7 -->\n      <g transform=\"translate(26.717187 340.958438)scale(0.1 -0.1)\">\n       <use xlink:href=\"#DejaVuSans-49\"/>\n       <use x=\"63.623047\" xlink:href=\"#DejaVuSans-46\"/>\n       <use x=\"95.410156\" xlink:href=\"#DejaVuSans-55\"/>\n      </g>\n     </g>\n    </g>\n    <g id=\"text_16\">\n     <!-- Maturity -->\n     <defs>\n      <path d=\"M 9.8125 72.90625 \nL 24.515625 72.90625 \nL 43.109375 23.296875 \nL 61.8125 72.90625 \nL 76.515625 72.90625 \nL 76.515625 0 \nL 66.890625 0 \nL 66.890625 64.015625 \nL 48.09375 14.015625 \nL 38.1875 14.015625 \nL 19.390625 64.015625 \nL 19.390625 0 \nL 9.8125 0 \nz\n\" id=\"DejaVuSans-77\"/>\n      <path d=\"M 34.28125 27.484375 \nQ 23.390625 27.484375 19.1875 25 \nQ 14.984375 22.515625 14.984375 16.5 \nQ 14.984375 11.71875 18.140625 8.90625 \nQ 21.296875 6.109375 26.703125 6.109375 \nQ 34.1875 6.109375 38.703125 11.40625 \nQ 43.21875 16.703125 43.21875 25.484375 \nL 43.21875 27.484375 \nz\nM 52.203125 31.203125 \nL 52.203125 0 \nL 43.21875 0 \nL 43.21875 8.296875 \nQ 40.140625 3.328125 35.546875 0.953125 \nQ 30.953125 -1.421875 24.3125 -1.421875 \nQ 15.921875 -1.421875 10.953125 3.296875 \nQ 6 8.015625 6 15.921875 \nQ 6 25.140625 12.171875 29.828125 \nQ 18.359375 34.515625 30.609375 34.515625 \nL 43.21875 34.515625 \nL 43.21875 35.40625 \nQ 43.21875 41.609375 39.140625 45 \nQ 35.0625 48.390625 27.6875 48.390625 \nQ 23 48.390625 18.546875 47.265625 \nQ 14.109375 46.140625 10.015625 43.890625 \nL 10.015625 52.203125 \nQ 14.9375 54.109375 19.578125 55.046875 \nQ 24.21875 56 28.609375 56 \nQ 40.484375 56 46.34375 49.84375 \nQ 52.203125 43.703125 52.203125 31.203125 \nz\n\" id=\"DejaVuSans-97\"/>\n      <path d=\"M 8.5 21.578125 \nL 8.5 54.6875 \nL 17.484375 54.6875 \nL 17.484375 21.921875 \nQ 17.484375 14.15625 20.5 10.265625 \nQ 23.53125 6.390625 29.59375 6.390625 \nQ 36.859375 6.390625 41.078125 11.03125 \nQ 45.3125 15.671875 45.3125 23.6875 \nL 45.3125 54.6875 \nL 54.296875 54.6875 \nL 54.296875 0 \nL 45.3125 0 \nL 45.3125 8.40625 \nQ 42.046875 3.421875 37.71875 1 \nQ 33.40625 -1.421875 27.6875 -1.421875 \nQ 18.265625 -1.421875 13.375 4.4375 \nQ 8.5 10.296875 8.5 21.578125 \nz\nM 31.109375 56 \nz\n\" id=\"DejaVuSans-117\"/>\n      <path d=\"M 32.171875 -5.078125 \nQ 28.375 -14.84375 24.75 -17.8125 \nQ 21.140625 -20.796875 15.09375 -20.796875 \nL 7.90625 -20.796875 \nL 7.90625 -13.28125 \nL 13.1875 -13.28125 \nQ 16.890625 -13.28125 18.9375 -11.515625 \nQ 21 -9.765625 23.484375 -3.21875 \nL 25.09375 0.875 \nL 2.984375 54.6875 \nL 12.5 54.6875 \nL 29.59375 11.921875 \nL 46.6875 54.6875 \nL 56.203125 54.6875 \nz\n\" id=\"DejaVuSans-121\"/>\n     </defs>\n     <g transform=\"translate(18.597656 205.385859)rotate(-90)scale(0.15 -0.15)\">\n      <use xlink:href=\"#DejaVuSans-77\"/>\n      <use x=\"86.279297\" xlink:href=\"#DejaVuSans-97\"/>\n      <use x=\"147.558594\" xlink:href=\"#DejaVuSans-116\"/>\n      <use x=\"186.767578\" xlink:href=\"#DejaVuSans-117\"/>\n      <use x=\"250.146484\" xlink:href=\"#DejaVuSans-114\"/>\n      <use x=\"291.259766\" xlink:href=\"#DejaVuSans-105\"/>\n      <use x=\"319.042969\" xlink:href=\"#DejaVuSans-116\"/>\n      <use x=\"358.251953\" xlink:href=\"#DejaVuSans-121\"/>\n     </g>\n    </g>\n   </g>\n   <g id=\"patch_3\">\n    <path d=\"M 49.620312 337.159219 \nL 49.620312 10.999219 \n\" style=\"fill:none;stroke:#000000;stroke-linecap:square;stroke-linejoin:miter;stroke-width:0.8;\"/>\n   </g>\n   <g id=\"patch_4\">\n    <path d=\"M 430.140312 337.159219 \nL 430.140312 10.999219 \n\" style=\"fill:none;stroke:#000000;stroke-linecap:square;stroke-linejoin:miter;stroke-width:0.8;\"/>\n   </g>\n   <g id=\"patch_5\">\n    <path d=\"M 49.620312 337.159219 \nL 430.140312 337.159219 \n\" style=\"fill:none;stroke:#000000;stroke-linecap:square;stroke-linejoin:miter;stroke-width:0.8;\"/>\n   </g>\n   <g id=\"patch_6\">\n    <path d=\"M 49.620312 10.999219 \nL 430.140312 10.999219 \n\" style=\"fill:none;stroke:#000000;stroke-linecap:square;stroke-linejoin:miter;stroke-width:0.8;\"/>\n   </g>\n  </g>\n  <g id=\"axes_2\">\n   <g id=\"patch_7\">\n    <path clip-path=\"url(#p02866a6f43)\" d=\"M 458.040312 337.159219 \nL 458.040312 335.885156 \nL 458.040312 12.273281 \nL 458.040312 10.999219 \nL 474.348312 10.999219 \nL 474.348312 12.273281 \nL 474.348312 335.885156 \nL 474.348312 337.159219 \nz\n\" style=\"fill:#ffffff;stroke:#ffffff;stroke-linejoin:miter;stroke-width:0.01;\"/>\n   </g>\n   <image height=\"327\" id=\"image237eb2c848\" transform=\"scale(1 -1)translate(0 -327)\" width=\"16\" x=\"458\" xlink:href=\"data:image/png;base64,\niVBORw0KGgoAAAANSUhEUgAAABAAAAFHCAYAAACoD8yaAAAABHNCSVQICAgIfAhkiAAAAbFJREFUeJztnMENAjEMBONcSqME+i+Fo4hZaTeW+WPs8dgJIF196vsu8DqrNnn/OrULBWAfvxJKwBkIGPASYIDasAs0AwVEcwm8jTUmjkgJAXqIRNsYcDb6IdoZ2EV6+bmA3j8iLUEXFCbSAG6InIF9FlqIxBJQMLh/I712iLSNHaaRZxAAEQawq5ywkegtTdAFFmBEGoiSDAKmkR7vggwCIN4+TBEQYQA7xIiNhDOYS5bgOxMMMNM4IkkCdBDJnsGY2EIkO4MAke5nMCa2YNBgJ/ohdmBgL+GsYleMBtM4Jo5IkgARIrEuBDBICHA9xBFpHfhjnmCldVjry8zgVAcTrxfJP0wYIi1BAfH2YTowgQSIDUTaAQwGImaw6eE6EHkGARsJQxSI5IbIGbgDJDCgHgzEDl1QQPzRAGaIESJBiE8HiG6RHj6NrIQAEwUi3c8AlqDogh0inQVagmAn3r/SGmykgGGiGcw08rWOD5YIE/E4u0WyH+/cRD9E/zTyc8EOMYDB/RvJziDgkiVgYM+AJSCZRhoA/uEYwQCXAAMIILofpCGACJ8RlcAAl2B+6Nwf7eWNkNM89bMAAAAASUVORK5CYII=\" y=\"-10\"/>\n   <g id=\"matplotlib.axis_3\"/>\n   <g id=\"matplotlib.axis_4\">\n    <g id=\"ytick_8\">\n     <g id=\"line2d_15\">\n      <defs>\n       <path d=\"M 0 0 \nL 3.5 0 \n\" id=\"m06d8397151\" style=\"stroke:#000000;stroke-width:0.8;\"/>\n      </defs>\n      <g>\n       <use style=\"stroke:#000000;stroke-width:0.8;\" x=\"474.348312\" xlink:href=\"#m06d8397151\" y=\"330.349128\"/>\n      </g>\n     </g>\n     <g id=\"text_17\">\n      <!-- 35.0% -->\n      <defs>\n       <path d=\"M 72.703125 32.078125 \nQ 68.453125 32.078125 66.03125 28.46875 \nQ 63.625 24.859375 63.625 18.40625 \nQ 63.625 12.0625 66.03125 8.421875 \nQ 68.453125 4.78125 72.703125 4.78125 \nQ 76.859375 4.78125 79.265625 8.421875 \nQ 81.6875 12.0625 81.6875 18.40625 \nQ 81.6875 24.8125 79.265625 28.4375 \nQ 76.859375 32.078125 72.703125 32.078125 \nz\nM 72.703125 38.28125 \nQ 80.421875 38.28125 84.953125 32.90625 \nQ 89.5 27.546875 89.5 18.40625 \nQ 89.5 9.28125 84.9375 3.921875 \nQ 80.375 -1.421875 72.703125 -1.421875 \nQ 64.890625 -1.421875 60.34375 3.921875 \nQ 55.8125 9.28125 55.8125 18.40625 \nQ 55.8125 27.59375 60.375 32.9375 \nQ 64.9375 38.28125 72.703125 38.28125 \nz\nM 22.3125 68.015625 \nQ 18.109375 68.015625 15.6875 64.375 \nQ 13.28125 60.75 13.28125 54.390625 \nQ 13.28125 47.953125 15.671875 44.328125 \nQ 18.0625 40.71875 22.3125 40.71875 \nQ 26.5625 40.71875 28.96875 44.328125 \nQ 31.390625 47.953125 31.390625 54.390625 \nQ 31.390625 60.6875 28.953125 64.34375 \nQ 26.515625 68.015625 22.3125 68.015625 \nz\nM 66.40625 74.21875 \nL 74.21875 74.21875 \nL 28.609375 -1.421875 \nL 20.796875 -1.421875 \nz\nM 22.3125 74.21875 \nQ 30.03125 74.21875 34.609375 68.875 \nQ 39.203125 63.53125 39.203125 54.390625 \nQ 39.203125 45.171875 34.640625 39.84375 \nQ 30.078125 34.515625 22.3125 34.515625 \nQ 14.546875 34.515625 10.03125 39.859375 \nQ 5.515625 45.21875 5.515625 54.390625 \nQ 5.515625 63.484375 10.046875 68.84375 \nQ 14.59375 74.21875 22.3125 74.21875 \nz\n\" id=\"DejaVuSans-37\"/>\n      </defs>\n      <g transform=\"translate(481.348312 334.148347)scale(0.1 -0.1)\">\n       <use xlink:href=\"#DejaVuSans-51\"/>\n       <use x=\"63.623047\" xlink:href=\"#DejaVuSans-53\"/>\n       <use x=\"127.246094\" xlink:href=\"#DejaVuSans-46\"/>\n       <use x=\"159.033203\" xlink:href=\"#DejaVuSans-48\"/>\n       <use x=\"222.65625\" xlink:href=\"#DejaVuSans-37\"/>\n      </g>\n     </g>\n    </g>\n    <g id=\"ytick_9\">\n     <g id=\"line2d_16\">\n      <g>\n       <use style=\"stroke:#000000;stroke-width:0.8;\" x=\"474.348312\" xlink:href=\"#m06d8397151\" y=\"284.651222\"/>\n      </g>\n     </g>\n     <g id=\"text_18\">\n      <!-- 40.0% -->\n      <g transform=\"translate(481.348312 288.45044)scale(0.1 -0.1)\">\n       <use xlink:href=\"#DejaVuSans-52\"/>\n       <use x=\"63.623047\" xlink:href=\"#DejaVuSans-48\"/>\n       <use x=\"127.246094\" xlink:href=\"#DejaVuSans-46\"/>\n       <use x=\"159.033203\" xlink:href=\"#DejaVuSans-48\"/>\n       <use x=\"222.65625\" xlink:href=\"#DejaVuSans-37\"/>\n      </g>\n     </g>\n    </g>\n    <g id=\"ytick_10\">\n     <g id=\"line2d_17\">\n      <g>\n       <use style=\"stroke:#000000;stroke-width:0.8;\" x=\"474.348312\" xlink:href=\"#m06d8397151\" y=\"238.953315\"/>\n      </g>\n     </g>\n     <g id=\"text_19\">\n      <!-- 45.0% -->\n      <g transform=\"translate(481.348312 242.752534)scale(0.1 -0.1)\">\n       <use xlink:href=\"#DejaVuSans-52\"/>\n       <use x=\"63.623047\" xlink:href=\"#DejaVuSans-53\"/>\n       <use x=\"127.246094\" xlink:href=\"#DejaVuSans-46\"/>\n       <use x=\"159.033203\" xlink:href=\"#DejaVuSans-48\"/>\n       <use x=\"222.65625\" xlink:href=\"#DejaVuSans-37\"/>\n      </g>\n     </g>\n    </g>\n    <g id=\"ytick_11\">\n     <g id=\"line2d_18\">\n      <g>\n       <use style=\"stroke:#000000;stroke-width:0.8;\" x=\"474.348312\" xlink:href=\"#m06d8397151\" y=\"193.255409\"/>\n      </g>\n     </g>\n     <g id=\"text_20\">\n      <!-- 50.0% -->\n      <g transform=\"translate(481.348312 197.054628)scale(0.1 -0.1)\">\n       <use xlink:href=\"#DejaVuSans-53\"/>\n       <use x=\"63.623047\" xlink:href=\"#DejaVuSans-48\"/>\n       <use x=\"127.246094\" xlink:href=\"#DejaVuSans-46\"/>\n       <use x=\"159.033203\" xlink:href=\"#DejaVuSans-48\"/>\n       <use x=\"222.65625\" xlink:href=\"#DejaVuSans-37\"/>\n      </g>\n     </g>\n    </g>\n    <g id=\"ytick_12\">\n     <g id=\"line2d_19\">\n      <g>\n       <use style=\"stroke:#000000;stroke-width:0.8;\" x=\"474.348312\" xlink:href=\"#m06d8397151\" y=\"147.557502\"/>\n      </g>\n     </g>\n     <g id=\"text_21\">\n      <!-- 55.0% -->\n      <g transform=\"translate(481.348312 151.356721)scale(0.1 -0.1)\">\n       <use xlink:href=\"#DejaVuSans-53\"/>\n       <use x=\"63.623047\" xlink:href=\"#DejaVuSans-53\"/>\n       <use x=\"127.246094\" xlink:href=\"#DejaVuSans-46\"/>\n       <use x=\"159.033203\" xlink:href=\"#DejaVuSans-48\"/>\n       <use x=\"222.65625\" xlink:href=\"#DejaVuSans-37\"/>\n      </g>\n     </g>\n    </g>\n    <g id=\"ytick_13\">\n     <g id=\"line2d_20\">\n      <g>\n       <use style=\"stroke:#000000;stroke-width:0.8;\" x=\"474.348312\" xlink:href=\"#m06d8397151\" y=\"101.859596\"/>\n      </g>\n     </g>\n     <g id=\"text_22\">\n      <!-- 60.0% -->\n      <g transform=\"translate(481.348312 105.658815)scale(0.1 -0.1)\">\n       <use xlink:href=\"#DejaVuSans-54\"/>\n       <use x=\"63.623047\" xlink:href=\"#DejaVuSans-48\"/>\n       <use x=\"127.246094\" xlink:href=\"#DejaVuSans-46\"/>\n       <use x=\"159.033203\" xlink:href=\"#DejaVuSans-48\"/>\n       <use x=\"222.65625\" xlink:href=\"#DejaVuSans-37\"/>\n      </g>\n     </g>\n    </g>\n    <g id=\"ytick_14\">\n     <g id=\"line2d_21\">\n      <g>\n       <use style=\"stroke:#000000;stroke-width:0.8;\" x=\"474.348312\" xlink:href=\"#m06d8397151\" y=\"56.16169\"/>\n      </g>\n     </g>\n     <g id=\"text_23\">\n      <!-- 65.0% -->\n      <g transform=\"translate(481.348312 59.960908)scale(0.1 -0.1)\">\n       <use xlink:href=\"#DejaVuSans-54\"/>\n       <use x=\"63.623047\" xlink:href=\"#DejaVuSans-53\"/>\n       <use x=\"127.246094\" xlink:href=\"#DejaVuSans-46\"/>\n       <use x=\"159.033203\" xlink:href=\"#DejaVuSans-48\"/>\n       <use x=\"222.65625\" xlink:href=\"#DejaVuSans-37\"/>\n      </g>\n     </g>\n    </g>\n   </g>\n   <g id=\"patch_8\">\n    <path d=\"M 458.040312 337.159219 \nL 458.040312 335.885156 \nL 458.040312 12.273281 \nL 458.040312 10.999219 \nL 474.348312 10.999219 \nL 474.348312 12.273281 \nL 474.348312 335.885156 \nL 474.348312 337.159219 \nz\n\" style=\"fill:none;stroke:#000000;stroke-linejoin:miter;stroke-width:0.8;\"/>\n   </g>\n  </g>\n </g>\n <defs>\n  <clipPath id=\"pc667a7df6c\">\n   <rect height=\"326.16\" width=\"380.52\" x=\"49.620312\" y=\"10.999219\"/>\n  </clipPath>\n  <clipPath id=\"p02866a6f43\">\n   <rect height=\"326.16\" width=\"16.308\" x=\"458.040312\" y=\"10.999219\"/>\n  </clipPath>\n </defs>\n</svg>\n",
      "image/png": "[encoded data removed]"
     },
     "metadata": {
      "needs_background": "light"
     }
    }
   ],
   "source": [
    "import matplotlib.pyplot as plt\n",
    "import matplotlib.ticker as mtick\n",
    "\n",
    "\n",
    "err = np.mean((100*np.abs((theta_true-Theta)/theta_true)),axis=2)\n",
    "#print(\"Relative error in percent: \",err)\n",
    "plt.figure(1,figsize=(10,6))\n",
    "ax=plt.subplot(1,1,1)\n",
    "plt.imshow(err.reshape(len(T),len(K)))\n",
    "plt.colorbar(format=mtick.PercentFormatter())\n",
    "\n",
    "ax.set_yticks(np.linspace(0,len(T)-1,len(T)))\n",
    "ax.set_yticklabels(T)\n",
    "ax.set_xticks(np.linspace(0,len(K)-1,len(K)))\n",
    "ax.set_xticklabels(K)\n",
    "\n",
    "plt.xlabel(\"Strike\",fontsize=15,labelpad=5)\n",
    "plt.ylabel(\"Maturity\",fontsize=15,labelpad=5)\n",
    "\n",
    "\n",
    "\n",
    "plt.show()"
   ]
  },
  {
   "cell_type": "code",
   "execution_count": null,
   "metadata": {},
   "outputs": [],
   "source": []
  },
  {
   "cell_type": "code",
   "execution_count": 327,
   "metadata": {},
   "outputs": [
    {
     "output_type": "stream",
     "name": "stdout",
     "text": "\n"
    }
   ],
   "source": []
  },
  {
   "cell_type": "code",
   "execution_count": 343,
   "metadata": {},
   "outputs": [
    {
     "output_type": "stream",
     "name": "stdout",
     "text": "\n"
    }
   ],
   "source": []
  },
  {
   "cell_type": "code",
   "execution_count": 329,
   "metadata": {},
   "outputs": [
    {
     "output_type": "stream",
     "name": "stdout",
     "text": "\n"
    }
   ],
   "source": []
  },
  {
   "cell_type": "code",
   "execution_count": null,
   "metadata": {},
   "outputs": [],
   "source": []
  }
 ],
 "metadata": {
  "kernelspec": {
   "display_name": "Python 3",
   "language": "python",
   "name": "python3"
  },
  "language_info": {
   "codemirror_mode": {
    "name": "ipython",
    "version": 3
   },
   "file_extension": ".py",
   "mimetype": "text/x-python",
   "name": "python",
   "nbconvert_exporter": "python",
   "pygments_lexer": "ipython3",
   "version": "3.7.5-final"
  }
 },
 "nbformat": 4,
 "nbformat_minor": 2
}