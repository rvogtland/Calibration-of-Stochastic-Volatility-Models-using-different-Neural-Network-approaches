{
 "cells": [
  {
   "cell_type": "code",
   "execution_count": 1,
   "metadata": {},
   "outputs": [],
   "source": [
    "import pandas as pd\n",
    "import numpy as np\n",
    "import matplotlib.pyplot as plt\n",
    "import tensorflow as tf\n",
    "from tensorflow.contrib.layers import fully_connected\n",
    "from math import sqrt\n",
    "from scipy.stats import norm\n",
    "from scipy.stats import uniform\n",
    "import cmath #for complex numbers\n",
    "from scipy.integrate import quad #for numerical integration\n",
    "from sklearn.preprocessing import MinMaxScaler\n"
   ]
  },
  {
   "cell_type": "code",
   "execution_count": 2,
   "metadata": {},
   "outputs": [],
   "source": [
    "#input:\n",
    "#output: Call option price with strike K and Maturity T\n",
    "def heston_closed(a,b,c,T,K,rho,V0,S0,r=0):\n",
    "    \n",
    "    def char_f(w,a,b,c,T,K,rho,V0,S0,r):\n",
    "        alpha = -0.5*w*(w+complex(0,1))\n",
    "        beta = a - rho*c*w*complex(0,1)\n",
    "        gamma = c*c/2\n",
    "        h = cmath.sqrt(beta*beta-4*alpha*gamma)\n",
    "        rplus = (beta + h)/c/c\n",
    "        rminus = (beta - h)/c/c\n",
    "        g = rminus/rplus\n",
    "        D =  rminus*(1-cmath.exp(-h*T))/(1-g*cmath.exp(-h*T))\n",
    "        C = a*(rminus*T-2/c/c*cmath.log((1-g*cmath.exp(-h*T))/(1-g)))\n",
    "        return cmath.exp(C*b+D*V0+complex(0,1)*w*cmath.log(S0*cmath.exp(r*T)))\n",
    "\n",
    "    def integrand1(w):\n",
    "        i = complex(0,1)\n",
    "        return (cmath.exp(-i*w*cmath.log(K))*char_f(w-i,a,b,c,T,K,rho,V0,S0,r)/i/w/char_f(-i,a,b,c,T,K,rho,V0,S0,r)).real\n",
    "    \n",
    "    def integrand2(w):\n",
    "        i = complex(0,1)\n",
    "        return (cmath.exp(-i*w*cmath.log(K))*char_f(w,a,b,c,T,K,rho,V0,S0,r)/i/w).real\n",
    "    \n",
    "    pi1 = 0.5 + quad(integrand1,0,np.inf)[0]/np.pi\n",
    "    pi2 = 0.5 + quad(integrand2,0,np.inf)[0]/np.pi\n",
    "    \n",
    "    return (S0*pi1 + cmath.exp(-r*T)*K*pi2).real"
   ]
  },
  {
   "cell_type": "code",
   "execution_count": 3,
   "metadata": {},
   "outputs": [],
   "source": [
    "num_input_parameters = 6\n",
    "num_output_parameters = 1\n",
    "learning_rate = 0.1\n",
    "num_steps = 1000\n",
    "batch_size = 10\n",
    "num_neurons = 8\n",
    "\n",
    "scaler = MinMaxScaler()\n",
    "\n",
    "X = tf.placeholder(tf.float32, [None, num_input_parameters])\n",
    "y = tf.placeholder(tf.float32, [None, num_output_parameters])"
   ]
  },
  {
   "cell_type": "code",
   "execution_count": 4,
   "metadata": {},
   "outputs": [],
   "source": [
    "#input: X,y,batch_size\n",
    "#output: X_batch,y_batch: randomly chosen rows from X,y \n",
    "def next_batch_heston(batch_size,X=None,y=None):\n",
    "    #for heston X contains values for a,b,c,rho,T,K and S0,V0 are kept fixed for now\n",
    "    X = np.zeros((batch_size,num_input_parameters))\n",
    "    y = np.zeros((batch_size,num_output_parameters))\n",
    "    \n",
    "    X[:,0] = uniform.rvs(size=batch_size)+1 #a\n",
    "    X[:,1] = uniform.rvs(size=batch_size)+1 #b\n",
    "    X[:,2] = uniform.rvs(size=batch_size) #c\n",
    "    X[:,3] = uniform.rvs(size=batch_size) #rho\n",
    "    X[:,4] = 10*uniform.rvs(size=batch_size)+1 #maturities T \n",
    "    X[:,5] = np.zeros(batch_size)+0.5 #strikes K\n",
    "    S0 = 1\n",
    "    V0 = 1\n",
    "    \n",
    "    for i in range(batch_size):\n",
    "        y[i,0] = heston_closed(X[i,0],X[i,1],X[i,2],X[i,4],X[i,5],X[i,3],V0,S0)\n",
    "    \n",
    "    X = scaler.fit_transform(X)\n",
    "    y = scaler.fit_transform(y)\n",
    "    \n",
    "    return X,y"
   ]
  },
  {
   "cell_type": "code",
   "execution_count": 5,
   "metadata": {},
   "outputs": [
    {
     "name": "stdout",
     "output_type": "stream",
     "text": [
      "WARNING:tensorflow:From /Users/robinvogtland/opt/anaconda3/lib/python3.7/site-packages/tensorflow_core/contrib/layers/python/layers/layers.py:1866: Layer.apply (from tensorflow.python.keras.engine.base_layer) is deprecated and will be removed in a future version.\n",
      "Instructions for updating:\n",
      "Please use `layer.__call__` method instead.\n"
     ]
    }
   ],
   "source": [
    "#Layers\n",
    "hidden1 = fully_connected(X, num_neurons, activation_fn=tf.nn.elu)\n",
    "hidden2 = fully_connected(hidden1, num_neurons, activation_fn=tf.nn.elu)\n",
    "hidden3 = fully_connected(hidden2, num_neurons, activation_fn=tf.nn.elu)\n",
    "outputs = fully_connected(hidden3, num_output_parameters, activation_fn=None)"
   ]
  },
  {
   "cell_type": "code",
   "execution_count": 6,
   "metadata": {},
   "outputs": [],
   "source": [
    "#Loss Function\n",
    "loss = tf.reduce_mean(tf.sqrt(tf.square(outputs - y)))  # MSE"
   ]
  },
  {
   "cell_type": "code",
   "execution_count": 7,
   "metadata": {},
   "outputs": [],
   "source": [
    "#Optimizer\n",
    "optimizer = tf.train.AdamOptimizer(learning_rate)\n",
    "train = optimizer.minimize(loss)"
   ]
  },
  {
   "cell_type": "code",
   "execution_count": 8,
   "metadata": {},
   "outputs": [],
   "source": [
    "init = tf.global_variables_initializer()"
   ]
  },
  {
   "cell_type": "code",
   "execution_count": 9,
   "metadata": {},
   "outputs": [],
   "source": [
    "saver = tf.train.Saver()"
   ]
  },
  {
   "cell_type": "code",
   "execution_count": 12,
   "metadata": {},
   "outputs": [
    {
     "name": "stdout",
     "output_type": "stream",
     "text": [
      "0 \tRMSE: 0.98573714\n",
      "200 \tRMSE: 0.03741647\n",
      "400 \tRMSE: 0.07821032\n",
      "600 \tRMSE: 0.06188976\n",
      "800 \tRMSE: 0.11691568\n"
     ]
    }
   ],
   "source": [
    "with tf.Session() as sess:\n",
    "    sess.run(init)\n",
    "    \n",
    "    for iteration in range(num_steps):\n",
    "        \n",
    "        X_batch,Y_batch = next_batch_heston(batch_size)\n",
    "        sess.run(train,feed_dict={X: X_batch, y: Y_batch})\n",
    "        \n",
    "        if iteration % 200 == 0:\n",
    "            \n",
    "            rmse = loss.eval(feed_dict={X: X_batch, y: Y_batch})\n",
    "            print(iteration, \"\\tRMSE:\", rmse)\n",
    "    \n",
    "    saver.save(sess, \"./models/heston_closed_nn\")"
   ]
  },
  {
   "cell_type": "code",
   "execution_count": null,
   "metadata": {},
   "outputs": [],
   "source": []
  },
  {
   "cell_type": "code",
   "execution_count": null,
   "metadata": {},
   "outputs": [],
   "source": []
  }
 ],
 "metadata": {
  "kernelspec": {
   "display_name": "Python 3",
   "language": "python",
   "name": "python3"
  },
  "language_info": {
   "codemirror_mode": {
    "name": "ipython",
    "version": 3
   },
   "file_extension": ".py",
   "mimetype": "text/x-python",
   "name": "python",
   "nbconvert_exporter": "python",
   "pygments_lexer": "ipython3",
   "version": "3.7.4"
  }
 },
 "nbformat": 4,
 "nbformat_minor": 2
}
