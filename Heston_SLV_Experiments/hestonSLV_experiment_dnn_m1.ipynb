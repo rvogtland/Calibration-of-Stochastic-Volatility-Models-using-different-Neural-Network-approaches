{
 "cells": [
  {
   "cell_type": "code",
   "execution_count": 11,
   "metadata": {},
   "outputs": [],
   "source": [
    "import pandas as pd\n",
    "import numpy as np\n",
    "import matplotlib.pyplot as plt\n",
    "import tensorflow as tf\n",
    "from tensorflow.contrib.layers import fully_connected\n",
    "from math import sqrt\n",
    "from scipy.stats import norm\n",
    "from scipy.stats import uniform\n",
    "import cmath #for complex numbers\n",
    "from scipy.integrate import quad #for numerical integration\n",
    "from sklearn.preprocessing import MinMaxScaler\n",
    "import scipy\n",
    "import time\n",
    "import multiprocessing"
   ]
  },
  {
   "cell_type": "code",
   "execution_count": 12,
   "metadata": {},
   "outputs": [],
   "source": [
    "num_model_parameters = 6\n",
    "num_strikes = 16\n",
    "num_maturities = 16\n",
    "\n",
    "\n",
    "num_input_parameters = 6\n",
    "num_output_parameters = num_maturities*num_strikes\n",
    "learning_rate = 0.0001\n",
    "num_steps = 5\n",
    "batch_size = 10\n",
    "num_neurons = 40\n",
    "\n",
    "#initial values\n",
    "S0 = 1.0\n",
    "V0 = 0.25\n",
    "r = 0.01\n",
    "\n",
    "\n",
    "contract_bounds = np.array([[0.8*S0,1.2*S0],[1,10]]) #bounds for K,T\n",
    "model_bounds = np.array([[0.01,0.15],[0.2,0.8],[-1,0],[1,3],[0.1,0.6],[0.01,0.1]]) #bounds for a,b,c,alpha,beta,rho, make sure alpha>0,\n",
    "\n",
    "\"\"\"\n",
    "Note: The grid of stirkes and maturities is equidistant here put could be choosen differently for real world application.\n",
    "Note: For the code below to striktly follow the bounds specified above make sure that *_distance x num_* is less than half the distance from the highest to lowest * (* = strikes/maturities). \n",
    "\"\"\"\n",
    "maturities_distance = (contract_bounds[1,1]-contract_bounds[1,0])/(2*num_maturities) \n",
    "strikes_distance = (contract_bounds[0,1]-contract_bounds[0,0])/(2*num_strikes)\n",
    "\n",
    "strikes = np.linspace(contract_bounds[0,0],contract_bounds[0,0]+num_strikes*strikes_distance,num_strikes)\n",
    "maturities = np.linspace(contract_bounds[1,0],contract_bounds[1,0]+num_maturities*maturities_distance,num_maturities)"
   ]
  },
  {
   "cell_type": "code",
   "execution_count": 13,
   "metadata": {},
   "outputs": [],
   "source": [
    "def corr_brownian_motion(n, T, dim, rho):\n",
    "    dt = T/n\n",
    "\n",
    "    dW1 = norm.rvs(size=(dim,n+1) , scale=sqrt(dt))\n",
    "    dW2 = rho * dW1 + np.sqrt(1 - np.power(rho ,2)) * norm.rvs(size=(dim,n+1) , scale=sqrt(dt))\n",
    "        \n",
    "    W1 = np.cumsum(dW1, axis=-1)\n",
    "    W2 = np.cumsum(dW2, axis=-1)\n",
    " \n",
    "    return W1,W2\n",
    "\n",
    "def euler_maruyama(mu,sigma,T,x0,W):\n",
    "    dim = W.shape[0]\n",
    "    n = W.shape[1]-1\n",
    "    Y = np.zeros((dim,n+1))\n",
    "    dt = T/n\n",
    "    sqrt_dt = np.sqrt(dt)\n",
    "    for l in range(dim):\n",
    "        Y[l,0] = x0\n",
    "        for i in range(n):\n",
    "            Y[l,i+1] = Y[l,i] + np.multiply(mu(Y[l,i],l,i),dt) + sigma(Y[l,i],l,i)*sqrt_dt*(W[l,i+1]-W[l,i])\n",
    "    \n",
    "    return Y\n",
    "\n",
    "def heston_SLV(alpha,beta,a,b,c,T,W,Z,V0,S0):\n",
    "   \n",
    "    #assert(2*a*b > c*c)\n",
    "\n",
    "    def mu2(V,i,k):\n",
    "        return np.multiply(a,(b-V))\n",
    "    \n",
    "    def sigma2(V,i,k):\n",
    "        return np.multiply(c,np.sqrt(np.maximum(0.0,V)))\n",
    "    \n",
    "    V = euler_maruyama(mu2,sigma2,T,V0,Z)\n",
    "    \n",
    "    def mu1(S,i,k):\n",
    "        return 0.0\n",
    "    \n",
    "    def sigma1(S,i,k):\n",
    "        return alpha*np.multiply(np.sqrt(np.maximum(0.0,V[i,k])),np.power(S,1+beta))\n",
    "    \n",
    "    S = euler_maruyama(mu1,sigma1,T,S0,W)\n",
    "    \n",
    "    return S,V\n",
    "\n",
    "def reverse_transform_X(X_scaled):\n",
    "    X = np.zeros(X_scaled.shape)\n",
    "    for i in range(num_input_parameters):\n",
    "        X[:,i] = X_scaled[:,i]*(model_bounds[i][1]-model_bounds[i][0]) + model_bounds[i][0]\n",
    "    return X\n",
    "\n",
    "\n",
    "def implied_vol(P,K,T):\n",
    "    def f(sigma):\n",
    "        dplus = (np.log(S0 / K) + (r  + 0.5 * sigma ** 2) * T) / (sigma * np.sqrt(T))\n",
    "        dminus = (np.log(S0 / K) + (r  - 0.5 * sigma ** 2) * T) / (sigma * np.sqrt(T))\n",
    "        \n",
    "        return S0 * norm.cdf(dplus, 0.0, 1.0) - K * np.exp(-r * T) * norm.cdf(dminus, 0.0, 1.0) - P\n",
    "     \n",
    "    return scipy.optimize.brentq(f, 0, 1)\n",
    "\n",
    "def BS_call_price(sigma,K,T):\n",
    "    dplus = (np.log(S0 / K) + (r  + 0.5 * sigma ** 2) * T) / (sigma * np.sqrt(T))\n",
    "    dminus = (np.log(S0 / K) + (r  - 0.5 * sigma ** 2) * T) / (sigma * np.sqrt(T))\n",
    "\n",
    "    return S0 * norm.cdf(dplus, 0.0, 1.0) - K * np.exp(-r * T) * norm.cdf(dminus, 0.0, 1.0)\n",
    "\n",
    "\n",
    "def next_batch_sabr_EM_train(batch_size,contract_bounds,model_bounds):\n",
    "    X_scaled = np.zeros((batch_size,num_input_parameters))\n",
    "    y = np.zeros((batch_size,num_output_parameters))\n",
    "\n",
    "    X_scaled[:,0] = uniform.rvs(size=batch_size) #alpha\n",
    "    X_scaled[:,1] = uniform.rvs(size=batch_size) #beta\n",
    "    X_scaled[:,2] = uniform.rvs(size=batch_size) #rho\n",
    "    X_scaled[:,3] = uniform.rvs(size=batch_size) #a\n",
    "    X_scaled[:,4] = uniform.rvs(size=batch_size) #b\n",
    "    X_scaled[:,5] = uniform.rvs(size=batch_size) #c\n",
    "\n",
    "    X = reverse_transform_X(X_scaled)\n",
    "\n",
    "    n = 100\n",
    "    dim =10000\n",
    "    for i in range(batch_size):\n",
    "        W,Z = corr_brownian_motion(n,maturities[-1],dim,X[i,2])\n",
    "        S,V = heston_SLV(X[i,0],X[i,1],X[i,3],X[i,4],X[i,5],maturities[-1],W,Z,V0,S0)\n",
    "        \n",
    "        for j in range(num_maturities):\n",
    "            n_current = int(maturities[j]/maturities[-1]*n)\n",
    "            S_T = S[:,n_current]\n",
    "            \n",
    "            for k in range(num_strikes):\n",
    "                #P = np.mean(np.maximum(S_T-np.ones(dim)*strikes[k],np.zeros(dim)))#*np.exp(-r*maturities[j])\n",
    "                \n",
    "                #y[i,j*num_strikes+k] = implied_vol(P,strikes[k],maturities[j])\n",
    "\n",
    "                y[i,j*num_strikes+k] = np.exp(-r*maturities[j])*np.mean(np.maximum(S_T-np.ones(dim)*strikes[k],np.zeros(dim)))\n",
    "    return X_scaled,y"
   ]
  },
  {
   "cell_type": "code",
   "execution_count": 14,
   "metadata": {
    "tags": []
   },
   "outputs": [
    {
     "output_type": "stream",
     "name": "stdout",
     "text": "22.8 s ± 770 ms per loop (mean ± std. dev. of 7 runs, 1 loop each)\n"
    }
   ],
   "source": [
    "%timeit next_batch_sabr_EM_train(1,contract_bounds,model_bounds)"
   ]
  },
  {
   "cell_type": "code",
   "execution_count": 12,
   "metadata": {},
   "outputs": [
    {
     "output_type": "execute_result",
     "data": {
      "text/plain": "-1.0"
     },
     "metadata": {},
     "execution_count": 12
    }
   ],
   "source": []
  },
  {
   "cell_type": "code",
   "execution_count": 5,
   "metadata": {},
   "outputs": [],
   "source": [
    "\n"
   ]
  },
  {
   "cell_type": "code",
   "execution_count": null,
   "metadata": {},
   "outputs": [],
   "source": []
  },
  {
   "cell_type": "code",
   "execution_count": null,
   "metadata": {},
   "outputs": [],
   "source": []
  }
 ],
 "metadata": {
  "language_info": {
   "codemirror_mode": {
    "name": "ipython",
    "version": 3
   },
   "file_extension": ".py",
   "mimetype": "text/x-python",
   "name": "python",
   "nbconvert_exporter": "python",
   "pygments_lexer": "ipython3",
   "version": "3.5.4-final"
  },
  "orig_nbformat": 2,
  "kernelspec": {
   "name": "python3",
   "display_name": "Python 3"
  }
 },
 "nbformat": 4,
 "nbformat_minor": 2
}