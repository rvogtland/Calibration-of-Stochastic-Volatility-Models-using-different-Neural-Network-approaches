{
 "cells": [
  {
   "cell_type": "code",
   "execution_count": 15,
   "metadata": {},
   "outputs": [],
   "source": [
    "import pandas as pd\n",
    "import numpy as np\n",
    "import matplotlib.pyplot as plt\n",
    "import tensorflow as tf"
   ]
  },
  {
   "cell_type": "markdown",
   "metadata": {},
   "source": [
    "## Import the Data and Scale it"
   ]
  },
  {
   "cell_type": "code",
   "execution_count": 16,
   "metadata": {},
   "outputs": [
    {
     "name": "stdout",
     "output_type": "stream",
     "text": [
      "(100000, 8)\n",
      "[[1.42471461 1.82566    0.76654333 0.39353109 0.6        1.        ]\n",
      " [1.35062501 1.8841982  0.32362804 0.2359476  0.60808081 1.        ]\n",
      " [1.8140028  1.1977391  0.61770393 0.53178194 0.61616162 1.        ]\n",
      " [1.80836255 1.1072207  0.17673168 0.36281445 0.62424242 1.        ]\n",
      " [1.83604578 1.11321926 0.87742054 0.41520168 0.63232323 1.        ]\n",
      " [1.17431843 1.32544217 0.11921654 0.4708298  0.64040404 1.        ]\n",
      " [1.13649332 1.0191621  0.88319825 0.15018406 0.64848485 1.        ]\n",
      " [1.3924608  1.65770865 0.08094897 0.80498394 0.65656566 1.        ]\n",
      " [1.55831602 1.64742476 0.60395378 0.05199707 0.66464646 1.        ]\n",
      " [1.55828875 1.35021076 0.70963542 0.00810449 0.67272727 1.        ]]\n",
      "[[1.2046148 ]\n",
      " [1.1989132 ]\n",
      " [1.13436001]\n",
      " [1.20692535]\n",
      " [1.16247695]\n",
      " [1.12897205]\n",
      " [1.14405732]\n",
      " [1.12495447]\n",
      " [1.15317789]\n",
      " [1.09256516]]\n"
     ]
    }
   ],
   "source": [
    "from numpy import genfromtxt\n",
    "data = genfromtxt('./data/heston_data_closed.csv', delimiter=',')\n",
    "X_data = data[:,1:7]\n",
    "Y_data = data[:,7:8]\n",
    "print(data.shape)\n",
    "print(X_data[:10,:])\n",
    "print(Y_data[100:110,:])\n"
   ]
  },
  {
   "cell_type": "code",
   "execution_count": 17,
   "metadata": {},
   "outputs": [],
   "source": [
    "from sklearn.preprocessing import MinMaxScaler"
   ]
  },
  {
   "cell_type": "code",
   "execution_count": 18,
   "metadata": {},
   "outputs": [],
   "source": [
    "scaler = MinMaxScaler()\n",
    "X_scaled = scaler.fit_transform(X_data)\n",
    "Y_scaled = scaler.fit_transform(Y_data)"
   ]
  },
  {
   "cell_type": "code",
   "execution_count": null,
   "metadata": {},
   "outputs": [],
   "source": []
  },
  {
   "cell_type": "markdown",
   "metadata": {},
   "source": [
    "### Create Placeholders and Constants"
   ]
  },
  {
   "cell_type": "code",
   "execution_count": 19,
   "metadata": {},
   "outputs": [],
   "source": [
    "num_inputs = X_data.shape[1]\n",
    "num_outputs = Y_data.shape[1]\n",
    "learning_rate = 0.1\n",
    "num_steps = 500000\n",
    "batch_size = 10\n",
    "num_neurons = 50\n",
    "\n",
    "X = tf.placeholder(tf.float32, [None, num_inputs])\n",
    "y = tf.placeholder(tf.float32, [None, num_outputs])"
   ]
  },
  {
   "cell_type": "code",
   "execution_count": 20,
   "metadata": {},
   "outputs": [],
   "source": [
    "#input: X,y,batch_size\n",
    "#output: X_batch,y_batch: randomly chosen rows from X,y \n",
    "def next_batch(X,y,batch_size):\n",
    "    max_int = X.shape[0]\n",
    "    batch_ind = np.random.randint(0,max_int,size=batch_size)\n",
    "    X_batch = X[batch_ind,:]\n",
    "    y_batch = y[batch_ind,:]\n",
    "    \n",
    "    return X_batch,y_batch"
   ]
  },
  {
   "cell_type": "code",
   "execution_count": null,
   "metadata": {},
   "outputs": [],
   "source": []
  },
  {
   "cell_type": "code",
   "execution_count": 21,
   "metadata": {},
   "outputs": [],
   "source": [
    "from tensorflow.contrib.layers import fully_connected\n",
    "\n",
    "#Layers\n",
    "hidden1 = fully_connected(X, num_neurons, activation_fn=tf.nn.elu)\n",
    "hidden2 = fully_connected(hidden1, num_neurons, activation_fn=tf.nn.elu)\n",
    "hidden3 = fully_connected(hidden2, num_neurons, activation_fn=tf.nn.elu)\n",
    "outputs = fully_connected(hidden3, num_outputs, activation_fn=None)"
   ]
  },
  {
   "cell_type": "code",
   "execution_count": 22,
   "metadata": {},
   "outputs": [],
   "source": [
    "#Loss Function\n",
    "loss = tf.reduce_mean(tf.sqrt(tf.square(outputs - y)))  # MSE"
   ]
  },
  {
   "cell_type": "code",
   "execution_count": 23,
   "metadata": {},
   "outputs": [],
   "source": [
    "#Optimizer\n",
    "optimizer = tf.train.AdamOptimizer(learning_rate)\n",
    "train = optimizer.minimize(loss)"
   ]
  },
  {
   "cell_type": "code",
   "execution_count": 24,
   "metadata": {},
   "outputs": [],
   "source": [
    "init = tf.global_variables_initializer()"
   ]
  },
  {
   "cell_type": "code",
   "execution_count": 25,
   "metadata": {},
   "outputs": [],
   "source": [
    "saver = tf.train.Saver()"
   ]
  },
  {
   "cell_type": "code",
   "execution_count": null,
   "metadata": {},
   "outputs": [
    {
     "name": "stdout",
     "output_type": "stream",
     "text": [
      "0 \tRMSE: 10.175611\n",
      "1000 \tRMSE: 0.016011423\n",
      "2000 \tRMSE: 0.16020371\n",
      "3000 \tRMSE: 0.04317234\n",
      "4000 \tRMSE: 1.6065696\n",
      "5000 \tRMSE: 0.42447025\n",
      "6000 \tRMSE: 1.5749753\n",
      "7000 \tRMSE: 1.5838085\n",
      "8000 \tRMSE: 1.5864403\n",
      "9000 \tRMSE: 0.15801364\n",
      "10000 \tRMSE: 1.6731678\n",
      "11000 \tRMSE: 0.68594295\n",
      "12000 \tRMSE: 0.095710516\n",
      "13000 \tRMSE: 0.701408\n",
      "14000 \tRMSE: 0.35427293\n",
      "15000 \tRMSE: 0.49919337\n",
      "16000 \tRMSE: 0.02170375\n",
      "17000 \tRMSE: 0.63723516\n",
      "18000 \tRMSE: 0.65041846\n",
      "19000 \tRMSE: 0.09597636\n",
      "20000 \tRMSE: 0.65907997\n",
      "21000 \tRMSE: 0.6540333\n",
      "22000 \tRMSE: 0.3242188\n",
      "23000 \tRMSE: 0.34261942\n",
      "24000 \tRMSE: 0.3355145\n",
      "25000 \tRMSE: 1.6938092\n",
      "26000 \tRMSE: 0.7001623\n",
      "27000 \tRMSE: 0.91657084\n",
      "28000 \tRMSE: 0.9150801\n",
      "29000 \tRMSE: 0.9142107\n",
      "30000 \tRMSE: 0.22432888\n",
      "31000 \tRMSE: 1.6601188\n",
      "32000 \tRMSE: 1.6520001\n",
      "33000 \tRMSE: 1.6086771\n",
      "34000 \tRMSE: 1.6360239\n",
      "35000 \tRMSE: 1.608671\n",
      "36000 \tRMSE: 1.6622765\n",
      "37000 \tRMSE: 0.33976498\n",
      "38000 \tRMSE: 0.35930303\n",
      "39000 \tRMSE: 0.34878033\n",
      "40000 \tRMSE: 0.36132175\n",
      "41000 \tRMSE: 1.0008466\n",
      "42000 \tRMSE: 0.5142025\n",
      "43000 \tRMSE: 0.624181\n",
      "44000 \tRMSE: 0.37018353\n",
      "45000 \tRMSE: 0.64291763\n",
      "46000 \tRMSE: 0.35289228\n",
      "47000 \tRMSE: 0.4256956\n"
     ]
    }
   ],
   "source": [
    "with tf.Session() as sess:\n",
    "    sess.run(init)\n",
    "    \n",
    "    for iteration in range(num_steps):\n",
    "        \n",
    "        X_batch,Y_batch = next_batch(X_scaled,Y_scaled,batch_size)\n",
    "        sess.run(train,feed_dict={X: X_batch, y: Y_batch})\n",
    "        \n",
    "        if iteration % 1000 == 0:\n",
    "            \n",
    "            rmse = loss.eval(feed_dict={X: X_batch, y: Y_batch})\n",
    "            print(iteration, \"\\tRMSE:\", rmse)\n",
    "    \n",
    "    saver.save(sess, \"./models/heston_nn\")"
   ]
  },
  {
   "cell_type": "code",
   "execution_count": null,
   "metadata": {},
   "outputs": [],
   "source": []
  },
  {
   "cell_type": "code",
   "execution_count": null,
   "metadata": {},
   "outputs": [],
   "source": []
  }
 ],
 "metadata": {
  "kernelspec": {
   "display_name": "Python 3",
   "language": "python",
   "name": "python3"
  },
  "language_info": {
   "codemirror_mode": {
    "name": "ipython",
    "version": 3
   },
   "file_extension": ".py",
   "mimetype": "text/x-python",
   "name": "python",
   "nbconvert_exporter": "python",
   "pygments_lexer": "ipython3",
   "version": "3.7.4"
  }
 },
 "nbformat": 4,
 "nbformat_minor": 2
}
