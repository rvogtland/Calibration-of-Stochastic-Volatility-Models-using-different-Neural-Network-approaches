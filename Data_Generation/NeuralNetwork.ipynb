{
 "cells": [
  {
   "cell_type": "code",
   "execution_count": 212,
   "metadata": {},
   "outputs": [],
   "source": [
    "import pandas as pd\n",
    "import numpy as np\n",
    "import matplotlib.pyplot as plt\n",
    "import tensorflow as tf"
   ]
  },
  {
   "cell_type": "markdown",
   "metadata": {},
   "source": [
    "## Import the Data and Scale it"
   ]
  },
  {
   "cell_type": "code",
   "execution_count": 214,
   "metadata": {},
   "outputs": [
    {
     "name": "stdout",
     "output_type": "stream",
     "text": [
      "(10000, 8)\n",
      "[[1.81446697 1.69514594 0.23344394 0.93130717 0.6        1.        ]\n",
      " [1.44983173 1.10746649 0.85976295 0.40053882 0.68888889 1.        ]\n",
      " [1.7666316  1.71051698 0.70575099 0.13505729 0.77777778 1.        ]\n",
      " [1.82521489 1.80922847 0.41492783 0.24089687 0.86666667 1.        ]\n",
      " [1.41364921 1.30895837 0.16157663 0.57510016 0.95555556 1.        ]\n",
      " [1.26361537 1.48464321 0.33966877 0.22447105 1.04444444 1.        ]\n",
      " [1.18141694 1.06354944 0.50344806 0.3184523  1.13333333 1.        ]\n",
      " [1.15077381 1.86352486 0.20038426 0.3034765  1.22222222 1.        ]\n",
      " [1.73628145 1.79548983 0.20375642 0.87855946 1.31111111 1.        ]\n",
      " [1.57764063 1.49032974 0.7886722  0.31360185 1.4        1.        ]]\n",
      "[[0.39332298]\n",
      " [0.30376669]\n",
      " [0.2061172 ]\n",
      " [0.13443928]\n",
      " [0.04994106]\n",
      " [0.00097702]\n",
      " [0.        ]\n",
      " [0.        ]\n",
      " [0.        ]\n",
      " [0.        ]]\n"
     ]
    }
   ],
   "source": [
    "from numpy import genfromtxt\n",
    "data = genfromtxt('./data/heston_data.csv', delimiter=',')\n",
    "X_data = data[:,1:7]\n",
    "Y_data = data[:,7:8]\n",
    "print(data.shape)\n",
    "print(X_data[:10,:])\n",
    "print(Y_data[100:110,:])\n"
   ]
  },
  {
   "cell_type": "code",
   "execution_count": 215,
   "metadata": {},
   "outputs": [],
   "source": [
    "from sklearn.preprocessing import MinMaxScaler"
   ]
  },
  {
   "cell_type": "code",
   "execution_count": 216,
   "metadata": {},
   "outputs": [],
   "source": [
    "scaler = MinMaxScaler()\n",
    "X_scaled = scaler.fit_transform(X_data)\n",
    "Y_scaled = scaler.fit_transform(Y_data)"
   ]
  },
  {
   "cell_type": "code",
   "execution_count": null,
   "metadata": {},
   "outputs": [],
   "source": []
  },
  {
   "cell_type": "markdown",
   "metadata": {},
   "source": [
    "### Create Placeholders and Constants"
   ]
  },
  {
   "cell_type": "code",
   "execution_count": 225,
   "metadata": {},
   "outputs": [],
   "source": [
    "num_inputs = X_data.shape[1]\n",
    "num_outputs = Y_data.shape[1]\n",
    "learning_rate = 0.1\n",
    "num_steps = 20000\n",
    "batch_size = 10\n",
    "num_neurons = 50\n",
    "\n",
    "X = tf.placeholder(tf.float32, [None, num_inputs])\n",
    "y = tf.placeholder(tf.float32, [None, num_outputs])"
   ]
  },
  {
   "cell_type": "code",
   "execution_count": 226,
   "metadata": {},
   "outputs": [],
   "source": [
    "#input: X,y,batch_size\n",
    "#output: X_batch,y_batch: randomly chosen rows from X,y \n",
    "def next_batch(X,y,batch_size):\n",
    "    max_int = X.shape[0]\n",
    "    batch_ind = np.random.randint(0,max_int,size=batch_size)\n",
    "    X_batch = X[batch_ind,:]\n",
    "    y_batch = y[batch_ind,:]\n",
    "    \n",
    "    return X_batch,y_batch"
   ]
  },
  {
   "cell_type": "code",
   "execution_count": null,
   "metadata": {},
   "outputs": [],
   "source": []
  },
  {
   "cell_type": "code",
   "execution_count": 257,
   "metadata": {},
   "outputs": [],
   "source": [
    "from tensorflow.contrib.layers import fully_connected\n",
    "\n",
    "#Layers\n",
    "hidden1 = fully_connected(X, num_neurons, activation_fn=tf.nn.elu)\n",
    "hidden2 = fully_connected(hidden1, num_neurons, activation_fn=tf.nn.elu)\n",
    "hidden3 = fully_connected(hidden2, num_neurons, activation_fn=tf.nn.elu)\n",
    "outputs = fully_connected(hidden3, num_outputs, activation_fn=None)"
   ]
  },
  {
   "cell_type": "code",
   "execution_count": 264,
   "metadata": {},
   "outputs": [],
   "source": [
    "#Loss Function\n",
    "loss = tf.reduce_mean(tf.sqrt(tf.square(outputs - y)))  # MSE"
   ]
  },
  {
   "cell_type": "code",
   "execution_count": 265,
   "metadata": {},
   "outputs": [],
   "source": [
    "#Optimizer\n",
    "optimizer = tf.train.AdamOptimizer(learning_rate)\n",
    "train = optimizer.minimize(loss)"
   ]
  },
  {
   "cell_type": "code",
   "execution_count": 266,
   "metadata": {},
   "outputs": [],
   "source": [
    "init = tf.global_variables_initializer()"
   ]
  },
  {
   "cell_type": "code",
   "execution_count": 267,
   "metadata": {},
   "outputs": [],
   "source": [
    "saver = tf.train.Saver()"
   ]
  },
  {
   "cell_type": "code",
   "execution_count": 268,
   "metadata": {},
   "outputs": [
    {
     "name": "stdout",
     "output_type": "stream",
     "text": [
      "0 \tRMSE: 9.284806\n",
      "1000 \tRMSE: 0.31712875\n",
      "2000 \tRMSE: 0.9641069\n",
      "3000 \tRMSE: 0.15477636\n",
      "4000 \tRMSE: 0.72422564\n",
      "5000 \tRMSE: 1.032048\n",
      "6000 \tRMSE: 0.3329544\n",
      "7000 \tRMSE: 0.5224802\n",
      "8000 \tRMSE: 0.36529118\n",
      "9000 \tRMSE: 0.6323597\n",
      "10000 \tRMSE: 0.5753809\n",
      "11000 \tRMSE: 0.208161\n",
      "12000 \tRMSE: 0.40390816\n",
      "13000 \tRMSE: 0.38983223\n",
      "14000 \tRMSE: 0.81532514\n",
      "15000 \tRMSE: 0.13335015\n",
      "16000 \tRMSE: 0.37761736\n",
      "17000 \tRMSE: 0.1463503\n",
      "18000 \tRMSE: 1.0307672\n",
      "19000 \tRMSE: 0.07931982\n"
     ]
    }
   ],
   "source": [
    "with tf.Session() as sess:\n",
    "    sess.run(init)\n",
    "    \n",
    "    for iteration in range(num_steps):\n",
    "        \n",
    "        X_batch,Y_batch = next_batch(X_scaled,Y_scaled,batch_size)\n",
    "        sess.run(train,feed_dict={X: X_batch, y: Y_batch})\n",
    "        \n",
    "        if iteration % 1000 == 0:\n",
    "            \n",
    "            rmse = loss.eval(feed_dict={X: X_batch, y: Y_batch})\n",
    "            print(iteration, \"\\tRMSE:\", rmse)\n",
    "    \n",
    "    saver.save(sess, \"./models/heston_nn\")"
   ]
  },
  {
   "cell_type": "code",
   "execution_count": null,
   "metadata": {},
   "outputs": [],
   "source": []
  },
  {
   "cell_type": "code",
   "execution_count": null,
   "metadata": {},
   "outputs": [],
   "source": []
  }
 ],
 "metadata": {
  "kernelspec": {
   "display_name": "Python 3",
   "language": "python",
   "name": "python3"
  },
  "language_info": {
   "codemirror_mode": {
    "name": "ipython",
    "version": 3
   },
   "file_extension": ".py",
   "mimetype": "text/x-python",
   "name": "python",
   "nbconvert_exporter": "python",
   "pygments_lexer": "ipython3",
   "version": "3.7.4"
  }
 },
 "nbformat": 4,
 "nbformat_minor": 2
}
