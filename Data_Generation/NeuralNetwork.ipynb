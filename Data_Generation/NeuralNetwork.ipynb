{
 "cells": [
  {
   "cell_type": "code",
   "execution_count": 143,
   "metadata": {},
   "outputs": [],
   "source": [
    "import pandas as pd\n",
    "import numpy as np\n",
    "import matplotlib.pyplot as plt\n",
    "import tensorflow as tf"
   ]
  },
  {
   "cell_type": "markdown",
   "metadata": {},
   "source": [
    "## Import the Data and Scale it"
   ]
  },
  {
   "cell_type": "code",
   "execution_count": 144,
   "metadata": {},
   "outputs": [
    {
     "name": "stdout",
     "output_type": "stream",
     "text": [
      "(1000, 8)\n",
      "[[1.28117781 1.06998061 0.18526545 0.05510498 0.6        1.        ]\n",
      " [1.21640645 1.46173507 0.89560476 0.69198049 0.68888889 1.        ]\n",
      " [1.37258257 1.52342206 0.10622916 0.89038568 0.77777778 1.        ]\n",
      " [1.52088905 1.51995222 0.53506995 0.47962976 0.86666667 1.        ]\n",
      " [1.34988903 1.14677915 0.92678788 0.40172104 0.95555556 1.        ]\n",
      " [1.84630792 1.10197268 0.97098308 0.79246595 1.04444444 1.        ]\n",
      " [1.50170888 1.57923428 0.11215282 0.72398093 1.13333333 1.        ]\n",
      " [1.0044848  1.45276113 0.43077587 0.614811   1.22222222 1.        ]\n",
      " [1.07751815 1.15721094 0.76394658 0.12668702 1.31111111 1.        ]\n",
      " [1.78408228 1.48483291 0.90667973 0.06576785 1.4        1.        ]]\n",
      "[[0.38622317]\n",
      " [0.31447242]\n",
      " [0.22531723]\n",
      " [0.13294946]\n",
      " [0.05106454]\n",
      " [0.00053709]\n",
      " [0.        ]\n",
      " [0.        ]\n",
      " [0.        ]\n",
      " [0.        ]]\n"
     ]
    }
   ],
   "source": [
    "from numpy import genfromtxt\n",
    "data = genfromtxt('./data/heston_data.csv', delimiter=',')\n",
    "X_data = data[:,1:7]\n",
    "Y_data = data[:,7:8]\n",
    "print(data.shape)\n",
    "print(X_data[:10,:])\n",
    "print(Y_data[:10,:])\n"
   ]
  },
  {
   "cell_type": "code",
   "execution_count": 145,
   "metadata": {},
   "outputs": [],
   "source": [
    "from sklearn.preprocessing import MinMaxScaler"
   ]
  },
  {
   "cell_type": "code",
   "execution_count": 146,
   "metadata": {},
   "outputs": [],
   "source": [
    "scaler = MinMaxScaler()\n",
    "X_scaled = scaler.fit_transform(X_data)\n",
    "Y_scaled = scaler.fit_transform(Y_data)"
   ]
  },
  {
   "cell_type": "code",
   "execution_count": null,
   "metadata": {},
   "outputs": [],
   "source": []
  },
  {
   "cell_type": "markdown",
   "metadata": {},
   "source": [
    "### Create Placeholders and Constants"
   ]
  },
  {
   "cell_type": "code",
   "execution_count": 195,
   "metadata": {},
   "outputs": [],
   "source": [
    "num_inputs = X_data.shape[1]\n",
    "num_outputs = Y_data.shape[1]\n",
    "learning_rate = 0.1\n",
    "num_steps = 2000\n",
    "batch_size = 20\n",
    "num_neurons = 10\n",
    "\n",
    "X = tf.placeholder(tf.float32, [None, num_inputs])\n",
    "y = tf.placeholder(tf.float32, [None, num_outputs])"
   ]
  },
  {
   "cell_type": "code",
   "execution_count": 196,
   "metadata": {},
   "outputs": [],
   "source": [
    "#input: X,y,batch_size\n",
    "#output: X_batch,y_batch: randomly chosen rows from X,y \n",
    "def next_batch(X,y,batch_size):\n",
    "    max_int = X.shape[0]\n",
    "    batch_ind = np.random.randint(0,max_int,size=batch_size)\n",
    "    X_batch = X[batch_ind,:]\n",
    "    y_batch = y[batch_ind,:]\n",
    "    \n",
    "    return X_batch,y_batch"
   ]
  },
  {
   "cell_type": "code",
   "execution_count": null,
   "metadata": {},
   "outputs": [],
   "source": []
  },
  {
   "cell_type": "code",
   "execution_count": 197,
   "metadata": {},
   "outputs": [],
   "source": [
    "from tensorflow.contrib.layers import fully_connected\n",
    "\n",
    "#Layers\n",
    "hidden1 = fully_connected(X, num_neurons, activation_fn=tf.nn.elu)\n",
    "hidden2 = fully_connected(hidden1, num_neurons, activation_fn=tf.nn.elu)\n",
    "hidden3 = fully_connected(hidden2, num_neurons, activation_fn=tf.nn.elu)\n",
    "outputs = fully_connected(hidden3, num_outputs, activation_fn=tf.nn.softmax)"
   ]
  },
  {
   "cell_type": "code",
   "execution_count": 198,
   "metadata": {},
   "outputs": [],
   "source": [
    "#Loss Function\n",
    "loss = tf.reduce_mean(tf.square(outputs - y))  # MSE"
   ]
  },
  {
   "cell_type": "code",
   "execution_count": 199,
   "metadata": {},
   "outputs": [],
   "source": [
    "#Optimizer\n",
    "optimizer = tf.train.AdamOptimizer(learning_rate)\n",
    "train = optimizer.minimize(loss)"
   ]
  },
  {
   "cell_type": "code",
   "execution_count": 200,
   "metadata": {},
   "outputs": [],
   "source": [
    "init = tf.global_variables_initializer()"
   ]
  },
  {
   "cell_type": "code",
   "execution_count": 201,
   "metadata": {},
   "outputs": [],
   "source": [
    "saver = tf.train.Saver()"
   ]
  },
  {
   "cell_type": "code",
   "execution_count": 202,
   "metadata": {},
   "outputs": [
    {
     "name": "stdout",
     "output_type": "stream",
     "text": [
      "0 \tMSE: 0.6585946\n",
      "100 \tMSE: 0.637807\n",
      "200 \tMSE: 0.7286867\n",
      "300 \tMSE: 0.71342206\n",
      "400 \tMSE: 0.6017022\n",
      "500 \tMSE: 0.658522\n",
      "600 \tMSE: 0.71309555\n",
      "700 \tMSE: 0.72235954\n",
      "800 \tMSE: 0.71361834\n",
      "900 \tMSE: 0.72189206\n",
      "1000 \tMSE: 0.7426561\n",
      "1100 \tMSE: 0.72554255\n",
      "1200 \tMSE: 0.79046804\n",
      "1300 \tMSE: 0.72015953\n",
      "1400 \tMSE: 0.6553092\n",
      "1500 \tMSE: 0.6193967\n",
      "1600 \tMSE: 0.59389824\n",
      "1700 \tMSE: 0.6592845\n",
      "1800 \tMSE: 0.6887647\n",
      "1900 \tMSE: 0.705336\n"
     ]
    }
   ],
   "source": [
    "with tf.Session() as sess:\n",
    "    sess.run(init)\n",
    "    \n",
    "    for iteration in range(num_steps):\n",
    "        \n",
    "        X_batch,Y_batch = next_batch(X_scaled,Y_scaled,batch_size)\n",
    "        sess.run(train,feed_dict={X: X_batch, y: Y_batch})\n",
    "        \n",
    "        if iteration % 100 == 0:\n",
    "            \n",
    "            mse = loss.eval(feed_dict={X: X_batch, y: Y_batch})\n",
    "            print(iteration, \"\\tMSE:\", mse)\n",
    "    \n",
    "    saver.save(sess, \"./models/heston_nn\")"
   ]
  },
  {
   "cell_type": "code",
   "execution_count": null,
   "metadata": {},
   "outputs": [],
   "source": []
  },
  {
   "cell_type": "code",
   "execution_count": null,
   "metadata": {},
   "outputs": [],
   "source": []
  }
 ],
 "metadata": {
  "kernelspec": {
   "display_name": "Python 3",
   "language": "python",
   "name": "python3"
  },
  "language_info": {
   "codemirror_mode": {
    "name": "ipython",
    "version": 3
   },
   "file_extension": ".py",
   "mimetype": "text/x-python",
   "name": "python",
   "nbconvert_exporter": "python",
   "pygments_lexer": "ipython3",
   "version": "3.7.4"
  }
 },
 "nbformat": 4,
 "nbformat_minor": 2
}
